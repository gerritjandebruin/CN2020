{
 "cells": [
  {
   "cell_type": "markdown",
   "metadata": {},
   "source": [
    "# Link Prediction in Condmat"
   ]
  },
  {
   "cell_type": "code",
   "execution_count": 5,
   "metadata": {
    "execution": {
     "iopub.execute_input": "2020-08-02T11:35:08.071537Z",
     "iopub.status.busy": "2020-08-02T11:35:08.071181Z",
     "iopub.status.idle": "2020-08-02T11:35:08.081818Z",
     "shell.execute_reply": "2020-08-02T11:35:08.081046Z",
     "shell.execute_reply.started": "2020-08-02T11:35:08.071501Z"
    }
   },
   "outputs": [],
   "source": [
    "from datetime import datetime\n",
    "import itertools\n",
    "import math\n",
    "from typing import List, Any, Dict, Tuple\n",
    "\n",
    "import joblib\n",
    "import matplotlib.pyplot as plt\n",
    "import networkx as nx\n",
    "import numpy as np\n",
    "import pandas as pd\n",
    "import plotly.express as px\n",
    "import plotly.figure_factory as ff\n",
    "import plotly.graph_objects as go\n",
    "from sklearn.preprocessing import minmax_scale\n",
    "from sklearn.metrics import precision_recall_curve, average_precision_score\n",
    "from sklearn.metrics import roc_curve, auc\n",
    "from sklearn.model_selection import StratifiedKFold, cross_validate\n",
    "import seaborn as sns\n",
    "from tqdm import tqdm\n",
    "\n",
    "# Typing\n",
    "Author = int\n",
    "Papers = List[Tuple[List[Author], datetime]]\n",
    "NodePair = Tuple[Author, Author]\n",
    "Edge = List[Tuple[Author, Author, Dict[str, datetime]]]\n",
    "\n",
    "folder = '/local/bruingjde/complexnetworks2020-experiment/temp/b1n/'"
   ]
  },
  {
   "cell_type": "code",
   "execution_count": 6,
   "metadata": {
    "execution": {
     "iopub.execute_input": "2020-08-02T11:35:08.296264Z",
     "iopub.status.busy": "2020-08-02T11:35:08.296000Z",
     "iopub.status.idle": "2020-08-02T11:35:08.327582Z",
     "shell.execute_reply": "2020-08-02T11:35:08.326832Z",
     "shell.execute_reply.started": "2020-08-02T11:35:08.296231Z"
    }
   },
   "outputs": [],
   "source": [
    "def _get_papers(filepath: str = \"src/cond-mat.hg2\") -> Papers:\n",
    "  \"\"\"Read collaboration data in filepath and return all papers.\"\"\"\n",
    "  \n",
    "  papers = list()\n",
    "  # Get number of rows to read for the vertices.\n",
    "  with open(filepath) as file:\n",
    "    no_rows = int(file.readline().split(' ')[1])\n",
    " \n",
    "  with open(filepath) as file:\n",
    "    for paper in file.readlines()[no_rows+2:]:\n",
    "      # Each line has the following format: epoch no_authors [ u v (w ...) ]\n",
    "      epoch = datetime.fromtimestamp(int(paper.split(' ')[0]))\n",
    "          \n",
    "      no_authors = int(paper.split(' ')[1])\n",
    "      index1 = paper.find('[')+2\n",
    "      index2 = paper.find(']')-1\n",
    "\n",
    "      authors = [int(auth) for auth in paper[index1:index2].split(' ')]\n",
    "      assert no_authors == len(authors)\n",
    "      \n",
    "      papers.append((authors, epoch))\n",
    "  return papers\n",
    "def _filter_edgelist(edges: List[Edge], start: float, stop: float) -> List[Edge]:\n",
    "  no_edges = len(edges)\n",
    "  start_index = int(start*no_edges)\n",
    "  start_date = edges[start_index][2]['date']\n",
    "  stop_index = math.floor(stop*no_edges)-1\n",
    "  stop_date = edges[stop_index][2]['date']\n",
    "  return [edge for edge in edges if edge[2]['date'] >= start_date and edge[2]['date'] <= stop_date]\n",
    "def get_edgelist(*, start=0, stop=1) -> List[Edge]:\n",
    "  \"\"\"\n",
    "  Return edgelist from data. If data is not provided this is automatically \n",
    "  created using get_data. **kwargs are provided to this function.\n",
    "  \"\"\"\n",
    "  papers = _get_papers()\n",
    "  edges = [\n",
    "    (u, v, dict(date=date)) if u<v else (v, u, dict(date=date))\n",
    "    for authors, date in papers\n",
    "    for u, v in itertools.combinations(authors, 2)\n",
    "  ]\n",
    "  return _filter_edgelist(edges, start, stop)\n",
    "def giant_component(graph: nx.Graph) -> nx.Graph: return graph.subgraph(max(nx.connected_components(graph), key=len)).copy()\n",
    "def get_graph(edgelist: List[Edge]) -> nx.Graph:\n",
    "  \"\"\"Add edge to graph. Contains edge attribute weight.\"\"\"\n",
    "  g = nx.Graph()\n",
    "  \n",
    "  for u, v, _ in edgelist:\n",
    "    weight = g[u][v][\"weight\"]+1 if g.has_edge(u,v) else 1\n",
    "    g.add_edge(u, v, weight=weight)\n",
    "  \n",
    "  return g\n",
    "def report(graph:nx.Graph, probes: Tuple[Author, Author]):\n",
    "  n = len(probes)\n",
    "  print(f\"Number of probes: {n}\")\n",
    "  a = sum([graph.has_edge(u, v) for u, v in probes])\n",
    "  print(f\"- already edge: {a} ({a/n:.0%})\")\n",
    "  non_edges = set(nx.non_edges(graph))\n",
    "  ne = sum([np in non_edges for np in probes])\n",
    "  print(f\"- both nodes in graph: {ne} ({ne/n:.0%})\")\n",
    "  ng = sum([not (graph.has_node(u) and graph.has_node(v)) for u, v in probes])\n",
    "  print(f\"- not in graph: {ng} ({ng/n:.0%})\")\n",
    "def get_distances(graph: nx.Graph, cutoff: int = None) -> (List[NodePair], List[int]):\n",
    "  \"\"\"\n",
    "  Get all non-edges using BFS. When cutoff provided, consider only node pairs with at most this distance.\n",
    "  Returns:\n",
    "  - nodepairs: tuple containing all nodepairs\n",
    "  - distances: tuple containing all distances\n",
    "  \"\"\"\n",
    "  return zip(\n",
    "    *[\n",
    "      [(u, v), distance]\n",
    "      for u, (nbs_u, _) in tqdm(nx.all_pairs_dijkstra(graph, cutoff, weight=None), total=len(graph), desc=\"get_distances\")\n",
    "      for v, distance in nbs_u.items() if distance > 1 and (cutoff is None or distance < cutoff) \n",
    "    ]\n",
    "  )"
   ]
  },
  {
   "cell_type": "markdown",
   "metadata": {},
   "source": [
    "## Set-up\n",
    "Choose here the parameters on how you want to define the learn and assessing phase."
   ]
  },
  {
   "cell_type": "code",
   "execution_count": 7,
   "metadata": {
    "execution": {
     "iopub.execute_input": "2020-08-02T11:35:08.879566Z",
     "iopub.status.busy": "2020-08-02T11:35:08.879337Z",
     "iopub.status.idle": "2020-08-02T11:35:09.832763Z",
     "shell.execute_reply": "2020-08-02T11:35:09.832157Z",
     "shell.execute_reply.started": "2020-08-02T11:35:08.879545Z"
    }
   },
   "outputs": [],
   "source": [
    "g_train_matured = giant_component(get_graph(get_edgelist(stop=1/3)))\n",
    "uv_train_probe = {(u, v) for u, v, _ in get_edgelist(start=1/3, stop=2/3)}"
   ]
  },
  {
   "cell_type": "code",
   "execution_count": 9,
   "metadata": {
    "execution": {
     "iopub.execute_input": "2020-08-02T11:35:18.765463Z",
     "iopub.status.busy": "2020-08-02T11:35:18.765239Z",
     "iopub.status.idle": "2020-08-02T11:35:28.656262Z",
     "shell.execute_reply": "2020-08-02T11:35:28.654944Z",
     "shell.execute_reply.started": "2020-08-02T11:35:18.765442Z"
    }
   },
   "outputs": [
    {
     "name": "stdout",
     "output_type": "stream",
     "text": [
      "Number of probes: 21856\n",
      "- already edge: 3541 (16%)\n",
      "- both nodes in graph: 2760 (13%)\n",
      "- not in graph: 15555 (71%)\n"
     ]
    }
   ],
   "source": [
    "report(graph=g_train_matured, probes=uv_train_probe)"
   ]
  },
  {
   "cell_type": "code",
   "execution_count": 10,
   "metadata": {
    "execution": {
     "iopub.execute_input": "2020-08-02T11:38:27.705912Z",
     "iopub.status.busy": "2020-08-02T11:38:27.705655Z",
     "iopub.status.idle": "2020-08-02T11:38:28.806063Z",
     "shell.execute_reply": "2020-08-02T11:38:28.805523Z",
     "shell.execute_reply.started": "2020-08-02T11:38:27.705888Z"
    }
   },
   "outputs": [],
   "source": [
    "g_test_matured = giant_component(get_graph(get_edgelist(stop=2/3)))\n",
    "uv_test_probe = {(u, v) for u, v, _ in get_edgelist(start=2/3)}"
   ]
  },
  {
   "cell_type": "code",
   "execution_count": 11,
   "metadata": {
    "execution": {
     "iopub.execute_input": "2020-08-02T11:38:37.371648Z",
     "iopub.status.busy": "2020-08-02T11:38:37.371438Z",
     "iopub.status.idle": "2020-08-02T11:39:14.033629Z",
     "shell.execute_reply": "2020-08-02T11:39:14.033173Z",
     "shell.execute_reply.started": "2020-08-02T11:38:37.371628Z"
    }
   },
   "outputs": [
    {
     "name": "stdout",
     "output_type": "stream",
     "text": [
      "Number of probes: 23024\n",
      "- already edge: 5399 (23%)\n",
      "- both nodes in graph: 4342 (19%)\n",
      "- not in graph: 13283 (58%)\n"
     ]
    }
   ],
   "source": [
    "report(graph=g_test_matured, probes=uv_test_probe)"
   ]
  },
  {
   "cell_type": "markdown",
   "metadata": {},
   "source": [
    "## Export"
   ]
  },
  {
   "cell_type": "markdown",
   "metadata": {},
   "source": [
    "### Train"
   ]
  },
  {
   "cell_type": "code",
   "execution_count": null,
   "metadata": {
    "execution": {
     "iopub.execute_input": "2020-08-02T11:51:43.920630Z",
     "iopub.status.busy": "2020-08-02T11:51:43.920236Z"
    }
   },
   "outputs": [
    {
     "name": "stderr",
     "output_type": "stream",
     "text": [
      "get_distances:  96%|█████████▌| 6165/6413 [10:17<00:18, 13.34it/s]  "
     ]
    }
   ],
   "source": [
    "nodepairs_train, distances_train = get_distances(g_train_matured)\n",
    "targets_train = [nodepair in uv_assessing for nodepairs_train in tqdm(nodepairs)]"
   ]
  },
  {
   "cell_type": "code",
   "execution_count": null,
   "metadata": {},
   "outputs": [],
   "source": [
    "print(f'{sum(targets_train) / len(nodepairs_train):e}')"
   ]
  },
  {
   "cell_type": "code",
   "execution_count": null,
   "metadata": {},
   "outputs": [],
   "source": [
    "%%time\n",
    "joblib.dump(targets_train, f'{folder}train/targets.pkl')\n",
    "joblib.dump(nodepairs_train, f'{folder}train/nodepairs.pkl')\n",
    "joblib.dump(distances_train, f'{folder}train/distances.pkl')\n",
    "joblib.dump(g_learn_train, f'{folder}train/graph.pkl')"
   ]
  },
  {
   "cell_type": "markdown",
   "metadata": {},
   "source": [
    "### Test"
   ]
  },
  {
   "cell_type": "code",
   "execution_count": null,
   "metadata": {},
   "outputs": [],
   "source": [
    "nodepairs_test, distances_test = get_distances(g_test_matured)\n",
    "targets_test = [nodepair in uv_assessing for nodepairs_test in tqdm(nodepairs)]"
   ]
  },
  {
   "cell_type": "code",
   "execution_count": null,
   "metadata": {},
   "outputs": [],
   "source": [
    "print(f'{sum(targets_test) / len(nodepairs_test):e}')"
   ]
  },
  {
   "cell_type": "code",
   "execution_count": null,
   "metadata": {},
   "outputs": [],
   "source": [
    "%%time\n",
    "joblib.dump(targets_test, f'{folder}test/targets.pkl')\n",
    "joblib.dump(nodepairs_test, f'{folder}test/nodepairs.pkl')\n",
    "joblib.dump(distances_test, f'{folder}test/distances.pkl')\n",
    "joblib.dump(g_learn_test, f'{folder}test/graph.pkl')"
   ]
  }
 ],
 "metadata": {
  "kernelspec": {
   "display_name": "Python 3",
   "language": "python",
   "name": "python3"
  },
  "language_info": {
   "codemirror_mode": {
    "name": "ipython",
    "version": 3
   },
   "file_extension": ".py",
   "mimetype": "text/x-python",
   "name": "python",
   "nbconvert_exporter": "python",
   "pygments_lexer": "ipython3",
   "version": "3.8.5"
  },
  "widgets": {
   "application/vnd.jupyter.widget-state+json": {
    "state": {},
    "version_major": 2,
    "version_minor": 0
   }
  }
 },
 "nbformat": 4,
 "nbformat_minor": 4
}
