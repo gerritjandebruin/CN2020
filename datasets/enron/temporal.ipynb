{
 "cells": [
  {
   "cell_type": "markdown",
   "metadata": {},
   "source": [
    "# Link Prediction in Condmat"
   ]
  },
  {
   "cell_type": "code",
   "execution_count": 29,
   "metadata": {
    "execution": {
     "iopub.execute_input": "2020-08-13T13:23:45.851141Z",
     "iopub.status.busy": "2020-08-13T13:23:45.850733Z",
     "iopub.status.idle": "2020-08-13T13:23:46.210186Z",
     "shell.execute_reply": "2020-08-13T13:23:46.208911Z",
     "shell.execute_reply.started": "2020-08-13T13:23:45.851102Z"
    }
   },
   "outputs": [],
   "source": [
    "import collections\n",
    "import copy\n",
    "import datetime\n",
    "import itertools\n",
    "import math\n",
    "from typing import List, Any, Dict, Tuple\n",
    "\n",
    "import joblib\n",
    "import matplotlib.pyplot as plt\n",
    "import networkx as nx\n",
    "import numpy as np\n",
    "import pandas as pd\n",
    "import plotly.express as px\n",
    "import plotly.figure_factory as ff\n",
    "import plotly.graph_objects as go\n",
    "from sklearn.preprocessing import minmax_scale\n",
    "from sklearn.metrics import precision_recall_curve, average_precision_score, roc_auc_score\n",
    "from sklearn.metrics import roc_curve, auc\n",
    "from sklearn.model_selection import StratifiedKFold, cross_validate, GridSearchCV, train_test_split\n",
    "import seaborn as sns\n",
    "from tqdm import tqdm\n",
    "from xgboost import XGBClassifier\n",
    "\n",
    "# Typing\n",
    "NodePair = Tuple[int, int]\n",
    "Edge = List[Tuple[int, int, Dict['date', datetime.datetime]]]\n",
    "\n",
    "folder = '/local/bruingjde/complexnetworks2020-experiment/temp/en-a1'"
   ]
  },
  {
   "cell_type": "code",
   "execution_count": 30,
   "metadata": {
    "execution": {
     "iopub.execute_input": "2020-08-13T13:23:48.177969Z",
     "iopub.status.busy": "2020-08-13T13:23:48.177591Z",
     "iopub.status.idle": "2020-08-13T13:23:48.235585Z",
     "shell.execute_reply": "2020-08-13T13:23:48.234401Z",
     "shell.execute_reply.started": "2020-08-13T13:23:48.177930Z"
    }
   },
   "outputs": [],
   "source": [
    "def read_edges(file='out.enron') -> pd.DataFrame:\n",
    "  d = pd.read_csv('out.enron', sep=' ', skiprows=1, names=['source', 'target', 'weight', 'date'])\n",
    "  d['date'] = d['date'].apply(datetime.datetime.fromtimestamp)\n",
    "  d.sort_values(by='date', inplace=True)\n",
    "  return d.loc[:, ['source', 'target', 'date']]\n",
    "def filter_edgelist(edges: pd.DataFrame, start=0, stop=1, verbose=True) -> pd.DataFrame: \n",
    "  \"\"\"Filter edgelist.  If start/ stop is float, start/stop from the fraction of total edges. If datetime, this is used.\"\"\" \n",
    "  no_edges = len(edges)\n",
    "  if start != 0:\n",
    "    if type(start) is float:\n",
    "      assert 0 < start < 1\n",
    "      start = int(start*no_edges)\n",
    "    if type(start) is int: start = edges.iloc[start]['date']\n",
    "    start = start + datetime.timedelta(seconds=1)\n",
    "  else: start = edges['date'].min()\n",
    "  if verbose: print(start)\n",
    "  \n",
    "  if stop != 1:\n",
    "    if type(stop) is float:\n",
    "      assert 0 < stop < 1\n",
    "      stop = math.floor(stop*no_edges)-1\n",
    "    if type(stop) is int: stop = edges.iloc[stop]['date']\n",
    "  else: stop = edges['date'].max()\n",
    "  if verbose: print(stop)\n",
    "  \n",
    "  mask = (edges['date'] >= start) & (edges['date'] <= stop)\n",
    "  if verbose: \n",
    "    no_selected_edges = sum(mask)\n",
    "    print(f'{no_selected_edges=} ({no_selected_edges/len(edges):.1e})')\n",
    "\n",
    "  return edges.loc[mask]\n",
    "def convert_to_set(edges: pd.DataFrame) -> List[NodePair]: return {edge for edge in edges.loc[:, ['source', 'target']].itertuples(index=False, name=None)}\n",
    "def get_graph(edgelist: pd.DataFrame) -> nx.Graph:\n",
    "  \"\"\"Add edge to graph. Contains edge attribute weight.\"\"\"\n",
    "  g = nx.Graph()\n",
    "  \n",
    "  for u, v, _ in edgelist.itertuples(index=False, name=None):\n",
    "    weight = g[u][v][\"weight\"]+1 if g.has_edge(u,v) else 1\n",
    "    g.add_edge(u, v, weight=weight)\n",
    "  \n",
    "  return g\n",
    "def giant_component(graph: nx.Graph) -> nx.Graph: return graph.subgraph(max(nx.connected_components(graph), key=len)).copy()\n",
    "def report(graph:nx.Graph, probes: Tuple[int, int]):\n",
    "  n = len(probes)\n",
    "  print(f\"Number of probes: {n}\")\n",
    "  a = sum([graph.has_edge(u, v) for u, v in probes])\n",
    "  print(f\"- already edge: {a} ({a/n:.0%})\")\n",
    "  non_edges = set(nx.non_edges(graph))\n",
    "  ne = sum([np in non_edges for np in probes])\n",
    "  print(f\"- both nodes in graph: {ne} ({ne/n:.0%})\")\n",
    "  ng = sum([not (graph.has_node(u) and graph.has_node(v)) for u, v in probes])\n",
    "  print(f\"- not in graph: {ng} ({ng/n:.0%})\")\n",
    "def get_distances(graph: nx.Graph, cutoff: int = None) -> (List[NodePair], List[int]):\n",
    "  \"\"\"\n",
    "  Get all non-edges using BFS. When cutoff provided, consider only node pairs with at most this distance.\n",
    "  Returns:\n",
    "  - nodepairs: tuple containing all nodepairs\n",
    "  - distances: tuple containing all distances\n",
    "  \"\"\"\n",
    "  return zip(\n",
    "    *[\n",
    "      ((u, v), distance)\n",
    "      for u, (nbs_u, _) in tqdm(nx.all_pairs_dijkstra(graph, cutoff, weight=None), total=len(graph), desc=\"get_distances\")\n",
    "      for v, distance in nbs_u.items() if distance > 1 and (cutoff is None or distance <= cutoff) \n",
    "    ]\n",
    "  )"
   ]
  },
  {
   "cell_type": "code",
   "execution_count": 3,
   "metadata": {
    "execution": {
     "iopub.execute_input": "2020-08-13T11:13:54.002889Z",
     "iopub.status.busy": "2020-08-13T11:13:54.002442Z",
     "iopub.status.idle": "2020-08-13T11:13:55.364365Z",
     "shell.execute_reply": "2020-08-13T11:13:55.363416Z",
     "shell.execute_reply.started": "2020-08-13T11:13:54.002850Z"
    }
   },
   "outputs": [],
   "source": [
    "edges = read_edges()"
   ]
  },
  {
   "cell_type": "code",
   "execution_count": 4,
   "metadata": {
    "execution": {
     "iopub.execute_input": "2020-08-13T11:13:55.403334Z",
     "iopub.status.busy": "2020-08-13T11:13:55.403173Z",
     "iopub.status.idle": "2020-08-13T11:13:55.408135Z",
     "shell.execute_reply": "2020-08-13T11:13:55.407371Z",
     "shell.execute_reply.started": "2020-08-13T11:13:55.403314Z"
    }
   },
   "outputs": [
    {
     "name": "stdout",
     "output_type": "stream",
     "text": [
      "Number of edges: 1.1e+06\n"
     ]
    }
   ],
   "source": [
    "print(f'Number of edges: {len(edges):.1e}')"
   ]
  },
  {
   "cell_type": "code",
   "execution_count": 9,
   "metadata": {
    "execution": {
     "iopub.execute_input": "2020-08-13T11:19:16.424044Z",
     "iopub.status.busy": "2020-08-13T11:19:16.423633Z",
     "iopub.status.idle": "2020-08-13T11:19:16.650417Z",
     "shell.execute_reply": "2020-08-13T11:19:16.649465Z",
     "shell.execute_reply.started": "2020-08-13T11:19:16.424002Z"
    }
   },
   "outputs": [
    {
     "name": "stdout",
     "output_type": "stream",
     "text": [
      "1980-01-01 01:00:00\n",
      "2000-04-17 12:01:00\n",
      "no_selected_edges=50008, (4.4e-02)\n"
     ]
    }
   ],
   "source": [
    "edges_train_mature = filter_edgelist(edges, stop=50000)"
   ]
  },
  {
   "cell_type": "code",
   "execution_count": 10,
   "metadata": {
    "execution": {
     "iopub.execute_input": "2020-08-13T11:19:16.651664Z",
     "iopub.status.busy": "2020-08-13T11:19:16.651448Z",
     "iopub.status.idle": "2020-08-13T11:19:19.738305Z",
     "shell.execute_reply": "2020-08-13T11:19:19.737500Z",
     "shell.execute_reply.started": "2020-08-13T11:19:16.651643Z"
    }
   },
   "outputs": [
    {
     "name": "stdout",
     "output_type": "stream",
     "text": [
      "2000-04-17 12:01:01\n",
      "2000-05-08 11:12:00\n",
      "no_selected_edges=10008, (8.7e-03)\n"
     ]
    }
   ],
   "source": [
    "edges_train_probe = filter_edgelist(edges, start=50000, stop=60000)"
   ]
  },
  {
   "cell_type": "code",
   "execution_count": 13,
   "metadata": {
    "execution": {
     "iopub.execute_input": "2020-08-13T11:19:37.332035Z",
     "iopub.status.busy": "2020-08-13T11:19:37.331794Z",
     "iopub.status.idle": "2020-08-13T11:19:37.466122Z",
     "shell.execute_reply": "2020-08-13T11:19:37.465329Z",
     "shell.execute_reply.started": "2020-08-13T11:19:37.332013Z"
    }
   },
   "outputs": [
    {
     "name": "stdout",
     "output_type": "stream",
     "text": [
      "1980-01-01 01:00:00\n",
      "2000-05-08 11:12:00\n",
      "no_selected_edges=60016, (5.2e-02)\n"
     ]
    }
   ],
   "source": [
    "edges_test_mature = filter_edgelist(edges, stop=60000)"
   ]
  },
  {
   "cell_type": "code",
   "execution_count": 14,
   "metadata": {
    "execution": {
     "iopub.execute_input": "2020-08-13T11:19:37.582950Z",
     "iopub.status.busy": "2020-08-13T11:19:37.582797Z",
     "iopub.status.idle": "2020-08-13T11:19:45.411904Z",
     "shell.execute_reply": "2020-08-13T11:19:45.411158Z",
     "shell.execute_reply.started": "2020-08-13T11:19:37.582931Z"
    }
   },
   "outputs": [
    {
     "name": "stdout",
     "output_type": "stream",
     "text": [
      "2000-05-08 11:12:01\n",
      "2000-05-23 23:10:00\n",
      "no_selected_edges=10025, (8.7e-03)\n"
     ]
    }
   ],
   "source": [
    "edges_test_probe = filter_edgelist(edges, start=60000, stop=70000)"
   ]
  },
  {
   "cell_type": "markdown",
   "metadata": {},
   "source": [
    "## Set-up\n",
    "Choose here the parameters on how you want to define the learn and assessing phase."
   ]
  },
  {
   "cell_type": "code",
   "execution_count": 21,
   "metadata": {
    "execution": {
     "iopub.execute_input": "2020-08-13T11:28:20.352495Z",
     "iopub.status.busy": "2020-08-13T11:28:20.352105Z",
     "iopub.status.idle": "2020-08-13T11:28:20.939615Z",
     "shell.execute_reply": "2020-08-13T11:28:20.938873Z",
     "shell.execute_reply.started": "2020-08-13T11:28:20.352454Z"
    }
   },
   "outputs": [],
   "source": [
    "g_train_matured = giant_component(get_graph(edges_train_mature))\n",
    "uv_train_probe = convert_to_set(edges_train_probe)"
   ]
  },
  {
   "cell_type": "code",
   "execution_count": 16,
   "metadata": {
    "execution": {
     "iopub.execute_input": "2020-08-13T11:20:56.587991Z",
     "iopub.status.busy": "2020-08-13T11:20:56.587744Z",
     "iopub.status.idle": "2020-08-13T11:20:57.133937Z",
     "shell.execute_reply": "2020-08-13T11:20:57.132983Z",
     "shell.execute_reply.started": "2020-08-13T11:20:56.587963Z"
    }
   },
   "outputs": [
    {
     "data": {
      "text/plain": [
       "['temporal/train/probes.pkl']"
      ]
     },
     "execution_count": 16,
     "metadata": {},
     "output_type": "execute_result"
    }
   ],
   "source": [
    "joblib.dump(g_train_matured, 'temporal/train/graph.pkl')\n",
    "joblib.dump(uv_train_probe, 'temporal/train/probes.pkl')"
   ]
  },
  {
   "cell_type": "code",
   "execution_count": 17,
   "metadata": {
    "execution": {
     "iopub.execute_input": "2020-08-13T11:21:03.877788Z",
     "iopub.status.busy": "2020-08-13T11:21:03.877553Z",
     "iopub.status.idle": "2020-08-13T11:21:25.113132Z",
     "shell.execute_reply": "2020-08-13T11:21:25.112132Z",
     "shell.execute_reply.started": "2020-08-13T11:21:03.877767Z"
    }
   },
   "outputs": [
    {
     "name": "stdout",
     "output_type": "stream",
     "text": [
      "Number of probes: 5962\n",
      "- already edge: 2554 (43%)\n",
      "- both nodes in graph: 899 (15%)\n",
      "- not in graph: 1690 (28%)\n"
     ]
    }
   ],
   "source": [
    "report(graph=g_train_matured, probes=uv_train_probe)"
   ]
  },
  {
   "cell_type": "code",
   "execution_count": 18,
   "metadata": {
    "execution": {
     "iopub.execute_input": "2020-08-13T11:21:26.536494Z",
     "iopub.status.busy": "2020-08-13T11:21:26.536274Z",
     "iopub.status.idle": "2020-08-13T11:21:27.078554Z",
     "shell.execute_reply": "2020-08-13T11:21:27.077745Z",
     "shell.execute_reply.started": "2020-08-13T11:21:26.536467Z"
    }
   },
   "outputs": [],
   "source": [
    "g_test_matured = giant_component(get_graph(edges_test_mature))\n",
    "uv_test_probe = convert_to_set(edges_test_probe)"
   ]
  },
  {
   "cell_type": "code",
   "execution_count": 19,
   "metadata": {
    "execution": {
     "iopub.execute_input": "2020-08-13T11:21:29.813648Z",
     "iopub.status.busy": "2020-08-13T11:21:29.813313Z",
     "iopub.status.idle": "2020-08-13T11:21:56.361356Z",
     "shell.execute_reply": "2020-08-13T11:21:56.360560Z",
     "shell.execute_reply.started": "2020-08-13T11:21:29.813609Z"
    }
   },
   "outputs": [
    {
     "name": "stdout",
     "output_type": "stream",
     "text": [
      "Number of probes: 6861\n",
      "- already edge: 2910 (42%)\n",
      "- both nodes in graph: 1118 (16%)\n",
      "- not in graph: 1788 (26%)\n"
     ]
    }
   ],
   "source": [
    "report(graph=g_test_matured, probes=uv_test_probe)"
   ]
  },
  {
   "cell_type": "code",
   "execution_count": 20,
   "metadata": {
    "execution": {
     "iopub.execute_input": "2020-08-13T11:21:56.362768Z",
     "iopub.status.busy": "2020-08-13T11:21:56.362578Z",
     "iopub.status.idle": "2020-08-13T11:21:57.066066Z",
     "shell.execute_reply": "2020-08-13T11:21:57.065438Z",
     "shell.execute_reply.started": "2020-08-13T11:21:56.362745Z"
    }
   },
   "outputs": [
    {
     "data": {
      "text/plain": [
       "['temporal/test/probes.pkl']"
      ]
     },
     "execution_count": 20,
     "metadata": {},
     "output_type": "execute_result"
    }
   ],
   "source": [
    "joblib.dump(g_test_matured, 'temporal/test/graph.pkl')\n",
    "joblib.dump(uv_test_probe, 'temporal/test/probes.pkl')"
   ]
  },
  {
   "cell_type": "markdown",
   "metadata": {},
   "source": [
    "## Export"
   ]
  },
  {
   "cell_type": "markdown",
   "metadata": {},
   "source": [
    "### Train"
   ]
  },
  {
   "cell_type": "code",
   "execution_count": 22,
   "metadata": {
    "execution": {
     "iopub.execute_input": "2020-08-13T11:28:55.505764Z",
     "iopub.status.busy": "2020-08-13T11:28:55.505365Z",
     "iopub.status.idle": "2020-08-13T11:29:12.325448Z",
     "shell.execute_reply": "2020-08-13T11:29:12.324701Z",
     "shell.execute_reply.started": "2020-08-13T11:28:55.505724Z"
    }
   },
   "outputs": [
    {
     "name": "stderr",
     "output_type": "stream",
     "text": [
      "get_distances: 100%|██████████| 8875/8875 [00:14<00:00, 618.44it/s] \n",
      "100%|██████████| 2298776/2298776 [00:00<00:00, 3604406.35it/s]\n"
     ]
    }
   ],
   "source": [
    "nodepairs_train, _ = get_distances(g_train_matured, cutoff=2)\n",
    "targets_train = [nodepair in uv_train_probe for nodepair in tqdm(nodepairs_train)]"
   ]
  },
  {
   "cell_type": "code",
   "execution_count": 23,
   "metadata": {
    "execution": {
     "iopub.execute_input": "2020-08-13T11:30:06.055858Z",
     "iopub.status.busy": "2020-08-13T11:30:06.055458Z",
     "iopub.status.idle": "2020-08-13T11:30:31.644006Z",
     "shell.execute_reply": "2020-08-13T11:30:31.643380Z",
     "shell.execute_reply.started": "2020-08-13T11:30:06.055817Z"
    }
   },
   "outputs": [
    {
     "name": "stdout",
     "output_type": "stream",
     "text": [
      "CPU times: user 25.3 s, sys: 308 ms, total: 25.6 s\n",
      "Wall time: 25.6 s\n"
     ]
    },
    {
     "data": {
      "text/plain": [
       "['temporal/train/2/graph.pkl']"
      ]
     },
     "execution_count": 23,
     "metadata": {},
     "output_type": "execute_result"
    }
   ],
   "source": [
    "%%time\n",
    "joblib.dump(nodepairs_train, 'temporal/train/2/nodepairs.pkl', protocol=5)\n",
    "joblib.dump(targets_train, 'temporal/train/2/targets.pkl', protocol=5)\n",
    "joblib.dump(g_train_matured, 'temporal/train/2/graph.pkl', protocol=5)"
   ]
  },
  {
   "cell_type": "code",
   "execution_count": 27,
   "metadata": {
    "execution": {
     "iopub.execute_input": "2020-08-13T11:31:34.923015Z",
     "iopub.status.busy": "2020-08-13T11:31:34.922754Z",
     "iopub.status.idle": "2020-08-13T11:31:35.043878Z",
     "shell.execute_reply": "2020-08-13T11:31:35.043220Z",
     "shell.execute_reply.started": "2020-08-13T11:31:34.922991Z"
    }
   },
   "outputs": [
    {
     "name": "stdout",
     "output_type": "stream",
     "text": [
      "5.498578e-04\n"
     ]
    }
   ],
   "source": [
    "print(f'{sum(targets_train) / len(nodepairs_train):e}')"
   ]
  },
  {
   "cell_type": "markdown",
   "metadata": {},
   "source": [
    "### Test"
   ]
  },
  {
   "cell_type": "code",
   "execution_count": 24,
   "metadata": {
    "execution": {
     "iopub.execute_input": "2020-08-13T11:30:46.630191Z",
     "iopub.status.busy": "2020-08-13T11:30:46.629918Z",
     "iopub.status.idle": "2020-08-13T11:31:07.031841Z",
     "shell.execute_reply": "2020-08-13T11:31:07.031204Z",
     "shell.execute_reply.started": "2020-08-13T11:30:46.630169Z"
    }
   },
   "outputs": [
    {
     "name": "stderr",
     "output_type": "stream",
     "text": [
      "get_distances: 100%|██████████| 9536/9536 [00:17<00:00, 545.94it/s] \n",
      "100%|██████████| 2536352/2536352 [00:00<00:00, 3525554.86it/s]"
     ]
    },
    {
     "name": "stdout",
     "output_type": "stream",
     "text": [
      "CPU times: user 20.2 s, sys: 241 ms, total: 20.5 s\n",
      "Wall time: 20.4 s\n"
     ]
    },
    {
     "name": "stderr",
     "output_type": "stream",
     "text": [
      "\n"
     ]
    }
   ],
   "source": [
    "%%time\n",
    "nodepairs_test, _ = get_distances(g_test_matured, cutoff=2)\n",
    "targets_test = [nodepair in uv_test_probe for nodepair in tqdm(nodepairs_test)]"
   ]
  },
  {
   "cell_type": "code",
   "execution_count": 25,
   "metadata": {
    "execution": {
     "iopub.execute_input": "2020-08-13T11:31:07.033118Z",
     "iopub.status.busy": "2020-08-13T11:31:07.032934Z",
     "iopub.status.idle": "2020-08-13T11:31:34.858481Z",
     "shell.execute_reply": "2020-08-13T11:31:34.857835Z",
     "shell.execute_reply.started": "2020-08-13T11:31:07.033096Z"
    }
   },
   "outputs": [
    {
     "name": "stdout",
     "output_type": "stream",
     "text": [
      "CPU times: user 27.5 s, sys: 279 ms, total: 27.8 s\n",
      "Wall time: 27.8 s\n"
     ]
    },
    {
     "data": {
      "text/plain": [
       "['temporal/test/2/graph.pkl']"
      ]
     },
     "execution_count": 25,
     "metadata": {},
     "output_type": "execute_result"
    }
   ],
   "source": [
    "%%time\n",
    "joblib.dump(nodepairs_test, 'temporal/test/2/nodepairs.pkl', protocol=5)\n",
    "joblib.dump(targets_test, 'temporal/test/2/targets.pkl', protocol=5)\n",
    "joblib.dump(g_test_matured, 'temporal/test/2/graph.pkl', protocol=5)"
   ]
  },
  {
   "cell_type": "code",
   "execution_count": 26,
   "metadata": {
    "execution": {
     "iopub.execute_input": "2020-08-13T11:31:34.859916Z",
     "iopub.status.busy": "2020-08-13T11:31:34.859742Z",
     "iopub.status.idle": "2020-08-13T11:31:34.921844Z",
     "shell.execute_reply": "2020-08-13T11:31:34.921193Z",
     "shell.execute_reply.started": "2020-08-13T11:31:34.859892Z"
    }
   },
   "outputs": [
    {
     "name": "stdout",
     "output_type": "stream",
     "text": [
      "6.994297e-04\n"
     ]
    }
   ],
   "source": [
    "print(f'{sum(targets_test) / len(nodepairs_test):e}')"
   ]
  },
  {
   "cell_type": "markdown",
   "metadata": {},
   "source": [
    "## Hyperparameter selection"
   ]
  },
  {
   "cell_type": "markdown",
   "metadata": {},
   "source": [
    "### XGBoost"
   ]
  },
  {
   "cell_type": "markdown",
   "metadata": {},
   "source": [
    "$n=2$"
   ]
  },
  {
   "cell_type": "code",
   "execution_count": 49,
   "metadata": {
    "execution": {
     "iopub.execute_input": "2020-08-13T13:36:08.663749Z",
     "iopub.status.busy": "2020-08-13T13:36:08.663583Z",
     "iopub.status.idle": "2020-08-13T13:36:08.676205Z",
     "shell.execute_reply": "2020-08-13T13:36:08.675495Z",
     "shell.execute_reply.started": "2020-08-13T13:36:08.663730Z"
    }
   },
   "outputs": [],
   "source": [
    "def get_x_y(df: pd.DataFrame): return df.drop(columns='target').values, df['target'].values\n",
    "def gridsearch(df: pd.DataFrame, random_state=1, also_random=True, max_depth=[1, 2]) -> pd.DataFrame:\n",
    "  X, y = get_x_y(df)\n",
    "  \n",
    "  \n",
    "  X_train, X_val, y_train, y_val = train_test_split(X, y, test_size=1/3, random_state=random_state)\n",
    "  clf = XGBClassifier(random_state=random_state, tree_method='hist', n_jobs=6)\n",
    "  gridsearch = GridSearchCV(\n",
    "    clf, \n",
    "    param_grid=dict(max_depth=max_depth, scale_pos_weight=[sum(~y_train)/sum(y_train), 1]), \n",
    "    scoring='average_precision', \n",
    "    n_jobs=30,\n",
    "    cv=StratifiedKFold(shuffle=True, random_state=random_state),\n",
    "    return_train_score=True\n",
    "  )\n",
    "  \n",
    "  if also_random: \n",
    "    gridsearch_random = copy.deepcopy(gridsearch)\n",
    "    np.random.seed(random_state)\n",
    "    y_random = copy.deepcopy(y_train)\n",
    "    np.random.shuffle(y_random)\n",
    "  \n",
    "  gridsearch.fit(X_train, y_train)\n",
    "  df_dict = dict(\n",
    "      mean_train=gridsearch.cv_results_['mean_train_score'],\n",
    "      std_train=gridsearch.cv_results_['std_train_score'],\n",
    "      mean_val=gridsearch.cv_results_['mean_test_score'],\n",
    "      std_val=gridsearch.cv_results_['std_test_score'],\n",
    "      val_fold0=gridsearch.cv_results_[f'split0_test_score'],\n",
    "      val_fold1=gridsearch.cv_results_[f'split1_test_score'],\n",
    "      val_fold2=gridsearch.cv_results_[f'split2_test_score'],\n",
    "      val_fold3=gridsearch.cv_results_[f'split3_test_score'],\n",
    "      val_fold4=gridsearch.cv_results_[f'split4_test_score']\n",
    "  )\n",
    "  \n",
    "  if also_random: \n",
    "    gridsearch_random.fit(X_train, y_random)\n",
    "    df_dict['mean_train_random']=gridsearch_random.cv_results_['mean_train_score']\n",
    "    df_dict['std_train_random']=gridsearch_random.cv_results_['std_train_score']\n",
    "    df_dict['mean_val_random']=gridsearch_random.cv_results_['mean_test_score']\n",
    "    df_dict['std_val_random']=gridsearch_random.cv_results_['std_test_score']\n",
    "  df = pd.DataFrame(df_dict, index=pd.Index([(d['max_depth'], d['scale_pos_weight'] > 1) for d in gridsearch.cv_results_['params']], name=('max_depth', 'balanced')))\n",
    "  df['ratio_train_val'] = (df['mean_train'] - df['mean_val'])/df['mean_val']\n",
    "  df['rstd_val'] = df['std_val'] / df['mean_val']\n",
    "  if also_random: df['val_over_random'] = df['mean_val'] - df['mean_val_random']\n",
    "  return df.sort_values('mean_val', ascending=False)\n",
    "    \n",
    "def report_performance(df_train: pd.DataFrame, df_test: pd.DataFrame, random_state=1, max_depth=1, tree_method='hist', balanced=True, n_jobs=128):\n",
    "  X, y = get_x_y(df_train)\n",
    "  clf = XGBClassifier(max_depth=max_depth, n_jobs=128, tree_method=tree_method, scale_pos_weight=sum(~y)/sum(y) if balanced else 1 , random_state=random_state)\n",
    "  clf.fit(X, y)\n",
    "  X_test, y_test = get_x_y(df_test)\n",
    "  y_pred = clf.predict_proba(X_test)[:,1]\n",
    "  return average_precision_score(y_test, y_pred), roc_auc_score(y_test, y_pred)"
   ]
  },
  {
   "cell_type": "code",
   "execution_count": 50,
   "metadata": {
    "execution": {
     "iopub.execute_input": "2020-08-13T13:36:08.887181Z",
     "iopub.status.busy": "2020-08-13T13:36:08.887024Z",
     "iopub.status.idle": "2020-08-13T13:36:46.474832Z",
     "shell.execute_reply": "2020-08-13T13:36:46.473719Z",
     "shell.execute_reply.started": "2020-08-13T13:36:08.887162Z"
    }
   },
   "outputs": [],
   "source": [
    "hps2 = gridsearch(pd.read_pickle(f'temporal/train/2/features.pkl'))"
   ]
  },
  {
   "cell_type": "code",
   "execution_count": 51,
   "metadata": {
    "execution": {
     "iopub.execute_input": "2020-08-13T13:36:46.476403Z",
     "iopub.status.busy": "2020-08-13T13:36:46.476233Z",
     "iopub.status.idle": "2020-08-13T13:36:46.490101Z",
     "shell.execute_reply": "2020-08-13T13:36:46.489376Z",
     "shell.execute_reply.started": "2020-08-13T13:36:46.476382Z"
    }
   },
   "outputs": [
    {
     "data": {
      "text/html": [
       "<div>\n",
       "<style scoped>\n",
       "    .dataframe tbody tr th:only-of-type {\n",
       "        vertical-align: middle;\n",
       "    }\n",
       "\n",
       "    .dataframe tbody tr th {\n",
       "        vertical-align: top;\n",
       "    }\n",
       "\n",
       "    .dataframe thead th {\n",
       "        text-align: right;\n",
       "    }\n",
       "</style>\n",
       "<table border=\"1\" class=\"dataframe\">\n",
       "  <thead>\n",
       "    <tr style=\"text-align: right;\">\n",
       "      <th></th>\n",
       "      <th></th>\n",
       "      <th>mean_val</th>\n",
       "      <th>ratio_train_val</th>\n",
       "      <th>rstd_val</th>\n",
       "      <th>val_over_random</th>\n",
       "      <th>val_fold0</th>\n",
       "      <th>val_fold1</th>\n",
       "      <th>val_fold2</th>\n",
       "      <th>val_fold3</th>\n",
       "      <th>val_fold4</th>\n",
       "    </tr>\n",
       "    <tr>\n",
       "      <th>max_depth</th>\n",
       "      <th>balanced</th>\n",
       "      <th></th>\n",
       "      <th></th>\n",
       "      <th></th>\n",
       "      <th></th>\n",
       "      <th></th>\n",
       "      <th></th>\n",
       "      <th></th>\n",
       "      <th></th>\n",
       "      <th></th>\n",
       "    </tr>\n",
       "  </thead>\n",
       "  <tbody>\n",
       "    <tr>\n",
       "      <th rowspan=\"2\" valign=\"top\">2</th>\n",
       "      <th>False</th>\n",
       "      <td>0.026599</td>\n",
       "      <td>0.516816</td>\n",
       "      <td>0.376079</td>\n",
       "      <td>0.026016</td>\n",
       "      <td>0.025339</td>\n",
       "      <td>0.044877</td>\n",
       "      <td>0.027025</td>\n",
       "      <td>0.015393</td>\n",
       "      <td>0.020360</td>\n",
       "    </tr>\n",
       "    <tr>\n",
       "      <th>True</th>\n",
       "      <td>0.013436</td>\n",
       "      <td>0.220521</td>\n",
       "      <td>0.092344</td>\n",
       "      <td>0.012869</td>\n",
       "      <td>0.013364</td>\n",
       "      <td>0.013894</td>\n",
       "      <td>0.012190</td>\n",
       "      <td>0.015534</td>\n",
       "      <td>0.012200</td>\n",
       "    </tr>\n",
       "    <tr>\n",
       "      <th rowspan=\"2\" valign=\"top\">1</th>\n",
       "      <th>False</th>\n",
       "      <td>0.010403</td>\n",
       "      <td>0.072873</td>\n",
       "      <td>0.196721</td>\n",
       "      <td>0.009853</td>\n",
       "      <td>0.010352</td>\n",
       "      <td>0.011283</td>\n",
       "      <td>0.013665</td>\n",
       "      <td>0.007599</td>\n",
       "      <td>0.009115</td>\n",
       "    </tr>\n",
       "    <tr>\n",
       "      <th>True</th>\n",
       "      <td>0.007198</td>\n",
       "      <td>-0.001045</td>\n",
       "      <td>0.099791</td>\n",
       "      <td>0.006652</td>\n",
       "      <td>0.008064</td>\n",
       "      <td>0.007321</td>\n",
       "      <td>0.007687</td>\n",
       "      <td>0.006955</td>\n",
       "      <td>0.005966</td>\n",
       "    </tr>\n",
       "  </tbody>\n",
       "</table>\n",
       "</div>"
      ],
      "text/plain": [
       "                    mean_val  ratio_train_val  rstd_val  val_over_random  \\\n",
       "max_depth balanced                                                         \n",
       "2         False     0.026599         0.516816  0.376079         0.026016   \n",
       "          True      0.013436         0.220521  0.092344         0.012869   \n",
       "1         False     0.010403         0.072873  0.196721         0.009853   \n",
       "          True      0.007198        -0.001045  0.099791         0.006652   \n",
       "\n",
       "                    val_fold0  val_fold1  val_fold2  val_fold3  val_fold4  \n",
       "max_depth balanced                                                         \n",
       "2         False      0.025339   0.044877   0.027025   0.015393   0.020360  \n",
       "          True       0.013364   0.013894   0.012190   0.015534   0.012200  \n",
       "1         False      0.010352   0.011283   0.013665   0.007599   0.009115  \n",
       "          True       0.008064   0.007321   0.007687   0.006955   0.005966  "
      ]
     },
     "execution_count": 51,
     "metadata": {},
     "output_type": "execute_result"
    }
   ],
   "source": [
    "hps2[['mean_val', 'ratio_train_val', 'rstd_val', 'val_over_random', 'val_fold0', 'val_fold1', 'val_fold2', 'val_fold3', 'val_fold4']]"
   ]
  },
  {
   "cell_type": "code",
   "execution_count": 52,
   "metadata": {
    "execution": {
     "iopub.execute_input": "2020-08-13T13:40:59.087692Z",
     "iopub.status.busy": "2020-08-13T13:40:59.087455Z",
     "iopub.status.idle": "2020-08-13T13:41:09.770202Z",
     "shell.execute_reply": "2020-08-13T13:41:09.769303Z",
     "shell.execute_reply.started": "2020-08-13T13:40:59.087671Z"
    }
   },
   "outputs": [
    {
     "data": {
      "text/plain": [
       "(0.011743071145453058, 0.8742894406283527)"
      ]
     },
     "execution_count": 52,
     "metadata": {},
     "output_type": "execute_result"
    }
   ],
   "source": [
    "report_performance(df_train=pd.read_pickle(f'temporal/train/2/features.pkl'), df_test=pd.read_pickle(f'temporal/test/2/features.pkl'), max_depth=1, balanced=False)"
   ]
  },
  {
   "cell_type": "code",
   "execution_count": null,
   "metadata": {},
   "outputs": [],
   "source": []
  }
 ],
 "metadata": {
  "kernelspec": {
   "display_name": "Python 3",
   "language": "python",
   "name": "python3"
  },
  "language_info": {
   "codemirror_mode": {
    "name": "ipython",
    "version": 3
   },
   "file_extension": ".py",
   "mimetype": "text/x-python",
   "name": "python",
   "nbconvert_exporter": "python",
   "pygments_lexer": "ipython3",
   "version": "3.8.5"
  },
  "widgets": {
   "application/vnd.jupyter.widget-state+json": {
    "state": {},
    "version_major": 2,
    "version_minor": 0
   }
  }
 },
 "nbformat": 4,
 "nbformat_minor": 4
}
