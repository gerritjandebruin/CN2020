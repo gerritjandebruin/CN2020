{
 "cells": [
  {
   "cell_type": "markdown",
   "metadata": {},
   "source": [
    "# Link Prediction in Condmat"
   ]
  },
  {
   "cell_type": "code",
   "execution_count": 1,
   "metadata": {
    "execution": {
     "iopub.execute_input": "2020-08-30T11:49:37.528450Z",
     "iopub.status.busy": "2020-08-30T11:49:37.528169Z",
     "iopub.status.idle": "2020-08-30T11:49:38.112389Z",
     "shell.execute_reply": "2020-08-30T11:49:38.111860Z",
     "shell.execute_reply.started": "2020-08-30T11:49:37.528419Z"
    }
   },
   "outputs": [],
   "source": [
    "from linkprediction import convert_to_set, filter_edgelist, get_distances, get_graph, giant_component, read_edges, report\n",
    "\n",
    "import joblib\n",
    "from tqdm import tqdm\n",
    "\n",
    "edges = read_edges('out.slashdot-threads', skiprows=2)"
   ]
  },
  {
   "cell_type": "code",
   "execution_count": 2,
   "metadata": {
    "execution": {
     "iopub.execute_input": "2020-08-30T11:49:38.113285Z",
     "iopub.status.busy": "2020-08-30T11:49:38.113163Z",
     "iopub.status.idle": "2020-08-30T11:49:38.131996Z",
     "shell.execute_reply": "2020-08-30T11:49:38.131530Z",
     "shell.execute_reply.started": "2020-08-30T11:49:38.113269Z"
    }
   },
   "outputs": [
    {
     "name": "stdout",
     "output_type": "stream",
     "text": [
      "1970-01-01 01:00:00\n",
      "2005-12-31 02:16:00\n",
      "no_selected_edges=50001 (3.6e-01)\n"
     ]
    }
   ],
   "source": [
    "edges_train_mature = filter_edgelist(edges, stop=50000)"
   ]
  },
  {
   "cell_type": "code",
   "execution_count": 3,
   "metadata": {
    "execution": {
     "iopub.execute_input": "2020-08-30T11:49:38.132836Z",
     "iopub.status.busy": "2020-08-30T11:49:38.132718Z",
     "iopub.status.idle": "2020-08-30T11:49:38.311117Z",
     "shell.execute_reply": "2020-08-30T11:49:38.310655Z",
     "shell.execute_reply.started": "2020-08-30T11:49:38.132821Z"
    }
   },
   "outputs": [
    {
     "name": "stdout",
     "output_type": "stream",
     "text": [
      "2005-12-31 02:16:01\n",
      "2006-01-27 19:12:00\n",
      "no_selected_edges=10000 (7.1e-02)\n"
     ]
    }
   ],
   "source": [
    "edges_train_probe = filter_edgelist(edges, start=50000, stop=60000)"
   ]
  },
  {
   "cell_type": "code",
   "execution_count": 4,
   "metadata": {
    "execution": {
     "iopub.execute_input": "2020-08-30T11:49:38.311860Z",
     "iopub.status.busy": "2020-08-30T11:49:38.311744Z",
     "iopub.status.idle": "2020-08-30T11:49:38.389451Z",
     "shell.execute_reply": "2020-08-30T11:49:38.389003Z",
     "shell.execute_reply.started": "2020-08-30T11:49:38.311847Z"
    }
   },
   "outputs": [
    {
     "name": "stdout",
     "output_type": "stream",
     "text": [
      "1970-01-01 01:00:00\n",
      "2006-01-27 19:12:00\n",
      "no_selected_edges=60001 (4.3e-01)\n"
     ]
    }
   ],
   "source": [
    "edges_test_mature = filter_edgelist(edges, stop=60000)"
   ]
  },
  {
   "cell_type": "code",
   "execution_count": 5,
   "metadata": {
    "execution": {
     "iopub.execute_input": "2020-08-30T11:49:38.906079Z",
     "iopub.status.busy": "2020-08-30T11:49:38.905957Z",
     "iopub.status.idle": "2020-08-30T11:49:38.923085Z",
     "shell.execute_reply": "2020-08-30T11:49:38.922666Z",
     "shell.execute_reply.started": "2020-08-30T11:49:38.906064Z"
    }
   },
   "outputs": [
    {
     "name": "stdout",
     "output_type": "stream",
     "text": [
      "2006-01-27 19:12:01\n",
      "2006-02-15 19:03:00\n",
      "no_selected_edges=10001 (7.1e-02)\n"
     ]
    }
   ],
   "source": [
    "edges_test_probe = filter_edgelist(edges, start=60000, stop=70000)"
   ]
  },
  {
   "cell_type": "markdown",
   "metadata": {},
   "source": [
    "## Set-up\n",
    "Choose here the parameters on how you want to define the learn and assessing phase."
   ]
  },
  {
   "cell_type": "code",
   "execution_count": 6,
   "metadata": {
    "execution": {
     "iopub.execute_input": "2020-08-30T11:49:41.246349Z",
     "iopub.status.busy": "2020-08-30T11:49:41.246228Z",
     "iopub.status.idle": "2020-08-30T11:49:41.820562Z",
     "shell.execute_reply": "2020-08-30T11:49:41.820024Z",
     "shell.execute_reply.started": "2020-08-30T11:49:41.246334Z"
    }
   },
   "outputs": [],
   "source": [
    "g_train_matured = giant_component(get_graph(edges_train_mature))\n",
    "uv_train_probe = convert_to_set(edges_train_probe)"
   ]
  },
  {
   "cell_type": "code",
   "execution_count": 7,
   "metadata": {
    "execution": {
     "iopub.execute_input": "2020-08-30T11:43:43.494250Z",
     "iopub.status.busy": "2020-08-30T11:43:43.493972Z",
     "iopub.status.idle": "2020-08-30T11:47:57.987214Z",
     "shell.execute_reply": "2020-08-30T11:47:57.986288Z",
     "shell.execute_reply.started": "2020-08-30T11:43:43.494212Z"
    }
   },
   "outputs": [
    {
     "name": "stdout",
     "output_type": "stream",
     "text": [
      "Number of probes: 9405\n",
      "- already edge: 80 (1%)\n",
      "- both nodes in graph: 1571 (17%)\n",
      "- not in graph: 6137 (65%)\n"
     ]
    }
   ],
   "source": [
    "report(graph=g_train_matured, probes=uv_train_probe)"
   ]
  },
  {
   "cell_type": "code",
   "execution_count": 7,
   "metadata": {
    "execution": {
     "iopub.execute_input": "2020-08-30T11:49:42.780877Z",
     "iopub.status.busy": "2020-08-30T11:49:42.780754Z",
     "iopub.status.idle": "2020-08-30T11:49:43.547250Z",
     "shell.execute_reply": "2020-08-30T11:49:43.546580Z",
     "shell.execute_reply.started": "2020-08-30T11:49:42.780861Z"
    }
   },
   "outputs": [],
   "source": [
    "g_test_matured = giant_component(get_graph(edges_test_mature))\n",
    "uv_test_probe = convert_to_set(edges_test_probe)"
   ]
  },
  {
   "cell_type": "code",
   "execution_count": 8,
   "metadata": {
    "execution": {
     "iopub.execute_input": "2020-08-30T11:49:43.548123Z",
     "iopub.status.busy": "2020-08-30T11:49:43.548006Z",
     "iopub.status.idle": "2020-08-30T11:53:34.120761Z",
     "shell.execute_reply": "2020-08-30T11:53:34.119984Z",
     "shell.execute_reply.started": "2020-08-30T11:49:43.548108Z"
    }
   },
   "outputs": [
    {
     "name": "stdout",
     "output_type": "stream",
     "text": [
      "Number of probes: 9406\n",
      "- already edge: 115 (1%)\n",
      "- both nodes in graph: 1782 (19%)\n",
      "- not in graph: 5803 (62%)\n"
     ]
    }
   ],
   "source": [
    "report(graph=g_test_matured, probes=uv_test_probe)"
   ]
  },
  {
   "cell_type": "markdown",
   "metadata": {},
   "source": [
    "## Export"
   ]
  },
  {
   "cell_type": "code",
   "execution_count": 9,
   "metadata": {
    "execution": {
     "iopub.execute_input": "2020-08-30T11:53:34.122150Z",
     "iopub.status.busy": "2020-08-30T11:53:34.122009Z",
     "iopub.status.idle": "2020-08-30T11:53:34.269992Z",
     "shell.execute_reply": "2020-08-30T11:53:34.268770Z",
     "shell.execute_reply.started": "2020-08-30T11:53:34.122132Z"
    }
   },
   "outputs": [],
   "source": [
    "!mkdir -p temporal/{train,test}/2"
   ]
  },
  {
   "cell_type": "markdown",
   "metadata": {},
   "source": [
    "### Train"
   ]
  },
  {
   "cell_type": "code",
   "execution_count": 12,
   "metadata": {
    "execution": {
     "iopub.execute_input": "2020-08-30T12:01:23.791443Z",
     "iopub.status.busy": "2020-08-30T12:01:23.791082Z",
     "iopub.status.idle": "2020-08-30T12:03:31.761570Z",
     "shell.execute_reply": "2020-08-30T12:03:31.760646Z",
     "shell.execute_reply.started": "2020-08-30T12:01:23.791406Z"
    }
   },
   "outputs": [
    {
     "name": "stderr",
     "output_type": "stream",
     "text": [
      "get_distances: 100%|██████████| 22689/22689 [00:59<00:00, 383.96it/s] \n",
      "100%|██████████| 2860654/2860654 [00:01<00:00, 1478699.97it/s]\n"
     ]
    },
    {
     "name": "stdout",
     "output_type": "stream",
     "text": [
      "1.289915e-04\n",
      "CPU times: user 1min 55s, sys: 764 ms, total: 1min 56s\n",
      "Wall time: 2min 7s\n"
     ]
    }
   ],
   "source": [
    "%%time\n",
    "nodepairs_train, _ = get_distances(g_train_matured, cutoff=2)\n",
    "targets_train = [nodepair in uv_train_probe for nodepair in tqdm(nodepairs_train)]\n",
    "\n",
    "joblib.dump(nodepairs_train, 'temporal/train/2/nodepairs.pkl', protocol=5)\n",
    "joblib.dump(targets_train, 'temporal/train/2/target.pkl', protocol=5)\n",
    "joblib.dump(g_train_matured, 'temporal/train/2/graph.pkl', protocol=5)\n",
    "\n",
    "print(f'{sum(targets_train) / len(nodepairs_train):e}')"
   ]
  },
  {
   "cell_type": "markdown",
   "metadata": {},
   "source": [
    "### Test"
   ]
  },
  {
   "cell_type": "code",
   "execution_count": 13,
   "metadata": {
    "execution": {
     "iopub.execute_input": "2020-08-30T12:03:31.763399Z",
     "iopub.status.busy": "2020-08-30T12:03:31.763136Z",
     "iopub.status.idle": "2020-08-30T12:07:04.231490Z",
     "shell.execute_reply": "2020-08-30T12:07:04.230719Z",
     "shell.execute_reply.started": "2020-08-30T12:03:31.763365Z"
    }
   },
   "outputs": [
    {
     "name": "stderr",
     "output_type": "stream",
     "text": [
      "get_distances: 100%|██████████| 26247/26247 [02:03<00:00, 212.17it/s] \n",
      "100%|██████████| 3776396/3776396 [00:02<00:00, 1434776.62it/s]\n"
     ]
    },
    {
     "name": "stdout",
     "output_type": "stream",
     "text": [
      "1.159836e-04\n",
      "CPU times: user 2min 53s, sys: 1.33 s, total: 2min 55s\n",
      "Wall time: 3min 32s\n"
     ]
    }
   ],
   "source": [
    "%%time\n",
    "nodepairs_test, _ = get_distances(g_test_matured, cutoff=2)\n",
    "targets_test = [nodepair in uv_test_probe for nodepair in tqdm(nodepairs_test)]\n",
    "\n",
    "joblib.dump(nodepairs_test, 'temporal/test/2/nodepairs.pkl', protocol=5)\n",
    "joblib.dump(targets_test, 'temporal/test/2/target.pkl', protocol=5)\n",
    "joblib.dump(g_test_matured, 'temporal/test/2/graph.pkl', protocol=5)\n",
    "\n",
    "print(f'{sum(targets_test) / len(nodepairs_test):e}')"
   ]
  },
  {
   "cell_type": "markdown",
   "metadata": {},
   "source": [
    "## Hyperparameter selection"
   ]
  },
  {
   "cell_type": "markdown",
   "metadata": {},
   "source": [
    "### XGBoost"
   ]
  },
  {
   "cell_type": "markdown",
   "metadata": {},
   "source": [
    "$n=2$"
   ]
  },
  {
   "cell_type": "code",
   "execution_count": null,
   "metadata": {},
   "outputs": [],
   "source": [
    "def get_x_y(df: pd.DataFrame): return df.drop(columns='target').values, df['target'].values\n",
    "def gridsearch(df: pd.DataFrame, random_state=1, also_random=True, max_depth=[1, 2]) -> pd.DataFrame:\n",
    "  X, y = get_x_y(df)\n",
    "  \n",
    "  \n",
    "  X_train, X_val, y_train, y_val = train_test_split(X, y, test_size=1/3, random_state=random_state)\n",
    "  clf = XGBClassifier(random_state=random_state, tree_method='hist', n_jobs=6)\n",
    "  gridsearch = GridSearchCV(\n",
    "    clf, \n",
    "    param_grid=dict(max_depth=max_depth, scale_pos_weight=[sum(~y_train)/sum(y_train), 1]), \n",
    "    scoring='average_precision', \n",
    "    n_jobs=30,\n",
    "    cv=StratifiedKFold(shuffle=True, random_state=random_state),\n",
    "    return_train_score=True\n",
    "  )\n",
    "  \n",
    "  if also_random: \n",
    "    gridsearch_random = copy.deepcopy(gridsearch)\n",
    "    np.random.seed(random_state)\n",
    "    y_random = copy.deepcopy(y_train)\n",
    "    np.random.shuffle(y_random)\n",
    "  \n",
    "  gridsearch.fit(X_train, y_train)\n",
    "  df_dict = dict(\n",
    "      mean_train=gridsearch.cv_results_['mean_train_score'],\n",
    "      std_train=gridsearch.cv_results_['std_train_score'],\n",
    "      mean_val=gridsearch.cv_results_['mean_test_score'],\n",
    "      std_val=gridsearch.cv_results_['std_test_score'],\n",
    "      val_fold0=gridsearch.cv_results_[f'split0_test_score'],\n",
    "      val_fold1=gridsearch.cv_results_[f'split1_test_score'],\n",
    "      val_fold2=gridsearch.cv_results_[f'split2_test_score'],\n",
    "      val_fold3=gridsearch.cv_results_[f'split3_test_score'],\n",
    "      val_fold4=gridsearch.cv_results_[f'split4_test_score']\n",
    "  )\n",
    "  \n",
    "  if also_random: \n",
    "    gridsearch_random.fit(X_train, y_random)\n",
    "    df_dict['mean_train_random']=gridsearch_random.cv_results_['mean_train_score']\n",
    "    df_dict['std_train_random']=gridsearch_random.cv_results_['std_train_score']\n",
    "    df_dict['mean_val_random']=gridsearch_random.cv_results_['mean_test_score']\n",
    "    df_dict['std_val_random']=gridsearch_random.cv_results_['std_test_score']\n",
    "  df = pd.DataFrame(df_dict, index=pd.Index([(d['max_depth'], d['scale_pos_weight'] > 1) for d in gridsearch.cv_results_['params']], name=('max_depth', 'balanced')))\n",
    "  df['diff_train_val'] = df['mean_val'] - df['mean_train']\n",
    "  df['rstd_test'] = df['std_val'] / df['mean_val']\n",
    "  if also_random: df['val_over_random'] = df['mean_val'] - df['mean_val_random']\n",
    "  return df.sort_values('mean_val', ascending=False)\n",
    "    \n",
    "def report_performance(df_train: pd.DataFrame, df_test: pd.DataFrame, random_state=1, max_depth=1, tree_method='hist', balanced=True, n_jobs=128):\n",
    "  X, y = get_x_y(df_train)\n",
    "  clf = XGBClassifier(max_depth=max_depth, n_jobs=128, tree_method=tree_method, scale_pos_weight=sum(~y)/sum(y) if balanced else 1 , random_state=random_state)\n",
    "  clf.fit(X, y)\n",
    "  X_test, y_test = get_x_y(df_test)\n",
    "  y_pred = clf.predict_proba(X_test)[:,1]\n",
    "  return average_precision_score(y_test, y_pred), roc_auc_score(y_test, y_pred)"
   ]
  },
  {
   "cell_type": "code",
   "execution_count": null,
   "metadata": {},
   "outputs": [],
   "source": [
    "hps2 = gridsearch(pd.read_pickle(f'temporal/train/2/features.pkl'))"
   ]
  },
  {
   "cell_type": "code",
   "execution_count": null,
   "metadata": {},
   "outputs": [],
   "source": [
    "hps2[['mean_test', 'diff_train_test', 'rstd_test', 'test_over_random', 'test_fold0', 'test_fold1', 'test_fold2', 'test_fold3', 'test_fold4']]"
   ]
  },
  {
   "cell_type": "code",
   "execution_count": null,
   "metadata": {},
   "outputs": [],
   "source": [
    "report_performance(df_train=pd.read_pickle(f'temp/b1/train/2/features.pkl'), df_test=pd.read_pickle(f'temp/b1/test/2/features.pkl'), balanced=False)"
   ]
  },
  {
   "cell_type": "code",
   "execution_count": null,
   "metadata": {},
   "outputs": [],
   "source": []
  }
 ],
 "metadata": {
  "kernelspec": {
   "display_name": "Python 3",
   "language": "python",
   "name": "python3"
  },
  "language_info": {
   "codemirror_mode": {
    "name": "ipython",
    "version": 3
   },
   "file_extension": ".py",
   "mimetype": "text/x-python",
   "name": "python",
   "nbconvert_exporter": "python",
   "pygments_lexer": "ipython3",
   "version": "3.8.5"
  },
  "widgets": {
   "application/vnd.jupyter.widget-state+json": {
    "state": {},
    "version_major": 2,
    "version_minor": 0
   }
  }
 },
 "nbformat": 4,
 "nbformat_minor": 4
}
