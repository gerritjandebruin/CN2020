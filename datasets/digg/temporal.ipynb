{
 "cells": [
  {
   "cell_type": "markdown",
   "metadata": {},
   "source": [
    "# Link Prediction in Condmat"
   ]
  },
  {
   "cell_type": "code",
   "execution_count": 1,
   "metadata": {
    "execution": {
     "iopub.execute_input": "2020-08-13T13:56:55.295146Z",
     "iopub.status.busy": "2020-08-13T13:56:55.295003Z",
     "iopub.status.idle": "2020-08-13T13:56:56.433696Z",
     "shell.execute_reply": "2020-08-13T13:56:56.433032Z",
     "shell.execute_reply.started": "2020-08-13T13:56:55.295125Z"
    }
   },
   "outputs": [],
   "source": [
    "import collections\n",
    "import copy\n",
    "import datetime\n",
    "import itertools\n",
    "import math\n",
    "from typing import List, Any, Dict, Tuple\n",
    "\n",
    "import joblib\n",
    "import matplotlib.pyplot as plt\n",
    "import networkx as nx\n",
    "import numpy as np\n",
    "import pandas as pd\n",
    "import plotly.express as px\n",
    "import plotly.figure_factory as ff\n",
    "import plotly.graph_objects as go\n",
    "from sklearn.preprocessing import minmax_scale\n",
    "from sklearn.metrics import precision_recall_curve, average_precision_score, roc_auc_score\n",
    "from sklearn.metrics import roc_curve, auc\n",
    "from sklearn.model_selection import StratifiedKFold, cross_validate, GridSearchCV, train_test_split\n",
    "import seaborn as sns\n",
    "from tqdm import tqdm\n",
    "from xgboost import XGBClassifier\n",
    "\n",
    "# Typing\n",
    "NodePair = Tuple[int, int]\n",
    "Edge = List[Tuple[int, int, Dict['date', datetime.datetime]]]\n",
    "\n",
    "folder = '/local/bruingjde/complexnetworks2020-experiment/temp/en-a1'"
   ]
  },
  {
   "cell_type": "code",
   "execution_count": 6,
   "metadata": {
    "execution": {
     "iopub.execute_input": "2020-08-13T13:57:26.782018Z",
     "iopub.status.busy": "2020-08-13T13:57:26.781638Z",
     "iopub.status.idle": "2020-08-13T13:57:33.664675Z",
     "shell.execute_reply": "2020-08-13T13:57:33.663754Z",
     "shell.execute_reply.started": "2020-08-13T13:57:26.781965Z"
    }
   },
   "outputs": [],
   "source": [
    "def read_edges(file: str, sep=' ') -> pd.DataFrame:\n",
    "  d = pd.read_csv(file, sep, skiprows=1, names=['source', 'target', 'weight', 'date'])\n",
    "  d['date'] = d['date'].apply(datetime.datetime.fromtimestamp)\n",
    "  d.sort_values(by='date', inplace=True)\n",
    "  return d.loc[:, ['source', 'target', 'date']]\n",
    "def filter_edgelist(edges: pd.DataFrame, start=0, stop=1, verbose=True) -> pd.DataFrame: \n",
    "  \"\"\"Filter edgelist.  If start/ stop is float, start/stop from the fraction of total edges. If datetime, this is used.\"\"\" \n",
    "  no_edges = len(edges)\n",
    "  if start != 0:\n",
    "    if type(start) is float:\n",
    "      assert 0 < start < 1\n",
    "      start = int(start*no_edges)\n",
    "    if type(start) is int: start = edges.iloc[start]['date']\n",
    "    start = start + datetime.timedelta(seconds=1)\n",
    "  else: start = edges['date'].min()\n",
    "  if verbose: print(start)\n",
    "  \n",
    "  if stop != 1:\n",
    "    if type(stop) is float:\n",
    "      assert 0 < stop < 1\n",
    "      stop = math.floor(stop*no_edges)-1\n",
    "    if type(stop) is int: stop = edges.iloc[stop]['date']\n",
    "  else: stop = edges['date'].max()\n",
    "  if verbose: print(stop)\n",
    "  \n",
    "  mask = (edges['date'] >= start) & (edges['date'] <= stop)\n",
    "  if verbose: \n",
    "    no_selected_edges = sum(mask)\n",
    "    print(f'{no_selected_edges=} ({no_selected_edges/len(edges):.1e})')\n",
    "\n",
    "  return edges.loc[mask]\n",
    "def convert_to_set(edges: pd.DataFrame) -> List[NodePair]: return {edge for edge in edges.loc[:, ['source', 'target']].itertuples(index=False, name=None)}\n",
    "def get_graph(edgelist: pd.DataFrame) -> nx.Graph:\n",
    "  \"\"\"Add edge to graph. Contains edge attribute weight.\"\"\"\n",
    "  g = nx.Graph()\n",
    "  \n",
    "  for u, v, _ in edgelist.itertuples(index=False, name=None):\n",
    "    weight = g[u][v][\"weight\"]+1 if g.has_edge(u,v) else 1\n",
    "    g.add_edge(u, v, weight=weight)\n",
    "  \n",
    "  return g\n",
    "def giant_component(graph: nx.Graph) -> nx.Graph: return graph.subgraph(max(nx.connected_components(graph), key=len)).copy()\n",
    "def report(graph:nx.Graph, probes: Tuple[int, int]):\n",
    "  n = len(probes)\n",
    "  print(f\"Number of probes: {n}\")\n",
    "  a = sum([graph.has_edge(u, v) for u, v in probes])\n",
    "  print(f\"- already edge: {a} ({a/n:.0%})\")\n",
    "  non_edges = set(nx.non_edges(graph))\n",
    "  ne = sum([np in non_edges for np in probes])\n",
    "  print(f\"- both nodes in graph: {ne} ({ne/n:.0%})\")\n",
    "  ng = sum([not (graph.has_node(u) and graph.has_node(v)) for u, v in probes])\n",
    "  print(f\"- not in graph: {ng} ({ng/n:.0%})\")\n",
    "def get_distances(graph: nx.Graph, cutoff: int = None) -> (List[NodePair], List[int]):\n",
    "  \"\"\"\n",
    "  Get all non-edges using BFS. When cutoff provided, consider only node pairs with at most this distance.\n",
    "  Returns:\n",
    "  - nodepairs: tuple containing all nodepairs\n",
    "  - distances: tuple containing all distances\n",
    "  \"\"\"\n",
    "  return zip(\n",
    "    *[\n",
    "      ((u, v), distance)\n",
    "      for u, (nbs_u, _) in tqdm(nx.all_pairs_dijkstra(graph, cutoff, weight=None), total=len(graph), desc=\"get_distances\")\n",
    "      for v, distance in nbs_u.items() if distance > 1 and (cutoff is None or distance <= cutoff) \n",
    "    ]\n",
    "  )"
   ]
  },
  {
   "cell_type": "code",
   "execution_count": 7,
   "metadata": {
    "execution": {
     "iopub.execute_input": "2020-08-13T13:57:33.665954Z",
     "iopub.status.busy": "2020-08-13T13:57:33.665768Z",
     "iopub.status.idle": "2020-08-13T13:57:34.576400Z",
     "shell.execute_reply": "2020-08-13T13:57:34.575477Z",
     "shell.execute_reply.started": "2020-08-13T13:57:33.665924Z"
    }
   },
   "outputs": [],
   "source": [
    "edges = read_edges('out.sx-askubuntu', sep='\\t')"
   ]
  },
  {
   "cell_type": "code",
   "execution_count": 8,
   "metadata": {
    "execution": {
     "iopub.execute_input": "2020-08-13T13:57:34.577890Z",
     "iopub.status.busy": "2020-08-13T13:57:34.577715Z",
     "iopub.status.idle": "2020-08-13T13:57:34.582256Z",
     "shell.execute_reply": "2020-08-13T13:57:34.581381Z",
     "shell.execute_reply.started": "2020-08-13T13:57:34.577867Z"
    }
   },
   "outputs": [
    {
     "name": "stdout",
     "output_type": "stream",
     "text": [
      "Number of edges: 9.6e+05\n"
     ]
    }
   ],
   "source": [
    "print(f'Number of edges: {len(edges):.1e}')"
   ]
  },
  {
   "cell_type": "code",
   "execution_count": 9,
   "metadata": {
    "execution": {
     "iopub.execute_input": "2020-08-13T13:57:34.583315Z",
     "iopub.status.busy": "2020-08-13T13:57:34.583145Z",
     "iopub.status.idle": "2020-08-13T13:57:34.747251Z",
     "shell.execute_reply": "2020-08-13T13:57:34.746269Z",
     "shell.execute_reply.started": "2020-08-13T13:57:34.583294Z"
    }
   },
   "outputs": [
    {
     "name": "stdout",
     "output_type": "stream",
     "text": [
      "2009-01-08 17:20:07\n",
      "2011-05-02 02:56:55\n",
      "no_selected_edges=50001 (5.2e-02)\n"
     ]
    }
   ],
   "source": [
    "edges_train_mature = filter_edgelist(edges, stop=50000)"
   ]
  },
  {
   "cell_type": "code",
   "execution_count": 10,
   "metadata": {
    "execution": {
     "iopub.execute_input": "2020-08-13T13:57:34.748299Z",
     "iopub.status.busy": "2020-08-13T13:57:34.748109Z",
     "iopub.status.idle": "2020-08-13T13:57:35.038149Z",
     "shell.execute_reply": "2020-08-13T13:57:35.037176Z",
     "shell.execute_reply.started": "2020-08-13T13:57:34.748276Z"
    }
   },
   "outputs": [
    {
     "name": "stdout",
     "output_type": "stream",
     "text": [
      "2011-05-02 02:56:56\n",
      "2011-06-02 20:45:57\n",
      "no_selected_edges=10000 (1.0e-02)\n"
     ]
    }
   ],
   "source": [
    "edges_train_probe = filter_edgelist(edges, start=50000, stop=60000)"
   ]
  },
  {
   "cell_type": "code",
   "execution_count": 11,
   "metadata": {
    "execution": {
     "iopub.execute_input": "2020-08-13T13:57:35.039193Z",
     "iopub.status.busy": "2020-08-13T13:57:35.039008Z",
     "iopub.status.idle": "2020-08-13T13:57:35.169570Z",
     "shell.execute_reply": "2020-08-13T13:57:35.168633Z",
     "shell.execute_reply.started": "2020-08-13T13:57:35.039169Z"
    }
   },
   "outputs": [
    {
     "name": "stdout",
     "output_type": "stream",
     "text": [
      "2009-01-08 17:20:07\n",
      "2011-06-02 20:45:57\n",
      "no_selected_edges=60001 (6.2e-02)\n"
     ]
    }
   ],
   "source": [
    "edges_test_mature = filter_edgelist(edges, stop=60000)"
   ]
  },
  {
   "cell_type": "code",
   "execution_count": 12,
   "metadata": {
    "execution": {
     "iopub.execute_input": "2020-08-13T13:57:35.170605Z",
     "iopub.status.busy": "2020-08-13T13:57:35.170420Z",
     "iopub.status.idle": "2020-08-13T13:57:35.287125Z",
     "shell.execute_reply": "2020-08-13T13:57:35.286273Z",
     "shell.execute_reply.started": "2020-08-13T13:57:35.170583Z"
    }
   },
   "outputs": [
    {
     "name": "stdout",
     "output_type": "stream",
     "text": [
      "2011-06-02 20:45:58\n",
      "2011-07-19 07:09:40\n",
      "no_selected_edges=10000 (1.0e-02)\n"
     ]
    }
   ],
   "source": [
    "edges_test_probe = filter_edgelist(edges, start=60000, stop=70000)"
   ]
  },
  {
   "cell_type": "markdown",
   "metadata": {},
   "source": [
    "## Set-up\n",
    "Choose here the parameters on how you want to define the learn and assessing phase."
   ]
  },
  {
   "cell_type": "code",
   "execution_count": 13,
   "metadata": {
    "execution": {
     "iopub.execute_input": "2020-08-13T13:57:35.288625Z",
     "iopub.status.busy": "2020-08-13T13:57:35.288450Z",
     "iopub.status.idle": "2020-08-13T13:57:35.986059Z",
     "shell.execute_reply": "2020-08-13T13:57:35.985215Z",
     "shell.execute_reply.started": "2020-08-13T13:57:35.288601Z"
    }
   },
   "outputs": [],
   "source": [
    "g_train_matured = giant_component(get_graph(edges_train_mature))\n",
    "uv_train_probe = convert_to_set(edges_train_probe)"
   ]
  },
  {
   "cell_type": "code",
   "execution_count": 14,
   "metadata": {
    "execution": {
     "iopub.execute_input": "2020-08-13T13:57:40.374520Z",
     "iopub.status.busy": "2020-08-13T13:57:40.374288Z",
     "iopub.status.idle": "2020-08-13T13:57:45.560057Z",
     "shell.execute_reply": "2020-08-13T13:57:45.559066Z",
     "shell.execute_reply.started": "2020-08-13T13:57:40.374498Z"
    }
   },
   "outputs": [
    {
     "name": "stdout",
     "output_type": "stream",
     "text": [
      "Number of probes: 7195\n",
      "- already edge: 673 (9%)\n",
      "- both nodes in graph: 1160 (16%)\n",
      "- not in graph: 4126 (57%)\n"
     ]
    }
   ],
   "source": [
    "report(graph=g_train_matured, probes=uv_train_probe)"
   ]
  },
  {
   "cell_type": "code",
   "execution_count": 15,
   "metadata": {
    "execution": {
     "iopub.execute_input": "2020-08-13T13:57:45.561295Z",
     "iopub.status.busy": "2020-08-13T13:57:45.561119Z",
     "iopub.status.idle": "2020-08-13T13:57:48.571995Z",
     "shell.execute_reply": "2020-08-13T13:57:48.570803Z",
     "shell.execute_reply.started": "2020-08-13T13:57:45.561271Z"
    }
   },
   "outputs": [],
   "source": [
    "g_test_matured = giant_component(get_graph(edges_test_mature))\n",
    "uv_test_probe = convert_to_set(edges_test_probe)"
   ]
  },
  {
   "cell_type": "code",
   "execution_count": 16,
   "metadata": {
    "execution": {
     "iopub.execute_input": "2020-08-13T13:57:48.574012Z",
     "iopub.status.busy": "2020-08-13T13:57:48.573831Z",
     "iopub.status.idle": "2020-08-13T13:57:57.022863Z",
     "shell.execute_reply": "2020-08-13T13:57:57.021898Z",
     "shell.execute_reply.started": "2020-08-13T13:57:48.573989Z"
    }
   },
   "outputs": [
    {
     "name": "stdout",
     "output_type": "stream",
     "text": [
      "Number of probes: 6938\n",
      "- already edge: 908 (13%)\n",
      "- both nodes in graph: 1278 (18%)\n",
      "- not in graph: 3379 (49%)\n"
     ]
    }
   ],
   "source": [
    "report(graph=g_test_matured, probes=uv_test_probe)"
   ]
  },
  {
   "cell_type": "markdown",
   "metadata": {},
   "source": [
    "## Export"
   ]
  },
  {
   "cell_type": "markdown",
   "metadata": {},
   "source": [
    "### Train"
   ]
  },
  {
   "cell_type": "code",
   "execution_count": 17,
   "metadata": {
    "execution": {
     "iopub.execute_input": "2020-08-13T13:57:57.024097Z",
     "iopub.status.busy": "2020-08-13T13:57:57.023903Z",
     "iopub.status.idle": "2020-08-13T13:58:33.809374Z",
     "shell.execute_reply": "2020-08-13T13:58:33.808712Z",
     "shell.execute_reply.started": "2020-08-13T13:57:57.024075Z"
    }
   },
   "outputs": [
    {
     "name": "stderr",
     "output_type": "stream",
     "text": [
      "get_distances: 100%|██████████| 4953/4953 [00:33<00:00, 147.25it/s]\n",
      "100%|██████████| 2483166/2483166 [00:00<00:00, 3069599.18it/s]\n"
     ]
    }
   ],
   "source": [
    "nodepairs_train, _ = get_distances(g_train_matured, cutoff=2)\n",
    "targets_train = [nodepair in uv_train_probe for nodepair in tqdm(nodepairs_train)]"
   ]
  },
  {
   "cell_type": "code",
   "execution_count": 23,
   "metadata": {
    "execution": {
     "iopub.execute_input": "2020-08-13T14:00:13.215614Z",
     "iopub.status.busy": "2020-08-13T14:00:13.215450Z",
     "iopub.status.idle": "2020-08-13T14:00:44.786165Z",
     "shell.execute_reply": "2020-08-13T14:00:44.785526Z",
     "shell.execute_reply.started": "2020-08-13T14:00:13.215591Z"
    }
   },
   "outputs": [
    {
     "name": "stdout",
     "output_type": "stream",
     "text": [
      "CPU times: user 26.1 s, sys: 198 ms, total: 26.3 s\n",
      "Wall time: 26.3 s\n"
     ]
    },
    {
     "data": {
      "text/plain": [
       "['temporal/train/2/graph.pkl']"
      ]
     },
     "execution_count": 23,
     "metadata": {},
     "output_type": "execute_result"
    }
   ],
   "source": [
    "%%time\n",
    "joblib.dump(nodepairs_train, 'temporal/train/2/nodepairs.pkl', protocol=5)\n",
    "joblib.dump(targets_train, 'temporal/train/2/targets.pkl', protocol=5)\n",
    "joblib.dump(g_train_matured, 'temporal/train/2/graph.pkl', protocol=5)"
   ]
  },
  {
   "cell_type": "code",
   "execution_count": 19,
   "metadata": {
    "execution": {
     "iopub.execute_input": "2020-08-13T13:58:33.822455Z",
     "iopub.status.busy": "2020-08-13T13:58:33.822270Z",
     "iopub.status.idle": "2020-08-13T13:58:42.706557Z",
     "shell.execute_reply": "2020-08-13T13:58:42.705821Z",
     "shell.execute_reply.started": "2020-08-13T13:58:33.822433Z"
    }
   },
   "outputs": [
    {
     "name": "stdout",
     "output_type": "stream",
     "text": [
      "5.307740e-04\n"
     ]
    }
   ],
   "source": [
    "print(f'{sum(targets_train) / len(nodepairs_train):e}')"
   ]
  },
  {
   "cell_type": "markdown",
   "metadata": {},
   "source": [
    "### Test"
   ]
  },
  {
   "cell_type": "code",
   "execution_count": 20,
   "metadata": {
    "execution": {
     "iopub.execute_input": "2020-08-13T13:58:42.707731Z",
     "iopub.status.busy": "2020-08-13T13:58:42.707562Z",
     "iopub.status.idle": "2020-08-13T13:59:38.375804Z",
     "shell.execute_reply": "2020-08-13T13:59:38.375174Z",
     "shell.execute_reply.started": "2020-08-13T13:58:42.707708Z"
    }
   },
   "outputs": [
    {
     "name": "stderr",
     "output_type": "stream",
     "text": [
      "get_distances: 100%|██████████| 6329/6329 [00:51<00:00, 122.71it/s]\n",
      "100%|██████████| 3278774/3278774 [00:01<00:00, 3158734.96it/s]"
     ]
    },
    {
     "name": "stdout",
     "output_type": "stream",
     "text": [
      "CPU times: user 55.3 s, sys: 497 ms, total: 55.8 s\n",
      "Wall time: 55.6 s\n"
     ]
    },
    {
     "name": "stderr",
     "output_type": "stream",
     "text": [
      "\n"
     ]
    }
   ],
   "source": [
    "%%time\n",
    "nodepairs_test, _ = get_distances(g_test_matured, cutoff=2)\n",
    "targets_test = [nodepair in uv_test_probe for nodepair in tqdm(nodepairs_test)]"
   ]
  },
  {
   "cell_type": "code",
   "execution_count": 21,
   "metadata": {
    "execution": {
     "iopub.execute_input": "2020-08-13T13:59:38.376946Z",
     "iopub.status.busy": "2020-08-13T13:59:38.376772Z",
     "iopub.status.idle": "2020-08-13T14:00:13.139215Z",
     "shell.execute_reply": "2020-08-13T14:00:13.138112Z",
     "shell.execute_reply.started": "2020-08-13T13:59:38.376923Z"
    }
   },
   "outputs": [
    {
     "name": "stdout",
     "output_type": "stream",
     "text": [
      "CPU times: user 34.6 s, sys: 176 ms, total: 34.8 s\n",
      "Wall time: 34.8 s\n"
     ]
    },
    {
     "data": {
      "text/plain": [
       "['temporal/test/2/graph.pkl']"
      ]
     },
     "execution_count": 21,
     "metadata": {},
     "output_type": "execute_result"
    }
   ],
   "source": [
    "%%time\n",
    "joblib.dump(nodepairs_test, 'temporal/test/2/nodepairs.pkl', protocol=5)\n",
    "joblib.dump(targets_test, 'temporal/test/2/targets.pkl', protocol=5)\n",
    "joblib.dump(g_test_matured, 'temporal/test/2/graph.pkl', protocol=5)"
   ]
  },
  {
   "cell_type": "code",
   "execution_count": 22,
   "metadata": {
    "execution": {
     "iopub.execute_input": "2020-08-13T14:00:13.140383Z",
     "iopub.status.busy": "2020-08-13T14:00:13.140207Z",
     "iopub.status.idle": "2020-08-13T14:00:13.214321Z",
     "shell.execute_reply": "2020-08-13T14:00:13.213625Z",
     "shell.execute_reply.started": "2020-08-13T14:00:13.140358Z"
    }
   },
   "outputs": [
    {
     "name": "stdout",
     "output_type": "stream",
     "text": [
      "4.736527e-04\n"
     ]
    }
   ],
   "source": [
    "print(f'{sum(targets_test) / len(nodepairs_test):e}')"
   ]
  },
  {
   "cell_type": "markdown",
   "metadata": {},
   "source": [
    "## Hyperparameter selection"
   ]
  },
  {
   "cell_type": "markdown",
   "metadata": {},
   "source": [
    "### XGBoost"
   ]
  },
  {
   "cell_type": "markdown",
   "metadata": {},
   "source": [
    "$n=2$"
   ]
  },
  {
   "cell_type": "code",
   "execution_count": 24,
   "metadata": {
    "execution": {
     "iopub.execute_input": "2020-08-13T14:01:41.541374Z",
     "iopub.status.busy": "2020-08-13T14:01:41.541028Z",
     "iopub.status.idle": "2020-08-13T14:01:41.595465Z",
     "shell.execute_reply": "2020-08-13T14:01:41.588774Z",
     "shell.execute_reply.started": "2020-08-13T14:01:41.541337Z"
    }
   },
   "outputs": [],
   "source": [
    "def get_x_y(df: pd.DataFrame): return df.drop(columns='target').values, df['target'].values\n",
    "def gridsearch(df: pd.DataFrame, random_state=1, also_random=True, max_depth=[1, 2]) -> pd.DataFrame:\n",
    "  X, y = get_x_y(df)\n",
    "  \n",
    "  \n",
    "  X_train, X_val, y_train, y_val = train_test_split(X, y, test_size=1/3, random_state=random_state)\n",
    "  clf = XGBClassifier(random_state=random_state, tree_method='hist', n_jobs=6)\n",
    "  gridsearch = GridSearchCV(\n",
    "    clf, \n",
    "    param_grid=dict(max_depth=max_depth, scale_pos_weight=[sum(~y_train)/sum(y_train), 1]), \n",
    "    scoring='average_precision', \n",
    "    n_jobs=30,\n",
    "    cv=StratifiedKFold(shuffle=True, random_state=random_state),\n",
    "    return_train_score=True\n",
    "  )\n",
    "  \n",
    "  if also_random: \n",
    "    gridsearch_random = copy.deepcopy(gridsearch)\n",
    "    np.random.seed(random_state)\n",
    "    y_random = copy.deepcopy(y_train)\n",
    "    np.random.shuffle(y_random)\n",
    "  \n",
    "  gridsearch.fit(X_train, y_train)\n",
    "  df_dict = dict(\n",
    "      mean_train=gridsearch.cv_results_['mean_train_score'],\n",
    "      std_train=gridsearch.cv_results_['std_train_score'],\n",
    "      mean_val=gridsearch.cv_results_['mean_test_score'],\n",
    "      std_val=gridsearch.cv_results_['std_test_score'],\n",
    "      val_fold0=gridsearch.cv_results_[f'split0_test_score'],\n",
    "      val_fold1=gridsearch.cv_results_[f'split1_test_score'],\n",
    "      val_fold2=gridsearch.cv_results_[f'split2_test_score'],\n",
    "      val_fold3=gridsearch.cv_results_[f'split3_test_score'],\n",
    "      val_fold4=gridsearch.cv_results_[f'split4_test_score']\n",
    "  )\n",
    "  \n",
    "  if also_random: \n",
    "    gridsearch_random.fit(X_train, y_random)\n",
    "    df_dict['mean_train_random']=gridsearch_random.cv_results_['mean_train_score']\n",
    "    df_dict['std_train_random']=gridsearch_random.cv_results_['std_train_score']\n",
    "    df_dict['mean_val_random']=gridsearch_random.cv_results_['mean_test_score']\n",
    "    df_dict['std_val_random']=gridsearch_random.cv_results_['std_test_score']\n",
    "  df = pd.DataFrame(df_dict, index=pd.Index([(d['max_depth'], d['scale_pos_weight'] > 1) for d in gridsearch.cv_results_['params']], name=('max_depth', 'balanced')))\n",
    "  df['diff_train_val'] = df['mean_val'] - df['mean_train']\n",
    "  df['rstd_test'] = df['std_val'] / df['mean_val']\n",
    "  if also_random: df['val_over_random'] = df['mean_val'] - df['mean_val_random']\n",
    "  return df.sort_values('mean_val', ascending=False)\n",
    "    \n",
    "def report_performance(df_train: pd.DataFrame, df_test: pd.DataFrame, random_state=1, max_depth=1, tree_method='hist', balanced=True, n_jobs=128):\n",
    "  X, y = get_x_y(df_train)\n",
    "  clf = XGBClassifier(max_depth=max_depth, n_jobs=128, tree_method=tree_method, scale_pos_weight=sum(~y)/sum(y) if balanced else 1 , random_state=random_state)\n",
    "  clf.fit(X, y)\n",
    "  X_test, y_test = get_x_y(df_test)\n",
    "  y_pred = clf.predict_proba(X_test)[:,1]\n",
    "  return average_precision_score(y_test, y_pred), roc_auc_score(y_test, y_pred)"
   ]
  },
  {
   "cell_type": "code",
   "execution_count": null,
   "metadata": {
    "execution": {
     "iopub.execute_input": "2020-08-13T13:25:38.417515Z",
     "iopub.status.busy": "2020-08-13T13:25:38.417206Z"
    }
   },
   "outputs": [],
   "source": [
    "hps2 = gridsearch(pd.read_pickle(f'temporal/train/2/features.pkl'))"
   ]
  },
  {
   "cell_type": "code",
   "execution_count": null,
   "metadata": {},
   "outputs": [],
   "source": [
    "hps2[['mean_test', 'diff_train_test', 'rstd_test', 'test_over_random', 'test_fold0', 'test_fold1', 'test_fold2', 'test_fold3', 'test_fold4']]"
   ]
  },
  {
   "cell_type": "code",
   "execution_count": null,
   "metadata": {},
   "outputs": [],
   "source": [
    "report_performance(df_train=pd.read_pickle(f'temp/b1/train/2/features.pkl'), df_test=pd.read_pickle(f'temp/b1/test/2/features.pkl'), balanced=False)"
   ]
  },
  {
   "cell_type": "code",
   "execution_count": null,
   "metadata": {},
   "outputs": [],
   "source": []
  }
 ],
 "metadata": {
  "kernelspec": {
   "display_name": "Python 3",
   "language": "python",
   "name": "python3"
  },
  "language_info": {
   "codemirror_mode": {
    "name": "ipython",
    "version": 3
   },
   "file_extension": ".py",
   "mimetype": "text/x-python",
   "name": "python",
   "nbconvert_exporter": "python",
   "pygments_lexer": "ipython3",
   "version": "3.8.5"
  },
  "widgets": {
   "application/vnd.jupyter.widget-state+json": {
    "state": {},
    "version_major": 2,
    "version_minor": 0
   }
  }
 },
 "nbformat": 4,
 "nbformat_minor": 4
}
