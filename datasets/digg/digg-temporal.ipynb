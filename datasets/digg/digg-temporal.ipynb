{
 "cells": [
  {
   "cell_type": "markdown",
   "metadata": {},
   "source": [
    "# Link Prediction in Condmat"
   ]
  },
  {
   "cell_type": "code",
   "execution_count": 22,
   "metadata": {
    "execution": {
     "iopub.execute_input": "2020-08-30T11:04:10.155836Z",
     "iopub.status.busy": "2020-08-30T11:04:10.155716Z",
     "iopub.status.idle": "2020-08-30T11:04:10.389456Z",
     "shell.execute_reply": "2020-08-30T11:04:10.388747Z",
     "shell.execute_reply.started": "2020-08-30T11:04:10.155820Z"
    }
   },
   "outputs": [],
   "source": [
    "from linkprediction import convert_to_set, filter_edgelist, get_distances, get_graph, giant_component, read_edges, report\n",
    "\n",
    "import joblib\n",
    "from tqdm import tqdm\n",
    "\n",
    "edges = read_edges('out.munmun_digg_reply')"
   ]
  },
  {
   "cell_type": "code",
   "execution_count": 3,
   "metadata": {
    "execution": {
     "iopub.execute_input": "2020-08-30T10:47:21.103665Z",
     "iopub.status.busy": "2020-08-30T10:47:21.103408Z",
     "iopub.status.idle": "2020-08-30T10:47:21.116744Z",
     "shell.execute_reply": "2020-08-30T10:47:21.116317Z",
     "shell.execute_reply.started": "2020-08-30T10:47:21.103638Z"
    }
   },
   "outputs": [
    {
     "name": "stdout",
     "output_type": "stream",
     "text": [
      "2008-10-28 22:32:09\n",
      "2008-11-07 09:58:33\n",
      "no_selected_edges=50001 (5.7e-01)\n"
     ]
    }
   ],
   "source": [
    "edges_train_mature = filter_edgelist(edges, stop=50000)"
   ]
  },
  {
   "cell_type": "code",
   "execution_count": 4,
   "metadata": {
    "execution": {
     "iopub.execute_input": "2020-08-30T10:47:21.329243Z",
     "iopub.status.busy": "2020-08-30T10:47:21.329122Z",
     "iopub.status.idle": "2020-08-30T10:47:21.341226Z",
     "shell.execute_reply": "2020-08-30T10:47:21.340817Z",
     "shell.execute_reply.started": "2020-08-30T10:47:21.329229Z"
    }
   },
   "outputs": [
    {
     "name": "stdout",
     "output_type": "stream",
     "text": [
      "2008-11-07 09:58:34\n",
      "2008-11-09 02:28:53\n",
      "no_selected_edges=10000 (1.1e-01)\n"
     ]
    }
   ],
   "source": [
    "edges_train_probe = filter_edgelist(edges, start=50000, stop=60000)"
   ]
  },
  {
   "cell_type": "code",
   "execution_count": 5,
   "metadata": {
    "execution": {
     "iopub.execute_input": "2020-08-30T10:47:21.529995Z",
     "iopub.status.busy": "2020-08-30T10:47:21.529885Z",
     "iopub.status.idle": "2020-08-30T10:47:21.544171Z",
     "shell.execute_reply": "2020-08-30T10:47:21.543686Z",
     "shell.execute_reply.started": "2020-08-30T10:47:21.529981Z"
    }
   },
   "outputs": [
    {
     "name": "stdout",
     "output_type": "stream",
     "text": [
      "2008-10-28 22:32:09\n",
      "2008-11-09 02:28:53\n",
      "no_selected_edges=60001 (6.8e-01)\n"
     ]
    }
   ],
   "source": [
    "edges_test_mature = filter_edgelist(edges, stop=60000)"
   ]
  },
  {
   "cell_type": "code",
   "execution_count": 6,
   "metadata": {
    "execution": {
     "iopub.execute_input": "2020-08-30T10:47:21.786382Z",
     "iopub.status.busy": "2020-08-30T10:47:21.786267Z",
     "iopub.status.idle": "2020-08-30T10:47:21.798357Z",
     "shell.execute_reply": "2020-08-30T10:47:21.797942Z",
     "shell.execute_reply.started": "2020-08-30T10:47:21.786368Z"
    }
   },
   "outputs": [
    {
     "name": "stdout",
     "output_type": "stream",
     "text": [
      "2008-11-09 02:28:54\n",
      "2008-11-10 15:57:57\n",
      "no_selected_edges=10000 (1.1e-01)\n"
     ]
    }
   ],
   "source": [
    "edges_test_probe = filter_edgelist(edges, start=60000, stop=70000)"
   ]
  },
  {
   "cell_type": "markdown",
   "metadata": {},
   "source": [
    "## Set-up\n",
    "Choose here the parameters on how you want to define the learn and assessing phase."
   ]
  },
  {
   "cell_type": "code",
   "execution_count": 7,
   "metadata": {
    "execution": {
     "iopub.execute_input": "2020-08-30T10:47:31.013082Z",
     "iopub.status.busy": "2020-08-30T10:47:31.012945Z",
     "iopub.status.idle": "2020-08-30T10:47:31.613249Z",
     "shell.execute_reply": "2020-08-30T10:47:31.612750Z",
     "shell.execute_reply.started": "2020-08-30T10:47:31.013067Z"
    }
   },
   "outputs": [],
   "source": [
    "g_train_matured = giant_component(get_graph(edges_train_mature))\n",
    "uv_train_probe = convert_to_set(edges_train_probe)"
   ]
  },
  {
   "cell_type": "code",
   "execution_count": 8,
   "metadata": {
    "execution": {
     "iopub.execute_input": "2020-08-30T10:47:32.466197Z",
     "iopub.status.busy": "2020-08-30T10:47:32.466077Z",
     "iopub.status.idle": "2020-08-30T10:49:27.879064Z",
     "shell.execute_reply": "2020-08-30T10:49:27.878454Z",
     "shell.execute_reply.started": "2020-08-30T10:47:32.466182Z"
    }
   },
   "outputs": [
    {
     "name": "stdout",
     "output_type": "stream",
     "text": [
      "Number of probes: 9908\n",
      "- already edge: 60 (1%)\n",
      "- both nodes in graph: 3126 (32%)\n",
      "- not in graph: 3896 (39%)\n"
     ]
    }
   ],
   "source": [
    "report(graph=g_train_matured, probes=uv_train_probe)"
   ]
  },
  {
   "cell_type": "code",
   "execution_count": 9,
   "metadata": {
    "execution": {
     "iopub.execute_input": "2020-08-30T10:49:27.880136Z",
     "iopub.status.busy": "2020-08-30T10:49:27.880012Z",
     "iopub.status.idle": "2020-08-30T10:49:28.719537Z",
     "shell.execute_reply": "2020-08-30T10:49:28.718933Z",
     "shell.execute_reply.started": "2020-08-30T10:49:27.880120Z"
    }
   },
   "outputs": [],
   "source": [
    "g_test_matured = giant_component(get_graph(edges_test_mature))\n",
    "uv_test_probe = convert_to_set(edges_test_probe)"
   ]
  },
  {
   "cell_type": "code",
   "execution_count": 10,
   "metadata": {
    "execution": {
     "iopub.execute_input": "2020-08-30T10:49:28.720687Z",
     "iopub.status.busy": "2020-08-30T10:49:28.720499Z",
     "iopub.status.idle": "2020-08-30T10:52:10.958704Z",
     "shell.execute_reply": "2020-08-30T10:52:10.958046Z",
     "shell.execute_reply.started": "2020-08-30T10:49:28.720669Z"
    }
   },
   "outputs": [
    {
     "name": "stdout",
     "output_type": "stream",
     "text": [
      "Number of probes: 9918\n",
      "- already edge: 80 (1%)\n",
      "- both nodes in graph: 3260 (33%)\n",
      "- not in graph: 3726 (38%)\n"
     ]
    }
   ],
   "source": [
    "report(graph=g_test_matured, probes=uv_test_probe)"
   ]
  },
  {
   "cell_type": "markdown",
   "metadata": {},
   "source": [
    "## Export"
   ]
  },
  {
   "cell_type": "code",
   "execution_count": 15,
   "metadata": {
    "execution": {
     "iopub.execute_input": "2020-08-30T10:57:03.393192Z",
     "iopub.status.busy": "2020-08-30T10:57:03.392941Z",
     "iopub.status.idle": "2020-08-30T10:57:03.531772Z",
     "shell.execute_reply": "2020-08-30T10:57:03.530825Z",
     "shell.execute_reply.started": "2020-08-30T10:57:03.393163Z"
    }
   },
   "outputs": [],
   "source": [
    "!mkdir -p temporal/{train,test}/2"
   ]
  },
  {
   "cell_type": "markdown",
   "metadata": {},
   "source": [
    "### Train"
   ]
  },
  {
   "cell_type": "code",
   "execution_count": 23,
   "metadata": {
    "execution": {
     "iopub.execute_input": "2020-08-30T11:04:10.390568Z",
     "iopub.status.busy": "2020-08-30T11:04:10.390447Z",
     "iopub.status.idle": "2020-08-30T11:04:37.822660Z",
     "shell.execute_reply": "2020-08-30T11:04:37.821856Z",
     "shell.execute_reply.started": "2020-08-30T11:04:10.390551Z"
    }
   },
   "outputs": [
    {
     "name": "stderr",
     "output_type": "stream",
     "text": [
      "get_distances: 100%|██████████| 20981/20981 [00:11<00:00, 1858.00it/s]\n",
      "100%|██████████| 1715286/1715286 [00:00<00:00, 3127370.30it/s]\n"
     ]
    },
    {
     "name": "stdout",
     "output_type": "stream",
     "text": [
      "1.848088e-04\n",
      "CPU times: user 27.3 s, sys: 170 ms, total: 27.5 s\n",
      "Wall time: 27.4 s\n"
     ]
    }
   ],
   "source": [
    "%%time\n",
    "nodepairs_train, _ = get_distances(g_train_matured, cutoff=2)\n",
    "targets_train = [nodepair in uv_train_probe for nodepair in tqdm(nodepairs_train)]\n",
    "\n",
    "joblib.dump(nodepairs_train, 'temporal/train/2/nodepairs.pkl', protocol=5)\n",
    "joblib.dump(targets_train, 'temporal/train/2/target.pkl', protocol=5)\n",
    "joblib.dump(g_train_matured, 'temporal/train/2/graph.pkl', protocol=5)\n",
    "\n",
    "print(f'{sum(targets_train) / len(nodepairs_train):e}')"
   ]
  },
  {
   "cell_type": "markdown",
   "metadata": {},
   "source": [
    "### Test"
   ]
  },
  {
   "cell_type": "code",
   "execution_count": 24,
   "metadata": {
    "execution": {
     "iopub.execute_input": "2020-08-30T11:04:37.823892Z",
     "iopub.status.busy": "2020-08-30T11:04:37.823762Z",
     "iopub.status.idle": "2020-08-30T11:05:20.636273Z",
     "shell.execute_reply": "2020-08-30T11:05:20.635515Z",
     "shell.execute_reply.started": "2020-08-30T11:04:37.823875Z"
    }
   },
   "outputs": [
    {
     "name": "stderr",
     "output_type": "stream",
     "text": [
      "get_distances: 100%|██████████| 23451/23451 [00:19<00:00, 1192.70it/s]\n",
      "100%|██████████| 2321450/2321450 [00:00<00:00, 3232187.22it/s]\n"
     ]
    },
    {
     "name": "stdout",
     "output_type": "stream",
     "text": [
      "1.813522e-04\n",
      "CPU times: user 42.6 s, sys: 265 ms, total: 42.9 s\n",
      "Wall time: 42.8 s\n"
     ]
    }
   ],
   "source": [
    "%%time\n",
    "nodepairs_test, _ = get_distances(g_test_matured, cutoff=2)\n",
    "targets_test = [nodepair in uv_test_probe for nodepair in tqdm(nodepairs_test)]\n",
    "\n",
    "joblib.dump(nodepairs_test, 'temporal/test/2/nodepairs.pkl', protocol=5)\n",
    "joblib.dump(targets_test, 'temporal/test/2/target.pkl', protocol=5)\n",
    "joblib.dump(g_test_matured, 'temporal/test/2/graph.pkl', protocol=5)\n",
    "\n",
    "print(f'{sum(targets_test) / len(nodepairs_test):e}')"
   ]
  },
  {
   "cell_type": "markdown",
   "metadata": {},
   "source": [
    "## Hyperparameter selection"
   ]
  },
  {
   "cell_type": "markdown",
   "metadata": {},
   "source": [
    "### XGBoost"
   ]
  },
  {
   "cell_type": "markdown",
   "metadata": {},
   "source": [
    "$n=2$"
   ]
  },
  {
   "cell_type": "code",
   "execution_count": null,
   "metadata": {},
   "outputs": [],
   "source": [
    "def get_x_y(df: pd.DataFrame): return df.drop(columns='target').values, df['target'].values\n",
    "def gridsearch(df: pd.DataFrame, random_state=1, also_random=True, max_depth=[1, 2]) -> pd.DataFrame:\n",
    "  X, y = get_x_y(df)\n",
    "  \n",
    "  \n",
    "  X_train, X_val, y_train, y_val = train_test_split(X, y, test_size=1/3, random_state=random_state)\n",
    "  clf = XGBClassifier(random_state=random_state, tree_method='hist', n_jobs=6)\n",
    "  gridsearch = GridSearchCV(\n",
    "    clf, \n",
    "    param_grid=dict(max_depth=max_depth, scale_pos_weight=[sum(~y_train)/sum(y_train), 1]), \n",
    "    scoring='average_precision', \n",
    "    n_jobs=30,\n",
    "    cv=StratifiedKFold(shuffle=True, random_state=random_state),\n",
    "    return_train_score=True\n",
    "  )\n",
    "  \n",
    "  if also_random: \n",
    "    gridsearch_random = copy.deepcopy(gridsearch)\n",
    "    np.random.seed(random_state)\n",
    "    y_random = copy.deepcopy(y_train)\n",
    "    np.random.shuffle(y_random)\n",
    "  \n",
    "  gridsearch.fit(X_train, y_train)\n",
    "  df_dict = dict(\n",
    "      mean_train=gridsearch.cv_results_['mean_train_score'],\n",
    "      std_train=gridsearch.cv_results_['std_train_score'],\n",
    "      mean_val=gridsearch.cv_results_['mean_test_score'],\n",
    "      std_val=gridsearch.cv_results_['std_test_score'],\n",
    "      val_fold0=gridsearch.cv_results_[f'split0_test_score'],\n",
    "      val_fold1=gridsearch.cv_results_[f'split1_test_score'],\n",
    "      val_fold2=gridsearch.cv_results_[f'split2_test_score'],\n",
    "      val_fold3=gridsearch.cv_results_[f'split3_test_score'],\n",
    "      val_fold4=gridsearch.cv_results_[f'split4_test_score']\n",
    "  )\n",
    "  \n",
    "  if also_random: \n",
    "    gridsearch_random.fit(X_train, y_random)\n",
    "    df_dict['mean_train_random']=gridsearch_random.cv_results_['mean_train_score']\n",
    "    df_dict['std_train_random']=gridsearch_random.cv_results_['std_train_score']\n",
    "    df_dict['mean_val_random']=gridsearch_random.cv_results_['mean_test_score']\n",
    "    df_dict['std_val_random']=gridsearch_random.cv_results_['std_test_score']\n",
    "  df = pd.DataFrame(df_dict, index=pd.Index([(d['max_depth'], d['scale_pos_weight'] > 1) for d in gridsearch.cv_results_['params']], name=('max_depth', 'balanced')))\n",
    "  df['diff_train_val'] = df['mean_val'] - df['mean_train']\n",
    "  df['rstd_test'] = df['std_val'] / df['mean_val']\n",
    "  if also_random: df['val_over_random'] = df['mean_val'] - df['mean_val_random']\n",
    "  return df.sort_values('mean_val', ascending=False)\n",
    "    \n",
    "def report_performance(df_train: pd.DataFrame, df_test: pd.DataFrame, random_state=1, max_depth=1, tree_method='hist', balanced=True, n_jobs=128):\n",
    "  X, y = get_x_y(df_train)\n",
    "  clf = XGBClassifier(max_depth=max_depth, n_jobs=128, tree_method=tree_method, scale_pos_weight=sum(~y)/sum(y) if balanced else 1 , random_state=random_state)\n",
    "  clf.fit(X, y)\n",
    "  X_test, y_test = get_x_y(df_test)\n",
    "  y_pred = clf.predict_proba(X_test)[:,1]\n",
    "  return average_precision_score(y_test, y_pred), roc_auc_score(y_test, y_pred)"
   ]
  },
  {
   "cell_type": "code",
   "execution_count": null,
   "metadata": {},
   "outputs": [],
   "source": [
    "hps2 = gridsearch(pd.read_pickle(f'temporal/train/2/features.pkl'))"
   ]
  },
  {
   "cell_type": "code",
   "execution_count": null,
   "metadata": {},
   "outputs": [],
   "source": [
    "hps2[['mean_test', 'diff_train_test', 'rstd_test', 'test_over_random', 'test_fold0', 'test_fold1', 'test_fold2', 'test_fold3', 'test_fold4']]"
   ]
  },
  {
   "cell_type": "code",
   "execution_count": null,
   "metadata": {},
   "outputs": [],
   "source": [
    "report_performance(df_train=pd.read_pickle(f'temp/b1/train/2/features.pkl'), df_test=pd.read_pickle(f'temp/b1/test/2/features.pkl'), balanced=False)"
   ]
  },
  {
   "cell_type": "code",
   "execution_count": null,
   "metadata": {},
   "outputs": [],
   "source": []
  }
 ],
 "metadata": {
  "kernelspec": {
   "display_name": "Python 3",
   "language": "python",
   "name": "python3"
  },
  "language_info": {
   "codemirror_mode": {
    "name": "ipython",
    "version": 3
   },
   "file_extension": ".py",
   "mimetype": "text/x-python",
   "name": "python",
   "nbconvert_exporter": "python",
   "pygments_lexer": "ipython3",
   "version": "3.8.5"
  },
  "widgets": {
   "application/vnd.jupyter.widget-state+json": {
    "state": {},
    "version_major": 2,
    "version_minor": 0
   }
  }
 },
 "nbformat": 4,
 "nbformat_minor": 4
}
