{
 "cells": [
  {
   "cell_type": "code",
   "execution_count": 7,
   "metadata": {
    "execution": {
     "iopub.execute_input": "2020-08-13T13:53:04.006712Z",
     "iopub.status.busy": "2020-08-13T13:53:04.006497Z",
     "iopub.status.idle": "2020-08-13T13:53:04.519663Z",
     "shell.execute_reply": "2020-08-13T13:53:04.518738Z",
     "shell.execute_reply.started": "2020-08-13T13:53:04.006693Z"
    }
   },
   "outputs": [],
   "source": [
    "import datetime\n",
    "import os\n",
    "\n",
    "import pandas as pd\n",
    "\n",
    "def read_edges(file: str, sep=' ') -> pd.DataFrame:\n",
    "  d = pd.read_csv(file, sep, skiprows=1, names=['source', 'target', 'weight', 'date'])\n",
    "  d['date'] = d['date'].apply(datetime.datetime.fromtimestamp)\n",
    "  d.sort_values(by='date', inplace=True)\n",
    "  return d.loc[:, ['source', 'target', 'date']]"
   ]
  },
  {
   "cell_type": "code",
   "execution_count": 16,
   "metadata": {
    "execution": {
     "iopub.execute_input": "2020-08-13T13:55:07.020925Z",
     "iopub.status.busy": "2020-08-13T13:55:07.020741Z",
     "iopub.status.idle": "2020-08-13T13:55:07.026168Z",
     "shell.execute_reply": "2020-08-13T13:55:07.025686Z",
     "shell.execute_reply.started": "2020-08-13T13:55:07.020905Z"
    }
   },
   "outputs": [
    {
     "data": {
      "text/plain": [
       "['askubuntu/out.sx-askubuntu',\n",
       " 'bibsonomy/out.bibsonomy-2ui',\n",
       " 'digg/out.munmun_digg_reply',\n",
       " 'edit-enwiki/out.edit-enwiki',\n",
       " 'enron/out.enron',\n",
       " 'internet/out.topology',\n",
       " 'slashdot/out.slashdot-threads',\n",
       " 'stackexchange/out.stackexchange-stackoverflow']"
      ]
     },
     "execution_count": 16,
     "metadata": {},
     "output_type": "execute_result"
    }
   ],
   "source": [
    "files = [folder + '/' + file for folder in sorted(os.listdir('.')) if not folder.endswith('.ipynb') for file in os.listdir(folder) if file.startswith('out')]\n",
    "files"
   ]
  },
  {
   "cell_type": "code",
   "execution_count": null,
   "metadata": {
    "execution": {
     "iopub.execute_input": "2020-08-13T13:55:50.214016Z",
     "iopub.status.busy": "2020-08-13T13:55:50.213620Z"
    }
   },
   "outputs": [
    {
     "name": "stdout",
     "output_type": "stream",
     "text": [
      "askubuntu/out.sx-askubuntu: Number of edges: 9.6e+05\n",
      "bibsonomy/out.bibsonomy-2ui: Number of edges: 2.6e+06\n",
      "digg/out.munmun_digg_reply: Number of edges: 8.8e+04\n"
     ]
    }
   ],
   "source": [
    "for file in files:\n",
    "  try:\n",
    "    edges = read_edges(file)\n",
    "  except:\n",
    "    edges = read_edges(file, sep='\\t')\n",
    "  print(f'{file}: Number of edges: {len(edges):.1e}')"
   ]
  },
  {
   "cell_type": "code",
   "execution_count": null,
   "metadata": {},
   "outputs": [],
   "source": []
  }
 ],
 "metadata": {
  "kernelspec": {
   "display_name": "Python 3",
   "language": "python",
   "name": "python3"
  },
  "language_info": {
   "codemirror_mode": {
    "name": "ipython",
    "version": 3
   },
   "file_extension": ".py",
   "mimetype": "text/x-python",
   "name": "python",
   "nbconvert_exporter": "python",
   "pygments_lexer": "ipython3",
   "version": "3.8.5"
  },
  "widgets": {
   "application/vnd.jupyter.widget-state+json": {
    "state": {},
    "version_major": 2,
    "version_minor": 0
   }
  }
 },
 "nbformat": 4,
 "nbformat_minor": 4
}
