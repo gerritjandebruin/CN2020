{
 "cells": [
  {
   "cell_type": "markdown",
   "metadata": {},
   "source": [
    "# Link Prediction in Condmat"
   ]
  },
  {
   "cell_type": "code",
   "execution_count": 1,
   "metadata": {
    "execution": {
     "iopub.execute_input": "2020-08-13T13:56:55.295146Z",
     "iopub.status.busy": "2020-08-13T13:56:55.295003Z",
     "iopub.status.idle": "2020-08-13T13:56:56.433696Z",
     "shell.execute_reply": "2020-08-13T13:56:56.433032Z",
     "shell.execute_reply.started": "2020-08-13T13:56:55.295125Z"
    }
   },
   "outputs": [],
   "source": [
    "import collections\n",
    "import copy\n",
    "import datetime\n",
    "import itertools\n",
    "import math\n",
    "from typing import List, Any, Dict, Tuple\n",
    "\n",
    "import joblib\n",
    "import matplotlib.pyplot as plt\n",
    "import networkx as nx\n",
    "import numpy as np\n",
    "import pandas as pd\n",
    "import plotly.express as px\n",
    "import plotly.figure_factory as ff\n",
    "import plotly.graph_objects as go\n",
    "from sklearn.preprocessing import minmax_scale\n",
    "from sklearn.metrics import precision_recall_curve, average_precision_score, roc_auc_score\n",
    "from sklearn.metrics import roc_curve, auc\n",
    "from sklearn.model_selection import StratifiedKFold, cross_validate, GridSearchCV, train_test_split\n",
    "import seaborn as sns\n",
    "from tqdm import tqdm\n",
    "from xgboost import XGBClassifier\n",
    "\n",
    "# Typing\n",
    "NodePair = Tuple[int, int]\n",
    "Edge = List[Tuple[int, int, Dict['date', datetime.datetime]]]\n",
    "\n",
    "folder = '/local/bruingjde/complexnetworks2020-experiment/temp/en-a1'"
   ]
  },
  {
   "cell_type": "code",
   "execution_count": 6,
   "metadata": {
    "execution": {
     "iopub.execute_input": "2020-08-13T13:57:26.782018Z",
     "iopub.status.busy": "2020-08-13T13:57:26.781638Z",
     "iopub.status.idle": "2020-08-13T13:57:33.664675Z",
     "shell.execute_reply": "2020-08-13T13:57:33.663754Z",
     "shell.execute_reply.started": "2020-08-13T13:57:26.781965Z"
    }
   },
   "outputs": [],
   "source": [
    "def read_edges(file: str, sep=' ') -> pd.DataFrame:\n",
    "  d = pd.read_csv(file, sep, skiprows=1, names=['source', 'target', 'weight', 'date'])\n",
    "  d['date'] = d['date'].apply(datetime.datetime.fromtimestamp)\n",
    "  d.sort_values(by='date', inplace=True)\n",
    "  return d.loc[:, ['source', 'target', 'date']]\n",
    "def filter_edgelist(edges: pd.DataFrame, start=0, stop=1, verbose=True) -> pd.DataFrame: \n",
    "  \"\"\"Filter edgelist.  If start/ stop is float, start/stop from the fraction of total edges. If datetime, this is used.\"\"\" \n",
    "  no_edges = len(edges)\n",
    "  if start != 0:\n",
    "    if type(start) is float:\n",
    "      assert 0 < start < 1\n",
    "      start = int(start*no_edges)\n",
    "    if type(start) is int: start = edges.iloc[start]['date']\n",
    "    start = start + datetime.timedelta(seconds=1)\n",
    "  else: start = edges['date'].min()\n",
    "  if verbose: print(start)\n",
    "  \n",
    "  if stop != 1:\n",
    "    if type(stop) is float:\n",
    "      assert 0 < stop < 1\n",
    "      stop = math.floor(stop*no_edges)-1\n",
    "    if type(stop) is int: stop = edges.iloc[stop]['date']\n",
    "  else: stop = edges['date'].max()\n",
    "  if verbose: print(stop)\n",
    "  \n",
    "  mask = (edges['date'] >= start) & (edges['date'] <= stop)\n",
    "  if verbose: \n",
    "    no_selected_edges = sum(mask)\n",
    "    print(f'{no_selected_edges=} ({no_selected_edges/len(edges):.1e})')\n",
    "\n",
    "  return edges.loc[mask]\n",
    "def convert_to_set(edges: pd.DataFrame) -> List[NodePair]: return {edge for edge in edges.loc[:, ['source', 'target']].itertuples(index=False, name=None)}\n",
    "def get_graph(edgelist: pd.DataFrame) -> nx.Graph:\n",
    "  \"\"\"Add edge to graph. Contains edge attribute weight.\"\"\"\n",
    "  g = nx.Graph()\n",
    "  \n",
    "  for u, v, _ in edgelist.itertuples(index=False, name=None):\n",
    "    weight = g[u][v][\"weight\"]+1 if g.has_edge(u,v) else 1\n",
    "    g.add_edge(u, v, weight=weight)\n",
    "  \n",
    "  return g\n",
    "def giant_component(graph: nx.Graph) -> nx.Graph: return graph.subgraph(max(nx.connected_components(graph), key=len)).copy()\n",
    "def report(graph:nx.Graph, probes: Tuple[int, int]):\n",
    "  n = len(probes)\n",
    "  print(f\"Number of probes: {n}\")\n",
    "  a = sum([graph.has_edge(u, v) for u, v in probes])\n",
    "  print(f\"- already edge: {a} ({a/n:.0%})\")\n",
    "  non_edges = set(nx.non_edges(graph))\n",
    "  ne = sum([np in non_edges for np in probes])\n",
    "  print(f\"- both nodes in graph: {ne} ({ne/n:.0%})\")\n",
    "  ng = sum([not (graph.has_node(u) and graph.has_node(v)) for u, v in probes])\n",
    "  print(f\"- not in graph: {ng} ({ng/n:.0%})\")\n",
    "def get_distances(graph: nx.Graph, cutoff: int = None) -> (List[NodePair], List[int]):\n",
    "  \"\"\"\n",
    "  Get all non-edges using BFS. When cutoff provided, consider only node pairs with at most this distance.\n",
    "  Returns:\n",
    "  - nodepairs: tuple containing all nodepairs\n",
    "  - distances: tuple containing all distances\n",
    "  \"\"\"\n",
    "  return zip(\n",
    "    *[\n",
    "      ((u, v), distance)\n",
    "      for u, (nbs_u, _) in tqdm(nx.all_pairs_dijkstra(graph, cutoff, weight=None), total=len(graph), desc=\"get_distances\")\n",
    "      for v, distance in nbs_u.items() if distance > 1 and (cutoff is None or distance <= cutoff) \n",
    "    ]\n",
    "  )"
   ]
  },
  {
   "cell_type": "code",
   "execution_count": 7,
   "metadata": {
    "execution": {
     "iopub.execute_input": "2020-08-13T13:57:33.665954Z",
     "iopub.status.busy": "2020-08-13T13:57:33.665768Z",
     "iopub.status.idle": "2020-08-13T13:57:34.576400Z",
     "shell.execute_reply": "2020-08-13T13:57:34.575477Z",
     "shell.execute_reply.started": "2020-08-13T13:57:33.665924Z"
    }
   },
   "outputs": [],
   "source": [
    "edges = read_edges('out.sx-askubuntu', sep='\\t')"
   ]
  },
  {
   "cell_type": "code",
   "execution_count": 8,
   "metadata": {
    "execution": {
     "iopub.execute_input": "2020-08-13T13:57:34.577890Z",
     "iopub.status.busy": "2020-08-13T13:57:34.577715Z",
     "iopub.status.idle": "2020-08-13T13:57:34.582256Z",
     "shell.execute_reply": "2020-08-13T13:57:34.581381Z",
     "shell.execute_reply.started": "2020-08-13T13:57:34.577867Z"
    }
   },
   "outputs": [
    {
     "name": "stdout",
     "output_type": "stream",
     "text": [
      "Number of edges: 9.6e+05\n"
     ]
    }
   ],
   "source": [
    "print(f'Number of edges: {len(edges):.1e}')"
   ]
  },
  {
   "cell_type": "code",
   "execution_count": 9,
   "metadata": {
    "execution": {
     "iopub.execute_input": "2020-08-13T13:57:34.583315Z",
     "iopub.status.busy": "2020-08-13T13:57:34.583145Z",
     "iopub.status.idle": "2020-08-13T13:57:34.747251Z",
     "shell.execute_reply": "2020-08-13T13:57:34.746269Z",
     "shell.execute_reply.started": "2020-08-13T13:57:34.583294Z"
    }
   },
   "outputs": [
    {
     "name": "stdout",
     "output_type": "stream",
     "text": [
      "2009-01-08 17:20:07\n",
      "2011-05-02 02:56:55\n",
      "no_selected_edges=50001 (5.2e-02)\n"
     ]
    }
   ],
   "source": [
    "edges_train_mature = filter_edgelist(edges, stop=50000)"
   ]
  },
  {
   "cell_type": "code",
   "execution_count": 10,
   "metadata": {
    "execution": {
     "iopub.execute_input": "2020-08-13T13:57:34.748299Z",
     "iopub.status.busy": "2020-08-13T13:57:34.748109Z",
     "iopub.status.idle": "2020-08-13T13:57:35.038149Z",
     "shell.execute_reply": "2020-08-13T13:57:35.037176Z",
     "shell.execute_reply.started": "2020-08-13T13:57:34.748276Z"
    }
   },
   "outputs": [
    {
     "name": "stdout",
     "output_type": "stream",
     "text": [
      "2011-05-02 02:56:56\n",
      "2011-06-02 20:45:57\n",
      "no_selected_edges=10000 (1.0e-02)\n"
     ]
    }
   ],
   "source": [
    "edges_train_probe = filter_edgelist(edges, start=50000, stop=60000)"
   ]
  },
  {
   "cell_type": "code",
   "execution_count": 11,
   "metadata": {
    "execution": {
     "iopub.execute_input": "2020-08-13T13:57:35.039193Z",
     "iopub.status.busy": "2020-08-13T13:57:35.039008Z",
     "iopub.status.idle": "2020-08-13T13:57:35.169570Z",
     "shell.execute_reply": "2020-08-13T13:57:35.168633Z",
     "shell.execute_reply.started": "2020-08-13T13:57:35.039169Z"
    }
   },
   "outputs": [
    {
     "name": "stdout",
     "output_type": "stream",
     "text": [
      "2009-01-08 17:20:07\n",
      "2011-06-02 20:45:57\n",
      "no_selected_edges=60001 (6.2e-02)\n"
     ]
    }
   ],
   "source": [
    "edges_test_mature = filter_edgelist(edges, stop=60000)"
   ]
  },
  {
   "cell_type": "code",
   "execution_count": 12,
   "metadata": {
    "execution": {
     "iopub.execute_input": "2020-08-13T13:57:35.170605Z",
     "iopub.status.busy": "2020-08-13T13:57:35.170420Z",
     "iopub.status.idle": "2020-08-13T13:57:35.287125Z",
     "shell.execute_reply": "2020-08-13T13:57:35.286273Z",
     "shell.execute_reply.started": "2020-08-13T13:57:35.170583Z"
    }
   },
   "outputs": [
    {
     "name": "stdout",
     "output_type": "stream",
     "text": [
      "2011-06-02 20:45:58\n",
      "2011-07-19 07:09:40\n",
      "no_selected_edges=10000 (1.0e-02)\n"
     ]
    }
   ],
   "source": [
    "edges_test_probe = filter_edgelist(edges, start=60000, stop=70000)"
   ]
  },
  {
   "cell_type": "markdown",
   "metadata": {},
   "source": [
    "## Set-up\n",
    "Choose here the parameters on how you want to define the learn and assessing phase."
   ]
  },
  {
   "cell_type": "code",
   "execution_count": 13,
   "metadata": {
    "execution": {
     "iopub.execute_input": "2020-08-13T13:57:35.288625Z",
     "iopub.status.busy": "2020-08-13T13:57:35.288450Z",
     "iopub.status.idle": "2020-08-13T13:57:35.986059Z",
     "shell.execute_reply": "2020-08-13T13:57:35.985215Z",
     "shell.execute_reply.started": "2020-08-13T13:57:35.288601Z"
    }
   },
   "outputs": [],
   "source": [
    "g_train_matured = giant_component(get_graph(edges_train_mature))\n",
    "uv_train_probe = convert_to_set(edges_train_probe)"
   ]
  },
  {
   "cell_type": "code",
   "execution_count": 14,
   "metadata": {
    "execution": {
     "iopub.execute_input": "2020-08-13T13:57:40.374520Z",
     "iopub.status.busy": "2020-08-13T13:57:40.374288Z",
     "iopub.status.idle": "2020-08-13T13:57:45.560057Z",
     "shell.execute_reply": "2020-08-13T13:57:45.559066Z",
     "shell.execute_reply.started": "2020-08-13T13:57:40.374498Z"
    }
   },
   "outputs": [
    {
     "name": "stdout",
     "output_type": "stream",
     "text": [
      "Number of probes: 7195\n",
      "- already edge: 673 (9%)\n",
      "- both nodes in graph: 1160 (16%)\n",
      "- not in graph: 4126 (57%)\n"
     ]
    }
   ],
   "source": [
    "report(graph=g_train_matured, probes=uv_train_probe)"
   ]
  },
  {
   "cell_type": "code",
   "execution_count": 15,
   "metadata": {
    "execution": {
     "iopub.execute_input": "2020-08-13T13:57:45.561295Z",
     "iopub.status.busy": "2020-08-13T13:57:45.561119Z",
     "iopub.status.idle": "2020-08-13T13:57:48.571995Z",
     "shell.execute_reply": "2020-08-13T13:57:48.570803Z",
     "shell.execute_reply.started": "2020-08-13T13:57:45.561271Z"
    }
   },
   "outputs": [],
   "source": [
    "g_test_matured = giant_component(get_graph(edges_test_mature))\n",
    "uv_test_probe = convert_to_set(edges_test_probe)"
   ]
  },
  {
   "cell_type": "code",
   "execution_count": 16,
   "metadata": {
    "execution": {
     "iopub.execute_input": "2020-08-13T13:57:48.574012Z",
     "iopub.status.busy": "2020-08-13T13:57:48.573831Z",
     "iopub.status.idle": "2020-08-13T13:57:57.022863Z",
     "shell.execute_reply": "2020-08-13T13:57:57.021898Z",
     "shell.execute_reply.started": "2020-08-13T13:57:48.573989Z"
    }
   },
   "outputs": [
    {
     "name": "stdout",
     "output_type": "stream",
     "text": [
      "Number of probes: 6938\n",
      "- already edge: 908 (13%)\n",
      "- both nodes in graph: 1278 (18%)\n",
      "- not in graph: 3379 (49%)\n"
     ]
    }
   ],
   "source": [
    "report(graph=g_test_matured, probes=uv_test_probe)"
   ]
  },
  {
   "cell_type": "markdown",
   "metadata": {},
   "source": [
    "## Export"
   ]
  },
  {
   "cell_type": "markdown",
   "metadata": {},
   "source": [
    "### Train"
   ]
  },
  {
   "cell_type": "code",
   "execution_count": 17,
   "metadata": {
    "execution": {
     "iopub.execute_input": "2020-08-13T13:57:57.024097Z",
     "iopub.status.busy": "2020-08-13T13:57:57.023903Z",
     "iopub.status.idle": "2020-08-13T13:58:33.809374Z",
     "shell.execute_reply": "2020-08-13T13:58:33.808712Z",
     "shell.execute_reply.started": "2020-08-13T13:57:57.024075Z"
    }
   },
   "outputs": [
    {
     "name": "stderr",
     "output_type": "stream",
     "text": [
      "get_distances: 100%|██████████| 4953/4953 [00:33<00:00, 147.25it/s]\n",
      "100%|██████████| 2483166/2483166 [00:00<00:00, 3069599.18it/s]\n"
     ]
    }
   ],
   "source": [
    "nodepairs_train, _ = get_distances(g_train_matured, cutoff=2)\n",
    "targets_train = [nodepair in uv_train_probe for nodepair in tqdm(nodepairs_train)]"
   ]
  },
  {
   "cell_type": "code",
   "execution_count": 23,
   "metadata": {
    "execution": {
     "iopub.execute_input": "2020-08-13T14:00:13.215614Z",
     "iopub.status.busy": "2020-08-13T14:00:13.215450Z",
     "iopub.status.idle": "2020-08-13T14:00:44.786165Z",
     "shell.execute_reply": "2020-08-13T14:00:44.785526Z",
     "shell.execute_reply.started": "2020-08-13T14:00:13.215591Z"
    }
   },
   "outputs": [
    {
     "name": "stdout",
     "output_type": "stream",
     "text": [
      "CPU times: user 26.1 s, sys: 198 ms, total: 26.3 s\n",
      "Wall time: 26.3 s\n"
     ]
    },
    {
     "data": {
      "text/plain": [
       "['temporal/train/2/graph.pkl']"
      ]
     },
     "execution_count": 23,
     "metadata": {},
     "output_type": "execute_result"
    }
   ],
   "source": [
    "%%time\n",
    "joblib.dump(nodepairs_train, 'temporal/train/2/nodepairs.pkl', protocol=5)\n",
    "joblib.dump(targets_train, 'temporal/train/2/targets.pkl', protocol=5)\n",
    "joblib.dump(g_train_matured, 'temporal/train/2/graph.pkl', protocol=5)"
   ]
  },
  {
   "cell_type": "code",
   "execution_count": 19,
   "metadata": {
    "execution": {
     "iopub.execute_input": "2020-08-13T13:58:33.822455Z",
     "iopub.status.busy": "2020-08-13T13:58:33.822270Z",
     "iopub.status.idle": "2020-08-13T13:58:42.706557Z",
     "shell.execute_reply": "2020-08-13T13:58:42.705821Z",
     "shell.execute_reply.started": "2020-08-13T13:58:33.822433Z"
    }
   },
   "outputs": [
    {
     "name": "stdout",
     "output_type": "stream",
     "text": [
      "5.307740e-04\n"
     ]
    }
   ],
   "source": [
    "print(f'{sum(targets_train) / len(nodepairs_train):e}')"
   ]
  },
  {
   "cell_type": "markdown",
   "metadata": {},
   "source": [
    "### Test"
   ]
  },
  {
   "cell_type": "code",
   "execution_count": 20,
   "metadata": {
    "execution": {
     "iopub.execute_input": "2020-08-13T13:58:42.707731Z",
     "iopub.status.busy": "2020-08-13T13:58:42.707562Z",
     "iopub.status.idle": "2020-08-13T13:59:38.375804Z",
     "shell.execute_reply": "2020-08-13T13:59:38.375174Z",
     "shell.execute_reply.started": "2020-08-13T13:58:42.707708Z"
    }
   },
   "outputs": [
    {
     "name": "stderr",
     "output_type": "stream",
     "text": [
      "get_distances: 100%|██████████| 6329/6329 [00:51<00:00, 122.71it/s]\n",
      "100%|██████████| 3278774/3278774 [00:01<00:00, 3158734.96it/s]"
     ]
    },
    {
     "name": "stdout",
     "output_type": "stream",
     "text": [
      "CPU times: user 55.3 s, sys: 497 ms, total: 55.8 s\n",
      "Wall time: 55.6 s\n"
     ]
    },
    {
     "name": "stderr",
     "output_type": "stream",
     "text": [
      "\n"
     ]
    }
   ],
   "source": [
    "%%time\n",
    "nodepairs_test, _ = get_distances(g_test_matured, cutoff=2)\n",
    "targets_test = [nodepair in uv_test_probe for nodepair in tqdm(nodepairs_test)]"
   ]
  },
  {
   "cell_type": "code",
   "execution_count": 21,
   "metadata": {
    "execution": {
     "iopub.execute_input": "2020-08-13T13:59:38.376946Z",
     "iopub.status.busy": "2020-08-13T13:59:38.376772Z",
     "iopub.status.idle": "2020-08-13T14:00:13.139215Z",
     "shell.execute_reply": "2020-08-13T14:00:13.138112Z",
     "shell.execute_reply.started": "2020-08-13T13:59:38.376923Z"
    }
   },
   "outputs": [
    {
     "name": "stdout",
     "output_type": "stream",
     "text": [
      "CPU times: user 34.6 s, sys: 176 ms, total: 34.8 s\n",
      "Wall time: 34.8 s\n"
     ]
    },
    {
     "data": {
      "text/plain": [
       "['temporal/test/2/graph.pkl']"
      ]
     },
     "execution_count": 21,
     "metadata": {},
     "output_type": "execute_result"
    }
   ],
   "source": [
    "%%time\n",
    "joblib.dump(nodepairs_test, 'temporal/test/2/nodepairs.pkl', protocol=5)\n",
    "joblib.dump(targets_test, 'temporal/test/2/targets.pkl', protocol=5)\n",
    "joblib.dump(g_test_matured, 'temporal/test/2/graph.pkl', protocol=5)"
   ]
  },
  {
   "cell_type": "code",
   "execution_count": 22,
   "metadata": {
    "execution": {
     "iopub.execute_input": "2020-08-13T14:00:13.140383Z",
     "iopub.status.busy": "2020-08-13T14:00:13.140207Z",
     "iopub.status.idle": "2020-08-13T14:00:13.214321Z",
     "shell.execute_reply": "2020-08-13T14:00:13.213625Z",
     "shell.execute_reply.started": "2020-08-13T14:00:13.140358Z"
    }
   },
   "outputs": [
    {
     "name": "stdout",
     "output_type": "stream",
     "text": [
      "4.736527e-04\n"
     ]
    }
   ],
   "source": [
    "print(f'{sum(targets_test) / len(nodepairs_test):e}')"
   ]
  },
  {
   "cell_type": "markdown",
   "metadata": {},
   "source": [
    "## Hyperparameter selection"
   ]
  },
  {
   "cell_type": "markdown",
   "metadata": {},
   "source": [
    "### XGBoost"
   ]
  },
  {
   "cell_type": "markdown",
   "metadata": {},
   "source": [
    "$n=2$"
   ]
  },
  {
   "cell_type": "code",
   "execution_count": 29,
   "metadata": {
    "execution": {
     "iopub.execute_input": "2020-08-13T19:47:32.741438Z",
     "iopub.status.busy": "2020-08-13T19:47:32.740850Z",
     "iopub.status.idle": "2020-08-13T19:47:32.767029Z",
     "shell.execute_reply": "2020-08-13T19:47:32.765825Z",
     "shell.execute_reply.started": "2020-08-13T19:47:32.741387Z"
    }
   },
   "outputs": [],
   "source": [
    "def get_x_y(df: pd.DataFrame): return df.drop(columns='target').values, df['target'].values\n",
    "def gridsearch(df: pd.DataFrame, random_state=1, also_random=True, max_depth=[1, 2]) -> pd.DataFrame:\n",
    "  X, y = get_x_y(df)\n",
    "  \n",
    "  \n",
    "  X_train, X_val, y_train, y_val = train_test_split(X, y, test_size=1/3, random_state=random_state)\n",
    "  clf = XGBClassifier(random_state=random_state, tree_method='hist', n_jobs=6)\n",
    "  gridsearch = GridSearchCV(\n",
    "    clf, \n",
    "    param_grid=dict(max_depth=max_depth, scale_pos_weight=[sum(~y_train)/sum(y_train), 1]), \n",
    "    scoring='average_precision', \n",
    "    n_jobs=30,\n",
    "    cv=StratifiedKFold(shuffle=True, random_state=random_state),\n",
    "    return_train_score=True\n",
    "  )\n",
    "  \n",
    "  if also_random: \n",
    "    gridsearch_random = copy.deepcopy(gridsearch)\n",
    "    np.random.seed(random_state)\n",
    "    y_random = copy.deepcopy(y_train)\n",
    "    np.random.shuffle(y_random)\n",
    "  \n",
    "  gridsearch.fit(X_train, y_train)\n",
    "  df_dict = dict(\n",
    "      mean_train=gridsearch.cv_results_['mean_train_score'],\n",
    "      std_train=gridsearch.cv_results_['std_train_score'],\n",
    "      mean_val=gridsearch.cv_results_['mean_test_score'],\n",
    "      std_val=gridsearch.cv_results_['std_test_score'],\n",
    "      val_fold0=gridsearch.cv_results_[f'split0_test_score'],\n",
    "      val_fold1=gridsearch.cv_results_[f'split1_test_score'],\n",
    "      val_fold2=gridsearch.cv_results_[f'split2_test_score'],\n",
    "      val_fold3=gridsearch.cv_results_[f'split3_test_score'],\n",
    "      val_fold4=gridsearch.cv_results_[f'split4_test_score']\n",
    "  )\n",
    "  \n",
    "  if also_random: \n",
    "    gridsearch_random.fit(X_train, y_random)\n",
    "    df_dict['mean_train_random']=gridsearch_random.cv_results_['mean_train_score']\n",
    "    df_dict['std_train_random']=gridsearch_random.cv_results_['std_train_score']\n",
    "    df_dict['mean_val_random']=gridsearch_random.cv_results_['mean_test_score']\n",
    "    df_dict['std_val_random']=gridsearch_random.cv_results_['std_test_score']\n",
    "  df = pd.DataFrame(df_dict, index=pd.Index([(d['max_depth'], d['scale_pos_weight'] > 1) for d in gridsearch.cv_results_['params']], name=('max_depth', 'balanced')))\n",
    "  df['ratio_train_val'] = (df['mean_train'] - df['mean_val'])/df['mean_val']\n",
    "  df['rstd_val'] = df['std_val'] / df['mean_val']\n",
    "  if also_random: df['val_over_random'] = df['mean_val'] - df['mean_val_random']\n",
    "  return df.sort_values('mean_val', ascending=False)\n",
    "    \n",
    "def report_performance(df_train: pd.DataFrame, df_test: pd.DataFrame, random_state=1, max_depth=1, tree_method='hist', balanced=True, n_jobs=128):\n",
    "  X, y = get_x_y(df_train)\n",
    "  clf = XGBClassifier(max_depth=max_depth, n_jobs=128, tree_method=tree_method, scale_pos_weight=sum(~y)/sum(y) if balanced else 1 , random_state=random_state)\n",
    "  clf.fit(X, y)\n",
    "  X_test, y_test = get_x_y(df_test)\n",
    "  y_pred = clf.predict_proba(X_test)[:,1]\n",
    "  return average_precision_score(y_test, y_pred), roc_auc_score(y_test, y_pred)"
   ]
  },
  {
   "cell_type": "code",
   "execution_count": 30,
   "metadata": {
    "execution": {
     "iopub.execute_input": "2020-08-13T19:47:33.310048Z",
     "iopub.status.busy": "2020-08-13T19:47:33.309694Z",
     "iopub.status.idle": "2020-08-13T19:48:06.029889Z",
     "shell.execute_reply": "2020-08-13T19:48:06.029078Z",
     "shell.execute_reply.started": "2020-08-13T19:47:33.310006Z"
    }
   },
   "outputs": [],
   "source": [
    "hps2 = gridsearch(pd.read_pickle(f'temporal/train/2/features.pkl'))"
   ]
  },
  {
   "cell_type": "code",
   "execution_count": 31,
   "metadata": {
    "execution": {
     "iopub.execute_input": "2020-08-13T19:48:06.031424Z",
     "iopub.status.busy": "2020-08-13T19:48:06.031218Z",
     "iopub.status.idle": "2020-08-13T19:48:06.048230Z",
     "shell.execute_reply": "2020-08-13T19:48:06.047626Z",
     "shell.execute_reply.started": "2020-08-13T19:48:06.031400Z"
    }
   },
   "outputs": [
    {
     "data": {
      "text/html": [
       "<div>\n",
       "<style scoped>\n",
       "    .dataframe tbody tr th:only-of-type {\n",
       "        vertical-align: middle;\n",
       "    }\n",
       "\n",
       "    .dataframe tbody tr th {\n",
       "        vertical-align: top;\n",
       "    }\n",
       "\n",
       "    .dataframe thead th {\n",
       "        text-align: right;\n",
       "    }\n",
       "</style>\n",
       "<table border=\"1\" class=\"dataframe\">\n",
       "  <thead>\n",
       "    <tr style=\"text-align: right;\">\n",
       "      <th></th>\n",
       "      <th></th>\n",
       "      <th>mean_train</th>\n",
       "      <th>std_train</th>\n",
       "      <th>mean_val</th>\n",
       "      <th>std_val</th>\n",
       "      <th>val_fold0</th>\n",
       "      <th>val_fold1</th>\n",
       "      <th>val_fold2</th>\n",
       "      <th>val_fold3</th>\n",
       "      <th>val_fold4</th>\n",
       "      <th>mean_train_random</th>\n",
       "      <th>std_train_random</th>\n",
       "      <th>mean_val_random</th>\n",
       "      <th>std_val_random</th>\n",
       "      <th>ratio_train_val</th>\n",
       "      <th>rstd_val</th>\n",
       "      <th>val_over_random</th>\n",
       "    </tr>\n",
       "    <tr>\n",
       "      <th>max_depth</th>\n",
       "      <th>balanced</th>\n",
       "      <th></th>\n",
       "      <th></th>\n",
       "      <th></th>\n",
       "      <th></th>\n",
       "      <th></th>\n",
       "      <th></th>\n",
       "      <th></th>\n",
       "      <th></th>\n",
       "      <th></th>\n",
       "      <th></th>\n",
       "      <th></th>\n",
       "      <th></th>\n",
       "      <th></th>\n",
       "      <th></th>\n",
       "      <th></th>\n",
       "      <th></th>\n",
       "    </tr>\n",
       "  </thead>\n",
       "  <tbody>\n",
       "    <tr>\n",
       "      <th rowspan=\"2\" valign=\"top\">2</th>\n",
       "      <th>False</th>\n",
       "      <td>0.044620</td>\n",
       "      <td>0.004497</td>\n",
       "      <td>0.031763</td>\n",
       "      <td>0.004919</td>\n",
       "      <td>0.026208</td>\n",
       "      <td>0.030563</td>\n",
       "      <td>0.027827</td>\n",
       "      <td>0.034271</td>\n",
       "      <td>0.039943</td>\n",
       "      <td>0.002611</td>\n",
       "      <td>0.000193</td>\n",
       "      <td>0.000530</td>\n",
       "      <td>0.000035</td>\n",
       "      <td>0.404810</td>\n",
       "      <td>0.154870</td>\n",
       "      <td>0.031233</td>\n",
       "    </tr>\n",
       "    <tr>\n",
       "      <th>True</th>\n",
       "      <td>0.021699</td>\n",
       "      <td>0.001678</td>\n",
       "      <td>0.019164</td>\n",
       "      <td>0.004084</td>\n",
       "      <td>0.014519</td>\n",
       "      <td>0.020779</td>\n",
       "      <td>0.014204</td>\n",
       "      <td>0.024326</td>\n",
       "      <td>0.021990</td>\n",
       "      <td>0.002495</td>\n",
       "      <td>0.000417</td>\n",
       "      <td>0.000544</td>\n",
       "      <td>0.000055</td>\n",
       "      <td>0.132285</td>\n",
       "      <td>0.213129</td>\n",
       "      <td>0.018620</td>\n",
       "    </tr>\n",
       "    <tr>\n",
       "      <th rowspan=\"2\" valign=\"top\">1</th>\n",
       "      <th>False</th>\n",
       "      <td>0.015788</td>\n",
       "      <td>0.001426</td>\n",
       "      <td>0.013962</td>\n",
       "      <td>0.003060</td>\n",
       "      <td>0.010621</td>\n",
       "      <td>0.012798</td>\n",
       "      <td>0.011182</td>\n",
       "      <td>0.017749</td>\n",
       "      <td>0.017459</td>\n",
       "      <td>0.000863</td>\n",
       "      <td>0.000080</td>\n",
       "      <td>0.000565</td>\n",
       "      <td>0.000039</td>\n",
       "      <td>0.130814</td>\n",
       "      <td>0.219161</td>\n",
       "      <td>0.013397</td>\n",
       "    </tr>\n",
       "    <tr>\n",
       "      <th>True</th>\n",
       "      <td>0.011160</td>\n",
       "      <td>0.001235</td>\n",
       "      <td>0.011356</td>\n",
       "      <td>0.000692</td>\n",
       "      <td>0.010189</td>\n",
       "      <td>0.010993</td>\n",
       "      <td>0.011778</td>\n",
       "      <td>0.012145</td>\n",
       "      <td>0.011673</td>\n",
       "      <td>0.000972</td>\n",
       "      <td>0.000070</td>\n",
       "      <td>0.000547</td>\n",
       "      <td>0.000040</td>\n",
       "      <td>-0.017267</td>\n",
       "      <td>0.060939</td>\n",
       "      <td>0.010809</td>\n",
       "    </tr>\n",
       "  </tbody>\n",
       "</table>\n",
       "</div>"
      ],
      "text/plain": [
       "                    mean_train  std_train  mean_val   std_val  val_fold0  \\\n",
       "max_depth balanced                                                         \n",
       "2         False       0.044620   0.004497  0.031763  0.004919   0.026208   \n",
       "          True        0.021699   0.001678  0.019164  0.004084   0.014519   \n",
       "1         False       0.015788   0.001426  0.013962  0.003060   0.010621   \n",
       "          True        0.011160   0.001235  0.011356  0.000692   0.010189   \n",
       "\n",
       "                    val_fold1  val_fold2  val_fold3  val_fold4  \\\n",
       "max_depth balanced                                               \n",
       "2         False      0.030563   0.027827   0.034271   0.039943   \n",
       "          True       0.020779   0.014204   0.024326   0.021990   \n",
       "1         False      0.012798   0.011182   0.017749   0.017459   \n",
       "          True       0.010993   0.011778   0.012145   0.011673   \n",
       "\n",
       "                    mean_train_random  std_train_random  mean_val_random  \\\n",
       "max_depth balanced                                                         \n",
       "2         False              0.002611          0.000193         0.000530   \n",
       "          True               0.002495          0.000417         0.000544   \n",
       "1         False              0.000863          0.000080         0.000565   \n",
       "          True               0.000972          0.000070         0.000547   \n",
       "\n",
       "                    std_val_random  ratio_train_val  rstd_val  val_over_random  \n",
       "max_depth balanced                                                              \n",
       "2         False           0.000035         0.404810  0.154870         0.031233  \n",
       "          True            0.000055         0.132285  0.213129         0.018620  \n",
       "1         False           0.000039         0.130814  0.219161         0.013397  \n",
       "          True            0.000040        -0.017267  0.060939         0.010809  "
      ]
     },
     "execution_count": 31,
     "metadata": {},
     "output_type": "execute_result"
    }
   ],
   "source": [
    "hps2"
   ]
  },
  {
   "cell_type": "code",
   "execution_count": 32,
   "metadata": {
    "execution": {
     "iopub.execute_input": "2020-08-13T19:48:06.049471Z",
     "iopub.status.busy": "2020-08-13T19:48:06.049301Z",
     "iopub.status.idle": "2020-08-13T19:48:06.061914Z",
     "shell.execute_reply": "2020-08-13T19:48:06.061345Z",
     "shell.execute_reply.started": "2020-08-13T19:48:06.049447Z"
    }
   },
   "outputs": [
    {
     "data": {
      "text/html": [
       "<div>\n",
       "<style scoped>\n",
       "    .dataframe tbody tr th:only-of-type {\n",
       "        vertical-align: middle;\n",
       "    }\n",
       "\n",
       "    .dataframe tbody tr th {\n",
       "        vertical-align: top;\n",
       "    }\n",
       "\n",
       "    .dataframe thead th {\n",
       "        text-align: right;\n",
       "    }\n",
       "</style>\n",
       "<table border=\"1\" class=\"dataframe\">\n",
       "  <thead>\n",
       "    <tr style=\"text-align: right;\">\n",
       "      <th></th>\n",
       "      <th></th>\n",
       "      <th>mean_val</th>\n",
       "      <th>ratio_train_val</th>\n",
       "      <th>rstd_val</th>\n",
       "      <th>val_over_random</th>\n",
       "      <th>val_fold0</th>\n",
       "      <th>val_fold1</th>\n",
       "      <th>val_fold2</th>\n",
       "      <th>val_fold3</th>\n",
       "      <th>val_fold4</th>\n",
       "    </tr>\n",
       "    <tr>\n",
       "      <th>max_depth</th>\n",
       "      <th>balanced</th>\n",
       "      <th></th>\n",
       "      <th></th>\n",
       "      <th></th>\n",
       "      <th></th>\n",
       "      <th></th>\n",
       "      <th></th>\n",
       "      <th></th>\n",
       "      <th></th>\n",
       "      <th></th>\n",
       "    </tr>\n",
       "  </thead>\n",
       "  <tbody>\n",
       "    <tr>\n",
       "      <th rowspan=\"2\" valign=\"top\">2</th>\n",
       "      <th>False</th>\n",
       "      <td>0.031763</td>\n",
       "      <td>0.404810</td>\n",
       "      <td>0.154870</td>\n",
       "      <td>0.031233</td>\n",
       "      <td>0.026208</td>\n",
       "      <td>0.030563</td>\n",
       "      <td>0.027827</td>\n",
       "      <td>0.034271</td>\n",
       "      <td>0.039943</td>\n",
       "    </tr>\n",
       "    <tr>\n",
       "      <th>True</th>\n",
       "      <td>0.019164</td>\n",
       "      <td>0.132285</td>\n",
       "      <td>0.213129</td>\n",
       "      <td>0.018620</td>\n",
       "      <td>0.014519</td>\n",
       "      <td>0.020779</td>\n",
       "      <td>0.014204</td>\n",
       "      <td>0.024326</td>\n",
       "      <td>0.021990</td>\n",
       "    </tr>\n",
       "    <tr>\n",
       "      <th rowspan=\"2\" valign=\"top\">1</th>\n",
       "      <th>False</th>\n",
       "      <td>0.013962</td>\n",
       "      <td>0.130814</td>\n",
       "      <td>0.219161</td>\n",
       "      <td>0.013397</td>\n",
       "      <td>0.010621</td>\n",
       "      <td>0.012798</td>\n",
       "      <td>0.011182</td>\n",
       "      <td>0.017749</td>\n",
       "      <td>0.017459</td>\n",
       "    </tr>\n",
       "    <tr>\n",
       "      <th>True</th>\n",
       "      <td>0.011356</td>\n",
       "      <td>-0.017267</td>\n",
       "      <td>0.060939</td>\n",
       "      <td>0.010809</td>\n",
       "      <td>0.010189</td>\n",
       "      <td>0.010993</td>\n",
       "      <td>0.011778</td>\n",
       "      <td>0.012145</td>\n",
       "      <td>0.011673</td>\n",
       "    </tr>\n",
       "  </tbody>\n",
       "</table>\n",
       "</div>"
      ],
      "text/plain": [
       "                    mean_val  ratio_train_val  rstd_val  val_over_random  \\\n",
       "max_depth balanced                                                         \n",
       "2         False     0.031763         0.404810  0.154870         0.031233   \n",
       "          True      0.019164         0.132285  0.213129         0.018620   \n",
       "1         False     0.013962         0.130814  0.219161         0.013397   \n",
       "          True      0.011356        -0.017267  0.060939         0.010809   \n",
       "\n",
       "                    val_fold0  val_fold1  val_fold2  val_fold3  val_fold4  \n",
       "max_depth balanced                                                         \n",
       "2         False      0.026208   0.030563   0.027827   0.034271   0.039943  \n",
       "          True       0.014519   0.020779   0.014204   0.024326   0.021990  \n",
       "1         False      0.010621   0.012798   0.011182   0.017749   0.017459  \n",
       "          True       0.010189   0.010993   0.011778   0.012145   0.011673  "
      ]
     },
     "execution_count": 32,
     "metadata": {},
     "output_type": "execute_result"
    }
   ],
   "source": [
    "hps2[['mean_val', 'ratio_train_val', 'rstd_val', 'val_over_random', 'val_fold0', 'val_fold1', 'val_fold2', 'val_fold3', 'val_fold4']]"
   ]
  },
  {
   "cell_type": "code",
   "execution_count": 35,
   "metadata": {
    "execution": {
     "iopub.execute_input": "2020-08-13T19:55:01.201488Z",
     "iopub.status.busy": "2020-08-13T19:55:01.201137Z",
     "iopub.status.idle": "2020-08-13T19:55:29.191539Z",
     "shell.execute_reply": "2020-08-13T19:55:29.190646Z",
     "shell.execute_reply.started": "2020-08-13T19:55:01.201460Z"
    }
   },
   "outputs": [
    {
     "data": {
      "text/plain": [
       "(0.00793166928054341, 0.8777176349981146)"
      ]
     },
     "execution_count": 35,
     "metadata": {},
     "output_type": "execute_result"
    }
   ],
   "source": [
    "report_performance(df_train=pd.read_pickle('temporal/train/2/features.pkl'), df_test=pd.read_pickle('temporal/test/2/features.pkl'), max_depth=1, balanced=True)"
   ]
  },
  {
   "cell_type": "code",
   "execution_count": null,
   "metadata": {},
   "outputs": [],
   "source": []
  }
 ],
 "metadata": {
  "kernelspec": {
   "display_name": "Python 3",
   "language": "python",
   "name": "python3"
  },
  "language_info": {
   "codemirror_mode": {
    "name": "ipython",
    "version": 3
   },
   "file_extension": ".py",
   "mimetype": "text/x-python",
   "name": "python",
   "nbconvert_exporter": "python",
   "pygments_lexer": "ipython3",
   "version": "3.8.5"
  },
  "widgets": {
   "application/vnd.jupyter.widget-state+json": {
    "state": {},
    "version_major": 2,
    "version_minor": 0
   }
  }
 },
 "nbformat": 4,
 "nbformat_minor": 4
}
