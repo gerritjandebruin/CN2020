{
 "cells": [
  {
   "cell_type": "markdown",
   "metadata": {},
   "source": [
    "# Link Prediction in Condmat"
   ]
  },
  {
   "cell_type": "code",
   "execution_count": 1,
   "metadata": {
    "execution": {
     "iopub.execute_input": "2020-08-30T12:48:17.472003Z",
     "iopub.status.busy": "2020-08-30T12:48:17.471733Z",
     "iopub.status.idle": "2020-08-30T12:49:04.766638Z",
     "shell.execute_reply": "2020-08-30T12:49:04.765988Z",
     "shell.execute_reply.started": "2020-08-30T12:48:17.471973Z"
    }
   },
   "outputs": [],
   "source": [
    "from linkprediction import convert_to_set, filter_edgelist, get_distances, get_graph, giant_component, read_edges, report\n",
    "\n",
    "import joblib\n",
    "from tqdm import tqdm\n",
    "\n",
    "edges = read_edges('out.sx-stackoverflow', sep='\\t')"
   ]
  },
  {
   "cell_type": "code",
   "execution_count": 2,
   "metadata": {
    "execution": {
     "iopub.execute_input": "2020-08-30T12:49:04.767892Z",
     "iopub.status.busy": "2020-08-30T12:49:04.767764Z",
     "iopub.status.idle": "2020-08-30T12:49:11.415448Z",
     "shell.execute_reply": "2020-08-30T12:49:11.414915Z",
     "shell.execute_reply.started": "2020-08-30T12:49:04.767876Z"
    }
   },
   "outputs": [
    {
     "name": "stdout",
     "output_type": "stream",
     "text": [
      "2008-08-01 07:17:57\n",
      "2008-09-18 22:01:53\n",
      "no_selected_edges=50001 (7.9e-04)\n"
     ]
    }
   ],
   "source": [
    "edges_train_mature = filter_edgelist(edges, stop=50000)"
   ]
  },
  {
   "cell_type": "code",
   "execution_count": 3,
   "metadata": {
    "execution": {
     "iopub.execute_input": "2020-08-30T12:49:11.416547Z",
     "iopub.status.busy": "2020-08-30T12:49:11.416431Z",
     "iopub.status.idle": "2020-08-30T12:49:17.769388Z",
     "shell.execute_reply": "2020-08-30T12:49:17.768803Z",
     "shell.execute_reply.started": "2020-08-30T12:49:11.416533Z"
    }
   },
   "outputs": [
    {
     "name": "stdout",
     "output_type": "stream",
     "text": [
      "2008-09-18 22:01:54\n",
      "2008-09-20 08:13:54\n",
      "no_selected_edges=10000 (1.6e-04)\n"
     ]
    }
   ],
   "source": [
    "edges_train_probe = filter_edgelist(edges, start=50000, stop=60000)"
   ]
  },
  {
   "cell_type": "code",
   "execution_count": 4,
   "metadata": {
    "execution": {
     "iopub.execute_input": "2020-08-30T12:49:17.770338Z",
     "iopub.status.busy": "2020-08-30T12:49:17.770224Z",
     "iopub.status.idle": "2020-08-30T12:49:24.173032Z",
     "shell.execute_reply": "2020-08-30T12:49:24.172500Z",
     "shell.execute_reply.started": "2020-08-30T12:49:17.770324Z"
    }
   },
   "outputs": [
    {
     "name": "stdout",
     "output_type": "stream",
     "text": [
      "2008-08-01 07:17:57\n",
      "2008-09-20 08:13:54\n",
      "no_selected_edges=60001 (9.4e-04)\n"
     ]
    }
   ],
   "source": [
    "edges_test_mature = filter_edgelist(edges, stop=60000)"
   ]
  },
  {
   "cell_type": "code",
   "execution_count": 5,
   "metadata": {
    "execution": {
     "iopub.execute_input": "2020-08-30T12:49:24.173807Z",
     "iopub.status.busy": "2020-08-30T12:49:24.173693Z",
     "iopub.status.idle": "2020-08-30T12:49:30.513271Z",
     "shell.execute_reply": "2020-08-30T12:49:30.512692Z",
     "shell.execute_reply.started": "2020-08-30T12:49:24.173792Z"
    }
   },
   "outputs": [
    {
     "name": "stdout",
     "output_type": "stream",
     "text": [
      "2008-09-20 08:13:55\n",
      "2008-09-23 12:20:14\n",
      "no_selected_edges=10000 (1.6e-04)\n"
     ]
    }
   ],
   "source": [
    "edges_test_probe = filter_edgelist(edges, start=60000, stop=70000)"
   ]
  },
  {
   "cell_type": "markdown",
   "metadata": {},
   "source": [
    "## Set-up\n",
    "Choose here the parameters on how you want to define the learn and assessing phase."
   ]
  },
  {
   "cell_type": "code",
   "execution_count": 6,
   "metadata": {
    "execution": {
     "iopub.execute_input": "2020-08-30T12:49:30.514042Z",
     "iopub.status.busy": "2020-08-30T12:49:30.513926Z",
     "iopub.status.idle": "2020-08-30T12:49:30.939330Z",
     "shell.execute_reply": "2020-08-30T12:49:30.938790Z",
     "shell.execute_reply.started": "2020-08-30T12:49:30.514027Z"
    }
   },
   "outputs": [],
   "source": [
    "g_train_matured = giant_component(get_graph(edges_train_mature))\n",
    "uv_train_probe = convert_to_set(edges_train_probe)"
   ]
  },
  {
   "cell_type": "code",
   "execution_count": 7,
   "metadata": {
    "execution": {
     "iopub.execute_input": "2020-08-30T12:49:30.940138Z",
     "iopub.status.busy": "2020-08-30T12:49:30.940019Z",
     "iopub.status.idle": "2020-08-30T12:49:41.428978Z",
     "shell.execute_reply": "2020-08-30T12:49:41.428348Z",
     "shell.execute_reply.started": "2020-08-30T12:49:30.940123Z"
    }
   },
   "outputs": [
    {
     "name": "stdout",
     "output_type": "stream",
     "text": [
      "Number of probes: 9200\n",
      "- already edge: 554 (6%)\n",
      "- both nodes in graph: 2340 (25%)\n",
      "- not in graph: 3409 (37%)\n"
     ]
    }
   ],
   "source": [
    "report(graph=g_train_matured, probes=uv_train_probe)"
   ]
  },
  {
   "cell_type": "code",
   "execution_count": 8,
   "metadata": {
    "execution": {
     "iopub.execute_input": "2020-08-30T12:49:41.430374Z",
     "iopub.status.busy": "2020-08-30T12:49:41.430248Z",
     "iopub.status.idle": "2020-08-30T12:49:41.974974Z",
     "shell.execute_reply": "2020-08-30T12:49:41.974442Z",
     "shell.execute_reply.started": "2020-08-30T12:49:41.430358Z"
    }
   },
   "outputs": [],
   "source": [
    "g_test_matured = giant_component(get_graph(edges_test_mature))\n",
    "uv_test_probe = convert_to_set(edges_test_probe)"
   ]
  },
  {
   "cell_type": "code",
   "execution_count": 9,
   "metadata": {
    "execution": {
     "iopub.execute_input": "2020-08-30T12:49:41.975837Z",
     "iopub.status.busy": "2020-08-30T12:49:41.975721Z",
     "iopub.status.idle": "2020-08-30T12:49:53.587356Z",
     "shell.execute_reply": "2020-08-30T12:49:53.586784Z",
     "shell.execute_reply.started": "2020-08-30T12:49:41.975822Z"
    }
   },
   "outputs": [
    {
     "name": "stdout",
     "output_type": "stream",
     "text": [
      "Number of probes: 9136\n",
      "- already edge: 627 (7%)\n",
      "- both nodes in graph: 2708 (30%)\n",
      "- not in graph: 2683 (29%)\n"
     ]
    }
   ],
   "source": [
    "report(graph=g_test_matured, probes=uv_test_probe)"
   ]
  },
  {
   "cell_type": "markdown",
   "metadata": {},
   "source": [
    "## Export"
   ]
  },
  {
   "cell_type": "code",
   "execution_count": 10,
   "metadata": {
    "execution": {
     "iopub.execute_input": "2020-08-30T12:49:53.588324Z",
     "iopub.status.busy": "2020-08-30T12:49:53.588194Z",
     "iopub.status.idle": "2020-08-30T12:49:53.719827Z",
     "shell.execute_reply": "2020-08-30T12:49:53.719200Z",
     "shell.execute_reply.started": "2020-08-30T12:49:53.588308Z"
    }
   },
   "outputs": [],
   "source": [
    "!mkdir -p temporal/{train,test}/2"
   ]
  },
  {
   "cell_type": "markdown",
   "metadata": {},
   "source": [
    "### Train"
   ]
  },
  {
   "cell_type": "code",
   "execution_count": 11,
   "metadata": {
    "execution": {
     "iopub.execute_input": "2020-08-30T12:49:53.720768Z",
     "iopub.status.busy": "2020-08-30T12:49:53.720642Z",
     "iopub.status.idle": "2020-08-30T12:50:48.554995Z",
     "shell.execute_reply": "2020-08-30T12:50:48.554353Z",
     "shell.execute_reply.started": "2020-08-30T12:49:53.720753Z"
    }
   },
   "outputs": [
    {
     "name": "stderr",
     "output_type": "stream",
     "text": [
      "get_distances: 100%|██████████| 6926/6926 [00:31<00:00, 218.01it/s]\n",
      "100%|██████████| 2579380/2579380 [00:00<00:00, 3380747.76it/s]\n"
     ]
    },
    {
     "name": "stdout",
     "output_type": "stream",
     "text": [
      "4.629019e-04\n",
      "CPU times: user 54.6 s, sys: 267 ms, total: 54.9 s\n",
      "Wall time: 54.8 s\n"
     ]
    }
   ],
   "source": [
    "%%time\n",
    "nodepairs_train, _ = get_distances(g_train_matured, cutoff=2)\n",
    "targets_train = [nodepair in uv_train_probe for nodepair in tqdm(nodepairs_train)]\n",
    "\n",
    "joblib.dump(nodepairs_train, 'temporal/train/2/nodepairs.pkl', protocol=5)\n",
    "joblib.dump(targets_train, 'temporal/train/2/target.pkl', protocol=5)\n",
    "joblib.dump(g_train_matured, 'temporal/train/2/graph.pkl', protocol=5)\n",
    "\n",
    "print(f'{sum(targets_train) / len(nodepairs_train):e}')"
   ]
  },
  {
   "cell_type": "markdown",
   "metadata": {},
   "source": [
    "### Test"
   ]
  },
  {
   "cell_type": "code",
   "execution_count": 12,
   "metadata": {
    "execution": {
     "iopub.execute_input": "2020-08-30T12:50:48.555940Z",
     "iopub.status.busy": "2020-08-30T12:50:48.555812Z",
     "iopub.status.idle": "2020-08-30T12:52:02.091262Z",
     "shell.execute_reply": "2020-08-30T12:52:02.090801Z",
     "shell.execute_reply.started": "2020-08-30T12:50:48.555924Z"
    }
   },
   "outputs": [
    {
     "name": "stderr",
     "output_type": "stream",
     "text": [
      "get_distances: 100%|██████████| 7763/7763 [00:43<00:00, 177.14it/s]\n",
      "100%|██████████| 3201068/3201068 [00:00<00:00, 3657658.81it/s]\n"
     ]
    },
    {
     "name": "stdout",
     "output_type": "stream",
     "text": [
      "4.642201e-04\n",
      "CPU times: user 1min 13s, sys: 538 ms, total: 1min 13s\n",
      "Wall time: 1min 13s\n"
     ]
    }
   ],
   "source": [
    "%%time\n",
    "nodepairs_test, _ = get_distances(g_test_matured, cutoff=2)\n",
    "targets_test = [nodepair in uv_test_probe for nodepair in tqdm(nodepairs_test)]\n",
    "\n",
    "joblib.dump(nodepairs_test, 'temporal/test/2/nodepairs.pkl', protocol=5)\n",
    "joblib.dump(targets_test, 'temporal/test/2/target.pkl', protocol=5)\n",
    "joblib.dump(g_test_matured, 'temporal/test/2/graph.pkl', protocol=5)\n",
    "\n",
    "print(f'{sum(targets_test) / len(nodepairs_test):e}')"
   ]
  },
  {
   "cell_type": "markdown",
   "metadata": {},
   "source": [
    "## Hyperparameter selection"
   ]
  },
  {
   "cell_type": "markdown",
   "metadata": {},
   "source": [
    "### XGBoost"
   ]
  },
  {
   "cell_type": "markdown",
   "metadata": {},
   "source": [
    "$n=2$"
   ]
  },
  {
   "cell_type": "code",
   "execution_count": null,
   "metadata": {},
   "outputs": [],
   "source": [
    "def get_x_y(df: pd.DataFrame): return df.drop(columns='target').values, df['target'].values\n",
    "def gridsearch(df: pd.DataFrame, random_state=1, also_random=True, max_depth=[1, 2]) -> pd.DataFrame:\n",
    "  X, y = get_x_y(df)\n",
    "  \n",
    "  \n",
    "  X_train, X_val, y_train, y_val = train_test_split(X, y, test_size=1/3, random_state=random_state)\n",
    "  clf = XGBClassifier(random_state=random_state, tree_method='hist', n_jobs=6)\n",
    "  gridsearch = GridSearchCV(\n",
    "    clf, \n",
    "    param_grid=dict(max_depth=max_depth, scale_pos_weight=[sum(~y_train)/sum(y_train), 1]), \n",
    "    scoring='average_precision', \n",
    "    n_jobs=30,\n",
    "    cv=StratifiedKFold(shuffle=True, random_state=random_state),\n",
    "    return_train_score=True\n",
    "  )\n",
    "  \n",
    "  if also_random: \n",
    "    gridsearch_random = copy.deepcopy(gridsearch)\n",
    "    np.random.seed(random_state)\n",
    "    y_random = copy.deepcopy(y_train)\n",
    "    np.random.shuffle(y_random)\n",
    "  \n",
    "  gridsearch.fit(X_train, y_train)\n",
    "  df_dict = dict(\n",
    "      mean_train=gridsearch.cv_results_['mean_train_score'],\n",
    "      std_train=gridsearch.cv_results_['std_train_score'],\n",
    "      mean_val=gridsearch.cv_results_['mean_test_score'],\n",
    "      std_val=gridsearch.cv_results_['std_test_score'],\n",
    "      val_fold0=gridsearch.cv_results_[f'split0_test_score'],\n",
    "      val_fold1=gridsearch.cv_results_[f'split1_test_score'],\n",
    "      val_fold2=gridsearch.cv_results_[f'split2_test_score'],\n",
    "      val_fold3=gridsearch.cv_results_[f'split3_test_score'],\n",
    "      val_fold4=gridsearch.cv_results_[f'split4_test_score']\n",
    "  )\n",
    "  \n",
    "  if also_random: \n",
    "    gridsearch_random.fit(X_train, y_random)\n",
    "    df_dict['mean_train_random']=gridsearch_random.cv_results_['mean_train_score']\n",
    "    df_dict['std_train_random']=gridsearch_random.cv_results_['std_train_score']\n",
    "    df_dict['mean_val_random']=gridsearch_random.cv_results_['mean_test_score']\n",
    "    df_dict['std_val_random']=gridsearch_random.cv_results_['std_test_score']\n",
    "  df = pd.DataFrame(df_dict, index=pd.Index([(d['max_depth'], d['scale_pos_weight'] > 1) for d in gridsearch.cv_results_['params']], name=('max_depth', 'balanced')))\n",
    "  df['diff_train_val'] = df['mean_val'] - df['mean_train']\n",
    "  df['rstd_test'] = df['std_val'] / df['mean_val']\n",
    "  if also_random: df['val_over_random'] = df['mean_val'] - df['mean_val_random']\n",
    "  return df.sort_values('mean_val', ascending=False)\n",
    "    \n",
    "def report_performance(df_train: pd.DataFrame, df_test: pd.DataFrame, random_state=1, max_depth=1, tree_method='hist', balanced=True, n_jobs=128):\n",
    "  X, y = get_x_y(df_train)\n",
    "  clf = XGBClassifier(max_depth=max_depth, n_jobs=128, tree_method=tree_method, scale_pos_weight=sum(~y)/sum(y) if balanced else 1 , random_state=random_state)\n",
    "  clf.fit(X, y)\n",
    "  X_test, y_test = get_x_y(df_test)\n",
    "  y_pred = clf.predict_proba(X_test)[:,1]\n",
    "  return average_precision_score(y_test, y_pred), roc_auc_score(y_test, y_pred)"
   ]
  },
  {
   "cell_type": "code",
   "execution_count": null,
   "metadata": {},
   "outputs": [],
   "source": [
    "hps2 = gridsearch(pd.read_pickle(f'temporal/train/2/features.pkl'))"
   ]
  },
  {
   "cell_type": "code",
   "execution_count": null,
   "metadata": {},
   "outputs": [],
   "source": [
    "hps2[['mean_test', 'diff_train_test', 'rstd_test', 'test_over_random', 'test_fold0', 'test_fold1', 'test_fold2', 'test_fold3', 'test_fold4']]"
   ]
  },
  {
   "cell_type": "code",
   "execution_count": null,
   "metadata": {},
   "outputs": [],
   "source": [
    "report_performance(df_train=pd.read_pickle(f'temp/b1/train/2/features.pkl'), df_test=pd.read_pickle(f'temp/b1/test/2/features.pkl'), balanced=False)"
   ]
  },
  {
   "cell_type": "code",
   "execution_count": null,
   "metadata": {},
   "outputs": [],
   "source": []
  }
 ],
 "metadata": {
  "kernelspec": {
   "display_name": "Python 3",
   "language": "python",
   "name": "python3"
  },
  "language_info": {
   "codemirror_mode": {
    "name": "ipython",
    "version": 3
   },
   "file_extension": ".py",
   "mimetype": "text/x-python",
   "name": "python",
   "nbconvert_exporter": "python",
   "pygments_lexer": "ipython3",
   "version": "3.8.5"
  },
  "widgets": {
   "application/vnd.jupyter.widget-state+json": {
    "state": {},
    "version_major": 2,
    "version_minor": 0
   }
  }
 },
 "nbformat": 4,
 "nbformat_minor": 4
}
