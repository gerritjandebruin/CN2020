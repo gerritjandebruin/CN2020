{
 "cells": [
  {
   "cell_type": "code",
   "execution_count": 46,
   "metadata": {
    "execution": {
     "iopub.execute_input": "2020-08-05T10:47:34.140793Z",
     "iopub.status.busy": "2020-08-05T10:47:34.140512Z",
     "iopub.status.idle": "2020-08-05T10:47:34.143502Z",
     "shell.execute_reply": "2020-08-05T10:47:34.143086Z",
     "shell.execute_reply.started": "2020-08-05T10:47:34.140766Z"
    }
   },
   "outputs": [],
   "source": [
    "import joblib"
   ]
  },
  {
   "cell_type": "code",
   "execution_count": 47,
   "metadata": {
    "execution": {
     "iopub.execute_input": "2020-08-05T10:47:34.417560Z",
     "iopub.status.busy": "2020-08-05T10:47:34.417421Z",
     "iopub.status.idle": "2020-08-05T10:47:34.657481Z",
     "shell.execute_reply": "2020-08-05T10:47:34.657035Z",
     "shell.execute_reply.started": "2020-08-05T10:47:34.417542Z"
    }
   },
   "outputs": [],
   "source": [
    "d = joblib.load('temp/a4n/2/xgb.pkl')"
   ]
  },
  {
   "cell_type": "code",
   "execution_count": 48,
   "metadata": {
    "execution": {
     "iopub.execute_input": "2020-08-05T10:47:34.716115Z",
     "iopub.status.busy": "2020-08-05T10:47:34.715951Z",
     "iopub.status.idle": "2020-08-05T10:47:35.072249Z",
     "shell.execute_reply": "2020-08-05T10:47:35.071891Z",
     "shell.execute_reply.started": "2020-08-05T10:47:34.716096Z"
    }
   },
   "outputs": [
    {
     "data": {
      "text/plain": [
       "[{'max_depth': 1, 'scale_pos_weight': 362.4902624894157},\n",
       " {'max_depth': 1, 'scale_pos_weight': 1},\n",
       " {'max_depth': 2, 'scale_pos_weight': 362.4902624894157},\n",
       " {'max_depth': 2, 'scale_pos_weight': 1}]"
      ]
     },
     "execution_count": 48,
     "metadata": {},
     "output_type": "execute_result"
    }
   ],
   "source": [
    "d.cv_results_['params']"
   ]
  },
  {
   "cell_type": "code",
   "execution_count": 55,
   "metadata": {
    "execution": {
     "iopub.execute_input": "2020-08-05T10:48:52.437718Z",
     "iopub.status.busy": "2020-08-05T10:48:52.437551Z",
     "iopub.status.idle": "2020-08-05T10:48:52.459943Z",
     "shell.execute_reply": "2020-08-05T10:48:52.459013Z",
     "shell.execute_reply.started": "2020-08-05T10:48:52.437693Z"
    }
   },
   "outputs": [
    {
     "data": {
      "text/html": [
       "<div>\n",
       "<style scoped>\n",
       "    .dataframe tbody tr th:only-of-type {\n",
       "        vertical-align: middle;\n",
       "    }\n",
       "\n",
       "    .dataframe tbody tr th {\n",
       "        vertical-align: top;\n",
       "    }\n",
       "\n",
       "    .dataframe thead th {\n",
       "        text-align: right;\n",
       "    }\n",
       "</style>\n",
       "<table border=\"1\" class=\"dataframe\">\n",
       "  <thead>\n",
       "    <tr style=\"text-align: right;\">\n",
       "      <th></th>\n",
       "      <th></th>\n",
       "      <th>train</th>\n",
       "      <th>test</th>\n",
       "      <th>diff</th>\n",
       "    </tr>\n",
       "    <tr>\n",
       "      <th>max_depth</th>\n",
       "      <th>balanced</th>\n",
       "      <th></th>\n",
       "      <th></th>\n",
       "      <th></th>\n",
       "    </tr>\n",
       "  </thead>\n",
       "  <tbody>\n",
       "    <tr>\n",
       "      <th>2</th>\n",
       "      <th>False</th>\n",
       "      <td>0.028567</td>\n",
       "      <td>0.011711</td>\n",
       "      <td>0.016857</td>\n",
       "    </tr>\n",
       "    <tr>\n",
       "      <th>1</th>\n",
       "      <th>False</th>\n",
       "      <td>0.012720</td>\n",
       "      <td>0.011336</td>\n",
       "      <td>0.001385</td>\n",
       "    </tr>\n",
       "    <tr>\n",
       "      <th>2</th>\n",
       "      <th>True</th>\n",
       "      <td>0.020108</td>\n",
       "      <td>0.010128</td>\n",
       "      <td>0.009979</td>\n",
       "    </tr>\n",
       "    <tr>\n",
       "      <th>1</th>\n",
       "      <th>True</th>\n",
       "      <td>0.010845</td>\n",
       "      <td>0.009457</td>\n",
       "      <td>0.001388</td>\n",
       "    </tr>\n",
       "  </tbody>\n",
       "</table>\n",
       "</div>"
      ],
      "text/plain": [
       "                       train      test      diff\n",
       "max_depth balanced                              \n",
       "2         False     0.028567  0.011711  0.016857\n",
       "1         False     0.012720  0.011336  0.001385\n",
       "2         True      0.020108  0.010128  0.009979\n",
       "1         True      0.010845  0.009457  0.001388"
      ]
     },
     "execution_count": 55,
     "metadata": {},
     "output_type": "execute_result"
    }
   ],
   "source": [
    "df = pd.DataFrame(\n",
    "  dict(train=d.cv_results_['mean_train_score'], test=d.cv_results_['mean_test_score']), \n",
    "  index=pd.Index([(d['max_depth'], d['scale_pos_weight'] > 1) for d in d.cv_results_['params']], name=('max_depth', 'balanced'))\n",
    ")\n",
    "df['diff'] = (df['test'] - df['train']).abs()\n",
    "df.sort_values('test', ascending=False)"
   ]
  },
  {
   "cell_type": "code",
   "execution_count": null,
   "metadata": {},
   "outputs": [],
   "source": []
  }
 ],
 "metadata": {
  "kernelspec": {
   "display_name": "Python 3",
   "language": "python",
   "name": "python3"
  },
  "language_info": {
   "codemirror_mode": {
    "name": "ipython",
    "version": 3
   },
   "file_extension": ".py",
   "mimetype": "text/x-python",
   "name": "python",
   "nbconvert_exporter": "python",
   "pygments_lexer": "ipython3",
   "version": "3.8.5"
  },
  "widgets": {
   "application/vnd.jupyter.widget-state+json": {
    "state": {},
    "version_major": 2,
    "version_minor": 0
   }
  }
 },
 "nbformat": 4,
 "nbformat_minor": 4
}
