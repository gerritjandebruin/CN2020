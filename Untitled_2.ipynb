{
 "cells": [
  {
   "cell_type": "code",
   "execution_count": 18,
   "metadata": {
    "execution": {
     "iopub.execute_input": "2020-08-15T08:19:25.998590Z",
     "iopub.status.busy": "2020-08-15T08:19:25.998218Z",
     "iopub.status.idle": "2020-08-15T08:19:26.045292Z",
     "shell.execute_reply": "2020-08-15T08:19:26.041164Z",
     "shell.execute_reply.started": "2020-08-15T08:19:25.998552Z"
    }
   },
   "outputs": [],
   "source": [
    "import collections\n",
    "import copy\n",
    "import datetime\n",
    "import functools\n",
    "import itertools\n",
    "import math\n",
    "from typing import List, Tuple, Dict\n",
    "\n",
    "import joblib\n",
    "import matplotlib.pyplot as plt\n",
    "import networkx as nx\n",
    "import numpy as np\n",
    "import pandas as pd\n",
    "import plotly.express as px\n",
    "import plotly.figure_factory as ff\n",
    "import plotly.graph_objects as go\n",
    "from sklearn.preprocessing import minmax_scale\n",
    "from sklearn.metrics import precision_recall_curve, average_precision_score, roc_auc_score\n",
    "from sklearn.metrics import roc_curve, auc\n",
    "from sklearn.model_selection import StratifiedKFold, cross_validate, GridSearchCV, train_test_split\n",
    "import seaborn as sns\n",
    "from tqdm import tqdm\n",
    "from xgboost import XGBClassifier\n",
    "\n",
    "NodePair = Tuple[int, int]\n",
    "Edge = List[Tuple[int, int, Dict['date', datetime.datetime]]]\n",
    "\n",
    "results = dict()\n",
    "Performance = collections.namedtuple('Performance', ['average_precision', 'roc_auc'])"
   ]
  },
  {
   "cell_type": "code",
   "execution_count": 19,
   "metadata": {
    "execution": {
     "iopub.execute_input": "2020-08-15T08:19:26.870642Z",
     "iopub.status.busy": "2020-08-15T08:19:26.870262Z",
     "iopub.status.idle": "2020-08-15T08:19:26.954067Z",
     "shell.execute_reply": "2020-08-15T08:19:26.945132Z",
     "shell.execute_reply.started": "2020-08-15T08:19:26.870604Z"
    }
   },
   "outputs": [],
   "source": [
    "def gridsearch(df: pd.DataFrame, random_state=1, also_random=True, max_depth=[1, 2]) -> pd.DataFrame:\n",
    "  X = df.drop(columns='target').values\n",
    "  y = df['target'].values\n",
    "  \n",
    "  param_grid=dict(max_depth=max_depth, scale_pos_weight=[sum(~y)/sum(y), 1])\n",
    "  \n",
    "  X_trainval, X_test, y_trainval, y_test = train_test_split(X, y, test_size=1/3, random_state=random_state)\n",
    "  clf = XGBClassifier(random_state=random_state, tree_method='hist', n_jobs=6)\n",
    "  gridsearch = GridSearchCV(\n",
    "    clf, \n",
    "    param_grid=param_grid, \n",
    "    scoring='average_precision', \n",
    "    n_jobs=30,\n",
    "    cv=StratifiedKFold(shuffle=True, random_state=random_state),\n",
    "    return_train_score=True\n",
    "  )\n",
    "  \n",
    "  if also_random: \n",
    "    gridsearch_random = copy.deepcopy(gridsearch)\n",
    "    np.random.seed(random_state)\n",
    "    y_random = copy.deepcopy(y_trainval)\n",
    "    np.random.shuffle(y_random)\n",
    "  \n",
    "  gridsearch.fit(X_trainval, y_trainval)\n",
    "  df_dict = dict(\n",
    "      mean_train=gridsearch.cv_results_['mean_train_score'],\n",
    "      std_train=gridsearch.cv_results_['std_train_score'],\n",
    "      mean_test=gridsearch.cv_results_['mean_test_score'],\n",
    "      std_test=gridsearch.cv_results_['std_test_score'],\n",
    "      test_fold0=gridsearch.cv_results_[f'split0_test_score'],\n",
    "      test_fold1=gridsearch.cv_results_[f'split1_test_score'],\n",
    "      test_fold2=gridsearch.cv_results_[f'split2_test_score'],\n",
    "      test_fold3=gridsearch.cv_results_[f'split3_test_score'],\n",
    "      test_fold4=gridsearch.cv_results_[f'split4_test_score']\n",
    "  )\n",
    "  \n",
    "  if also_random: \n",
    "    gridsearch_random.fit(X_trainval, y_random)\n",
    "    df_dict['mean_train_random']=gridsearch_random.cv_results_['mean_train_score']\n",
    "    df_dict['std_train_random']=gridsearch_random.cv_results_['std_train_score']\n",
    "    df_dict['mean_test_random']=gridsearch_random.cv_results_['mean_test_score']\n",
    "    df_dict['std_test_random']=gridsearch_random.cv_results_['std_test_score']\n",
    "  df = pd.DataFrame(df_dict, index=pd.Index([(d['max_depth'], d['scale_pos_weight'] > 1) for d in gridsearch.cv_results_['params']], name=('max_depth', 'balanced')))\n",
    "  df['diff_train_test'] = (df['mean_test'] - df['mean_train']).abs() / df['mean_test']\n",
    "  df['rstd_test'] = df['std_test'] / df['mean_test']\n",
    "  if also_random: df['test_over_random'] = df['mean_test'] - df['mean_test_random']\n",
    "  return df.sort_values('mean_test', ascending=False)\n",
    "def get_x_y(df: pd.DataFrame): return df.drop(columns='target').values, df['target'].values\n",
    "def report_performance(df_train: pd.DataFrame, df_test=None, random_state=1, max_depth=1, tree_method='hist', balanced=True, n_jobs=128):\n",
    "  X, y = get_x_y(df_train)\n",
    "  if df_test is None: X, X_test, y, y_test = train_test_split(X, y, test_size=1/3, random_state=random_state)\n",
    "  else: X_test, y_test = get_x_y(df_test)\n",
    "  clf = XGBClassifier(max_depth=max_depth, n_jobs=128, tree_method=tree_method, scale_pos_weight=sum(~y)/sum(y) if balanced else 1 , random_state=random_state)\n",
    "  clf.fit(X, y)\n",
    "  y_pred = clf.predict_proba(X_test)[:,1]\n",
    "  return Performance(average_precision_score(y_test, y_pred), roc_auc_score(y_test, y_pred))"
   ]
  },
  {
   "cell_type": "markdown",
   "metadata": {},
   "source": [
    "## Condmat"
   ]
  },
  {
   "cell_type": "markdown",
   "metadata": {},
   "source": [
    "### Random"
   ]
  },
  {
   "cell_type": "code",
   "execution_count": 20,
   "metadata": {
    "execution": {
     "iopub.execute_input": "2020-08-15T08:19:34.799595Z",
     "iopub.status.busy": "2020-08-15T08:19:34.799195Z",
     "iopub.status.idle": "2020-08-15T08:21:30.272674Z",
     "shell.execute_reply": "2020-08-15T08:21:30.261577Z",
     "shell.execute_reply.started": "2020-08-15T08:19:34.799559Z"
    }
   },
   "outputs": [
    {
     "name": "stdout",
     "output_type": "stream",
     "text": [
      "Performance(average_precision=0.01161405871585572, roc_auc=0.7167960845889996)\n"
     ]
    }
   ],
   "source": [
    "results['condmat'] = dict()\n",
    "results['condmat']['random'] = report_performance(pd.read_pickle('datasets/condmat/random/2/features.pkl'), max_depth=1, balanced=False)\n",
    "print(results['condmat']['random'])"
   ]
  },
  {
   "cell_type": "markdown",
   "metadata": {},
   "source": [
    "### Temporal"
   ]
  },
  {
   "cell_type": "code",
   "execution_count": 21,
   "metadata": {
    "execution": {
     "iopub.execute_input": "2020-08-15T08:21:30.293463Z",
     "iopub.status.busy": "2020-08-15T08:21:30.286217Z",
     "iopub.status.idle": "2020-08-15T08:23:17.714333Z",
     "shell.execute_reply": "2020-08-15T08:23:17.711320Z",
     "shell.execute_reply.started": "2020-08-15T08:21:30.293137Z"
    }
   },
   "outputs": [
    {
     "name": "stdout",
     "output_type": "stream",
     "text": [
      "Performance(average_precision=0.004799299901218471, roc_auc=0.7319341272805222)\n"
     ]
    }
   ],
   "source": [
    "results['condmat']['temporal'] = report_performance(\n",
    "  df_train=pd.read_pickle('datasets/condmat/temporal/train/2/features.pkl'), \n",
    "  df_test=pd.read_pickle('datasets/condmat/temporal/test/2/features.pkl'),\n",
    "  max_depth=1, \n",
    "  balanced=False\n",
    ")\n",
    "print(results['condmat']['temporal'])"
   ]
  },
  {
   "cell_type": "markdown",
   "metadata": {},
   "source": [
    "## Enron"
   ]
  },
  {
   "cell_type": "code",
   "execution_count": 22,
   "metadata": {
    "execution": {
     "iopub.execute_input": "2020-08-15T08:23:17.717798Z",
     "iopub.status.busy": "2020-08-15T08:23:17.717461Z",
     "iopub.status.idle": "2020-08-15T08:23:17.737186Z",
     "shell.execute_reply": "2020-08-15T08:23:17.736137Z",
     "shell.execute_reply.started": "2020-08-15T08:23:17.717757Z"
    }
   },
   "outputs": [],
   "source": [
    "dataset = 'enron'"
   ]
  },
  {
   "cell_type": "markdown",
   "metadata": {},
   "source": [
    "### Random"
   ]
  },
  {
   "cell_type": "code",
   "execution_count": 23,
   "metadata": {
    "execution": {
     "iopub.execute_input": "2020-08-15T08:23:17.738959Z",
     "iopub.status.busy": "2020-08-15T08:23:17.738695Z",
     "iopub.status.idle": "2020-08-15T08:25:34.358123Z",
     "shell.execute_reply": "2020-08-15T08:25:34.349191Z",
     "shell.execute_reply.started": "2020-08-15T08:23:17.738924Z"
    }
   },
   "outputs": [
    {
     "name": "stdout",
     "output_type": "stream",
     "text": [
      "Performance(average_precision=0.015961239641945298, roc_auc=0.8706734068173684)\n"
     ]
    }
   ],
   "source": [
    "results[dataset] = dict()\n",
    "results[dataset]['random'] = report_performance(pd.read_pickle(f'datasets/{dataset}/random/2/features.pkl'), max_depth=1, balanced=False)\n",
    "print(results[dataset]['random'])"
   ]
  },
  {
   "cell_type": "markdown",
   "metadata": {},
   "source": [
    "### Temporal"
   ]
  },
  {
   "cell_type": "code",
   "execution_count": 24,
   "metadata": {
    "execution": {
     "iopub.execute_input": "2020-08-15T08:25:34.363046Z",
     "iopub.status.busy": "2020-08-15T08:25:34.362650Z",
     "iopub.status.idle": "2020-08-15T08:28:04.320526Z",
     "shell.execute_reply": "2020-08-15T08:28:04.313791Z",
     "shell.execute_reply.started": "2020-08-15T08:25:34.363006Z"
    }
   },
   "outputs": [
    {
     "name": "stdout",
     "output_type": "stream",
     "text": [
      "Performance(average_precision=0.011743071145453058, roc_auc=0.8742894406283527)\n"
     ]
    }
   ],
   "source": [
    "results[dataset]['temporal'] = report_performance(\n",
    "  df_train=pd.read_pickle(f'datasets/{dataset}/temporal/train/2/features.pkl'), \n",
    "  df_test=pd.read_pickle(f'datasets/{dataset}/temporal/test/2/features.pkl'),\n",
    "  max_depth=1, \n",
    "  balanced=False\n",
    ")\n",
    "print(results[dataset]['temporal'])"
   ]
  },
  {
   "cell_type": "markdown",
   "metadata": {},
   "source": [
    "## Askubuntu"
   ]
  },
  {
   "cell_type": "code",
   "execution_count": 25,
   "metadata": {
    "execution": {
     "iopub.execute_input": "2020-08-15T08:28:04.322783Z",
     "iopub.status.busy": "2020-08-15T08:28:04.322470Z",
     "iopub.status.idle": "2020-08-15T08:28:04.341608Z",
     "shell.execute_reply": "2020-08-15T08:28:04.330088Z",
     "shell.execute_reply.started": "2020-08-15T08:28:04.322744Z"
    }
   },
   "outputs": [],
   "source": [
    "dataset = 'askubuntu'"
   ]
  },
  {
   "cell_type": "markdown",
   "metadata": {},
   "source": [
    "### Random"
   ]
  },
  {
   "cell_type": "code",
   "execution_count": 26,
   "metadata": {
    "execution": {
     "iopub.execute_input": "2020-08-15T08:28:04.343439Z",
     "iopub.status.busy": "2020-08-15T08:28:04.343165Z",
     "iopub.status.idle": "2020-08-15T08:31:35.178184Z",
     "shell.execute_reply": "2020-08-15T08:31:35.176394Z",
     "shell.execute_reply.started": "2020-08-15T08:28:04.343404Z"
    }
   },
   "outputs": [
    {
     "name": "stdout",
     "output_type": "stream",
     "text": [
      "Performance(average_precision=0.023293264618648724, roc_auc=0.8946992586126661)\n"
     ]
    }
   ],
   "source": [
    "results[dataset] = dict()\n",
    "results[dataset]['random'] = report_performance(pd.read_pickle(f'datasets/{dataset}/random/2/features.pkl'), max_depth=2, balanced=True)\n",
    "print(results[dataset]['random'])"
   ]
  },
  {
   "cell_type": "markdown",
   "metadata": {},
   "source": [
    "### Temporal"
   ]
  },
  {
   "cell_type": "code",
   "execution_count": 27,
   "metadata": {
    "execution": {
     "iopub.execute_input": "2020-08-15T08:31:35.180985Z",
     "iopub.status.busy": "2020-08-15T08:31:35.180677Z",
     "iopub.status.idle": "2020-08-15T08:36:20.106554Z",
     "shell.execute_reply": "2020-08-15T08:36:20.101258Z",
     "shell.execute_reply.started": "2020-08-15T08:31:35.180939Z"
    }
   },
   "outputs": [
    {
     "name": "stdout",
     "output_type": "stream",
     "text": [
      "Performance(average_precision=0.004643793569510117, roc_auc=0.8513835399254048)\n"
     ]
    }
   ],
   "source": [
    "results[dataset]['temporal'] = report_performance(\n",
    "  df_train=pd.read_pickle(f'datasets/{dataset}/temporal/train/2/features.pkl'), \n",
    "  df_test=pd.read_pickle(f'datasets/{dataset}/temporal/test/2/features.pkl'),\n",
    "  max_depth=2, \n",
    "  balanced=True\n",
    ")\n",
    "print(results[dataset]['temporal'])"
   ]
  },
  {
   "cell_type": "markdown",
   "metadata": {},
   "source": [
    "## Bibsonomy"
   ]
  },
  {
   "cell_type": "code",
   "execution_count": 28,
   "metadata": {
    "execution": {
     "iopub.execute_input": "2020-08-15T08:36:20.109098Z",
     "iopub.status.busy": "2020-08-15T08:36:20.108730Z",
     "iopub.status.idle": "2020-08-15T08:36:20.118378Z",
     "shell.execute_reply": "2020-08-15T08:36:20.117224Z",
     "shell.execute_reply.started": "2020-08-15T08:36:20.109055Z"
    }
   },
   "outputs": [],
   "source": [
    "dataset = 'bibsonomy'"
   ]
  },
  {
   "cell_type": "markdown",
   "metadata": {},
   "source": [
    "### Random"
   ]
  },
  {
   "cell_type": "code",
   "execution_count": null,
   "metadata": {},
   "outputs": [],
   "source": [
    "results[dataset] = dict()\n",
    "results[dataset]['random'] = report_performance(pd.read_pickle(f'datasets/{dataset}/random/2/features.pkl'), max_depth=2, balanced=True)\n",
    "print(results[dataset]['random'])"
   ]
  },
  {
   "cell_type": "markdown",
   "metadata": {},
   "source": [
    "# Results"
   ]
  },
  {
   "cell_type": "code",
   "execution_count": 36,
   "metadata": {
    "execution": {
     "iopub.execute_input": "2020-08-15T08:55:00.453758Z",
     "iopub.status.busy": "2020-08-15T08:55:00.453172Z",
     "iopub.status.idle": "2020-08-15T08:55:00.473218Z",
     "shell.execute_reply": "2020-08-15T08:55:00.472157Z",
     "shell.execute_reply.started": "2020-08-15T08:55:00.453713Z"
    }
   },
   "outputs": [
    {
     "data": {
      "text/html": [
       "<div>\n",
       "<style scoped>\n",
       "    .dataframe tbody tr th:only-of-type {\n",
       "        vertical-align: middle;\n",
       "    }\n",
       "\n",
       "    .dataframe tbody tr th {\n",
       "        vertical-align: top;\n",
       "    }\n",
       "\n",
       "    .dataframe thead th {\n",
       "        text-align: right;\n",
       "    }\n",
       "</style>\n",
       "<table border=\"1\" class=\"dataframe\">\n",
       "  <thead>\n",
       "    <tr style=\"text-align: right;\">\n",
       "      <th></th>\n",
       "      <th>random</th>\n",
       "      <th>temporal</th>\n",
       "    </tr>\n",
       "  </thead>\n",
       "  <tbody>\n",
       "    <tr>\n",
       "      <th>condmat</th>\n",
       "      <td>0.011614</td>\n",
       "      <td>0.004799</td>\n",
       "    </tr>\n",
       "    <tr>\n",
       "      <th>enron</th>\n",
       "      <td>0.015961</td>\n",
       "      <td>0.011743</td>\n",
       "    </tr>\n",
       "    <tr>\n",
       "      <th>askubuntu</th>\n",
       "      <td>0.023293</td>\n",
       "      <td>0.004644</td>\n",
       "    </tr>\n",
       "  </tbody>\n",
       "</table>\n",
       "</div>"
      ],
      "text/plain": [
       "             random  temporal\n",
       "condmat    0.011614  0.004799\n",
       "enron      0.015961  0.011743\n",
       "askubuntu  0.023293  0.004644"
      ]
     },
     "execution_count": 36,
     "metadata": {},
     "output_type": "execute_result"
    }
   ],
   "source": [
    "pd.DataFrame({dataset: {typesplit: typesplit_results.average_precision for typesplit, typesplit_results in dataset_results.items()} for dataset, dataset_results in results.items()}).T"
   ]
  },
  {
   "cell_type": "code",
   "execution_count": 37,
   "metadata": {
    "execution": {
     "iopub.execute_input": "2020-08-15T08:55:20.303234Z",
     "iopub.status.busy": "2020-08-15T08:55:20.302791Z",
     "iopub.status.idle": "2020-08-15T08:55:20.369095Z",
     "shell.execute_reply": "2020-08-15T08:55:20.361208Z",
     "shell.execute_reply.started": "2020-08-15T08:55:20.303190Z"
    }
   },
   "outputs": [
    {
     "data": {
      "text/html": [
       "<div>\n",
       "<style scoped>\n",
       "    .dataframe tbody tr th:only-of-type {\n",
       "        vertical-align: middle;\n",
       "    }\n",
       "\n",
       "    .dataframe tbody tr th {\n",
       "        vertical-align: top;\n",
       "    }\n",
       "\n",
       "    .dataframe thead th {\n",
       "        text-align: right;\n",
       "    }\n",
       "</style>\n",
       "<table border=\"1\" class=\"dataframe\">\n",
       "  <thead>\n",
       "    <tr style=\"text-align: right;\">\n",
       "      <th></th>\n",
       "      <th>random</th>\n",
       "      <th>temporal</th>\n",
       "    </tr>\n",
       "  </thead>\n",
       "  <tbody>\n",
       "    <tr>\n",
       "      <th>condmat</th>\n",
       "      <td>0.716796</td>\n",
       "      <td>0.731934</td>\n",
       "    </tr>\n",
       "    <tr>\n",
       "      <th>enron</th>\n",
       "      <td>0.870673</td>\n",
       "      <td>0.874289</td>\n",
       "    </tr>\n",
       "    <tr>\n",
       "      <th>askubuntu</th>\n",
       "      <td>0.894699</td>\n",
       "      <td>0.851384</td>\n",
       "    </tr>\n",
       "  </tbody>\n",
       "</table>\n",
       "</div>"
      ],
      "text/plain": [
       "             random  temporal\n",
       "condmat    0.716796  0.731934\n",
       "enron      0.870673  0.874289\n",
       "askubuntu  0.894699  0.851384"
      ]
     },
     "execution_count": 37,
     "metadata": {},
     "output_type": "execute_result"
    }
   ],
   "source": [
    "pd.DataFrame({dataset: {typesplit: typesplit_results.roc_auc for typesplit, typesplit_results in dataset_results.items()} for dataset, dataset_results in results.items()}).T"
   ]
  },
  {
   "cell_type": "code",
   "execution_count": null,
   "metadata": {},
   "outputs": [],
   "source": []
  }
 ],
 "metadata": {
  "kernelspec": {
   "display_name": "Python 3",
   "language": "python",
   "name": "python3"
  },
  "language_info": {
   "codemirror_mode": {
    "name": "ipython",
    "version": 3
   },
   "file_extension": ".py",
   "mimetype": "text/x-python",
   "name": "python",
   "nbconvert_exporter": "python",
   "pygments_lexer": "ipython3",
   "version": "3.8.5"
  },
  "toc-autonumbering": true,
  "toc-showcode": false,
  "widgets": {
   "application/vnd.jupyter.widget-state+json": {
    "state": {},
    "version_major": 2,
    "version_minor": 0
   }
  }
 },
 "nbformat": 4,
 "nbformat_minor": 4
}
