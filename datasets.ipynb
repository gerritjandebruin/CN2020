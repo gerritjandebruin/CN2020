{
 "cells": [
  {
   "cell_type": "code",
   "execution_count": 1,
   "metadata": {
    "execution": {
     "iopub.execute_input": "2020-08-29T16:04:45.632611Z",
     "iopub.status.busy": "2020-08-29T16:04:45.632468Z",
     "iopub.status.idle": "2020-08-29T16:04:46.074603Z",
     "shell.execute_reply": "2020-08-29T16:04:46.074079Z",
     "shell.execute_reply.started": "2020-08-29T16:04:45.632596Z"
    }
   },
   "outputs": [],
   "source": [
    "import datetime\n",
    "import itertools\n",
    "import math\n",
    "import os\n",
    "from typing import List, Tuple, Dict, Literal\n",
    "\n",
    "import joblib\n",
    "import networkx as nx\n",
    "import numpy as np\n",
    "import pandas as pd\n",
    "  \n",
    "Papers = List[Tuple[List[int], datetime.datetime]]\n",
    "Edge = List[Tuple[int, int, Dict[Literal['date'], datetime.datetime]]]\n",
    "\n",
    "def weighted_median(d: np.ndarray) -> float: return np.average(d[:,0], weights=d[:,1])"
   ]
  },
  {
   "cell_type": "markdown",
   "metadata": {},
   "source": [
    "# Condmat"
   ]
  },
  {
   "cell_type": "code",
   "execution_count": 7,
   "metadata": {
    "execution": {
     "iopub.execute_input": "2020-08-29T16:06:40.166112Z",
     "iopub.status.busy": "2020-08-29T16:06:40.165932Z",
     "iopub.status.idle": "2020-08-29T16:06:40.175298Z",
     "shell.execute_reply": "2020-08-29T16:06:40.175006Z",
     "shell.execute_reply.started": "2020-08-29T16:06:40.166095Z"
    }
   },
   "outputs": [],
   "source": [
    "def get_edgelist(*, filepath='src/cond-mat.hg2', start=None, stop=None) -> List[Edge]:\n",
    "  \"\"\"Return E_[t_1, t_2].\"\"\"\n",
    "  papers = _get_papers(filepath)\n",
    "  edges = [\n",
    "    (u, v, dict(date=date)) if u<v else (v, u, dict(date=date))\n",
    "    for authors, date in papers\n",
    "    for u, v in itertools.combinations(authors, 2)\n",
    "  ]\n",
    "  return _filter_edgelist(edges, start, stop)\n",
    "def _filter_edgelist(edges: List[Edge], start, stop) -> List[Edge]: \n",
    "  \"\"\"Filter edgelist.  If start/ stop is float, start/stop from the fraction of total edges. If datetime, this is used.\"\"\" \n",
    "  no_edges = len(edges)\n",
    "  if start is None: start=0\n",
    "  if stop is None: stop=1\n",
    "  if type(start) is float or start == 0:\n",
    "    start_index = int(start*no_edges)\n",
    "    start = edges[start_index][2]['date']\n",
    "  if type(stop) is float or stop == 1:\n",
    "    stop_index = math.floor(stop*no_edges)-1\n",
    "    stop = edges[stop_index][2]['date']\n",
    "  return [edge for edge in edges if edge[2]['date'] >= start and edge[2]['date'] <= stop]\n",
    "def _get_papers(filepath: str) -> Papers:\n",
    "  \"\"\"Read collaboration data in filepath and return all papers.\"\"\"\n",
    "  \n",
    "  papers = list()\n",
    "  # Get number of rows to read for the vertices.\n",
    "  with open(filepath) as file:\n",
    "    no_rows = int(file.readline().split(' ')[1])\n",
    " \n",
    "  with open(filepath) as file:\n",
    "    for paper in file.readlines()[no_rows+2:]:\n",
    "      # Each line has the following format: epoch no_authors [ u v (w ...) ]\n",
    "      epoch = datetime.datetime.fromtimestamp(int(paper.split(' ')[0]))\n",
    "          \n",
    "      no_authors = int(paper.split(' ')[1])\n",
    "      index1 = paper.find('[')+2\n",
    "      index2 = paper.find(']')-1\n",
    "\n",
    "      authors = [int(auth) for auth in paper[index1:index2].split(' ')]\n",
    "      assert no_authors == len(authors)\n",
    "      \n",
    "      papers.append((authors, epoch))\n",
    "  return papers\n",
    "def get_graph(edgelist: List[Edge]) -> nx.Graph:\n",
    "  \"\"\"Add edge to graph. Contains edge attribute weight.\"\"\"\n",
    "  g = nx.Graph()\n",
    "  \n",
    "  for u, v, _ in edgelist:\n",
    "    weight = g[u][v][\"weight\"]+1 if g.has_edge(u,v) else 1\n",
    "    g.add_edge(u, v, weight=weight)\n",
    "  \n",
    "  return g\n",
    "def giant_component(graph: nx.Graph) -> nx.Graph: return graph.subgraph(max(nx.connected_components(graph), key=len)).copy()"
   ]
  },
  {
   "cell_type": "code",
   "execution_count": 17,
   "metadata": {
    "execution": {
     "iopub.execute_input": "2020-08-27T16:55:41.936752Z",
     "iopub.status.busy": "2020-08-27T16:55:41.936511Z",
     "iopub.status.idle": "2020-08-27T16:55:47.067956Z",
     "shell.execute_reply": "2020-08-27T16:55:47.067505Z",
     "shell.execute_reply.started": "2020-08-27T16:55:41.936729Z"
    }
   },
   "outputs": [
    {
     "name": "stdout",
     "output_type": "stream",
     "text": [
      "Size of file: 1e+06\n",
      "*** Welcome to teexGraph ***\n",
      "- Use standard input (cin) to give commands\n",
      "- Read standard output (cout) to catch the result\n",
      "- Observe standard log (clog) and (cerr) for status and error messages\n",
      "- Graphs up to MAXN = 10000000 nodes are accepted\n",
      "Input a command: Loading an undirected graph. Enter filename: \n",
      "Loading graph from temp/network.edges ...\n",
      "- 55276 edges added (m = 55276) in total\n",
      "- 0 edges skipped\n",
      "- 6 self-edges added\n",
      "\n",
      "Sorting edge list...\n",
      "Sorting done.\n",
      "Loading done.\n",
      "\n",
      "Making graph undirected (m = 55276)...\n",
      "Sorting edge list...\n",
      "Sorting done.\n",
      "  WARNING: number of edges is not equal to (twice the) number of input lines.\n",
      "  Verify that the graph is actually undirected.\n",
      "Undirected-making done (m = 110546).\n",
      "Loading file succeeded.\n",
      "WCC computed.\n",
      "\n",
      "> Computing distance distribution (based on a 100% sample of 17218 nodes) with 128 CPUs...\n",
      "            0          000   0   0 0   0% 0% 0% 0% 0% 0% 0 %  0% 0%0% 0% 0% 0% 0%0     000%0   0%0% 0% 0% 0% 0% 0% 0% 0    0% 0% 0% 0% 0% 0% 0% 0%0% 0% 0% 0% 0% 0% 0%0%  0%0% 0% 0% 0% 0% 0% 0% 0% 0% 0% 0% 0%0% 0% 0% 0% 0% 0% 0%0% 0% 0%% 0% 0% 0% 0%0%0%0% 0% 0%0% 0%0%0% 0%0%%% 0%0%  0%0%0 0%% 000  0%0 0 %0%0%%000%% % 00    00%%00%0% % 0%0%%%%0%%0%%0% 0%%%%0%%% 0%0%0%%0% 0%0%% 0%%0%% 5% 10% 15% 20% 27% 30% 36% 40% 45% 50% 55% 60% 65% 70% 75% 80% 85% 90% 95% Done.\n",
      "Weighted total: 1.43191e+09, count: 2.27446e+08, average: 6.29561\n",
      "Min-index: 0, max-index: 19, min-value: 4, max-value: 62398620\n",
      "> \n",
      "End of program.\n",
      "Number of edges (gc): 55276 (95%)\n",
      "Number of edges (gc): 17218 (88%)\n",
      "Density: 3.7e-04\n",
      "Mean distance: 6.3\n",
      "Diameter: 19\n",
      "CPU times: user 1.28 s, sys: 82.1 ms, total: 1.36 s\n",
      "Wall time: 5.13 s\n"
     ]
    }
   ],
   "source": [
    "%%time\n",
    "\n",
    "filepath = 'datasets/condmat/cond-mat.hg2'\n",
    "print(f'Size of file: {os.path.getsize(filepath):.0e}')\n",
    "edges = get_edgelist(filepath=filepath)\n",
    "g = get_graph(edges)\n",
    "\n",
    "with open()\n",
    "!printf '%s\\n' 'load_undirected temp/network.edges' 'dist_distri' > \"temp/input.txt\"\n",
    "nx.write_edgelist(g, 'temp/network.edges', data=False)\n",
    "! /local/bruingjde/teexgraph/teexgraph < temp/input.txt > temp/output.txt\n",
    "\n",
    "gc = giant_component(g)\n",
    "e = g.number_of_edges()\n",
    "n = g.number_of_nodes()\n",
    "print(f'Number of edges (gc): {e} ({gc.number_of_edges() / e:.0%})')\n",
    "print(f'Number of edges (gc): {n} ({gc.number_of_nodes() / n:.0%})')\n",
    "print(f'Density: {nx.density(g):.1e}')\n",
    "print(f\"Mean distance: {weighted_median(np.loadtxt('temp/output.txt')):.1f}\")\n",
    "print(f\"Diameter: {int(np.loadtxt('temp/output.txt')[-1,0])}\")"
   ]
  },
  {
   "cell_type": "markdown",
   "metadata": {},
   "source": [
    "# Enron"
   ]
  },
  {
   "cell_type": "code",
   "execution_count": 21,
   "metadata": {
    "execution": {
     "iopub.execute_input": "2020-08-30T07:33:37.843994Z",
     "iopub.status.busy": "2020-08-30T07:33:37.843756Z",
     "iopub.status.idle": "2020-08-30T07:33:37.848543Z",
     "shell.execute_reply": "2020-08-30T07:33:37.848001Z",
     "shell.execute_reply.started": "2020-08-30T07:33:37.843978Z"
    }
   },
   "outputs": [],
   "source": [
    "def read_edges(file: str, sep=' ', skiprows=1) -> pd.DataFrame:\n",
    "  d = pd.read_csv(file, sep, skiprows=skiprows, names=['source', 'target', 'weight', 'date'])\n",
    "  d['date'] = d['date'].apply(datetime.datetime.fromtimestamp)\n",
    "  d.sort_values(by='date', inplace=True)\n",
    "  return d.loc[:, ['source', 'target', 'date']]\n",
    "def get_graph(edgelist: pd.DataFrame) -> nx.Graph:\n",
    "  \"\"\"Add edge to graph. Contains edge attribute weight.\"\"\"\n",
    "  g = nx.Graph()\n",
    "  \n",
    "  for u, v, _ in edgelist.itertuples(index=False, name=None):\n",
    "    weight = g[u][v][\"weight\"]+1 if g.has_edge(u,v) else 1\n",
    "    g.add_edge(u, v, weight=weight)\n",
    "  \n",
    "  return g"
   ]
  },
  {
   "cell_type": "code",
   "execution_count": 62,
   "metadata": {
    "execution": {
     "iopub.execute_input": "2020-08-27T08:57:40.536373Z",
     "iopub.status.busy": "2020-08-27T08:57:40.536100Z",
     "iopub.status.idle": "2020-08-27T08:57:52.198373Z",
     "shell.execute_reply": "2020-08-27T08:57:52.197455Z",
     "shell.execute_reply.started": "2020-08-27T08:57:40.536339Z"
    }
   },
   "outputs": [],
   "source": [
    "g = get_graph(read_edges('datasets/enron/out.enron'))"
   ]
  },
  {
   "cell_type": "code",
   "execution_count": 64,
   "metadata": {
    "execution": {
     "iopub.execute_input": "2020-08-27T08:58:03.191700Z",
     "iopub.status.busy": "2020-08-27T08:58:03.191309Z",
     "iopub.status.idle": "2020-08-27T08:58:28.649633Z",
     "shell.execute_reply": "2020-08-27T08:58:28.648549Z",
     "shell.execute_reply.started": "2020-08-27T08:58:03.191659Z"
    }
   },
   "outputs": [
    {
     "name": "stdout",
     "output_type": "stream",
     "text": [
      "CPU times: user 543 ms, sys: 68.8 ms, total: 612 ms\n",
      "Wall time: 25.5 s\n"
     ]
    }
   ],
   "source": [
    "%%time\n",
    "%%capture\n",
    "!printf '%s\\n' 'load_undirected temp/network.edges' 'dist_distri' > \"temp/input.txt\"\n",
    "nx.write_edgelist(g, 'temp/network.edges', data=False)\n",
    "! /local/bruingjde/teexgraph/teexgraph < temp/input.txt > temp/output.txt"
   ]
  },
  {
   "cell_type": "code",
   "execution_count": 65,
   "metadata": {
    "execution": {
     "iopub.execute_input": "2020-08-27T08:58:32.595186Z",
     "iopub.status.busy": "2020-08-27T08:58:32.594959Z",
     "iopub.status.idle": "2020-08-27T08:58:37.356033Z",
     "shell.execute_reply": "2020-08-27T08:58:37.355098Z",
     "shell.execute_reply.started": "2020-08-27T08:58:32.595161Z"
    }
   },
   "outputs": [
    {
     "name": "stdout",
     "output_type": "stream",
     "text": [
      "Number of edges (gc): 299220 (99%)\n",
      "Number of edges (gc): 87273 (97%)\n",
      "Density: 7.9e-05\n",
      "Mean distance: 4.9\n",
      "Diameter: 14\n"
     ]
    }
   ],
   "source": [
    "gc = giant_component(g)\n",
    "e = g.number_of_edges()\n",
    "n = g.number_of_nodes()\n",
    "print(f'Number of edges (gc): {e} ({gc.number_of_edges() / e:.0%})')\n",
    "print(f'Number of edges (gc): {n} ({gc.number_of_nodes() / n:.0%})')\n",
    "print(f'Density: {nx.density(g):.1e}')\n",
    "print(f\"Mean distance: {weighted_median(np.loadtxt('temp/output.txt')):.1f}\")\n",
    "print(f\"Diameter: {int(np.loadtxt('temp/output.txt')[-1,0])}\")"
   ]
  },
  {
   "cell_type": "markdown",
   "metadata": {},
   "source": [
    "# Askubuntu"
   ]
  },
  {
   "cell_type": "code",
   "execution_count": 72,
   "metadata": {
    "execution": {
     "iopub.execute_input": "2020-08-27T09:04:56.368825Z",
     "iopub.status.busy": "2020-08-27T09:04:56.368644Z",
     "iopub.status.idle": "2020-08-27T09:05:05.881291Z",
     "shell.execute_reply": "2020-08-27T09:05:05.880368Z",
     "shell.execute_reply.started": "2020-08-27T09:04:56.368805Z"
    }
   },
   "outputs": [],
   "source": [
    "g = get_graph(read_edges('datasets/askubuntu/out.sx-askubuntu', sep='\\t'))"
   ]
  },
  {
   "cell_type": "code",
   "execution_count": 73,
   "metadata": {
    "execution": {
     "iopub.execute_input": "2020-08-27T09:05:05.882765Z",
     "iopub.status.busy": "2020-08-27T09:05:05.882585Z",
     "iopub.status.idle": "2020-08-27T09:07:08.940897Z",
     "shell.execute_reply": "2020-08-27T09:07:08.939851Z",
     "shell.execute_reply.started": "2020-08-27T09:05:05.882744Z"
    }
   },
   "outputs": [
    {
     "name": "stdout",
     "output_type": "stream",
     "text": [
      "CPU times: user 1.26 s, sys: 193 ms, total: 1.45 s\n",
      "Wall time: 2min 3s\n"
     ]
    }
   ],
   "source": [
    "%%time\n",
    "%%capture\n",
    "!printf '%s\\n' 'load_undirected temp/network.edges' 'dist_distri' > \"temp/input.txt\"\n",
    "nx.write_edgelist(g, 'temp/network.edges', data=False)\n",
    "! /local/bruingjde/teexgraph/teexgraph < temp/input.txt > temp/output.txt"
   ]
  },
  {
   "cell_type": "code",
   "execution_count": 74,
   "metadata": {
    "execution": {
     "iopub.execute_input": "2020-08-27T09:07:08.942758Z",
     "iopub.status.busy": "2020-08-27T09:07:08.942569Z",
     "iopub.status.idle": "2020-08-27T09:07:15.685333Z",
     "shell.execute_reply": "2020-08-27T09:07:15.684452Z",
     "shell.execute_reply.started": "2020-08-27T09:07:08.942736Z"
    }
   },
   "outputs": [
    {
     "name": "stdout",
     "output_type": "stream",
     "text": [
      "Number of edges (gc): 508003 (99%)\n",
      "Number of edges (gc): 159316 (96%)\n",
      "Density: 4.0e-05\n",
      "Mean distance: 3.9\n",
      "Diameter: 13\n"
     ]
    }
   ],
   "source": [
    "gc = giant_component(g)\n",
    "e = g.number_of_edges()\n",
    "n = g.number_of_nodes()\n",
    "print(f'Number of edges (gc): {e} ({gc.number_of_edges() / e:.0%})')\n",
    "print(f'Number of edges (gc): {n} ({gc.number_of_nodes() / n:.0%})')\n",
    "print(f'Density: {nx.density(g):.1e}')\n",
    "print(f\"Mean distance: {weighted_median(np.loadtxt('temp/output.txt')):.1f}\")\n",
    "print(f\"Diameter: {int(np.loadtxt('temp/output.txt')[-1,0])}\")"
   ]
  },
  {
   "cell_type": "markdown",
   "metadata": {},
   "source": [
    "# Bibsonomy"
   ]
  },
  {
   "cell_type": "code",
   "execution_count": 75,
   "metadata": {
    "execution": {
     "iopub.execute_input": "2020-08-27T13:29:37.336904Z",
     "iopub.status.busy": "2020-08-27T13:29:37.336486Z",
     "iopub.status.idle": "2020-08-27T13:29:58.726510Z",
     "shell.execute_reply": "2020-08-27T13:29:58.725283Z",
     "shell.execute_reply.started": "2020-08-27T13:29:37.336854Z"
    }
   },
   "outputs": [],
   "source": [
    "g = get_graph(read_edges('datasets/bibsonomy/out.bibsonomy-2ui'))"
   ]
  },
  {
   "cell_type": "code",
   "execution_count": 79,
   "metadata": {
    "execution": {
     "iopub.execute_input": "2020-08-27T13:35:14.885596Z",
     "iopub.status.busy": "2020-08-27T13:35:14.885438Z",
     "iopub.status.idle": "2020-08-27T13:35:19.895498Z",
     "shell.execute_reply": "2020-08-27T13:35:19.895125Z",
     "shell.execute_reply.started": "2020-08-27T13:35:14.885576Z"
    }
   },
   "outputs": [],
   "source": [
    "assert g.number_of_nodes() < 1e8"
   ]
  },
  {
   "cell_type": "code",
   "execution_count": 80,
   "metadata": {
    "execution": {
     "iopub.execute_input": "2020-08-27T13:35:23.388071Z",
     "iopub.status.busy": "2020-08-27T13:35:23.387894Z",
     "iopub.status.idle": "2020-08-27T13:53:06.065465Z",
     "shell.execute_reply": "2020-08-27T13:53:06.064474Z",
     "shell.execute_reply.started": "2020-08-27T13:35:23.388053Z"
    }
   },
   "outputs": [
    {
     "name": "stdout",
     "output_type": "stream",
     "text": [
      "*** Welcome to teexGraph ***\n",
      "- Use standard input (cin) to give commands\n",
      "- Read standard output (cout) to catch the result\n",
      "- Observe standard log (clog) and (cerr) for status and error messages\n",
      "- Graphs up to MAXN = 10000000 nodes are accepted\n",
      "Input a command: Loading an undirected graph. Enter filename: \n",
      "Loading graph from temp/network.edges ...\n",
      "- 801782 edges added (m = 801782) in total\n",
      "- 0 edges skipped\n",
      "- 3 self-edges added\n",
      "\n",
      "Sorting edge list...\n",
      "Sorting done.\n",
      "Loading done.\n",
      "\n",
      "Making graph undirected (m = 801782)...\n",
      "Sorting edge list...\n",
      "Sorting done.\n",
      "  WARNING: number of edges is not equal to (twice the) number of input lines.\n",
      "  Verify that the graph is actually undirected.\n",
      "Undirected-making done (m = 1603561).\n",
      "Loading file succeeded.\n",
      "WCC computed.\n",
      "\n",
      "> Computing distance distribution (based on a 100% sample of 767447 nodes) with 128 CPUs...\n",
      "   0     0                       0    0000 0 0 0  %% 0 00 0%% 0   %0 0 %0 0  %0000% % 0   0 0 %0%  00%%   00%0  0%0% 0% 0% 00% 0   0% 0%0% 0%0% 0%0%0% 0%0%0%0% 0% 0%% 0%0%0%0% 0%0% 0% 0% 0% 0% 0%%0%% 0% 0% 0% 0% 0%0%% 0%% 0%%0% 0%0% 0% 0% 0%% 0%0% 0% 0%0%0% 0% 0%% 0%0%% 0% 0% 0%% 0%0%0% 0% 0%%%% 0% 0% 0%0%0%0%%00% 0%% 0%% 0% 0% 0%0%0%% 0% 0%%0% 0% 0%%0%%0%0% 0% 0% 0 0%% 0%0%  %0%0% 5% 10% 15% 20% 25% 30% 35% 40% 45% 50% 55% 60% 60% 60% 60% 60% 60% Done.\n",
      "Weighted total: 2.91523e+12, count: 5.88975e+11, average: 4.94966\n",
      "Min-index: 0, max-index: 6, min-value: 767447, max-value: 236477646196\n",
      "> \n",
      "End of program.\n",
      "CPU times: user 17.8 s, sys: 4.5 s, total: 22.3 s\n",
      "Wall time: 17min 42s\n"
     ]
    }
   ],
   "source": [
    "%%time\n",
    "!printf '%s\\n' 'load_undirected temp/network.edges' 'dist_distri' > \"temp/input.txt\"\n",
    "nx.write_edgelist(g, 'temp/network.edges', data=False)\n",
    "! /local/bruingjde/teexgraph/teexgraph < temp/input.txt > temp/output.txt"
   ]
  },
  {
   "cell_type": "code",
   "execution_count": 81,
   "metadata": {
    "execution": {
     "iopub.execute_input": "2020-08-27T13:57:57.807250Z",
     "iopub.status.busy": "2020-08-27T13:57:57.806970Z",
     "iopub.status.idle": "2020-08-27T13:58:12.949228Z",
     "shell.execute_reply": "2020-08-27T13:58:12.948811Z",
     "shell.execute_reply.started": "2020-08-27T13:57:57.807224Z"
    }
   },
   "outputs": [
    {
     "name": "stdout",
     "output_type": "stream",
     "text": [
      "Number of edges (gc): 801782 (100%)\n",
      "Number of edges (gc): 767447 (100%)\n",
      "Density: 2.7e-06\n",
      "Mean distance: 4.9\n",
      "Diameter: 6\n"
     ]
    }
   ],
   "source": [
    "gc = giant_component(g)\n",
    "e = g.number_of_edges()\n",
    "n = g.number_of_nodes()\n",
    "print(f'Number of edges (gc): {e} ({gc.number_of_edges() / e:.0%})')\n",
    "print(f'Number of edges (gc): {n} ({gc.number_of_nodes() / n:.0%})')\n",
    "print(f'Density: {nx.density(g):.1e}')\n",
    "print(f\"Mean distance: {weighted_median(np.loadtxt('temp/output.txt')):.1f}\")\n",
    "print(f\"Diameter: {int(np.loadtxt('temp/output.txt')[-1,0])}\")"
   ]
  },
  {
   "cell_type": "markdown",
   "metadata": {},
   "source": [
    "# Digg"
   ]
  },
  {
   "cell_type": "code",
   "execution_count": 82,
   "metadata": {
    "execution": {
     "iopub.execute_input": "2020-08-27T14:00:23.967879Z",
     "iopub.status.busy": "2020-08-27T14:00:23.967653Z",
     "iopub.status.idle": "2020-08-27T14:00:24.523556Z",
     "shell.execute_reply": "2020-08-27T14:00:24.523031Z",
     "shell.execute_reply.started": "2020-08-27T14:00:23.967858Z"
    }
   },
   "outputs": [],
   "source": [
    "g = get_graph(read_edges('datasets/digg/out.munmun_digg_reply'))"
   ]
  },
  {
   "cell_type": "code",
   "execution_count": 84,
   "metadata": {
    "execution": {
     "iopub.execute_input": "2020-08-27T14:00:28.694535Z",
     "iopub.status.busy": "2020-08-27T14:00:28.694397Z",
     "iopub.status.idle": "2020-08-27T14:00:34.628840Z",
     "shell.execute_reply": "2020-08-27T14:00:34.628103Z",
     "shell.execute_reply.started": "2020-08-27T14:00:28.694518Z"
    }
   },
   "outputs": [
    {
     "name": "stdout",
     "output_type": "stream",
     "text": [
      "*** Welcome to teexGraph ***\n",
      "- Use standard input (cin) to give commands\n",
      "- Read standard output (cout) to catch the result\n",
      "- Observe standard log (clog) and (cerr) for status and error messages\n",
      "- Graphs up to MAXN = 10000000 nodes are accepted\n",
      "Input a command: Loading an undirected graph. Enter filename: \n",
      "Loading graph from temp/network.edges ...\n",
      "- 86312 edges added (m = 86312) in total\n",
      "- 0 edges skipped\n",
      "- 1157 self-edges added\n",
      "\n",
      "Sorting edge list...\n",
      "Sorting done.\n",
      "Loading done.\n",
      "\n",
      "Making graph undirected (m = 86312)...\n",
      "Sorting edge list...\n",
      "Sorting done.\n",
      "  WARNING: number of edges is not equal to (twice the) number of input lines.\n",
      "  Verify that the graph is actually undirected.\n",
      "Undirected-making done (m = 171467).\n",
      "Loading file succeeded.\n",
      "WCC computed.\n",
      "\n",
      "> Computing distance distribution (based on a 100% sample of 30398 nodes) with 128 CPUs...\n",
      "    0         0  0  0 0% 0% 0%  0  00  0%0   0%   0% 0% 0% 0% 0% 0%0% 0%0% 0 0%  0%0% 0% 0% 0% 0% 0% 0%0% 0% 0% 0% 0% 0% 0% 0% 0% 0% 0% 0% 0%  0% 0%0% 0%0% 0%0% 0% 0% 0%0% 0%0% 0% 0% 0% 0% 0% 0% 0% 0% 0% 0% 0% 0% 0% 0%% 0%0% 0%0% 0%% 0% 0%0% 0%0% 0% 0% 0% 0% 0%% 0% 0% 0% 0%% 0%%%  00%0% 0% 0% 0% 0% 0% 0 0% 0%% 0% 0%0%% 0%0% 0% 0% 0% 0% 0%0% 0%%% 0% 0% 00%0%% 0% 0% 0% 0% 0% 0%0%% 0% 5% 10% 15% 20% 25% 30% 35% 40% 45% 50% 60% 65% 70% 75% 80% 85% 90% 95% Done.\n",
      "Weighted total: 4.10861e+09, count: 8.79243e+08, average: 4.67289\n",
      "Min-index: 0, max-index: 12, min-value: 94, max-value: 348115010\n",
      "> \n",
      "End of program.\n",
      "CPU times: user 220 ms, sys: 125 ms, total: 346 ms\n",
      "Wall time: 5.93 s\n"
     ]
    }
   ],
   "source": [
    "assert g.number_of_nodes() < 1e8\n",
    "%%time\n",
    "!printf '%s\\n' 'load_undirected temp/network.edges' 'dist_distri' > \"temp/input.txt\"\n",
    "nx.write_edgelist(g, 'temp/network.edges', data=False)\n",
    "! /local/bruingjde/teexgraph/teexgraph < temp/input.txt > temp/output.txt"
   ]
  },
  {
   "cell_type": "code",
   "execution_count": 85,
   "metadata": {
    "execution": {
     "iopub.execute_input": "2020-08-27T14:00:34.630149Z",
     "iopub.status.busy": "2020-08-27T14:00:34.629975Z",
     "iopub.status.idle": "2020-08-27T14:00:36.007399Z",
     "shell.execute_reply": "2020-08-27T14:00:36.006696Z",
     "shell.execute_reply.started": "2020-08-27T14:00:34.630128Z"
    }
   },
   "outputs": [
    {
     "name": "stdout",
     "output_type": "stream",
     "text": [
      "Number of edges (gc): 86312 (100%)\n",
      "Number of edges (gc): 30398 (98%)\n",
      "Density: 1.9e-04\n",
      "Mean distance: 4.7\n",
      "Diameter: 12\n"
     ]
    }
   ],
   "source": [
    "gc = giant_component(g)\n",
    "e = g.number_of_edges()\n",
    "n = g.number_of_nodes()\n",
    "print(f'Number of edges (gc): {e} ({gc.number_of_edges() / e:.0%})')\n",
    "print(f'Number of edges (gc): {n} ({gc.number_of_nodes() / n:.0%})')\n",
    "print(f'Density: {nx.density(g):.1e}')\n",
    "print(f\"Mean distance: {weighted_median(np.loadtxt('temp/output.txt')):.1f}\")\n",
    "print(f\"Diameter: {int(np.loadtxt('temp/output.txt')[-1,0])}\")"
   ]
  },
  {
   "cell_type": "markdown",
   "metadata": {},
   "source": [
    "# Edit-enwiki"
   ]
  },
  {
   "cell_type": "code",
   "execution_count": 20,
   "metadata": {
    "execution": {
     "iopub.execute_input": "2020-08-27T18:58:01.248932Z",
     "iopub.status.busy": "2020-08-27T18:58:01.248458Z",
     "iopub.status.idle": "2020-08-27T22:24:54.205795Z",
     "shell.execute_reply": "2020-08-27T22:24:54.204544Z",
     "shell.execute_reply.started": "2020-08-27T18:58:01.248881Z"
    }
   },
   "outputs": [
    {
     "name": "stdout",
     "output_type": "stream",
     "text": [
      "CPU times: user 3h 3min 32s, sys: 23min 38s, total: 3h 27min 11s\n",
      "Wall time: 3h 26min 52s\n"
     ]
    }
   ],
   "source": [
    "%%time\n",
    "g = get_graph(read_edges('datasets/edit-enwiki/out.edit-enwiki', sep='\\t'))"
   ]
  },
  {
   "cell_type": "code",
   "execution_count": 26,
   "metadata": {
    "execution": {
     "iopub.execute_input": "2020-08-28T09:46:50.418147Z",
     "iopub.status.busy": "2020-08-28T09:46:50.417636Z",
     "iopub.status.idle": "2020-08-28T12:30:00.949341Z",
     "shell.execute_reply": "2020-08-28T12:30:00.948405Z",
     "shell.execute_reply.started": "2020-08-28T09:46:50.418096Z"
    }
   },
   "outputs": [
    {
     "name": "stdout",
     "output_type": "stream",
     "text": [
      "CPU times: user 2h 22min 55s, sys: 20min 27s, total: 2h 43min 23s\n",
      "Wall time: 2h 43min 10s\n"
     ]
    },
    {
     "data": {
      "text/plain": [
       "['datasets/edit-enwiki/g.pkl']"
      ]
     },
     "execution_count": 26,
     "metadata": {},
     "output_type": "execute_result"
    }
   ],
   "source": [
    "%%time\n",
    "joblib.dump(g, 'datasets/edit-enwiki/g.pkl', protocol=5)"
   ]
  },
  {
   "cell_type": "code",
   "execution_count": null,
   "metadata": {
    "execution": {
     "iopub.execute_input": "2020-08-29T15:57:19.048621Z",
     "iopub.status.busy": "2020-08-29T15:57:19.048299Z"
    }
   },
   "outputs": [],
   "source": [
    "%%time \n",
    "g = joblib.load('datasets/edit-enwiki/g.pkl')"
   ]
  },
  {
   "cell_type": "code",
   "execution_count": null,
   "metadata": {},
   "outputs": [],
   "source": [
    "gc = giant_component(g)\n",
    "e = g.number_of_edges()\n",
    "n = g.number_of_nodes()\n",
    "print(f'Number of edges (gc): {e} ({gc.number_of_edges() / e:.0%})')\n",
    "print(f'Number of edges (gc): {n} ({gc.number_of_nodes() / n:.0%})')\n",
    "print(f'Density: {nx.density(g):.1e}')"
   ]
  },
  {
   "cell_type": "code",
   "execution_count": null,
   "metadata": {},
   "outputs": [],
   "source": [
    "%%time\n",
    "assert g.number_of_nodes() < 1e8\n",
    "!printf '%s\\n' 'load_undirected temp/network.edges' 'dist_distri' > \"temp/input.txt\"\n",
    "nx.write_edgelist(g, 'temp/network.edges', data=False)\n",
    "! /local/bruingjde/teexgraph/teexgraph < temp/input.txt > temp/output.txt\n",
    "print(f\"Mean distance: {weighted_median(np.loadtxt('temp/output.txt')):.1f}\")\n",
    "print(f\"Diameter: {int(np.loadtxt('temp/output.txt')[-1,0])}\")"
   ]
  },
  {
   "cell_type": "markdown",
   "metadata": {},
   "source": [
    "# Internet"
   ]
  },
  {
   "cell_type": "code",
   "execution_count": 4,
   "metadata": {
    "execution": {
     "iopub.execute_input": "2020-08-29T16:06:09.679823Z",
     "iopub.status.busy": "2020-08-29T16:06:09.679638Z",
     "iopub.status.idle": "2020-08-29T16:06:10.434189Z",
     "shell.execute_reply": "2020-08-29T16:06:10.433688Z",
     "shell.execute_reply.started": "2020-08-29T16:06:09.679807Z"
    }
   },
   "outputs": [
    {
     "name": "stdout",
     "output_type": "stream",
     "text": [
      "CPU times: user 714 ms, sys: 36.8 ms, total: 751 ms\n",
      "Wall time: 750 ms\n"
     ]
    }
   ],
   "source": [
    "%%time\n",
    "g = get_graph(read_edges('datasets/internet/out.topology'))"
   ]
  },
  {
   "cell_type": "code",
   "execution_count": 14,
   "metadata": {
    "execution": {
     "iopub.execute_input": "2020-08-30T07:31:03.452334Z",
     "iopub.status.busy": "2020-08-30T07:31:03.452016Z",
     "iopub.status.idle": "2020-08-30T07:31:07.961285Z",
     "shell.execute_reply": "2020-08-30T07:31:07.960698Z",
     "shell.execute_reply.started": "2020-08-30T07:31:03.452301Z"
    }
   },
   "outputs": [
    {
     "name": "stdout",
     "output_type": "stream",
     "text": [
      "*** Welcome to teexGraph ***\n",
      "- Use standard input (cin) to give commands\n",
      "- Read standard output (cout) to catch the result\n",
      "- Observe standard log (clog) and (cerr) for status and error messages\n",
      "- Graphs up to MAXN = 10000000 nodes are accepted\n",
      "Input a command: Loading an undirected graph. Enter filename: \n",
      "Loading graph from temp/network.edges ...\n",
      "- 107720 edges added (m = 107720) in total\n",
      "- 0 edges skipped\n",
      "- 0 self-edges added\n",
      "\n",
      "Sorting edge list...\n",
      "Sorting done.\n",
      "Loading done.\n",
      "\n",
      "Making graph undirected (m = 107720)...\n",
      "Sorting edge list...\n",
      "Sorting done.\n",
      "Undirected-making done (m = 215440).\n",
      "Loading file succeeded.\n",
      "WCC computed.\n",
      "\n",
      "> Computing distance distribution (based on a 100% sample of 34761 nodes) with 256 CPUs...\n",
      "    0    0%0          0% 0% 0%  0       0% 0% 0%  0 % 0% 0% 00%% 0% 0%       0      0% 0% 0%   0 %     0% 0% 0% 0% 0% 0%0% 0% 0% 0% 0% 00% 0% 0% 0% 0% 0% 0% 0% 0% 0% 0% 0% 0% 0% 0% 0% 0% 0% 0%0% 0% 0% 0%%0% 0% 0% 0% 0% 0% 0% 0%0%  00% 0% 0%0%0%0% 0%% 0 0%0% 00% 0% 0% 0% 0% 0%0% 0% 0% 0% 0% 0% 0%0% 0% 0% 0% 0% 0% 0% 0% 0% 0% 0  0% 0% 0% 0%    0% 0% 0% 0% 0% 0%0% 0% 0 0% 0% 0%0% 0% 0% 0%0% 0% 0%  0%0% 0% 0% 0% 0% 0 0%0% 0% 0% 0%0% 0% 0%0%  00% 0% 0%0%0% 0 0% 0% 0% 0% 0% 0% 0% 0% 0% 0%0% 0% 0%0%  0% 00% 0% 0% 0% 0% 0% 0% 0% 0% 0%0%% 0%%% 0%% 0% 0% 0% 0%0% 0% 0% 0% 0% 0% 0% 0%0%0% 0% 0% 0% 0%%0 0%0 00% 0% 0% 0%0% 0% 0%%0% 0  0% 0% 0  0% 0%0% 0%0% 0% 0%% 000% 0% 0%%0% 0% 0% 0%0%0% 0% %% 0%0% 0%% 0% 0% 0%0%0%% 0%% 0%%%0%0%% 0%   0% 0%%0%0%% 0% 0%0%0%%0% 0%0% 0% 0% 5% 10% 15% 20% 25% 30% 35% 40% 45% 50% 55% 60% 65% 70% 75% 80% 85% 90% 95% Done.\n",
      "Weighted total: 4.5527e+09, count: 1.20833e+09, average: 3.76777\n",
      "Min-index: 0, max-index: 10, min-value: 2, max-value: 571111838\n",
      "> \n",
      "End of program.\n",
      "CPU times: user 230 ms, sys: 28.4 ms, total: 259 ms\n",
      "Wall time: 4.5 s\n"
     ]
    }
   ],
   "source": [
    "%%time\n",
    "assert g.number_of_nodes() < 1e8\n",
    "!printf '%s\\n' 'load_undirected temp/network.edges' 'dist_distri' > \"temp/input.txt\"\n",
    "nx.write_edgelist(g, 'temp/network.edges', data=False)\n",
    "! /tmp/bruingjde/teexgraph/teexgraph < temp/input.txt > temp/output.txt"
   ]
  },
  {
   "cell_type": "code",
   "execution_count": 9,
   "metadata": {
    "execution": {
     "iopub.execute_input": "2020-08-29T16:06:50.269640Z",
     "iopub.status.busy": "2020-08-29T16:06:50.269370Z",
     "iopub.status.idle": "2020-08-29T16:06:51.310071Z",
     "shell.execute_reply": "2020-08-29T16:06:51.309474Z",
     "shell.execute_reply.started": "2020-08-29T16:06:50.269560Z"
    }
   },
   "outputs": [],
   "source": [
    "gc = giant_component(g)\n",
    "e = g.number_of_edges()\n",
    "n = g.number_of_nodes()\n",
    "print(f'Number of edges (gc): {e} ({gc.number_of_edges() / e:.0%})')\n",
    "print(f'Number of edges (gc): {n} ({gc.number_of_nodes() / n:.0%})')\n",
    "print(f'Density: {nx.density(g):.1e}')"
   ]
  },
  {
   "cell_type": "code",
   "execution_count": 15,
   "metadata": {
    "execution": {
     "iopub.execute_input": "2020-08-30T07:31:14.208262Z",
     "iopub.status.busy": "2020-08-30T07:31:14.208116Z",
     "iopub.status.idle": "2020-08-30T07:31:14.212154Z",
     "shell.execute_reply": "2020-08-30T07:31:14.211745Z",
     "shell.execute_reply.started": "2020-08-30T07:31:14.208246Z"
    }
   },
   "outputs": [
    {
     "name": "stdout",
     "output_type": "stream",
     "text": [
      "Mean distance: 3.8\n",
      "Diameter: 10\n"
     ]
    }
   ],
   "source": [
    "print(f\"Mean distance: {weighted_median(np.loadtxt('temp/output.txt')):.1f}\")\n",
    "print(f\"Diameter: {int(np.loadtxt('temp/output.txt')[-1,0])}\")"
   ]
  },
  {
   "cell_type": "markdown",
   "metadata": {},
   "source": [
    "# Slashdot"
   ]
  },
  {
   "cell_type": "code",
   "execution_count": 22,
   "metadata": {
    "execution": {
     "iopub.execute_input": "2020-08-30T07:33:41.894153Z",
     "iopub.status.busy": "2020-08-30T07:33:41.894021Z",
     "iopub.status.idle": "2020-08-30T07:33:42.813284Z",
     "shell.execute_reply": "2020-08-30T07:33:42.812729Z",
     "shell.execute_reply.started": "2020-08-30T07:33:41.894140Z"
    }
   },
   "outputs": [
    {
     "name": "stdout",
     "output_type": "stream",
     "text": [
      "CPU times: user 888 ms, sys: 28.1 ms, total: 916 ms\n",
      "Wall time: 916 ms\n"
     ]
    }
   ],
   "source": [
    "%%time\n",
    "g = get_graph(read_edges('datasets/slashdot/out.slashdot-threads', skiprows=2))"
   ]
  },
  {
   "cell_type": "code",
   "execution_count": 23,
   "metadata": {
    "execution": {
     "iopub.execute_input": "2020-08-30T07:33:53.089625Z",
     "iopub.status.busy": "2020-08-30T07:33:53.089454Z",
     "iopub.status.idle": "2020-08-30T07:33:59.198559Z",
     "shell.execute_reply": "2020-08-30T07:33:59.197862Z",
     "shell.execute_reply.started": "2020-08-30T07:33:53.089609Z"
    }
   },
   "outputs": [
    {
     "name": "stdout",
     "output_type": "stream",
     "text": [
      "*** Welcome to teexGraph ***\n",
      "- Use standard input (cin) to give commands\n",
      "- Read standard output (cout) to catch the result\n",
      "- Observe standard log (clog) and (cerr) for status and error messages\n",
      "- Graphs up to MAXN = 10000000 nodes are accepted\n",
      "Input a command: Loading an undirected graph. Enter filename: \n",
      "Loading graph from temp/network.edges ...\n",
      "- 117378 edges added (m = 117378) in total\n",
      "- 0 edges skipped\n",
      "- 805 self-edges added\n",
      "\n",
      "Sorting edge list...\n",
      "Sorting done.\n",
      "Loading done.\n",
      "\n",
      "Making graph undirected (m = 117378)...\n",
      "Sorting edge list...\n",
      "Sorting done.\n",
      "  WARNING: number of edges is not equal to (twice the) number of input lines.\n",
      "  Verify that the graph is actually undirected.\n",
      "Undirected-making done (m = 233951).\n",
      "Loading file succeeded.\n",
      "WCC computed.\n",
      "\n",
      "> Computing distance distribution (based on a 100% sample of 51083 nodes) with 256 CPUs...\n",
      "    00        00% 0%   0 0 %%  0%    0      0     0%      00   00  0%0%   0%0%   % 0%0  0%0%0% 0%%00%0  %  0%  0    0%0%  0%0  0% 0%0  0% 0% 0% 0% 0% 0% 0%0 %0 0%   00% %           00% 0%0 0% 0% 0  0 0%00%  00 %0 %         0% 0%%%0%0 % 0%   0%0% 00%%%0    0% 000% 0%   0 0% 0%0%0%%0%0%0% 0%0%%0%0% 0%%%0% 0%0% 0% 0% 0% 0% 0% 0% 0% 0%%0% 0% 0% 0% 0% 0% 0% 0% 0% 0% 0% 0%  0%0% 0% % 0% 0% 0% 0% 0% 0% 0%0% 0% 0% 0% 0% 0% 0% 0% 0%0% 0% 0% 0% 0% 0% 0%  0%00 %0% 0 0%0%  0% 0 %0 0%0% 000%%%  0%%0% 0 %0% 0% % %0%%0 %000%%00 %00%%  0% 0% 0% 0% 0%0%  00 %0 0  0  00%%0%0 0%  0 00  0 %0 %00%% 0% 0% 00% 0%%%0%0%0%0% 0%0%%%%0%  000%0 %  000%%0%0% 00% 0%% 0% 0%%0% 0%0% 0%%0%%%  0%0%0%  0%% 0%0%%0%0%% 0%0%0%%0%%0%%% 0%0%  0% 0% 0%0%% 0%%%0%%0%% 0%%0%% 0%0 0%0% 0%0%%%0%%% 0%0%% 5% 10% 15% 20% 25% 30% 35% 40% 45% 50% 55% 60% 65% 70% 75% 80% 85% 90% 95% Done.\n",
      "Weighted total: 1.1829e+10, count: 2.60947e+09, average: 4.5331\n",
      "Min-index: 0, max-index: 17, min-value: 4, max-value: 1054976310\n",
      "> \n",
      "End of program.\n",
      "CPU times: user 194 ms, sys: 45.8 ms, total: 240 ms\n",
      "Wall time: 6.1 s\n"
     ]
    }
   ],
   "source": [
    "%%time\n",
    "assert g.number_of_nodes() < 1e8\n",
    "!printf '%s\\n' 'load_undirected temp/network.edges' 'dist_distri' > \"temp/input.txt\"\n",
    "nx.write_edgelist(g, 'temp/network.edges', data=False)\n",
    "! /tmp/bruingjde/teexgraph/teexgraph < temp/input.txt > temp/output.txt"
   ]
  },
  {
   "cell_type": "code",
   "execution_count": 24,
   "metadata": {
    "execution": {
     "iopub.execute_input": "2020-08-30T07:34:01.551525Z",
     "iopub.status.busy": "2020-08-30T07:34:01.551209Z",
     "iopub.status.idle": "2020-08-30T07:34:02.673788Z",
     "shell.execute_reply": "2020-08-30T07:34:02.673263Z",
     "shell.execute_reply.started": "2020-08-30T07:34:01.551493Z"
    }
   },
   "outputs": [
    {
     "name": "stdout",
     "output_type": "stream",
     "text": [
      "Number of edges (gc): 117378 (100%)\n",
      "Number of edges (gc): 51083 (100%)\n",
      "Density: 9.0e-05\n",
      "Mean distance: 4.5\n",
      "Diameter: 17\n"
     ]
    }
   ],
   "source": [
    "gc = giant_component(g)\n",
    "e = g.number_of_edges()\n",
    "n = g.number_of_nodes()\n",
    "print(f'Number of edges (gc): {e} ({gc.number_of_edges() / e:.0%})')\n",
    "print(f'Number of edges (gc): {n} ({gc.number_of_nodes() / n:.0%})')\n",
    "print(f'Density: {nx.density(g):.1e}')\n",
    "print(f\"Mean distance: {weighted_median(np.loadtxt('temp/output.txt')):.1f}\")\n",
    "print(f\"Diameter: {int(np.loadtxt('temp/output.txt')[-1,0])}\")"
   ]
  },
  {
   "cell_type": "markdown",
   "metadata": {},
   "source": [
    "# Stackexchange"
   ]
  },
  {
   "cell_type": "code",
   "execution_count": 26,
   "metadata": {
    "execution": {
     "iopub.execute_input": "2020-08-30T07:35:29.876378Z",
     "iopub.status.busy": "2020-08-30T07:35:29.876253Z",
     "iopub.status.idle": "2020-08-30T07:35:40.237539Z",
     "shell.execute_reply": "2020-08-30T07:35:40.236992Z",
     "shell.execute_reply.started": "2020-08-30T07:35:29.876363Z"
    }
   },
   "outputs": [
    {
     "name": "stdout",
     "output_type": "stream",
     "text": [
      "CPU times: user 10.1 s, sys: 270 ms, total: 10.4 s\n",
      "Wall time: 10.4 s\n"
     ]
    }
   ],
   "source": [
    "%%time\n",
    "g = get_graph(read_edges('datasets/stackexchange/out.stackexchange-stackoverflow', skiprows=2))"
   ]
  },
  {
   "cell_type": "code",
   "execution_count": 27,
   "metadata": {
    "execution": {
     "iopub.execute_input": "2020-08-30T07:35:48.869730Z",
     "iopub.status.busy": "2020-08-30T07:35:48.869449Z",
     "iopub.status.idle": "2020-08-30T07:44:31.262843Z",
     "shell.execute_reply": "2020-08-30T07:44:31.262008Z",
     "shell.execute_reply.started": "2020-08-30T07:35:48.869705Z"
    }
   },
   "outputs": [
    {
     "name": "stdout",
     "output_type": "stream",
     "text": [
      "*** Welcome to teexGraph ***\n",
      "- Use standard input (cin) to give commands\n",
      "- Read standard output (cout) to catch the result\n",
      "- Observe standard log (clog) and (cerr) for status and error messages\n",
      "- Graphs up to MAXN = 10000000 nodes are accepted\n",
      "Input a command: Loading an undirected graph. Enter filename: \n",
      "Loading graph from temp/network.edges ...\n",
      "- 1301887 edges added (m = 1301887) in total\n",
      "- 0 edges skipped\n",
      "- 19 self-edges added\n",
      "\n",
      "Sorting edge list...\n",
      "Sorting done.\n",
      "Loading done.\n",
      "\n",
      "Making graph undirected (m = 1301887)...\n",
      "Sorting edge list...\n",
      "Sorting done.\n",
      "  WARNING: number of edges is not equal to (twice the) number of input lines.\n",
      "  Verify that the graph is actually undirected.\n",
      "Undirected-making done (m = 2603755).\n",
      "Loading file succeeded.\n",
      "WCC computed.\n",
      "\n",
      "> Computing distance distribution (based on a 100% sample of 545196 nodes) with 256 CPUs...\n",
      " 0%     00     0% 0% 0% 0% 0    0 0 0%  0  0      0   0     0 0%0    0%0% 0%  0% 0% 0% 0%  0%0    0 %0% 0% 0%0%% 0%  0%0% 0%% 0% 0%  0        0% 0 00% %0%  0%0% 0% 0% 0%0% 0% 0% 0% 0% 0% 0% 0% 0% 0%0% 0% 0% 0% 0% 0% 0% 0% 0% 0% 0% 0%  0%00%  0 0% 0% 0% 0% 0% 0% 0%0% 0%0% 0% 0% 0% 0%0% 0% 0% 0% 0% 0% 0% 0%0%%0% 0%0% 0%%  0%0% 0%0%%0% 00%%%0% 0%% 0% 0% 0% 0%0% 0%0%0% 0% 0%0% 0%0% 0 0% 0% 0% 0  0%% 0% 0% 0%0% 0% 0%  0%0% 0% 0% 0% 0% 0% 0 0% 0% 0% 0% 0% 0% 0%0% 0 0% 0% 0% 0% 0% 0% 0% 0% 0    0% 0% 0% 0% 0 0%  0% 0% 0% 0% 0% 0 0% 0% 0% 0    0   0% 0% 0% 0%%0%% 0% 0% 0%%0% 0%%0% 0% 0%% 0% 0% 0% 0%%0%0%0% 0%%0% 0% 0% 0%% 0% 0% 0%0%%0% 0% 0% 0% 0%0% 0% 0% 0% 00 0%0 0%00% 0% 0%% 0%0% 0%% 0%%0%0%0%%0%0% 0% 0% 0% 0% 0%% 0 0%%%%0% 0%% 0%%%0% 0% 0% 0% 0% 0%%0% 0%0%%0% 0% 5% 10% 15% 15% 15% 20% 25% 25% 30% 35% 40% 45% 50% 60% 65%  70%70%  80%80% Done.\n",
      "Weighted total: 1.4341e+12, count: 2.97232e+11, average: 4.82485\n",
      "Min-index: 0, max-index: 11, min-value: 6, max-value: 140918940432\n",
      "> \n",
      "End of program.\n",
      "CPU times: user 9.3 s, sys: 1.71 s, total: 11 s\n",
      "Wall time: 8min 42s\n"
     ]
    }
   ],
   "source": [
    "%%time\n",
    "assert g.number_of_nodes() < 1e8\n",
    "!printf '%s\\n' 'load_undirected temp/network.edges' 'dist_distri' > \"temp/input.txt\"\n",
    "nx.write_edgelist(g, 'temp/network.edges', data=False)\n",
    "! /tmp/bruingjde/teexgraph/teexgraph < temp/input.txt > temp/output.txt"
   ]
  },
  {
   "cell_type": "code",
   "execution_count": 28,
   "metadata": {
    "execution": {
     "iopub.execute_input": "2020-08-30T07:44:31.264639Z",
     "iopub.status.busy": "2020-08-30T07:44:31.264388Z",
     "iopub.status.idle": "2020-08-30T07:44:47.742717Z",
     "shell.execute_reply": "2020-08-30T07:44:47.742245Z",
     "shell.execute_reply.started": "2020-08-30T07:44:31.264611Z"
    }
   },
   "outputs": [
    {
     "name": "stdout",
     "output_type": "stream",
     "text": [
      "Number of edges (gc): 1301887 (100%)\n",
      "Number of edges (gc): 545196 (100%)\n",
      "Density: 8.8e-06\n",
      "Mean distance: 4.8\n",
      "Diameter: 11\n"
     ]
    }
   ],
   "source": [
    "gc = giant_component(g)\n",
    "e = g.number_of_edges()\n",
    "n = g.number_of_nodes()\n",
    "print(f'Number of edges (gc): {e} ({gc.number_of_edges() / e:.0%})')\n",
    "print(f'Number of edges (gc): {n} ({gc.number_of_nodes() / n:.0%})')\n",
    "print(f'Density: {nx.density(g):.1e}')\n",
    "print(f\"Mean distance: {weighted_median(np.loadtxt('temp/output.txt')):.1f}\")\n",
    "print(f\"Diameter: {int(np.loadtxt('temp/output.txt')[-1,0])}\")"
   ]
  },
  {
   "cell_type": "code",
   "execution_count": null,
   "metadata": {},
   "outputs": [],
   "source": []
  }
 ],
 "metadata": {
  "kernelspec": {
   "display_name": "Python 3",
   "language": "python",
   "name": "python3"
  },
  "language_info": {
   "codemirror_mode": {
    "name": "ipython",
    "version": 3
   },
   "file_extension": ".py",
   "mimetype": "text/x-python",
   "name": "python",
   "nbconvert_exporter": "python",
   "pygments_lexer": "ipython3",
   "version": "3.8.5"
  },
  "widgets": {
   "application/vnd.jupyter.widget-state+json": {
    "state": {},
    "version_major": 2,
    "version_minor": 0
   }
  }
 },
 "nbformat": 4,
 "nbformat_minor": 4
}
