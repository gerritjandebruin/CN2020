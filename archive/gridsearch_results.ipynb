{
 "cells": [
  {
   "cell_type": "code",
   "execution_count": null,
   "metadata": {},
   "outputs": [],
   "source": []
  },
  {
   "cell_type": "markdown",
   "metadata": {},
   "source": [
    "Not used."
   ]
  },
  {
   "cell_type": "code",
   "execution_count": 21,
   "metadata": {
    "execution": {
     "iopub.execute_input": "2020-08-06T08:32:16.548496Z",
     "iopub.status.busy": "2020-08-06T08:32:16.548157Z",
     "iopub.status.idle": "2020-08-06T08:32:16.567752Z",
     "shell.execute_reply": "2020-08-06T08:32:16.567144Z",
     "shell.execute_reply.started": "2020-08-06T08:32:16.548465Z"
    }
   },
   "outputs": [],
   "source": [
    "models = joblib.load('temp/a1/2/xgb.pkl')"
   ]
  },
  {
   "cell_type": "code",
   "execution_count": 22,
   "metadata": {
    "execution": {
     "iopub.execute_input": "2020-08-06T08:32:20.500508Z",
     "iopub.status.busy": "2020-08-06T08:32:20.500228Z",
     "iopub.status.idle": "2020-08-06T08:32:20.511064Z",
     "shell.execute_reply": "2020-08-06T08:32:20.510523Z",
     "shell.execute_reply.started": "2020-08-06T08:32:20.500481Z"
    }
   },
   "outputs": [
    {
     "data": {
      "text/plain": [
       "GridSearchCV(cv=StratifiedKFold(n_splits=5, random_state=1, shuffle=True),\n",
       "             estimator=XGBClassifier(base_score=None, booster=None,\n",
       "                                     colsample_bylevel=None,\n",
       "                                     colsample_bynode=None,\n",
       "                                     colsample_bytree=None, gamma=None,\n",
       "                                     gpu_id=None, importance_type='gain',\n",
       "                                     interaction_constraints=None,\n",
       "                                     learning_rate=None, max_delta_step=None,\n",
       "                                     max_depth=None, min_child_weight=None,\n",
       "                                     missing...traints=None,\n",
       "                                     n_estimators=100, n_jobs=6,\n",
       "                                     num_parallel_tree=None, random_state=1,\n",
       "                                     reg_alpha=None, reg_lambda=None,\n",
       "                                     scale_pos_weight=None, subsample=None,\n",
       "                                     tree_method='hist',\n",
       "                                     validate_parameters=None, verbosity=None),\n",
       "             n_jobs=30,\n",
       "             param_grid={'max_depth': [1, 2],\n",
       "                         'scale_pos_weight': [362.4902624894157, 1]},\n",
       "             return_train_score=True, scoring='average_precision', verbose=10)"
      ]
     },
     "execution_count": 22,
     "metadata": {},
     "output_type": "execute_result"
    }
   ],
   "source": [
    "models"
   ]
  },
  {
   "cell_type": "code",
   "execution_count": null,
   "metadata": {},
   "outputs": [],
   "source": [
    "models = joblib.load('temp/a1/xgb_hist_maxdepth1.pkl')\n",
    "\n",
    "df = pd.read_pickle('temp/a1/features.pkl')\n",
    "X = df.drop(columns='target').values\n",
    "y = df['target']\n",
    "\n",
    "outer_cv = StratifiedKFold(5, shuffle=True, random_state=1).split(X, y)\n",
    "probas_preds = list()\n",
    "y_trues = list()\n",
    "aps = list()\n",
    "for clf, (train_index, test_index) in zip(models['estimator'], outer_cv):\n",
    "  probas_pred = clf.best_estimator_.predict_proba(X[test_index])[:, 1]\n",
    "  y_true = y[test_index].values\n",
    "  \n",
    "  ap = average_precision_score(y_true, y_score=probas_pred)\n",
    "  \n",
    "  probas_preds.append(probas_pred)\n",
    "  y_trues.append(y_true)\n",
    "  aps.append(ap)\n",
    "probas_pred = np.array(probas_preds).flatten()\n",
    "y_true = np.array(y_trues).flatten()\n",
    "ap = aps"
   ]
  },
  {
   "cell_type": "code",
   "execution_count": null,
   "metadata": {},
   "outputs": [],
   "source": [
    "print(f'average precision: {np.mean(ap):.4f} +- {np.std(ap):.4f}')"
   ]
  },
  {
   "cell_type": "code",
   "execution_count": null,
   "metadata": {},
   "outputs": [],
   "source": [
    "fig = ff.create_distplot(\n",
    "  [probas_pred[y_true], np.random.choice(probas_pred[~y_true], 10000)], \n",
    "  group_labels=['positives', 'negatives'], \n",
    "  bin_size=.01,\n",
    "  colors=['green', 'red'],\n",
    ")\n",
    "fig.update_xaxes(range=[0,1])\n",
    "fig.update_layout(xaxis_title='score')"
   ]
  },
  {
   "cell_type": "code",
   "execution_count": null,
   "metadata": {},
   "outputs": [],
   "source": [
    "%%time\n",
    "p, r, t = precision_recall_curve(y_true, probas_pred)\n",
    "data = pd.DataFrame(\n",
    "  dict(precision=p, recall=r, thresholds=np.append(t, [1]))\n",
    ")[::1000]"
   ]
  },
  {
   "cell_type": "code",
   "execution_count": null,
   "metadata": {},
   "outputs": [],
   "source": [
    "%%time\n",
    "fig = px.scatter(\n",
    "  data, \n",
    "  x='recall', \n",
    "  y='precision', \n",
    "  title='Precision vs recall', \n",
    "  range_x=(0,1), \n",
    "  range_y=(0,1), \n",
    "  width=400, \n",
    "  height=400\n",
    ")\n",
    "fig.show()\n",
    "print(average_precision_score(y_true, y_score=probas_pred))"
   ]
  },
  {
   "cell_type": "code",
   "execution_count": null,
   "metadata": {},
   "outputs": [],
   "source": [
    "fig = go.Figure(\n",
    "  go.Scatter(\n",
    "    x=data['recall'],\n",
    "    y=data['precision'],\n",
    "    mode='lines+markers',\n",
    "    marker=dict(cmin=0, cmax=1, color=data['thresholds'], colorscale='Viridis', colorbar=dict(title=\"Threshold\")),\n",
    "    text=data['thresholds'],\n",
    "    fill='tozeroy'\n",
    "  )\n",
    ")\n",
    "fig.update_layout(\n",
    "  xaxis_title='recall', \n",
    "  yaxis_title='precision', \n",
    "  title='Precision vs recall'\n",
    ")\n",
    "fig.show()"
   ]
  },
  {
   "cell_type": "code",
   "execution_count": null,
   "metadata": {},
   "outputs": [],
   "source": [
    "fpr, tpr, thresholds = roc_curve(y_true, y_score=probas_pred)\n",
    "n = sum(~y_true)\n",
    "p = sum(y_true)\n",
    "data = pd.DataFrame(dict(fp=fpr*n, tp=tpr*p, thresholds=thresholds))[::10000]"
   ]
  },
  {
   "cell_type": "code",
   "execution_count": null,
   "metadata": {},
   "outputs": [],
   "source": [
    "%%time\n",
    "fig = go.Figure(\n",
    "  go.Scatter(\n",
    "    x=data['fp'],\n",
    "    y=data['tp'],\n",
    "    mode='lines+markers',\n",
    "    marker=dict(cmin=0, cmax=1, color=data['thresholds'], colorscale='Viridis', colorbar=dict(title=\"Threshold\")),\n",
    "    text=data['thresholds'],\n",
    "    fill='tozeroy'\n",
    "  )\n",
    ")\n",
    "fig.update_layout(\n",
    "  title='ROC', xaxis_title='true positives', yaxis_title='false positives'\n",
    ")\n",
    "fig.show()\n",
    "print(f'{auc(fpr, tpr):.2f}')"
   ]
  }
 ],
 "metadata": {
  "kernelspec": {
   "display_name": "Python 3",
   "language": "python",
   "name": "python3"
  },
  "language_info": {
   "codemirror_mode": {
    "name": "ipython",
    "version": 3
   },
   "file_extension": ".py",
   "mimetype": "text/x-python",
   "name": "python",
   "nbconvert_exporter": "python",
   "pygments_lexer": "ipython3",
   "version": "3.8.5"
  },
  "widgets": {
   "application/vnd.jupyter.widget-state+json": {
    "state": {},
    "version_major": 2,
    "version_minor": 0
   }
  }
 },
 "nbformat": 4,
 "nbformat_minor": 4
}
