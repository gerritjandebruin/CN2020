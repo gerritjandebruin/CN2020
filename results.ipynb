{
 "cells": [
  {
   "cell_type": "code",
   "execution_count": 37,
   "metadata": {
    "execution": {
     "iopub.execute_input": "2020-08-15T06:02:22.997302Z",
     "iopub.status.busy": "2020-08-15T06:02:22.996912Z",
     "iopub.status.idle": "2020-08-15T06:02:23.004227Z",
     "shell.execute_reply": "2020-08-15T06:02:23.003228Z",
     "shell.execute_reply.started": "2020-08-15T06:02:22.997280Z"
    }
   },
   "outputs": [],
   "source": [
    "import collections\n",
    "import copy\n",
    "import datetime\n",
    "import functools\n",
    "import itertools\n",
    "import math\n",
    "from typing import List, Tuple, Dict\n",
    "\n",
    "import joblib\n",
    "import matplotlib.pyplot as plt\n",
    "import networkx as nx\n",
    "import numpy as np\n",
    "import pandas as pd\n",
    "import plotly.express as px\n",
    "import plotly.figure_factory as ff\n",
    "import plotly.graph_objects as go\n",
    "from sklearn.preprocessing import minmax_scale\n",
    "from sklearn.metrics import precision_recall_curve, average_precision_score, roc_auc_score\n",
    "from sklearn.metrics import roc_curve, auc\n",
    "from sklearn.model_selection import StratifiedKFold, cross_validate, GridSearchCV, train_test_split\n",
    "import seaborn as sns\n",
    "from tqdm import tqdm\n",
    "from xgboost import XGBClassifier\n",
    "\n",
    "NodePair = Tuple[int, int]\n",
    "Edge = List[Tuple[int, int, Dict['date', datetime.datetime]]]\n",
    "\n",
    "results = dict()"
   ]
  },
  {
   "cell_type": "code",
   "execution_count": 63,
   "metadata": {
    "execution": {
     "iopub.execute_input": "2020-08-15T08:08:38.068073Z",
     "iopub.status.busy": "2020-08-15T08:08:38.067159Z",
     "iopub.status.idle": "2020-08-15T08:08:38.186287Z",
     "shell.execute_reply": "2020-08-15T08:08:38.181851Z",
     "shell.execute_reply.started": "2020-08-15T08:08:38.067999Z"
    }
   },
   "outputs": [],
   "source": [
    "def filter_edgelist(edges: pd.DataFrame, start=0, stop=1, verbose=True) -> pd.DataFrame: \n",
    "  \"\"\"Filter edgelist.  If start/ stop is float, start/stop from the fraction of total edges. If datetime, this is used.\"\"\" \n",
    "  no_edges = len(edges)\n",
    "  if start != 0:\n",
    "    if type(start) is float:\n",
    "      assert 0 < start < 1\n",
    "      start = int(start*no_edges)\n",
    "    if type(start) is int: start = edges.iloc[start]['date']\n",
    "    start = start + datetime.timedelta(seconds=1)\n",
    "  else: start = edges['date'].min()\n",
    "  if verbose: print(start)\n",
    "  \n",
    "  if stop != 1:\n",
    "    if type(stop) is float:\n",
    "      assert 0 < stop < 1\n",
    "      stop = math.floor(stop*no_edges)-1\n",
    "    if type(stop) is int: stop = edges.iloc[stop]['date']\n",
    "  else: stop = edges['date'].max()\n",
    "  if verbose: print(stop)\n",
    "  \n",
    "  mask = (edges['date'] >= start) & (edges['date'] <= stop)\n",
    "  if verbose: \n",
    "    no_selected_edges = sum(mask)\n",
    "    print(f'{no_selected_edges=}, ({no_selected_edges/len(edges):.1e})')\n",
    "\n",
    "  return edges.loc[mask]\n",
    "def convert_to_set(edges: pd.DataFrame) -> List[NodePair]: return {edge for edge in edges.loc[:, ['source', 'target']].itertuples(index=False, name=None)}\n",
    "def get_graph(edgelist: pd.DataFrame) -> nx.Graph:\n",
    "  \"\"\"Add edge to graph. Contains edge attribute weight.\"\"\"\n",
    "  g = nx.Graph()\n",
    "  \n",
    "  for u, v, _ in edgelist.itertuples(index=False, name=None):\n",
    "    weight = g[u][v][\"weight\"]+1 if g.has_edge(u,v) else 1\n",
    "    g.add_edge(u, v, weight=weight)\n",
    "  \n",
    "  return g\n",
    "def giant_component(graph: nx.Graph) -> nx.Graph: return graph.subgraph(max(nx.connected_components(graph), key=len)).copy()\n",
    "def report(graph:nx.Graph, probes: Tuple[int, int]):\n",
    "  n = len(probes)\n",
    "  print(f\"Number of probes: {n}\")\n",
    "  a = sum([graph.has_edge(u, v) for u, v in probes])\n",
    "  print(f\"- already edge: {a} ({a/n:.0%})\")\n",
    "  non_edges = set(nx.non_edges(graph))\n",
    "  ne = sum([np in non_edges for np in probes])\n",
    "  print(f\"- both nodes in graph: {ne} ({ne/n:.0%})\")\n",
    "  ng = sum([not (graph.has_node(u) and graph.has_node(v)) for u, v in probes])\n",
    "  print(f\"- not in graph: {ng} ({ng/n:.0%})\")\n",
    "def get_distances(graph: nx.Graph, cutoff: int = None) -> (List[NodePair], List[int]):\n",
    "  \"\"\"\n",
    "  Get all non-edges using BFS. When cutoff provided, consider only node pairs with at most this distance.\n",
    "  Returns:\n",
    "  - nodepairs: tuple containing all nodepairs\n",
    "  - distances: tuple containing all distances\n",
    "  \"\"\"\n",
    "  return zip(\n",
    "    *[\n",
    "      ((u, v), distance)\n",
    "      for u, (nbs_u, _) in tqdm(nx.all_pairs_dijkstra(graph, cutoff, weight=None), total=len(graph), desc=\"get_distances\")\n",
    "      for v, distance in nbs_u.items() if distance > 1 and (cutoff is None or distance <= cutoff) \n",
    "    ]\n",
    "  )\n",
    "def read_edges(file: str, sep=' ') -> pd.DataFrame:\n",
    "  d = pd.read_csv(file, sep, skiprows=1, names=['source', 'target', 'weight', 'date'])\n",
    "  d['date'] = d['date'].apply(datetime.datetime.fromtimestamp)\n",
    "  d.sort_values(by='date', inplace=True)\n",
    "  return d.loc[:, ['source', 'target', 'date']]\n",
    "def gridsearch(df: pd.DataFrame, random_state=1, also_random=True, max_depth=[1, 2]) -> pd.DataFrame:\n",
    "  X = df.drop(columns='target').values\n",
    "  y = df['target'].values\n",
    "  \n",
    "  param_grid=dict(max_depth=max_depth, scale_pos_weight=[sum(~y)/sum(y), 1])\n",
    "  \n",
    "  X_trainval, X_test, y_trainval, y_test = train_test_split(X, y, test_size=1/3, random_state=random_state)\n",
    "  clf = XGBClassifier(random_state=random_state, tree_method='hist', n_jobs=6)\n",
    "  gridsearch = GridSearchCV(\n",
    "    clf, \n",
    "    param_grid=param_grid, \n",
    "    scoring='average_precision', \n",
    "    n_jobs=30,\n",
    "    cv=StratifiedKFold(shuffle=True, random_state=random_state),\n",
    "    return_train_score=True\n",
    "  )\n",
    "  \n",
    "  if also_random: \n",
    "    gridsearch_random = copy.deepcopy(gridsearch)\n",
    "    np.random.seed(random_state)\n",
    "    y_random = copy.deepcopy(y_trainval)\n",
    "    np.random.shuffle(y_random)\n",
    "  \n",
    "  gridsearch.fit(X_trainval, y_trainval)\n",
    "  df_dict = dict(\n",
    "      mean_train=gridsearch.cv_results_['mean_train_score'],\n",
    "      std_train=gridsearch.cv_results_['std_train_score'],\n",
    "      mean_test=gridsearch.cv_results_['mean_test_score'],\n",
    "      std_test=gridsearch.cv_results_['std_test_score'],\n",
    "      test_fold0=gridsearch.cv_results_[f'split0_test_score'],\n",
    "      test_fold1=gridsearch.cv_results_[f'split1_test_score'],\n",
    "      test_fold2=gridsearch.cv_results_[f'split2_test_score'],\n",
    "      test_fold3=gridsearch.cv_results_[f'split3_test_score'],\n",
    "      test_fold4=gridsearch.cv_results_[f'split4_test_score']\n",
    "  )\n",
    "  \n",
    "  if also_random: \n",
    "    gridsearch_random.fit(X_trainval, y_random)\n",
    "    df_dict['mean_train_random']=gridsearch_random.cv_results_['mean_train_score']\n",
    "    df_dict['std_train_random']=gridsearch_random.cv_results_['std_train_score']\n",
    "    df_dict['mean_test_random']=gridsearch_random.cv_results_['mean_test_score']\n",
    "    df_dict['std_test_random']=gridsearch_random.cv_results_['std_test_score']\n",
    "  df = pd.DataFrame(df_dict, index=pd.Index([(d['max_depth'], d['scale_pos_weight'] > 1) for d in gridsearch.cv_results_['params']], name=('max_depth', 'balanced')))\n",
    "  df['diff_train_test'] = (df['mean_test'] - df['mean_train']).abs() / df['mean_test']\n",
    "  df['rstd_test'] = df['std_test'] / df['mean_test']\n",
    "  if also_random: df['test_over_random'] = df['mean_test'] - df['mean_test_random']\n",
    "  return df.sort_values('mean_test', ascending=False)\n",
    "def get_x_y(df: pd.DataFrame): return df.drop(columns='target').values, df['target'].values\n",
    "def report_performance(df_train: pd.DataFrame, df_test=None, random_state=1, max_depth=1, tree_method='hist', balanced=True, n_jobs=128):\n",
    "  X, y = get_x_y(df_train)\n",
    "  if df_test is None: X, X_test, y, y_test = train_test_split(X, y, test_size=1/3, random_state=random_state)\n",
    "  else: X_test, y_test = get_x_y(df_test)\n",
    "  clf = XGBClassifier(max_depth=max_depth, n_jobs=128, tree_method=tree_method, scale_pos_weight=sum(~y)/sum(y) if balanced else 1 , random_state=random_state)\n",
    "  clf.fit(X, y)\n",
    "  y_pred = clf.predict_proba(X_test)[:,1]\n",
    "  return average_precision_score(y_test, y_pred), roc_auc_score(y_test, y_pred)\n",
    "def flatten(l): return np.array([item for sublist in l for item in sublist])\n",
    "def get_katz(graph, nodepairs, beta=.005, cutoff=5): \n",
    "  return [sum([beta**k * v for k, v in collections.Counter([len(p) for p in nx.all_simple_paths(graph, *nodepair, cutoff=5)]).items()]) for nodepair in nodepairs]\n",
    "def get_propflow(graph, limit=5):\n",
    "    score = dict()\n",
    "    for node in tqdm(graph):\n",
    "        scores = {node: 1.0}\n",
    "        found = set()\n",
    "        newSearch = [node]\n",
    "\n",
    "        for _ in range(0, limit+1):\n",
    "            oldSearch = list(newSearch)\n",
    "            found.update(newSearch)\n",
    "            newSearch = set()\n",
    "            while len(oldSearch) != 0:\n",
    "                n2 = oldSearch.pop()\n",
    "                nodeInput = scores[n2]\n",
    "                degree = graph.degree(n2, 'weight')\n",
    "                flow = 0.0\n",
    "                for n3 in graph[n2]:\n",
    "                    wij = graph[n2][n3]['weight']\n",
    "                    flow = nodeInput * (wij*1.0/degree)\n",
    "                    scores[n3] = scores.get(n3, 0) + flow\n",
    "                    if n3 not in found: newSearch.add(n3)\n",
    "        score[node] = scores\n",
    "    return score  \n",
    "def print_status(desc: str): print(f'{datetime.datetime.now().strftime(\"%H:%M:%S\")}: {desc}')\n",
    "class ProgressParallel(joblib.Parallel):\n",
    "    def __init__(self, use_tqdm=True, total=None, desc=None, *args, **kwargs):\n",
    "        self._use_tqdm = use_tqdm\n",
    "        self._total = total\n",
    "        self._desc = desc\n",
    "        super().__init__(*args, **kwargs)\n",
    "\n",
    "    def __call__(self, *args, **kwargs):\n",
    "        with tqdm(disable=not self._use_tqdm, total=self._total, desc=self._desc) as self._pbar:\n",
    "            return joblib.Parallel.__call__(self, *args, **kwargs)\n",
    "\n",
    "    def print_progress(self):\n",
    "        if self._total is None:\n",
    "            self._pbar.total = self.n_dispatched_tasks\n",
    "        self._pbar.n = self.n_completed_tasks\n",
    "        self._pbar.refresh()\n",
    "def print_function(f):\n",
    "  @functools.wraps(f)\n",
    "  def wrapper(*args, **kwargs):\n",
    "    print_status(f.__name__)\n",
    "    return f(*args, **kwargs)\n",
    "  return wrapper\n",
    "@print_function\n",
    "def get_d(graph: nx.Graph, nodepairs: List[NodePair], verbose=True) -> (np.array, np.array):\n",
    "  degree = np.array([[degree for _, degree in graph.degree(nodepair)] for nodepair in tqdm(nodepairs, desc=\"Degree\", disable=not verbose)])\n",
    "  degree.sort(axis=1)\n",
    "  return degree[:,0], degree[:,1]\n",
    "@print_function\n",
    "def get_v(graph: nx.Graph, nodepairs: List[NodePair]) -> (np.array, np.array):\n",
    "  volume = np.array([[degree for _, degree in graph.degree(nodepair, weight='weight')] for nodepair in tqdm(nodepairs, desc=\"Volume\")])\n",
    "  volume.sort(axis=1)\n",
    "  return volume[:,0], volume[:,1]\n",
    "@print_function\n",
    "def get_cn(graph: nx.Graph, nodepairs: List[NodePair]) -> np.array: return np.array([len(list(nx.common_neighbors(graph, *nodepair))) for nodepair in tqdm(nodepairs, desc='Common Neighbors')])\n",
    "@print_function\n",
    "def get_pf(graph: nx.Graph, nodepairs: List[NodePair]) -> np.array:\n",
    "  score = get_propflow(graph)\n",
    "  return np.fromiter(((score.get(u, 0).get(v, 0) + score.get(v, 0).get(u, 0))/2 for u, v in tqdm(nodepairs, desc='propflow')), dtype=float)\n",
    "@print_function\n",
    "def get_sp(graph: nx.Graph, nodepairs: List[NodePair], cutoff=5) -> np.array:\n",
    "  sp_dict = {node: {k: len(v) for k, v in nx.predecessor(graph, node, cutoff=cutoff).items()} for node in tqdm(graph, desc='calculating shortest paths')}\n",
    "  return np.fromiter((sp_dict[u][v] for u, v in tqdm(nodepairs, desc='Retrieve sp')), dtype=int)\n",
    "def get_mf(graph: nx.Graph, nodepairs: List[NodePair], cutoff=5, flow_func = nx.algorithms.flow.edmonds_karp, chunk_size=1000) -> np.array:\n",
    "  def mf(graph, nodepairs, **kwargs): \n",
    "    return [nx.maximum_flow_value(graph, *nodepair, capacity='weight', **kwargs) for nodepair in nodepairs]\n",
    "  print_status('residual network')\n",
    "  residual = nx.algorithms.flow.utils.build_residual_network(graph, capacity='weight')\n",
    "  no_chunks = len(nodepairs) // chunk_size\n",
    "  chunks = np.array_split(nodepairs, no_chunks)\n",
    "  print_status('get_mf')\n",
    "  return flatten(ProgressParallel(n_jobs=128, total=no_chunks, desc='Maxflow (parallel)')(joblib.delayed(mf)(graph, chunk, residual=residual, flow_func=flow_func, cutoff=cutoff) for chunk in chunks))"
   ]
  },
  {
   "cell_type": "markdown",
   "metadata": {},
   "source": [
    "## Condmat"
   ]
  },
  {
   "cell_type": "markdown",
   "metadata": {},
   "source": [
    "### Random"
   ]
  },
  {
   "cell_type": "code",
   "execution_count": 33,
   "metadata": {
    "execution": {
     "iopub.execute_input": "2020-08-13T21:30:53.405086Z",
     "iopub.status.busy": "2020-08-13T21:30:53.404911Z",
     "iopub.status.idle": "2020-08-13T21:31:05.709050Z",
     "shell.execute_reply": "2020-08-13T21:31:05.708021Z",
     "shell.execute_reply.started": "2020-08-13T21:30:53.405067Z"
    }
   },
   "outputs": [],
   "source": [
    "condmat_random = gridsearch(pd.read_pickle('datasets/condmat/random/2/features.pkl'))"
   ]
  },
  {
   "cell_type": "code",
   "execution_count": 34,
   "metadata": {
    "execution": {
     "iopub.execute_input": "2020-08-13T21:31:05.710770Z",
     "iopub.status.busy": "2020-08-13T21:31:05.710597Z",
     "iopub.status.idle": "2020-08-13T21:31:05.724731Z",
     "shell.execute_reply": "2020-08-13T21:31:05.724100Z",
     "shell.execute_reply.started": "2020-08-13T21:31:05.710750Z"
    }
   },
   "outputs": [
    {
     "data": {
      "text/html": [
       "<div>\n",
       "<style scoped>\n",
       "    .dataframe tbody tr th:only-of-type {\n",
       "        vertical-align: middle;\n",
       "    }\n",
       "\n",
       "    .dataframe tbody tr th {\n",
       "        vertical-align: top;\n",
       "    }\n",
       "\n",
       "    .dataframe thead th {\n",
       "        text-align: right;\n",
       "    }\n",
       "</style>\n",
       "<table border=\"1\" class=\"dataframe\">\n",
       "  <thead>\n",
       "    <tr style=\"text-align: right;\">\n",
       "      <th></th>\n",
       "      <th></th>\n",
       "      <th>mean_test</th>\n",
       "      <th>diff_train_test</th>\n",
       "      <th>rstd_test</th>\n",
       "      <th>test_over_random</th>\n",
       "      <th>test_fold0</th>\n",
       "      <th>test_fold1</th>\n",
       "      <th>test_fold2</th>\n",
       "      <th>test_fold3</th>\n",
       "      <th>test_fold4</th>\n",
       "    </tr>\n",
       "    <tr>\n",
       "      <th>max_depth</th>\n",
       "      <th>balanced</th>\n",
       "      <th></th>\n",
       "      <th></th>\n",
       "      <th></th>\n",
       "      <th></th>\n",
       "      <th></th>\n",
       "      <th></th>\n",
       "      <th></th>\n",
       "      <th></th>\n",
       "      <th></th>\n",
       "    </tr>\n",
       "  </thead>\n",
       "  <tbody>\n",
       "    <tr>\n",
       "      <th>2</th>\n",
       "      <th>False</th>\n",
       "      <td>0.011711</td>\n",
       "      <td>1.439408</td>\n",
       "      <td>0.301330</td>\n",
       "      <td>0.008951</td>\n",
       "      <td>0.017680</td>\n",
       "      <td>0.006682</td>\n",
       "      <td>0.012222</td>\n",
       "      <td>0.010868</td>\n",
       "      <td>0.011102</td>\n",
       "    </tr>\n",
       "    <tr>\n",
       "      <th>1</th>\n",
       "      <th>False</th>\n",
       "      <td>0.011336</td>\n",
       "      <td>0.122145</td>\n",
       "      <td>0.430077</td>\n",
       "      <td>0.008822</td>\n",
       "      <td>0.019543</td>\n",
       "      <td>0.006487</td>\n",
       "      <td>0.014112</td>\n",
       "      <td>0.007421</td>\n",
       "      <td>0.009115</td>\n",
       "    </tr>\n",
       "    <tr>\n",
       "      <th>2</th>\n",
       "      <th>True</th>\n",
       "      <td>0.010128</td>\n",
       "      <td>0.985273</td>\n",
       "      <td>0.375302</td>\n",
       "      <td>0.007355</td>\n",
       "      <td>0.016543</td>\n",
       "      <td>0.006186</td>\n",
       "      <td>0.011873</td>\n",
       "      <td>0.006675</td>\n",
       "      <td>0.009365</td>\n",
       "    </tr>\n",
       "    <tr>\n",
       "      <th>1</th>\n",
       "      <th>True</th>\n",
       "      <td>0.009457</td>\n",
       "      <td>0.146815</td>\n",
       "      <td>0.277128</td>\n",
       "      <td>0.006947</td>\n",
       "      <td>0.012661</td>\n",
       "      <td>0.006343</td>\n",
       "      <td>0.012234</td>\n",
       "      <td>0.006894</td>\n",
       "      <td>0.009152</td>\n",
       "    </tr>\n",
       "  </tbody>\n",
       "</table>\n",
       "</div>"
      ],
      "text/plain": [
       "                    mean_test  diff_train_test  rstd_test  test_over_random  \\\n",
       "max_depth balanced                                                            \n",
       "2         False      0.011711         1.439408   0.301330          0.008951   \n",
       "1         False      0.011336         0.122145   0.430077          0.008822   \n",
       "2         True       0.010128         0.985273   0.375302          0.007355   \n",
       "1         True       0.009457         0.146815   0.277128          0.006947   \n",
       "\n",
       "                    test_fold0  test_fold1  test_fold2  test_fold3  test_fold4  \n",
       "max_depth balanced                                                              \n",
       "2         False       0.017680    0.006682    0.012222    0.010868    0.011102  \n",
       "1         False       0.019543    0.006487    0.014112    0.007421    0.009115  \n",
       "2         True        0.016543    0.006186    0.011873    0.006675    0.009365  \n",
       "1         True        0.012661    0.006343    0.012234    0.006894    0.009152  "
      ]
     },
     "execution_count": 34,
     "metadata": {},
     "output_type": "execute_result"
    }
   ],
   "source": [
    "condmat_random[['mean_test', 'diff_train_test', 'rstd_test', 'test_over_random', 'test_fold0', 'test_fold1', 'test_fold2', 'test_fold3', 'test_fold4']]"
   ]
  },
  {
   "cell_type": "code",
   "execution_count": 23,
   "metadata": {
    "execution": {
     "iopub.execute_input": "2020-08-13T21:16:29.991269Z",
     "iopub.status.busy": "2020-08-13T21:16:29.991108Z",
     "iopub.status.idle": "2020-08-13T21:16:34.177607Z",
     "shell.execute_reply": "2020-08-13T21:16:34.176559Z",
     "shell.execute_reply.started": "2020-08-13T21:16:29.991249Z"
    }
   },
   "outputs": [
    {
     "name": "stdout",
     "output_type": "stream",
     "text": [
      "(0.01161405871585572, 0.7167960845889996)\n"
     ]
    }
   ],
   "source": [
    "results['condmat'] = dict()\n",
    "results['condmat']['random'] = report_performance(pd.read_pickle('datasets/condmat/random/2/features.pkl'), max_depth=1, balanced=False)\n",
    "print(results['condmat']['random'])"
   ]
  },
  {
   "cell_type": "markdown",
   "metadata": {},
   "source": [
    "### Temporal"
   ]
  },
  {
   "cell_type": "code",
   "execution_count": 37,
   "metadata": {
    "execution": {
     "iopub.execute_input": "2020-08-13T21:31:13.626496Z",
     "iopub.status.busy": "2020-08-13T21:31:13.626344Z",
     "iopub.status.idle": "2020-08-13T21:31:21.051619Z",
     "shell.execute_reply": "2020-08-13T21:31:21.050662Z",
     "shell.execute_reply.started": "2020-08-13T21:31:13.626477Z"
    }
   },
   "outputs": [],
   "source": [
    "condmat_temporal = gridsearch(pd.read_pickle('datasets/condmat/temporal/train/2/features.pkl'))"
   ]
  },
  {
   "cell_type": "code",
   "execution_count": 38,
   "metadata": {
    "execution": {
     "iopub.execute_input": "2020-08-13T21:31:21.053695Z",
     "iopub.status.busy": "2020-08-13T21:31:21.053496Z",
     "iopub.status.idle": "2020-08-13T21:31:21.068947Z",
     "shell.execute_reply": "2020-08-13T21:31:21.068308Z",
     "shell.execute_reply.started": "2020-08-13T21:31:21.053671Z"
    }
   },
   "outputs": [
    {
     "data": {
      "text/html": [
       "<div>\n",
       "<style scoped>\n",
       "    .dataframe tbody tr th:only-of-type {\n",
       "        vertical-align: middle;\n",
       "    }\n",
       "\n",
       "    .dataframe tbody tr th {\n",
       "        vertical-align: top;\n",
       "    }\n",
       "\n",
       "    .dataframe thead th {\n",
       "        text-align: right;\n",
       "    }\n",
       "</style>\n",
       "<table border=\"1\" class=\"dataframe\">\n",
       "  <thead>\n",
       "    <tr style=\"text-align: right;\">\n",
       "      <th></th>\n",
       "      <th></th>\n",
       "      <th>mean_test</th>\n",
       "      <th>diff_train_test</th>\n",
       "      <th>rstd_test</th>\n",
       "      <th>test_over_random</th>\n",
       "      <th>test_fold0</th>\n",
       "      <th>test_fold1</th>\n",
       "      <th>test_fold2</th>\n",
       "      <th>test_fold3</th>\n",
       "      <th>test_fold4</th>\n",
       "    </tr>\n",
       "    <tr>\n",
       "      <th>max_depth</th>\n",
       "      <th>balanced</th>\n",
       "      <th></th>\n",
       "      <th></th>\n",
       "      <th></th>\n",
       "      <th></th>\n",
       "      <th></th>\n",
       "      <th></th>\n",
       "      <th></th>\n",
       "      <th></th>\n",
       "      <th></th>\n",
       "    </tr>\n",
       "  </thead>\n",
       "  <tbody>\n",
       "    <tr>\n",
       "      <th>1</th>\n",
       "      <th>False</th>\n",
       "      <td>0.005152</td>\n",
       "      <td>0.206178</td>\n",
       "      <td>0.622107</td>\n",
       "      <td>0.003848</td>\n",
       "      <td>0.006089</td>\n",
       "      <td>0.002433</td>\n",
       "      <td>0.002779</td>\n",
       "      <td>0.003432</td>\n",
       "      <td>0.011026</td>\n",
       "    </tr>\n",
       "    <tr>\n",
       "      <th rowspan=\"2\" valign=\"top\">2</th>\n",
       "      <th>False</th>\n",
       "      <td>0.004359</td>\n",
       "      <td>3.991703</td>\n",
       "      <td>0.299936</td>\n",
       "      <td>0.003044</td>\n",
       "      <td>0.006444</td>\n",
       "      <td>0.003775</td>\n",
       "      <td>0.002997</td>\n",
       "      <td>0.003291</td>\n",
       "      <td>0.005288</td>\n",
       "    </tr>\n",
       "    <tr>\n",
       "      <th>True</th>\n",
       "      <td>0.003938</td>\n",
       "      <td>2.986969</td>\n",
       "      <td>0.283034</td>\n",
       "      <td>0.002622</td>\n",
       "      <td>0.003795</td>\n",
       "      <td>0.004030</td>\n",
       "      <td>0.002880</td>\n",
       "      <td>0.003000</td>\n",
       "      <td>0.005983</td>\n",
       "    </tr>\n",
       "    <tr>\n",
       "      <th>1</th>\n",
       "      <th>True</th>\n",
       "      <td>0.003246</td>\n",
       "      <td>0.492874</td>\n",
       "      <td>0.194280</td>\n",
       "      <td>0.001938</td>\n",
       "      <td>0.003892</td>\n",
       "      <td>0.002504</td>\n",
       "      <td>0.002665</td>\n",
       "      <td>0.003107</td>\n",
       "      <td>0.004061</td>\n",
       "    </tr>\n",
       "  </tbody>\n",
       "</table>\n",
       "</div>"
      ],
      "text/plain": [
       "                    mean_test  diff_train_test  rstd_test  test_over_random  \\\n",
       "max_depth balanced                                                            \n",
       "1         False      0.005152         0.206178   0.622107          0.003848   \n",
       "2         False      0.004359         3.991703   0.299936          0.003044   \n",
       "          True       0.003938         2.986969   0.283034          0.002622   \n",
       "1         True       0.003246         0.492874   0.194280          0.001938   \n",
       "\n",
       "                    test_fold0  test_fold1  test_fold2  test_fold3  test_fold4  \n",
       "max_depth balanced                                                              \n",
       "1         False       0.006089    0.002433    0.002779    0.003432    0.011026  \n",
       "2         False       0.006444    0.003775    0.002997    0.003291    0.005288  \n",
       "          True        0.003795    0.004030    0.002880    0.003000    0.005983  \n",
       "1         True        0.003892    0.002504    0.002665    0.003107    0.004061  "
      ]
     },
     "execution_count": 38,
     "metadata": {},
     "output_type": "execute_result"
    }
   ],
   "source": [
    "condmat_temporal[['mean_test', 'diff_train_test', 'rstd_test', 'test_over_random', 'test_fold0', 'test_fold1', 'test_fold2', 'test_fold3', 'test_fold4']]"
   ]
  },
  {
   "cell_type": "code",
   "execution_count": 22,
   "metadata": {
    "execution": {
     "iopub.execute_input": "2020-08-13T21:16:25.168512Z",
     "iopub.status.busy": "2020-08-13T21:16:25.168352Z",
     "iopub.status.idle": "2020-08-13T21:16:29.989880Z",
     "shell.execute_reply": "2020-08-13T21:16:29.988929Z",
     "shell.execute_reply.started": "2020-08-13T21:16:25.168493Z"
    }
   },
   "outputs": [
    {
     "name": "stdout",
     "output_type": "stream",
     "text": [
      "(0.004799299901218471, 0.7319341272805222)\n"
     ]
    }
   ],
   "source": [
    "results['condmat']['temporal'] = report_performance(\n",
    "  df_train=pd.read_pickle('datasets/condmat/temporal/train/2/features.pkl'), \n",
    "  df_test=pd.read_pickle('datasets/condmat/temporal/test/2/features.pkl'),\n",
    "  max_depth=1, \n",
    "  balanced=False\n",
    ")\n",
    "print(results['condmat']['temporal'])"
   ]
  },
  {
   "cell_type": "markdown",
   "metadata": {},
   "source": [
    "## Enron"
   ]
  },
  {
   "cell_type": "code",
   "execution_count": 39,
   "metadata": {
    "execution": {
     "iopub.execute_input": "2020-08-13T21:31:21.070234Z",
     "iopub.status.busy": "2020-08-13T21:31:21.070048Z",
     "iopub.status.idle": "2020-08-13T21:31:26.564608Z",
     "shell.execute_reply": "2020-08-13T21:31:26.563947Z",
     "shell.execute_reply.started": "2020-08-13T21:31:21.070211Z"
    }
   },
   "outputs": [],
   "source": [
    "dataset = 'enron'"
   ]
  },
  {
   "cell_type": "markdown",
   "metadata": {},
   "source": [
    "### Random"
   ]
  },
  {
   "cell_type": "code",
   "execution_count": 40,
   "metadata": {
    "execution": {
     "iopub.execute_input": "2020-08-13T21:31:26.565621Z",
     "iopub.status.busy": "2020-08-13T21:31:26.565471Z",
     "iopub.status.idle": "2020-08-13T21:32:04.223054Z",
     "shell.execute_reply": "2020-08-13T21:32:04.222103Z",
     "shell.execute_reply.started": "2020-08-13T21:31:26.565603Z"
    }
   },
   "outputs": [],
   "source": [
    "random = gridsearch(pd.read_pickle(f'datasets/{dataset}/random/2/features.pkl'))"
   ]
  },
  {
   "cell_type": "code",
   "execution_count": 41,
   "metadata": {
    "execution": {
     "iopub.execute_input": "2020-08-13T21:32:04.224521Z",
     "iopub.status.busy": "2020-08-13T21:32:04.224324Z",
     "iopub.status.idle": "2020-08-13T21:32:04.239459Z",
     "shell.execute_reply": "2020-08-13T21:32:04.238802Z",
     "shell.execute_reply.started": "2020-08-13T21:32:04.224497Z"
    }
   },
   "outputs": [
    {
     "data": {
      "text/html": [
       "<div>\n",
       "<style scoped>\n",
       "    .dataframe tbody tr th:only-of-type {\n",
       "        vertical-align: middle;\n",
       "    }\n",
       "\n",
       "    .dataframe tbody tr th {\n",
       "        vertical-align: top;\n",
       "    }\n",
       "\n",
       "    .dataframe thead th {\n",
       "        text-align: right;\n",
       "    }\n",
       "</style>\n",
       "<table border=\"1\" class=\"dataframe\">\n",
       "  <thead>\n",
       "    <tr style=\"text-align: right;\">\n",
       "      <th></th>\n",
       "      <th></th>\n",
       "      <th>mean_test</th>\n",
       "      <th>diff_train_test</th>\n",
       "      <th>rstd_test</th>\n",
       "      <th>test_over_random</th>\n",
       "      <th>test_fold0</th>\n",
       "      <th>test_fold1</th>\n",
       "      <th>test_fold2</th>\n",
       "      <th>test_fold3</th>\n",
       "      <th>test_fold4</th>\n",
       "    </tr>\n",
       "    <tr>\n",
       "      <th>max_depth</th>\n",
       "      <th>balanced</th>\n",
       "      <th></th>\n",
       "      <th></th>\n",
       "      <th></th>\n",
       "      <th></th>\n",
       "      <th></th>\n",
       "      <th></th>\n",
       "      <th></th>\n",
       "      <th></th>\n",
       "      <th></th>\n",
       "    </tr>\n",
       "  </thead>\n",
       "  <tbody>\n",
       "    <tr>\n",
       "      <th rowspan=\"2\" valign=\"top\">2</th>\n",
       "      <th>False</th>\n",
       "      <td>0.035862</td>\n",
       "      <td>0.241268</td>\n",
       "      <td>0.195357</td>\n",
       "      <td>0.034583</td>\n",
       "      <td>0.037135</td>\n",
       "      <td>0.027194</td>\n",
       "      <td>0.048338</td>\n",
       "      <td>0.033124</td>\n",
       "      <td>0.033518</td>\n",
       "    </tr>\n",
       "    <tr>\n",
       "      <th>True</th>\n",
       "      <td>0.022814</td>\n",
       "      <td>0.141970</td>\n",
       "      <td>0.068906</td>\n",
       "      <td>0.021526</td>\n",
       "      <td>0.024880</td>\n",
       "      <td>0.020727</td>\n",
       "      <td>0.024251</td>\n",
       "      <td>0.022684</td>\n",
       "      <td>0.021529</td>\n",
       "    </tr>\n",
       "    <tr>\n",
       "      <th rowspan=\"2\" valign=\"top\">1</th>\n",
       "      <th>False</th>\n",
       "      <td>0.017305</td>\n",
       "      <td>0.030621</td>\n",
       "      <td>0.118209</td>\n",
       "      <td>0.016025</td>\n",
       "      <td>0.018222</td>\n",
       "      <td>0.014126</td>\n",
       "      <td>0.020375</td>\n",
       "      <td>0.017233</td>\n",
       "      <td>0.016568</td>\n",
       "    </tr>\n",
       "    <tr>\n",
       "      <th>True</th>\n",
       "      <td>0.013299</td>\n",
       "      <td>0.002559</td>\n",
       "      <td>0.106276</td>\n",
       "      <td>0.012012</td>\n",
       "      <td>0.013753</td>\n",
       "      <td>0.011673</td>\n",
       "      <td>0.015660</td>\n",
       "      <td>0.012050</td>\n",
       "      <td>0.013360</td>\n",
       "    </tr>\n",
       "  </tbody>\n",
       "</table>\n",
       "</div>"
      ],
      "text/plain": [
       "                    mean_test  diff_train_test  rstd_test  test_over_random  \\\n",
       "max_depth balanced                                                            \n",
       "2         False      0.035862         0.241268   0.195357          0.034583   \n",
       "          True       0.022814         0.141970   0.068906          0.021526   \n",
       "1         False      0.017305         0.030621   0.118209          0.016025   \n",
       "          True       0.013299         0.002559   0.106276          0.012012   \n",
       "\n",
       "                    test_fold0  test_fold1  test_fold2  test_fold3  test_fold4  \n",
       "max_depth balanced                                                              \n",
       "2         False       0.037135    0.027194    0.048338    0.033124    0.033518  \n",
       "          True        0.024880    0.020727    0.024251    0.022684    0.021529  \n",
       "1         False       0.018222    0.014126    0.020375    0.017233    0.016568  \n",
       "          True        0.013753    0.011673    0.015660    0.012050    0.013360  "
      ]
     },
     "execution_count": 41,
     "metadata": {},
     "output_type": "execute_result"
    }
   ],
   "source": [
    "random[['mean_test', 'diff_train_test', 'rstd_test', 'test_over_random', 'test_fold0', 'test_fold1', 'test_fold2', 'test_fold3', 'test_fold4']]"
   ]
  },
  {
   "cell_type": "code",
   "execution_count": 43,
   "metadata": {
    "execution": {
     "iopub.execute_input": "2020-08-13T21:35:47.975865Z",
     "iopub.status.busy": "2020-08-13T21:35:47.975568Z",
     "iopub.status.idle": "2020-08-13T21:35:54.859277Z",
     "shell.execute_reply": "2020-08-13T21:35:54.857984Z",
     "shell.execute_reply.started": "2020-08-13T21:35:47.975830Z"
    }
   },
   "outputs": [
    {
     "name": "stdout",
     "output_type": "stream",
     "text": [
      "(0.015961239641945298, 0.8706734068173684)\n"
     ]
    }
   ],
   "source": [
    "results[dataset] = dict()\n",
    "results[dataset]['random'] = report_performance(pd.read_pickle(f'datasets/{dataset}/random/2/features.pkl'), max_depth=1, balanced=False)\n",
    "print(results[dataset]['random'])"
   ]
  },
  {
   "cell_type": "markdown",
   "metadata": {},
   "source": [
    "### Temporal"
   ]
  },
  {
   "cell_type": "code",
   "execution_count": 42,
   "metadata": {
    "execution": {
     "iopub.execute_input": "2020-08-13T21:32:04.240943Z",
     "iopub.status.busy": "2020-08-13T21:32:04.240755Z",
     "iopub.status.idle": "2020-08-13T21:32:46.612974Z",
     "shell.execute_reply": "2020-08-13T21:32:46.612251Z",
     "shell.execute_reply.started": "2020-08-13T21:32:04.240919Z"
    }
   },
   "outputs": [
    {
     "data": {
      "text/html": [
       "<div>\n",
       "<style scoped>\n",
       "    .dataframe tbody tr th:only-of-type {\n",
       "        vertical-align: middle;\n",
       "    }\n",
       "\n",
       "    .dataframe tbody tr th {\n",
       "        vertical-align: top;\n",
       "    }\n",
       "\n",
       "    .dataframe thead th {\n",
       "        text-align: right;\n",
       "    }\n",
       "</style>\n",
       "<table border=\"1\" class=\"dataframe\">\n",
       "  <thead>\n",
       "    <tr style=\"text-align: right;\">\n",
       "      <th></th>\n",
       "      <th></th>\n",
       "      <th>mean_test</th>\n",
       "      <th>diff_train_test</th>\n",
       "      <th>rstd_test</th>\n",
       "      <th>test_over_random</th>\n",
       "      <th>test_fold0</th>\n",
       "      <th>test_fold1</th>\n",
       "      <th>test_fold2</th>\n",
       "      <th>test_fold3</th>\n",
       "      <th>test_fold4</th>\n",
       "    </tr>\n",
       "    <tr>\n",
       "      <th>max_depth</th>\n",
       "      <th>balanced</th>\n",
       "      <th></th>\n",
       "      <th></th>\n",
       "      <th></th>\n",
       "      <th></th>\n",
       "      <th></th>\n",
       "      <th></th>\n",
       "      <th></th>\n",
       "      <th></th>\n",
       "      <th></th>\n",
       "    </tr>\n",
       "  </thead>\n",
       "  <tbody>\n",
       "    <tr>\n",
       "      <th rowspan=\"2\" valign=\"top\">2</th>\n",
       "      <th>False</th>\n",
       "      <td>0.026599</td>\n",
       "      <td>0.516816</td>\n",
       "      <td>0.376079</td>\n",
       "      <td>0.026016</td>\n",
       "      <td>0.025339</td>\n",
       "      <td>0.044877</td>\n",
       "      <td>0.027025</td>\n",
       "      <td>0.015393</td>\n",
       "      <td>0.020360</td>\n",
       "    </tr>\n",
       "    <tr>\n",
       "      <th>True</th>\n",
       "      <td>0.012708</td>\n",
       "      <td>0.263628</td>\n",
       "      <td>0.082945</td>\n",
       "      <td>0.012138</td>\n",
       "      <td>0.011507</td>\n",
       "      <td>0.013899</td>\n",
       "      <td>0.012009</td>\n",
       "      <td>0.014051</td>\n",
       "      <td>0.012073</td>\n",
       "    </tr>\n",
       "    <tr>\n",
       "      <th rowspan=\"2\" valign=\"top\">1</th>\n",
       "      <th>False</th>\n",
       "      <td>0.010403</td>\n",
       "      <td>0.072873</td>\n",
       "      <td>0.196721</td>\n",
       "      <td>0.009853</td>\n",
       "      <td>0.010352</td>\n",
       "      <td>0.011283</td>\n",
       "      <td>0.013665</td>\n",
       "      <td>0.007599</td>\n",
       "      <td>0.009115</td>\n",
       "    </tr>\n",
       "    <tr>\n",
       "      <th>True</th>\n",
       "      <td>0.007225</td>\n",
       "      <td>0.000276</td>\n",
       "      <td>0.100433</td>\n",
       "      <td>0.006679</td>\n",
       "      <td>0.008107</td>\n",
       "      <td>0.007296</td>\n",
       "      <td>0.007711</td>\n",
       "      <td>0.007045</td>\n",
       "      <td>0.005967</td>\n",
       "    </tr>\n",
       "  </tbody>\n",
       "</table>\n",
       "</div>"
      ],
      "text/plain": [
       "                    mean_test  diff_train_test  rstd_test  test_over_random  \\\n",
       "max_depth balanced                                                            \n",
       "2         False      0.026599         0.516816   0.376079          0.026016   \n",
       "          True       0.012708         0.263628   0.082945          0.012138   \n",
       "1         False      0.010403         0.072873   0.196721          0.009853   \n",
       "          True       0.007225         0.000276   0.100433          0.006679   \n",
       "\n",
       "                    test_fold0  test_fold1  test_fold2  test_fold3  test_fold4  \n",
       "max_depth balanced                                                              \n",
       "2         False       0.025339    0.044877    0.027025    0.015393    0.020360  \n",
       "          True        0.011507    0.013899    0.012009    0.014051    0.012073  \n",
       "1         False       0.010352    0.011283    0.013665    0.007599    0.009115  \n",
       "          True        0.008107    0.007296    0.007711    0.007045    0.005967  "
      ]
     },
     "execution_count": 42,
     "metadata": {},
     "output_type": "execute_result"
    }
   ],
   "source": [
    "temporal = gridsearch(pd.read_pickle(f'datasets/{dataset}/temporal/train/2/features.pkl'))\n",
    "temporal[['mean_test', 'diff_train_test', 'rstd_test', 'test_over_random', 'test_fold0', 'test_fold1', 'test_fold2', 'test_fold3', 'test_fold4']]"
   ]
  },
  {
   "cell_type": "code",
   "execution_count": 44,
   "metadata": {
    "execution": {
     "iopub.execute_input": "2020-08-13T21:36:06.056304Z",
     "iopub.status.busy": "2020-08-13T21:36:06.055969Z",
     "iopub.status.idle": "2020-08-13T21:36:16.506947Z",
     "shell.execute_reply": "2020-08-13T21:36:16.506128Z",
     "shell.execute_reply.started": "2020-08-13T21:36:06.056280Z"
    }
   },
   "outputs": [
    {
     "name": "stdout",
     "output_type": "stream",
     "text": [
      "(0.011743071145453058, 0.8742894406283527)\n"
     ]
    }
   ],
   "source": [
    "results[dataset]['temporal'] = report_performance(\n",
    "  df_train=pd.read_pickle(f'datasets/{dataset}/temporal/train/2/features.pkl'), \n",
    "  df_test=pd.read_pickle(f'datasets/{dataset}/temporal/test/2/features.pkl'),\n",
    "  max_depth=1, \n",
    "  balanced=False\n",
    ")\n",
    "print(results[dataset]['temporal'])"
   ]
  },
  {
   "cell_type": "markdown",
   "metadata": {},
   "source": [
    "## Askubuntu"
   ]
  },
  {
   "cell_type": "code",
   "execution_count": 68,
   "metadata": {
    "execution": {
     "iopub.execute_input": "2020-08-13T21:57:08.627784Z",
     "iopub.status.busy": "2020-08-13T21:57:08.627470Z",
     "iopub.status.idle": "2020-08-13T21:57:08.631510Z",
     "shell.execute_reply": "2020-08-13T21:57:08.630802Z",
     "shell.execute_reply.started": "2020-08-13T21:57:08.627758Z"
    }
   },
   "outputs": [],
   "source": [
    "dataset = 'askubuntu'"
   ]
  },
  {
   "cell_type": "markdown",
   "metadata": {},
   "source": [
    "### Random"
   ]
  },
  {
   "cell_type": "code",
   "execution_count": 50,
   "metadata": {
    "execution": {
     "iopub.execute_input": "2020-08-13T21:38:50.825964Z",
     "iopub.status.busy": "2020-08-13T21:38:50.825725Z",
     "iopub.status.idle": "2020-08-13T21:39:42.010991Z",
     "shell.execute_reply": "2020-08-13T21:39:42.010311Z",
     "shell.execute_reply.started": "2020-08-13T21:38:50.825944Z"
    }
   },
   "outputs": [
    {
     "data": {
      "text/html": [
       "<div>\n",
       "<style scoped>\n",
       "    .dataframe tbody tr th:only-of-type {\n",
       "        vertical-align: middle;\n",
       "    }\n",
       "\n",
       "    .dataframe tbody tr th {\n",
       "        vertical-align: top;\n",
       "    }\n",
       "\n",
       "    .dataframe thead th {\n",
       "        text-align: right;\n",
       "    }\n",
       "</style>\n",
       "<table border=\"1\" class=\"dataframe\">\n",
       "  <thead>\n",
       "    <tr style=\"text-align: right;\">\n",
       "      <th></th>\n",
       "      <th></th>\n",
       "      <th>mean_test</th>\n",
       "      <th>diff_train_test</th>\n",
       "      <th>rstd_test</th>\n",
       "      <th>test_over_random</th>\n",
       "      <th>test_fold0</th>\n",
       "      <th>test_fold1</th>\n",
       "      <th>test_fold2</th>\n",
       "      <th>test_fold3</th>\n",
       "      <th>test_fold4</th>\n",
       "    </tr>\n",
       "    <tr>\n",
       "      <th>max_depth</th>\n",
       "      <th>balanced</th>\n",
       "      <th></th>\n",
       "      <th></th>\n",
       "      <th></th>\n",
       "      <th></th>\n",
       "      <th></th>\n",
       "      <th></th>\n",
       "      <th></th>\n",
       "      <th></th>\n",
       "      <th></th>\n",
       "    </tr>\n",
       "  </thead>\n",
       "  <tbody>\n",
       "    <tr>\n",
       "      <th>3</th>\n",
       "      <th>False</th>\n",
       "      <td>0.050200</td>\n",
       "      <td>0.825770</td>\n",
       "      <td>0.159691</td>\n",
       "      <td>0.049308</td>\n",
       "      <td>0.057978</td>\n",
       "      <td>0.055663</td>\n",
       "      <td>0.050619</td>\n",
       "      <td>0.035078</td>\n",
       "      <td>0.051662</td>\n",
       "    </tr>\n",
       "    <tr>\n",
       "      <th>2</th>\n",
       "      <th>False</th>\n",
       "      <td>0.041473</td>\n",
       "      <td>0.346244</td>\n",
       "      <td>0.120017</td>\n",
       "      <td>0.040560</td>\n",
       "      <td>0.046468</td>\n",
       "      <td>0.043193</td>\n",
       "      <td>0.046345</td>\n",
       "      <td>0.034082</td>\n",
       "      <td>0.037276</td>\n",
       "    </tr>\n",
       "    <tr>\n",
       "      <th>3</th>\n",
       "      <th>True</th>\n",
       "      <td>0.036390</td>\n",
       "      <td>0.318876</td>\n",
       "      <td>0.092383</td>\n",
       "      <td>0.035518</td>\n",
       "      <td>0.035754</td>\n",
       "      <td>0.032753</td>\n",
       "      <td>0.035488</td>\n",
       "      <td>0.035192</td>\n",
       "      <td>0.042764</td>\n",
       "    </tr>\n",
       "    <tr>\n",
       "      <th>2</th>\n",
       "      <th>True</th>\n",
       "      <td>0.029424</td>\n",
       "      <td>0.038861</td>\n",
       "      <td>0.047644</td>\n",
       "      <td>0.028534</td>\n",
       "      <td>0.029342</td>\n",
       "      <td>0.028542</td>\n",
       "      <td>0.032157</td>\n",
       "      <td>0.028488</td>\n",
       "      <td>0.028590</td>\n",
       "    </tr>\n",
       "    <tr>\n",
       "      <th rowspan=\"2\" valign=\"top\">1</th>\n",
       "      <th>False</th>\n",
       "      <td>0.019488</td>\n",
       "      <td>0.050299</td>\n",
       "      <td>0.094515</td>\n",
       "      <td>0.018554</td>\n",
       "      <td>0.018621</td>\n",
       "      <td>0.022406</td>\n",
       "      <td>0.019953</td>\n",
       "      <td>0.016761</td>\n",
       "      <td>0.019701</td>\n",
       "    </tr>\n",
       "    <tr>\n",
       "      <th>True</th>\n",
       "      <td>0.016752</td>\n",
       "      <td>0.025251</td>\n",
       "      <td>0.107087</td>\n",
       "      <td>0.015825</td>\n",
       "      <td>0.017591</td>\n",
       "      <td>0.017891</td>\n",
       "      <td>0.016554</td>\n",
       "      <td>0.013365</td>\n",
       "      <td>0.018357</td>\n",
       "    </tr>\n",
       "  </tbody>\n",
       "</table>\n",
       "</div>"
      ],
      "text/plain": [
       "                    mean_test  diff_train_test  rstd_test  test_over_random  \\\n",
       "max_depth balanced                                                            \n",
       "3         False      0.050200         0.825770   0.159691          0.049308   \n",
       "2         False      0.041473         0.346244   0.120017          0.040560   \n",
       "3         True       0.036390         0.318876   0.092383          0.035518   \n",
       "2         True       0.029424         0.038861   0.047644          0.028534   \n",
       "1         False      0.019488         0.050299   0.094515          0.018554   \n",
       "          True       0.016752         0.025251   0.107087          0.015825   \n",
       "\n",
       "                    test_fold0  test_fold1  test_fold2  test_fold3  test_fold4  \n",
       "max_depth balanced                                                              \n",
       "3         False       0.057978    0.055663    0.050619    0.035078    0.051662  \n",
       "2         False       0.046468    0.043193    0.046345    0.034082    0.037276  \n",
       "3         True        0.035754    0.032753    0.035488    0.035192    0.042764  \n",
       "2         True        0.029342    0.028542    0.032157    0.028488    0.028590  \n",
       "1         False       0.018621    0.022406    0.019953    0.016761    0.019701  \n",
       "          True        0.017591    0.017891    0.016554    0.013365    0.018357  "
      ]
     },
     "execution_count": 50,
     "metadata": {},
     "output_type": "execute_result"
    }
   ],
   "source": [
    "random = gridsearch(pd.read_pickle(f'datasets/{dataset}/random/2/features.pkl'), max_depth=[1,2,3])\n",
    "random[['mean_test', 'diff_train_test', 'rstd_test', 'test_over_random', 'test_fold0', 'test_fold1', 'test_fold2', 'test_fold3', 'test_fold4']]"
   ]
  },
  {
   "cell_type": "code",
   "execution_count": 69,
   "metadata": {
    "execution": {
     "iopub.execute_input": "2020-08-13T21:57:12.733629Z",
     "iopub.status.busy": "2020-08-13T21:57:12.733321Z",
     "iopub.status.idle": "2020-08-13T21:57:31.582497Z",
     "shell.execute_reply": "2020-08-13T21:57:31.581472Z",
     "shell.execute_reply.started": "2020-08-13T21:57:12.733604Z"
    }
   },
   "outputs": [
    {
     "name": "stdout",
     "output_type": "stream",
     "text": [
      "(0.023293264618648724, 0.8946992586126661)\n"
     ]
    }
   ],
   "source": [
    "results[dataset] = dict()\n",
    "results[dataset]['random'] = report_performance(pd.read_pickle(f'datasets/{dataset}/random/2/features.pkl'), max_depth=2, balanced=True)\n",
    "print(results[dataset]['random'])"
   ]
  },
  {
   "cell_type": "markdown",
   "metadata": {},
   "source": [
    "### Temporal"
   ]
  },
  {
   "cell_type": "code",
   "execution_count": 51,
   "metadata": {
    "execution": {
     "iopub.execute_input": "2020-08-13T21:39:42.012434Z",
     "iopub.status.busy": "2020-08-13T21:39:42.012263Z",
     "iopub.status.idle": "2020-08-13T21:40:31.658468Z",
     "shell.execute_reply": "2020-08-13T21:40:31.657821Z",
     "shell.execute_reply.started": "2020-08-13T21:39:42.012413Z"
    }
   },
   "outputs": [
    {
     "data": {
      "text/html": [
       "<div>\n",
       "<style scoped>\n",
       "    .dataframe tbody tr th:only-of-type {\n",
       "        vertical-align: middle;\n",
       "    }\n",
       "\n",
       "    .dataframe tbody tr th {\n",
       "        vertical-align: top;\n",
       "    }\n",
       "\n",
       "    .dataframe thead th {\n",
       "        text-align: right;\n",
       "    }\n",
       "</style>\n",
       "<table border=\"1\" class=\"dataframe\">\n",
       "  <thead>\n",
       "    <tr style=\"text-align: right;\">\n",
       "      <th></th>\n",
       "      <th></th>\n",
       "      <th>mean_test</th>\n",
       "      <th>diff_train_test</th>\n",
       "      <th>rstd_test</th>\n",
       "      <th>test_over_random</th>\n",
       "      <th>test_fold0</th>\n",
       "      <th>test_fold1</th>\n",
       "      <th>test_fold2</th>\n",
       "      <th>test_fold3</th>\n",
       "      <th>test_fold4</th>\n",
       "    </tr>\n",
       "    <tr>\n",
       "      <th>max_depth</th>\n",
       "      <th>balanced</th>\n",
       "      <th></th>\n",
       "      <th></th>\n",
       "      <th></th>\n",
       "      <th></th>\n",
       "      <th></th>\n",
       "      <th></th>\n",
       "      <th></th>\n",
       "      <th></th>\n",
       "      <th></th>\n",
       "    </tr>\n",
       "  </thead>\n",
       "  <tbody>\n",
       "    <tr>\n",
       "      <th>3</th>\n",
       "      <th>False</th>\n",
       "      <td>0.039860</td>\n",
       "      <td>1.150436</td>\n",
       "      <td>0.232144</td>\n",
       "      <td>0.039328</td>\n",
       "      <td>0.025780</td>\n",
       "      <td>0.042280</td>\n",
       "      <td>0.033903</td>\n",
       "      <td>0.044582</td>\n",
       "      <td>0.052753</td>\n",
       "    </tr>\n",
       "    <tr>\n",
       "      <th>2</th>\n",
       "      <th>False</th>\n",
       "      <td>0.031763</td>\n",
       "      <td>0.404810</td>\n",
       "      <td>0.154870</td>\n",
       "      <td>0.031233</td>\n",
       "      <td>0.026208</td>\n",
       "      <td>0.030563</td>\n",
       "      <td>0.027827</td>\n",
       "      <td>0.034271</td>\n",
       "      <td>0.039943</td>\n",
       "    </tr>\n",
       "    <tr>\n",
       "      <th>3</th>\n",
       "      <th>True</th>\n",
       "      <td>0.028169</td>\n",
       "      <td>0.315953</td>\n",
       "      <td>0.255624</td>\n",
       "      <td>0.027639</td>\n",
       "      <td>0.018628</td>\n",
       "      <td>0.031371</td>\n",
       "      <td>0.020469</td>\n",
       "      <td>0.035430</td>\n",
       "      <td>0.034949</td>\n",
       "    </tr>\n",
       "    <tr>\n",
       "      <th>2</th>\n",
       "      <th>True</th>\n",
       "      <td>0.020791</td>\n",
       "      <td>0.038073</td>\n",
       "      <td>0.263838</td>\n",
       "      <td>0.020254</td>\n",
       "      <td>0.014498</td>\n",
       "      <td>0.020978</td>\n",
       "      <td>0.015061</td>\n",
       "      <td>0.028702</td>\n",
       "      <td>0.024717</td>\n",
       "    </tr>\n",
       "    <tr>\n",
       "      <th rowspan=\"2\" valign=\"top\">1</th>\n",
       "      <th>False</th>\n",
       "      <td>0.013962</td>\n",
       "      <td>0.130814</td>\n",
       "      <td>0.219161</td>\n",
       "      <td>0.013397</td>\n",
       "      <td>0.010621</td>\n",
       "      <td>0.012798</td>\n",
       "      <td>0.011182</td>\n",
       "      <td>0.017749</td>\n",
       "      <td>0.017459</td>\n",
       "    </tr>\n",
       "    <tr>\n",
       "      <th>True</th>\n",
       "      <td>0.012130</td>\n",
       "      <td>0.055315</td>\n",
       "      <td>0.170149</td>\n",
       "      <td>0.011586</td>\n",
       "      <td>0.010161</td>\n",
       "      <td>0.011052</td>\n",
       "      <td>0.011742</td>\n",
       "      <td>0.016107</td>\n",
       "      <td>0.011589</td>\n",
       "    </tr>\n",
       "  </tbody>\n",
       "</table>\n",
       "</div>"
      ],
      "text/plain": [
       "                    mean_test  diff_train_test  rstd_test  test_over_random  \\\n",
       "max_depth balanced                                                            \n",
       "3         False      0.039860         1.150436   0.232144          0.039328   \n",
       "2         False      0.031763         0.404810   0.154870          0.031233   \n",
       "3         True       0.028169         0.315953   0.255624          0.027639   \n",
       "2         True       0.020791         0.038073   0.263838          0.020254   \n",
       "1         False      0.013962         0.130814   0.219161          0.013397   \n",
       "          True       0.012130         0.055315   0.170149          0.011586   \n",
       "\n",
       "                    test_fold0  test_fold1  test_fold2  test_fold3  test_fold4  \n",
       "max_depth balanced                                                              \n",
       "3         False       0.025780    0.042280    0.033903    0.044582    0.052753  \n",
       "2         False       0.026208    0.030563    0.027827    0.034271    0.039943  \n",
       "3         True        0.018628    0.031371    0.020469    0.035430    0.034949  \n",
       "2         True        0.014498    0.020978    0.015061    0.028702    0.024717  \n",
       "1         False       0.010621    0.012798    0.011182    0.017749    0.017459  \n",
       "          True        0.010161    0.011052    0.011742    0.016107    0.011589  "
      ]
     },
     "execution_count": 51,
     "metadata": {},
     "output_type": "execute_result"
    }
   ],
   "source": [
    "temporal = gridsearch(pd.read_pickle(f'datasets/{dataset}/temporal/train/2/features.pkl'), max_depth=[1,2,3])\n",
    "temporal[['mean_test', 'diff_train_test', 'rstd_test', 'test_over_random', 'test_fold0', 'test_fold1', 'test_fold2', 'test_fold3', 'test_fold4']]"
   ]
  },
  {
   "cell_type": "code",
   "execution_count": 70,
   "metadata": {
    "execution": {
     "iopub.execute_input": "2020-08-13T21:57:31.584062Z",
     "iopub.status.busy": "2020-08-13T21:57:31.583882Z",
     "iopub.status.idle": "2020-08-13T21:57:58.708376Z",
     "shell.execute_reply": "2020-08-13T21:57:58.707470Z",
     "shell.execute_reply.started": "2020-08-13T21:57:31.584041Z"
    }
   },
   "outputs": [
    {
     "name": "stdout",
     "output_type": "stream",
     "text": [
      "(0.004643793569510117, 0.8513835399254048)\n"
     ]
    }
   ],
   "source": [
    "results[dataset]['temporal'] = report_performance(\n",
    "  df_train=pd.read_pickle(f'datasets/{dataset}/temporal/train/2/features.pkl'), \n",
    "  df_test=pd.read_pickle(f'datasets/{dataset}/temporal/test/2/features.pkl'),\n",
    "  max_depth=2, \n",
    "  balanced=True\n",
    ")\n",
    "print(results[dataset]['temporal'])"
   ]
  },
  {
   "cell_type": "markdown",
   "metadata": {},
   "source": [
    "## Bibsonomy"
   ]
  },
  {
   "cell_type": "code",
   "execution_count": 3,
   "metadata": {
    "execution": {
     "iopub.execute_input": "2020-08-14T16:11:56.083211Z",
     "iopub.status.busy": "2020-08-14T16:11:56.082957Z",
     "iopub.status.idle": "2020-08-14T16:11:56.086402Z",
     "shell.execute_reply": "2020-08-14T16:11:56.085653Z",
     "shell.execute_reply.started": "2020-08-14T16:11:56.083189Z"
    }
   },
   "outputs": [],
   "source": [
    "dataset = 'bibsonomy'"
   ]
  },
  {
   "cell_type": "markdown",
   "metadata": {},
   "source": [
    "### Random"
   ]
  },
  {
   "cell_type": "code",
   "execution_count": null,
   "metadata": {},
   "outputs": [],
   "source": []
  }
 ],
 "metadata": {
  "kernelspec": {
   "display_name": "Python 3",
   "language": "python",
   "name": "python3"
  },
  "language_info": {
   "codemirror_mode": {
    "name": "ipython",
    "version": 3
   },
   "file_extension": ".py",
   "mimetype": "text/x-python",
   "name": "python",
   "nbconvert_exporter": "python",
   "pygments_lexer": "ipython3",
   "version": "3.8.5"
  },
  "toc-autonumbering": true,
  "toc-showcode": false,
  "widgets": {
   "application/vnd.jupyter.widget-state+json": {
    "state": {},
    "version_major": 2,
    "version_minor": 0
   }
  }
 },
 "nbformat": 4,
 "nbformat_minor": 4
}
