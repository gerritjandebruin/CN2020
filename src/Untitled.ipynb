{
 "cells": [
  {
   "cell_type": "code",
   "execution_count": 17,
   "metadata": {
    "execution": {
     "iopub.execute_input": "2020-08-10T08:19:09.120789Z",
     "iopub.status.busy": "2020-08-10T08:19:09.120448Z",
     "iopub.status.idle": "2020-08-10T08:19:09.124646Z",
     "shell.execute_reply": "2020-08-10T08:19:09.123921Z",
     "shell.execute_reply.started": "2020-08-10T08:19:09.120751Z"
    }
   },
   "outputs": [],
   "source": [
    "import datetime\n",
    "\n",
    "import pandas as pd"
   ]
  },
  {
   "cell_type": "code",
   "execution_count": 19,
   "metadata": {
    "execution": {
     "iopub.execute_input": "2020-08-10T08:20:03.085562Z",
     "iopub.status.busy": "2020-08-10T08:20:03.085345Z",
     "iopub.status.idle": "2020-08-10T08:20:03.296560Z",
     "shell.execute_reply": "2020-08-10T08:20:03.295721Z",
     "shell.execute_reply.started": "2020-08-10T08:20:03.085541Z"
    }
   },
   "outputs": [],
   "source": [
    "d = pd.read_csv('out.enron', sep=' ', skiprows=1, names=['u', 'v', 'w', 't'])"
   ]
  },
  {
   "cell_type": "code",
   "execution_count": 21,
   "metadata": {
    "execution": {
     "iopub.execute_input": "2020-08-10T08:20:15.969367Z",
     "iopub.status.busy": "2020-08-10T08:20:15.969036Z",
     "iopub.status.idle": "2020-08-10T08:20:16.631172Z",
     "shell.execute_reply": "2020-08-10T08:20:16.630436Z",
     "shell.execute_reply.started": "2020-08-10T08:20:15.969323Z"
    }
   },
   "outputs": [
    {
     "data": {
      "text/plain": [
       "0         2001-10-30 04:11:03\n",
       "1         2001-10-30 04:18:33\n",
       "2         2002-01-11 21:40:54\n",
       "3         2002-01-10 19:31:31\n",
       "4         2002-01-11 21:40:54\n",
       "                  ...        \n",
       "1148067   2001-12-19 02:31:11\n",
       "1148068   2001-12-21 02:36:06\n",
       "1148069   2001-09-06 23:29:30\n",
       "1148070   2001-09-08 02:27:36\n",
       "1148071   2001-11-15 17:50:46\n",
       "Name: t, Length: 1148072, dtype: datetime64[ns]"
      ]
     },
     "execution_count": 21,
     "metadata": {},
     "output_type": "execute_result"
    }
   ],
   "source": [
    "d['t'].apply(datetime.datetime.fromtimestamp)"
   ]
  },
  {
   "cell_type": "code",
   "execution_count": null,
   "metadata": {},
   "outputs": [],
   "source": []
  }
 ],
 "metadata": {
  "kernelspec": {
   "display_name": "Python 3",
   "language": "python",
   "name": "python3"
  },
  "language_info": {
   "codemirror_mode": {
    "name": "ipython",
    "version": 3
   },
   "file_extension": ".py",
   "mimetype": "text/x-python",
   "name": "python",
   "nbconvert_exporter": "python",
   "pygments_lexer": "ipython3",
   "version": "3.8.5"
  },
  "widgets": {
   "application/vnd.jupyter.widget-state+json": {
    "state": {},
    "version_major": 2,
    "version_minor": 0
   }
  }
 },
 "nbformat": 4,
 "nbformat_minor": 4
}
