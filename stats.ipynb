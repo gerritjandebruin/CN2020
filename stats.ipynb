{
 "cells": [
  {
   "cell_type": "code",
   "execution_count": 7,
   "metadata": {},
   "outputs": [],
   "source": [
    "import datetime\n",
    "import itertools\n",
    "import math\n",
    "import os\n",
    "from typing import List, Tuple, Dict, Literal\n",
    "\n",
    "import joblib\n",
    "import networkx as nx\n",
    "import numpy as np\n",
    "import pandas as pd\n",
    "\n",
    "from linkprediction import construct_edges, convert_to_set, get_graph, giant_component, read_edges\n",
    "\n",
    "def weighted_median(d: np.ndarray) -> float: return np.average(d[:,0], weights=d[:,1])"
   ]
  },
  {
   "cell_type": "markdown",
   "metadata": {},
   "source": [
    "# Condmat"
   ]
  },
  {
   "cell_type": "code",
   "execution_count": 18,
   "metadata": {},
   "outputs": [
    {
     "name": "stdout",
     "output_type": "stream",
     "text": [
      "Number of edges (gc): 88090 (100%)\n",
      "Number of nodes (gc): 17218 (88%)\n"
     ]
    }
   ],
   "source": [
    "%%time\n",
    "\n",
    "file = 'data/condmat.hg2'\n",
    "print(f'Size of file: {os.path.getsize(file):.1e}')\n",
    "edges = construct_edges(file)\n",
    "g = get_graph(edges, directed=False)\n",
    "\n",
    "!printf '%s\\n' 'load_undirected temp/network.edges' 'dist_distri' > \"temp/input.txt\"\n",
    "nx.write_edgelist(g, 'temp/network.edges', data=False)\n",
    "! /local/bruingjde/teexgraph/teexgraph < temp/input.txt > temp/output.txt\n",
    "\n",
    "gc = giant_component(g)\n",
    "n = g.number_of_nodes()\n",
    "edges_gc = edges['source'].isin(set(g.nodes)).sum()\n",
    "print(f'Number of edges (gc): {len(edges)} ({edges_gc/len(edges):.0%})')\n",
    "print(f'Number of nodes (gc): {n} ({gc.number_of_nodes() / n:.0%})')"
   ]
  },
  {
   "cell_type": "code",
   "execution_count": 17,
   "metadata": {
    "execution": {
     "iopub.execute_input": "2020-08-27T16:55:41.936752Z",
     "iopub.status.busy": "2020-08-27T16:55:41.936511Z",
     "iopub.status.idle": "2020-08-27T16:55:47.067956Z",
     "shell.execute_reply": "2020-08-27T16:55:47.067505Z",
     "shell.execute_reply.started": "2020-08-27T16:55:41.936729Z"
    }
   },
   "outputs": [
    {
     "name": "stdout",
     "output_type": "stream",
     "text": [
      "Size of file: 1e+06\n",
      "*** Welcome to teexGraph ***\n",
      "- Use standard input (cin) to give commands\n",
      "- Read standard output (cout) to catch the result\n",
      "- Observe standard log (clog) and (cerr) for status and error messages\n",
      "- Graphs up to MAXN = 10000000 nodes are accepted\n",
      "Input a command: Loading an undirected graph. Enter filename: \n",
      "Loading graph from temp/network.edges ...\n",
      "- 55276 edges added (m = 55276) in total\n",
      "- 0 edges skipped\n",
      "- 6 self-edges added\n",
      "\n",
      "Sorting edge list...\n",
      "Sorting done.\n",
      "Loading done.\n",
      "\n",
      "Making graph undirected (m = 55276)...\n",
      "Sorting edge list...\n",
      "Sorting done.\n",
      "  WARNING: number of edges is not equal to (twice the) number of input lines.\n",
      "  Verify that the graph is actually undirected.\n",
      "Undirected-making done (m = 110546).\n",
      "Loading file succeeded.\n",
      "WCC computed.\n",
      "\n",
      "> Computing distance distribution (based on a 100% sample of 17218 nodes) with 128 CPUs...\n",
      "            0          000   0   0 0   0% 0% 0% 0% 0% 0% 0 %  0% 0%0% 0% 0% 0% 0%0     000%0   0%0% 0% 0% 0% 0% 0% 0% 0    0% 0% 0% 0% 0% 0% 0% 0%0% 0% 0% 0% 0% 0% 0%0%  0%0% 0% 0% 0% 0% 0% 0% 0% 0% 0% 0% 0%0% 0% 0% 0% 0% 0% 0%0% 0% 0%% 0% 0% 0% 0%0%0%0% 0% 0%0% 0%0%0% 0%0%%% 0%0%  0%0%0 0%% 000  0%0 0 %0%0%%000%% % 00    00%%00%0% % 0%0%%%%0%%0%%0% 0%%%%0%%% 0%0%0%%0% 0%0%% 0%%0%% 5% 10% 15% 20% 27% 30% 36% 40% 45% 50% 55% 60% 65% 70% 75% 80% 85% 90% 95% Done.\n",
      "Weighted total: 1.43191e+09, count: 2.27446e+08, average: 6.29561\n",
      "Min-index: 0, max-index: 19, min-value: 4, max-value: 62398620\n",
      "> \n",
      "End of program.\n",
      "Number of edges (gc): 55276 (95%)\n",
      "Number of edges (gc): 17218 (88%)\n",
      "Density: 3.7e-04\n",
      "Mean distance: 6.3\n",
      "Diameter: 19\n",
      "CPU times: user 1.28 s, sys: 82.1 ms, total: 1.36 s\n",
      "Wall time: 5.13 s\n"
     ]
    }
   ],
   "source": [
    "print(f'Density: {nx.density(g):.1e}')\n",
    "print(f\"Mean distance: {weighted_median(np.loadtxt('temp/output.txt')):.1f}\")\n",
    "print(f\"Diameter: {int(np.loadtxt('temp/output.txt')[-1,0])}\")"
   ]
  },
  {
   "cell_type": "markdown",
   "metadata": {},
   "source": [
    "# Enron"
   ]
  },
  {
   "cell_type": "code",
   "execution_count": 22,
   "metadata": {},
   "outputs": [
    {
     "name": "stdout",
     "output_type": "stream",
     "text": [
      "Number of edges (gc): 1148072 (100%)\n"
     ]
    }
   ],
   "source": [
    "edges = read_edges('data/enron.edges')\n",
    "g = get_graph(edges, directed=True)\n",
    "gc = giant_component(g)\n",
    "edges_gc = edges['source'].isin(set(g.nodes)).sum()\n",
    "n = g.number_of_nodes()\n",
    "print(f'Number of edges (gc): {len(edges)} ({edges_gc/len(edges):.0%})')"
   ]
  },
  {
   "cell_type": "code",
   "execution_count": 64,
   "metadata": {
    "execution": {
     "iopub.execute_input": "2020-08-27T08:58:03.191700Z",
     "iopub.status.busy": "2020-08-27T08:58:03.191309Z",
     "iopub.status.idle": "2020-08-27T08:58:28.649633Z",
     "shell.execute_reply": "2020-08-27T08:58:28.648549Z",
     "shell.execute_reply.started": "2020-08-27T08:58:03.191659Z"
    }
   },
   "outputs": [
    {
     "name": "stdout",
     "output_type": "stream",
     "text": [
      "CPU times: user 543 ms, sys: 68.8 ms, total: 612 ms\n",
      "Wall time: 25.5 s\n"
     ]
    }
   ],
   "source": [
    "%%time\n",
    "%%capture\n",
    "!printf '%s\\n' 'load_undirected temp/network.edges' 'dist_distri' > \"temp/input.txt\"\n",
    "nx.write_edgelist(g, 'temp/network.edges', data=False)\n",
    "! /local/bruingjde/teexgraph/teexgraph < temp/input.txt > temp/output.txt"
   ]
  },
  {
   "cell_type": "code",
   "execution_count": 65,
   "metadata": {
    "execution": {
     "iopub.execute_input": "2020-08-27T08:58:32.595186Z",
     "iopub.status.busy": "2020-08-27T08:58:32.594959Z",
     "iopub.status.idle": "2020-08-27T08:58:37.356033Z",
     "shell.execute_reply": "2020-08-27T08:58:37.355098Z",
     "shell.execute_reply.started": "2020-08-27T08:58:32.595161Z"
    }
   },
   "outputs": [
    {
     "name": "stdout",
     "output_type": "stream",
     "text": [
      "Number of edges (gc): 299220 (99%)\n",
      "Number of edges (gc): 87273 (97%)\n",
      "Density: 7.9e-05\n",
      "Mean distance: 4.9\n",
      "Diameter: 14\n"
     ]
    }
   ],
   "source": [
    "print(f'Number of nodes (gc): {n} ({gc.number_of_nodes() / n:.0%})')\n",
    "print(f'Density: {nx.density(g):.1e}')\n",
    "print(f\"Mean distance: {weighted_median(np.loadtxt('temp/output.txt')):.1f}\")\n",
    "print(f\"Diameter: {int(np.loadtxt('temp/output.txt')[-1,0])}\")"
   ]
  },
  {
   "cell_type": "markdown",
   "metadata": {},
   "source": [
    "# Askubuntu"
   ]
  },
  {
   "cell_type": "code",
   "execution_count": 23,
   "metadata": {},
   "outputs": [
    {
     "name": "stdout",
     "output_type": "stream",
     "text": [
      "Number of edges (gc): 964437 (100%)\n"
     ]
    }
   ],
   "source": [
    "edges = read_edges('data/au.edges', sep='\\t')\n",
    "g = get_graph(edges, directed=True)\n",
    "gc = giant_component(g)\n",
    "edges_gc = edges['source'].isin(set(g.nodes)).sum()\n",
    "n = g.number_of_nodes()\n",
    "print(f'Number of edges (gc): {len(edges)} ({edges_gc/len(edges):.0%})')"
   ]
  },
  {
   "cell_type": "code",
   "execution_count": 73,
   "metadata": {
    "execution": {
     "iopub.execute_input": "2020-08-27T09:05:05.882765Z",
     "iopub.status.busy": "2020-08-27T09:05:05.882585Z",
     "iopub.status.idle": "2020-08-27T09:07:08.940897Z",
     "shell.execute_reply": "2020-08-27T09:07:08.939851Z",
     "shell.execute_reply.started": "2020-08-27T09:05:05.882744Z"
    }
   },
   "outputs": [
    {
     "name": "stdout",
     "output_type": "stream",
     "text": [
      "CPU times: user 1.26 s, sys: 193 ms, total: 1.45 s\n",
      "Wall time: 2min 3s\n"
     ]
    }
   ],
   "source": [
    "%%time\n",
    "%%capture\n",
    "!printf '%s\\n' 'load_undirected temp/network.edges' 'dist_distri' > \"temp/input.txt\"\n",
    "nx.write_edgelist(g, 'temp/network.edges', data=False)\n",
    "! /local/bruingjde/teexgraph/teexgraph < temp/input.txt > temp/output.txt"
   ]
  },
  {
   "cell_type": "code",
   "execution_count": 74,
   "metadata": {
    "execution": {
     "iopub.execute_input": "2020-08-27T09:07:08.942758Z",
     "iopub.status.busy": "2020-08-27T09:07:08.942569Z",
     "iopub.status.idle": "2020-08-27T09:07:15.685333Z",
     "shell.execute_reply": "2020-08-27T09:07:15.684452Z",
     "shell.execute_reply.started": "2020-08-27T09:07:08.942736Z"
    }
   },
   "outputs": [
    {
     "name": "stdout",
     "output_type": "stream",
     "text": [
      "Number of edges (gc): 508003 (99%)\n",
      "Number of edges (gc): 159316 (96%)\n",
      "Density: 4.0e-05\n",
      "Mean distance: 3.9\n",
      "Diameter: 13\n"
     ]
    }
   ],
   "source": [
    "gc = giant_component(g)\n",
    "e = g.number_of_edges()\n",
    "n = g.number_of_nodes()\n",
    "print(f'Number of edges (gc): {e} ({gc.number_of_edges() / e:.0%})')\n",
    "print(f'Number of edges (gc): {n} ({gc.number_of_nodes() / n:.0%})')\n",
    "print(f'Density: {nx.density(g):.1e}')\n",
    "print(f\"Mean distance: {weighted_median(np.loadtxt('temp/output.txt')):.1f}\")\n",
    "print(f\"Diameter: {int(np.loadtxt('temp/output.txt')[-1,0])}\")"
   ]
  },
  {
   "cell_type": "markdown",
   "metadata": {},
   "source": [
    "# Digg"
   ]
  },
  {
   "cell_type": "code",
   "execution_count": 25,
   "metadata": {},
   "outputs": [
    {
     "name": "stdout",
     "output_type": "stream",
     "text": [
      "Number of edges (gc): 87627 (100%)\n"
     ]
    }
   ],
   "source": [
    "edges = read_edges('data/digg.edges')\n",
    "g = get_graph(edges, directed=True)\n",
    "gc = giant_component(g)\n",
    "edges_gc = edges['source'].isin(set(g.nodes)).sum()\n",
    "n = g.number_of_nodes()\n",
    "print(f'Number of edges (gc): {len(edges)} ({edges_gc/len(edges):.0%})')"
   ]
  },
  {
   "cell_type": "code",
   "execution_count": 84,
   "metadata": {
    "execution": {
     "iopub.execute_input": "2020-08-27T14:00:28.694535Z",
     "iopub.status.busy": "2020-08-27T14:00:28.694397Z",
     "iopub.status.idle": "2020-08-27T14:00:34.628840Z",
     "shell.execute_reply": "2020-08-27T14:00:34.628103Z",
     "shell.execute_reply.started": "2020-08-27T14:00:28.694518Z"
    }
   },
   "outputs": [
    {
     "name": "stdout",
     "output_type": "stream",
     "text": [
      "*** Welcome to teexGraph ***\n",
      "- Use standard input (cin) to give commands\n",
      "- Read standard output (cout) to catch the result\n",
      "- Observe standard log (clog) and (cerr) for status and error messages\n",
      "- Graphs up to MAXN = 10000000 nodes are accepted\n",
      "Input a command: Loading an undirected graph. Enter filename: \n",
      "Loading graph from temp/network.edges ...\n",
      "- 86312 edges added (m = 86312) in total\n",
      "- 0 edges skipped\n",
      "- 1157 self-edges added\n",
      "\n",
      "Sorting edge list...\n",
      "Sorting done.\n",
      "Loading done.\n",
      "\n",
      "Making graph undirected (m = 86312)...\n",
      "Sorting edge list...\n",
      "Sorting done.\n",
      "  WARNING: number of edges is not equal to (twice the) number of input lines.\n",
      "  Verify that the graph is actually undirected.\n",
      "Undirected-making done (m = 171467).\n",
      "Loading file succeeded.\n",
      "WCC computed.\n",
      "\n",
      "> Computing distance distribution (based on a 100% sample of 30398 nodes) with 128 CPUs...\n",
      "    0         0  0  0 0% 0% 0%  0  00  0%0   0%   0% 0% 0% 0% 0% 0%0% 0%0% 0 0%  0%0% 0% 0% 0% 0% 0% 0%0% 0% 0% 0% 0% 0% 0% 0% 0% 0% 0% 0% 0%  0% 0%0% 0%0% 0%0% 0% 0% 0%0% 0%0% 0% 0% 0% 0% 0% 0% 0% 0% 0% 0% 0% 0% 0% 0%% 0%0% 0%0% 0%% 0% 0%0% 0%0% 0% 0% 0% 0% 0%% 0% 0% 0% 0%% 0%%%  00%0% 0% 0% 0% 0% 0% 0 0% 0%% 0% 0%0%% 0%0% 0% 0% 0% 0% 0%0% 0%%% 0% 0% 00%0%% 0% 0% 0% 0% 0% 0%0%% 0% 5% 10% 15% 20% 25% 30% 35% 40% 45% 50% 60% 65% 70% 75% 80% 85% 90% 95% Done.\n",
      "Weighted total: 4.10861e+09, count: 8.79243e+08, average: 4.67289\n",
      "Min-index: 0, max-index: 12, min-value: 94, max-value: 348115010\n",
      "> \n",
      "End of program.\n",
      "CPU times: user 220 ms, sys: 125 ms, total: 346 ms\n",
      "Wall time: 5.93 s\n"
     ]
    }
   ],
   "source": [
    "assert g.number_of_nodes() < 1e8\n",
    "%%time\n",
    "!printf '%s\\n' 'load_undirected temp/network.edges' 'dist_distri' > \"temp/input.txt\"\n",
    "nx.write_edgelist(g, 'temp/network.edges', data=False)\n",
    "! /local/bruingjde/teexgraph/teexgraph < temp/input.txt > temp/output.txt"
   ]
  },
  {
   "cell_type": "code",
   "execution_count": 85,
   "metadata": {
    "execution": {
     "iopub.execute_input": "2020-08-27T14:00:34.630149Z",
     "iopub.status.busy": "2020-08-27T14:00:34.629975Z",
     "iopub.status.idle": "2020-08-27T14:00:36.007399Z",
     "shell.execute_reply": "2020-08-27T14:00:36.006696Z",
     "shell.execute_reply.started": "2020-08-27T14:00:34.630128Z"
    }
   },
   "outputs": [
    {
     "name": "stdout",
     "output_type": "stream",
     "text": [
      "Number of edges (gc): 86312 (100%)\n",
      "Number of edges (gc): 30398 (98%)\n",
      "Density: 1.9e-04\n",
      "Mean distance: 4.7\n",
      "Diameter: 12\n"
     ]
    }
   ],
   "source": [
    "gc = giant_component(g)\n",
    "e = g.number_of_edges()\n",
    "n = g.number_of_nodes()\n",
    "print(f'Number of edges (gc): {e} ({gc.number_of_edges() / e:.0%})')\n",
    "print(f'Number of edges (gc): {n} ({gc.number_of_nodes() / n:.0%})')\n",
    "print(f'Density: {nx.density(g):.1e}')\n",
    "print(f\"Mean distance: {weighted_median(np.loadtxt('temp/output.txt')):.1f}\")\n",
    "print(f\"Diameter: {int(np.loadtxt('temp/output.txt')[-1,0])}\")"
   ]
  },
  {
   "cell_type": "markdown",
   "metadata": {},
   "source": [
    "# Slashdot"
   ]
  },
  {
   "cell_type": "code",
   "execution_count": 26,
   "metadata": {},
   "outputs": [
    {
     "name": "stdout",
     "output_type": "stream",
     "text": [
      "Number of edges (gc): 140778 (100%)\n"
     ]
    }
   ],
   "source": [
    "edges = read_edges('data/slashdot.edges', skiprows=2)\n",
    "g = get_graph(edges, directed=True)\n",
    "gc = giant_component(g)\n",
    "edges_gc = edges['source'].isin(set(g.nodes)).sum()\n",
    "n = g.number_of_nodes()\n",
    "print(f'Number of edges (gc): {len(edges)} ({edges_gc/len(edges):.0%})')"
   ]
  },
  {
   "cell_type": "code",
   "execution_count": 23,
   "metadata": {
    "execution": {
     "iopub.execute_input": "2020-08-30T07:33:53.089625Z",
     "iopub.status.busy": "2020-08-30T07:33:53.089454Z",
     "iopub.status.idle": "2020-08-30T07:33:59.198559Z",
     "shell.execute_reply": "2020-08-30T07:33:59.197862Z",
     "shell.execute_reply.started": "2020-08-30T07:33:53.089609Z"
    }
   },
   "outputs": [
    {
     "name": "stdout",
     "output_type": "stream",
     "text": [
      "*** Welcome to teexGraph ***\n",
      "- Use standard input (cin) to give commands\n",
      "- Read standard output (cout) to catch the result\n",
      "- Observe standard log (clog) and (cerr) for status and error messages\n",
      "- Graphs up to MAXN = 10000000 nodes are accepted\n",
      "Input a command: Loading an undirected graph. Enter filename: \n",
      "Loading graph from temp/network.edges ...\n",
      "- 117378 edges added (m = 117378) in total\n",
      "- 0 edges skipped\n",
      "- 805 self-edges added\n",
      "\n",
      "Sorting edge list...\n",
      "Sorting done.\n",
      "Loading done.\n",
      "\n",
      "Making graph undirected (m = 117378)...\n",
      "Sorting edge list...\n",
      "Sorting done.\n",
      "  WARNING: number of edges is not equal to (twice the) number of input lines.\n",
      "  Verify that the graph is actually undirected.\n",
      "Undirected-making done (m = 233951).\n",
      "Loading file succeeded.\n",
      "WCC computed.\n",
      "\n",
      "> Computing distance distribution (based on a 100% sample of 51083 nodes) with 256 CPUs...\n",
      "    00        00% 0%   0 0 %%  0%    0      0     0%      00   00  0%0%   0%0%   % 0%0  0%0%0% 0%%00%0  %  0%  0    0%0%  0%0  0% 0%0  0% 0% 0% 0% 0% 0% 0%0 %0 0%   00% %           00% 0%0 0% 0% 0  0 0%00%  00 %0 %         0% 0%%%0%0 % 0%   0%0% 00%%%0    0% 000% 0%   0 0% 0%0%0%%0%0%0% 0%0%%0%0% 0%%%0% 0%0% 0% 0% 0% 0% 0% 0% 0% 0%%0% 0% 0% 0% 0% 0% 0% 0% 0% 0% 0% 0%  0%0% 0% % 0% 0% 0% 0% 0% 0% 0%0% 0% 0% 0% 0% 0% 0% 0% 0%0% 0% 0% 0% 0% 0% 0%  0%00 %0% 0 0%0%  0% 0 %0 0%0% 000%%%  0%%0% 0 %0% 0% % %0%%0 %000%%00 %00%%  0% 0% 0% 0% 0%0%  00 %0 0  0  00%%0%0 0%  0 00  0 %0 %00%% 0% 0% 00% 0%%%0%0%0%0% 0%0%%%%0%  000%0 %  000%%0%0% 00% 0%% 0% 0%%0% 0%0% 0%%0%%%  0%0%0%  0%% 0%0%%0%0%% 0%0%0%%0%%0%%% 0%0%  0% 0% 0%0%% 0%%%0%%0%% 0%%0%% 0%0 0%0% 0%0%%%0%%% 0%0%% 5% 10% 15% 20% 25% 30% 35% 40% 45% 50% 55% 60% 65% 70% 75% 80% 85% 90% 95% Done.\n",
      "Weighted total: 1.1829e+10, count: 2.60947e+09, average: 4.5331\n",
      "Min-index: 0, max-index: 17, min-value: 4, max-value: 1054976310\n",
      "> \n",
      "End of program.\n",
      "CPU times: user 194 ms, sys: 45.8 ms, total: 240 ms\n",
      "Wall time: 6.1 s\n"
     ]
    }
   ],
   "source": [
    "%%time\n",
    "assert g.number_of_nodes() < 1e8\n",
    "!printf '%s\\n' 'load_undirected temp/network.edges' 'dist_distri' > \"temp/input.txt\"\n",
    "nx.write_edgelist(g, 'temp/network.edges', data=False)\n",
    "! /tmp/bruingjde/teexgraph/teexgraph < temp/input.txt > temp/output.txt"
   ]
  },
  {
   "cell_type": "code",
   "execution_count": 24,
   "metadata": {
    "execution": {
     "iopub.execute_input": "2020-08-30T07:34:01.551525Z",
     "iopub.status.busy": "2020-08-30T07:34:01.551209Z",
     "iopub.status.idle": "2020-08-30T07:34:02.673788Z",
     "shell.execute_reply": "2020-08-30T07:34:02.673263Z",
     "shell.execute_reply.started": "2020-08-30T07:34:01.551493Z"
    }
   },
   "outputs": [
    {
     "name": "stdout",
     "output_type": "stream",
     "text": [
      "Number of edges (gc): 117378 (100%)\n",
      "Number of edges (gc): 51083 (100%)\n",
      "Density: 9.0e-05\n",
      "Mean distance: 4.5\n",
      "Diameter: 17\n"
     ]
    }
   ],
   "source": [
    "gc = giant_component(g)\n",
    "e = g.number_of_edges()\n",
    "n = g.number_of_nodes()\n",
    "print(f'Number of edges (gc): {e} ({gc.number_of_edges() / e:.0%})')\n",
    "print(f'Number of edges (gc): {n} ({gc.number_of_nodes() / n:.0%})')\n",
    "print(f'Density: {nx.density(g):.1e}')\n",
    "print(f\"Mean distance: {weighted_median(np.loadtxt('temp/output.txt')):.1f}\")\n",
    "print(f\"Diameter: {int(np.loadtxt('temp/output.txt')[-1,0])}\")"
   ]
  },
  {
   "cell_type": "markdown",
   "metadata": {},
   "source": [
    "# Stackoverflow"
   ]
  },
  {
   "cell_type": "code",
   "execution_count": 27,
   "metadata": {},
   "outputs": [
    {
     "name": "stdout",
     "output_type": "stream",
     "text": [
      "Number of edges (gc): 63497050 (100%)\n"
     ]
    }
   ],
   "source": [
    "edges = read_edges('data/so.edges', sep='\\t')\n",
    "g = get_graph(edges, directed=True)\n",
    "gc = giant_component(g)\n",
    "edges_gc = edges['source'].isin(set(g.nodes)).sum()\n",
    "n = g.number_of_nodes()\n",
    "print(f'Number of edges (gc): {len(edges)} ({edges_gc/len(edges):.0%})')"
   ]
  },
  {
   "cell_type": "code",
   "execution_count": 7,
   "metadata": {
    "execution": {
     "iopub.execute_input": "2020-08-30T13:08:29.705390Z",
     "iopub.status.busy": "2020-08-30T13:08:29.705219Z",
     "iopub.status.idle": "2020-08-30T13:12:47.046902Z",
     "shell.execute_reply": "2020-08-30T13:12:47.046059Z",
     "shell.execute_reply.started": "2020-08-30T13:08:29.705375Z"
    }
   },
   "outputs": [],
   "source": [
    "%%time\n",
    "assert g.number_of_nodes() < 1e8\n",
    "!printf '%s\\n' 'load_undirected temp/network.edges' 'dist_distri' > \"temp/input.txt\"\n",
    "nx.write_edgelist(g, 'temp/network.edges', data=False)"
   ]
  },
  {
   "cell_type": "code",
   "execution_count": 11,
   "metadata": {
    "execution": {
     "iopub.execute_input": "2020-08-30T19:30:46.935427Z",
     "iopub.status.busy": "2020-08-30T19:30:46.935156Z",
     "iopub.status.idle": "2020-08-31T07:15:15.568973Z",
     "shell.execute_reply": "2020-08-31T07:15:15.567769Z",
     "shell.execute_reply.started": "2020-08-30T19:30:46.935406Z"
    }
   },
   "outputs": [
    {
     "name": "stdout",
     "output_type": "stream",
     "text": [
      "*** Welcome to teexGraph ***\n",
      "- Use standard input (cin) to give commands\n",
      "- Read standard output (cout) to catch the result\n",
      "- Observe standard log (clog) and (cerr) for status and error messages\n",
      "- Graphs up to MAXN = 10000000 nodes are accepted\n",
      "Input a command: Loading an undirected graph. Enter filename: \n",
      "Loading graph from temp/network.edges ...\n",
      "   - 10000000 edges loaded so far...\n",
      "   - 20000000 edges loaded so far...\n",
      "- 29541284 edges added (m = 29541284) in total\n",
      "- 0 edges skipped\n",
      "- 1357766 self-edges added\n",
      "\n",
      "Sorting edge list...\n",
      "Sorting done.\n",
      "Loading done.\n",
      "\n",
      "Making graph undirected (m = 29541284)...\n",
      "Sorting edge list...\n",
      "Sorting done.\n",
      "  WARNING: number of edges is not equal to (twice the) number of input lines.\n",
      "  Verify that the graph is actually undirected.\n",
      "Undirected-making done (m = 57724802).\n",
      "Loading file succeeded.\n",
      "WCC computed.\n",
      "\n",
      "> Computing distance distribution (based on a 100% sample of 2601977 nodes) with 256 CPUs...\n",
      " 0% 0%  0 0  0% 0% 0%  0 0% 0% 0% 0%   0% 0%  0% 0% 0% 0% 0% 0%  0% 0 0%  0% 0% 0% 0% 0% 0% 0%  0%0%   0% 0   0%0  0  0%0   00% 0% 0  0% 0% 0% 0% 0% 0   0%  0   0% 0   0% 0%  0% 0% 0% 0% 0% 0% 0% 0% 0% 0% 0% 0% 0 0% 0% 0% 0% 0% 0% 0% 0% 0% 0 %  0  0% 0% 0 0% 0% 0% 0 0%   0 00% 0 0%  0% 0%  0% 0% 0 0% 0% 0% 0% 0% 0%   0%  0  0% 0% 0% 0% 0% 0%   0%0  0% 0% 0% 0% 0% 0% 0%       0% 0%     0%   0%0 0% 0% 0% 0% 0%  0% 0% 0% 0% 0%  0 %0  0% 0% 0% 0 0% 0% 0%  0% 0% 0% 0% 0% 0% 0 0% 0% 0% 0% 0% 0% 0% 0%%% 0% 0%0%% 00% 0%0%0%%0% 0%0% 0% 0 %%0 0% 0%% % % 0% 0%%0% 0 0%00%0%%0%0% 0%%0%0% 0%0% 0%% 00 %0%0 0 %0%%% 0%% 0%% 0% 0%0%% 0%0% 0%0% 0%%0% 0%0% 0%% 00% 0%0%0%0% 0000% 0%0% 0%% 0%0%0% 0% 0% 0% 0% 0%0%% 0% 0%%0%0%0%%0%0%0%0%%% 0%% 0%%%0%%0% 0%0%0%0%0%%%%0%%0%%0%0%%0%%% 5% 10% 15% 20% 25% 30% 35% 45% 50% 55% 60% 65% 70% 75% 80% 80% 85% 85% 90% 95% 95% Done.\n",
      "Weighted total: 2.57751e+13, count: 6.61696e+12, average: 3.89531\n",
      "Min-index: 0, max-index: 11, min-value: 372, max-value: 3911538891254\n",
      "> Command not recognized.\n",
      "> \n",
      "End of program.\n"
     ]
    }
   ],
   "source": [
    "! /tmp/bruingjde/teexgraph/teexgraph < temp/input.txt > temp/output.txt"
   ]
  },
  {
   "cell_type": "code",
   "execution_count": null,
   "metadata": {
    "execution": {
     "iopub.execute_input": "2020-08-31T07:15:15.571129Z",
     "iopub.status.busy": "2020-08-31T07:15:15.570870Z"
    }
   },
   "outputs": [],
   "source": [
    "gc = giant_component(g)\n",
    "e = g.number_of_edges()\n",
    "n = g.number_of_nodes()\n",
    "print(f'Number of edges (gc): {e} ({gc.number_of_edges() / e:.0%})')\n",
    "print(f'Number of edges (gc): {n} ({gc.number_of_nodes() / n:.0%})')\n",
    "print(f'Density: {nx.density(g):.1e}')\n",
    "# print(f\"Mean distance: {weighted_median(np.loadtxt('temp/output.txt')):.1f}\")\n",
    "# print(f\"Diameter: {int(np.loadtxt('temp/output.txt')[-1,0])}\")"
   ]
  },
  {
   "cell_type": "code",
   "execution_count": null,
   "metadata": {},
   "outputs": [],
   "source": []
  }
 ],
 "metadata": {
  "kernelspec": {
   "display_name": "Python 3",
   "language": "python",
   "name": "python3"
  },
  "language_info": {
   "codemirror_mode": {
    "name": "ipython",
    "version": 3
   },
   "file_extension": ".py",
   "mimetype": "text/x-python",
   "name": "python",
   "nbconvert_exporter": "python",
   "pygments_lexer": "ipython3",
   "version": "3.8.5"
  },
  "widgets": {
   "application/vnd.jupyter.widget-state+json": {
    "state": {},
    "version_major": 2,
    "version_minor": 0
   }
  }
 },
 "nbformat": 4,
 "nbformat_minor": 4
}
