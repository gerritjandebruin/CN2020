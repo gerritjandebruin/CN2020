{
 "cells": [
  {
   "cell_type": "code",
   "execution_count": 1,
   "metadata": {
    "execution": {
     "iopub.execute_input": "2020-07-31T07:31:47.866835Z",
     "iopub.status.busy": "2020-07-31T07:31:47.866521Z",
     "iopub.status.idle": "2020-07-31T07:31:49.671938Z",
     "shell.execute_reply": "2020-07-31T07:31:49.670511Z",
     "shell.execute_reply.started": "2020-07-31T07:31:47.866800Z"
    }
   },
   "outputs": [],
   "source": [
    "import joblib\n",
    "import matplotlib.pyplot as plt\n",
    "import networkx as nx\n",
    "import numpy as np\n",
    "import pandas as pd\n",
    "import plotly.express as px\n",
    "import plotly.figure_factory as ff\n",
    "import plotly.graph_objects as go\n",
    "from sklearn.preprocessing import minmax_scale\n",
    "from sklearn.metrics import precision_recall_curve, average_precision_score\n",
    "from sklearn.metrics import roc_curve, auc\n",
    "from sklearn.model_selection import StratifiedKFold, cross_validate\n",
    "import seaborn as sns\n",
    "from tqdm import tqdm\n",
    "\n",
    "import bin.linkprediction as lp"
   ]
  },
  {
   "cell_type": "code",
   "execution_count": 89,
   "metadata": {
    "execution": {
     "iopub.execute_input": "2020-07-30T08:31:43.855795Z",
     "iopub.status.busy": "2020-07-30T08:31:43.855312Z",
     "iopub.status.idle": "2020-07-30T08:31:43.871448Z",
     "shell.execute_reply": "2020-07-30T08:31:43.870227Z",
     "shell.execute_reply.started": "2020-07-30T08:31:43.855741Z"
    }
   },
   "outputs": [],
   "source": [
    "def report(d: cross_validate):\n",
    "  param_grid = d['estimator'][0].cv_results_['params']\n",
    "  return pd.DataFrame.from_dict(\n",
    "    {\n",
    "      tuple(params.values()):\n",
    "      {\n",
    "        \"mean_train\": np.mean([estimator.cv_results_[f'split{i}_train_score'][idx] for estimator in d['estimator'] for i in range(5)]),\n",
    "        \"std_train\": np.std([estimator.cv_results_[f'split{i}_train_score'][idx] for estimator in d['estimator'] for i in range(5)]),\n",
    "        \"mean_val\": np.mean([estimator.cv_results_[f'split{i}_test_score'][idx] for estimator in d['estimator'] for i in range(5)]),\n",
    "        \"std_val\": np.std([estimator.cv_results_[f'split{i}_test_score'][idx] for estimator in d['estimator'] for i in range(5)]),\n",
    "        \"mean_fit_time\": np.mean([estimator.cv_results_[f'mean_fit_time'][idx] for estimator in d['estimator'] for i in range(5)])/60\n",
    "      }\n",
    "      for idx, params in enumerate(param_grid) \n",
    "    }\n",
    "  ).T.rename_axis(param_grid[0].keys())"
   ]
  },
  {
   "cell_type": "code",
   "execution_count": 13,
   "metadata": {
    "execution": {
     "iopub.execute_input": "2020-07-31T07:35:09.114471Z",
     "iopub.status.busy": "2020-07-31T07:35:09.113821Z",
     "iopub.status.idle": "2020-07-31T07:35:09.130691Z",
     "shell.execute_reply": "2020-07-31T07:35:09.128909Z",
     "shell.execute_reply.started": "2020-07-31T07:35:09.114422Z"
    }
   },
   "outputs": [
    {
     "data": {
      "text/plain": [
       "0.00519353541155021"
      ]
     },
     "execution_count": 13,
     "metadata": {},
     "output_type": "execute_result"
    }
   ],
   "source": [
    "joblib.load('temp/a1/lrcv_minmax_saga.pkl')[1].scores_[True].max()"
   ]
  },
  {
   "cell_type": "code",
   "execution_count": 14,
   "metadata": {
    "execution": {
     "iopub.execute_input": "2020-07-31T07:37:31.610474Z",
     "iopub.status.busy": "2020-07-31T07:37:31.610061Z",
     "iopub.status.idle": "2020-07-31T07:37:31.621352Z",
     "shell.execute_reply": "2020-07-31T07:37:31.619618Z",
     "shell.execute_reply.started": "2020-07-31T07:37:31.610438Z"
    }
   },
   "outputs": [
    {
     "data": {
      "text/plain": [
       "0.003976820910263483"
      ]
     },
     "execution_count": 14,
     "metadata": {},
     "output_type": "execute_result"
    }
   ],
   "source": [
    "joblib.load('temp/a1/lrcv_normal_saga.pkl')[1].scores_[True].max()"
   ]
  },
  {
   "cell_type": "code",
   "execution_count": 15,
   "metadata": {
    "execution": {
     "iopub.execute_input": "2020-07-31T07:37:40.970785Z",
     "iopub.status.busy": "2020-07-31T07:37:40.970170Z",
     "iopub.status.idle": "2020-07-31T07:37:41.010182Z",
     "shell.execute_reply": "2020-07-31T07:37:41.000874Z",
     "shell.execute_reply.started": "2020-07-31T07:37:40.970731Z"
    }
   },
   "outputs": [
    {
     "data": {
      "text/plain": [
       "0.004637484982535657"
      ]
     },
     "execution_count": 15,
     "metadata": {},
     "output_type": "execute_result"
    }
   ],
   "source": [
    "joblib.load('temp/a1/lrcv_robust_saga.pkl')[1].scores_[True].max()"
   ]
  },
  {
   "cell_type": "code",
   "execution_count": 16,
   "metadata": {
    "execution": {
     "iopub.execute_input": "2020-07-31T07:37:50.766551Z",
     "iopub.status.busy": "2020-07-31T07:37:50.766148Z",
     "iopub.status.idle": "2020-07-31T07:37:50.785945Z",
     "shell.execute_reply": "2020-07-31T07:37:50.784362Z",
     "shell.execute_reply.started": "2020-07-31T07:37:50.766522Z"
    }
   },
   "outputs": [
    {
     "data": {
      "text/plain": [
       "0.0046908576260607645"
      ]
     },
     "execution_count": 16,
     "metadata": {},
     "output_type": "execute_result"
    }
   ],
   "source": [
    "joblib.load('temp/a1/lrcv_uniform_saga.pkl')[1].scores_[True].max()"
   ]
  },
  {
   "cell_type": "code",
   "execution_count": 17,
   "metadata": {
    "execution": {
     "iopub.execute_input": "2020-07-31T07:38:00.536854Z",
     "iopub.status.busy": "2020-07-31T07:38:00.536537Z",
     "iopub.status.idle": "2020-07-31T07:38:00.545722Z",
     "shell.execute_reply": "2020-07-31T07:38:00.544928Z",
     "shell.execute_reply.started": "2020-07-31T07:38:00.536828Z"
    }
   },
   "outputs": [
    {
     "data": {
      "text/plain": [
       "0.004515652542115301"
      ]
     },
     "execution_count": 17,
     "metadata": {},
     "output_type": "execute_result"
    }
   ],
   "source": [
    "joblib.load('temp/a1/lrcv_yeo-johnson_saga.pkl')[1].scores_[True].max()"
   ]
  },
  {
   "cell_type": "code",
   "execution_count": null,
   "metadata": {},
   "outputs": [],
   "source": []
  }
 ],
 "metadata": {
  "kernelspec": {
   "display_name": "Python 3",
   "language": "python",
   "name": "python3"
  },
  "language_info": {
   "codemirror_mode": {
    "name": "ipython",
    "version": 3
   },
   "file_extension": ".py",
   "mimetype": "text/x-python",
   "name": "python",
   "nbconvert_exporter": "python",
   "pygments_lexer": "ipython3",
   "version": "3.8.5"
  },
  "widgets": {
   "application/vnd.jupyter.widget-state+json": {
    "state": {},
    "version_major": 2,
    "version_minor": 0
   }
  }
 },
 "nbformat": 4,
 "nbformat_minor": 4
}
