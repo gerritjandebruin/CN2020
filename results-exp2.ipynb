{
 "cells": [
  {
   "cell_type": "markdown",
   "metadata": {},
   "source": [
    "# Link Prediction in Condmat"
   ]
  },
  {
   "cell_type": "code",
   "execution_count": 186,
   "metadata": {},
   "outputs": [],
   "source": [
    "import joblib\n",
    "import matplotlib.pyplot as plt\n",
    "from matplotlib.ticker import MultipleLocator\n",
    "from mpl_toolkits.axes_grid1.inset_locator import zoomed_inset_axes, mark_inset\n",
    "import numpy as np\n",
    "import pandas as pd\n",
    "from sklearn.metrics import average_precision_score, precision_recall_curve, roc_auc_score, roc_curve\n",
    "from sklearn.model_selection import train_test_split\n",
    "from tqdm import tqdm\n",
    "from xgboost import XGBClassifier"
   ]
  },
  {
   "cell_type": "code",
   "execution_count": null,
   "metadata": {
    "execution": {
     "iopub.execute_input": "2020-08-31T12:32:59.578668Z",
     "iopub.status.busy": "2020-08-31T12:32:59.578468Z"
    }
   },
   "outputs": [],
   "source": [
    "edges = read_edges('out.sx-askubuntu', sep='\\t')"
   ]
  },
  {
   "cell_type": "code",
   "execution_count": 2,
   "metadata": {
    "execution": {
     "iopub.execute_input": "2020-08-31T07:32:07.679250Z",
     "iopub.status.busy": "2020-08-31T07:32:07.679023Z",
     "iopub.status.idle": "2020-08-31T07:32:07.682531Z",
     "shell.execute_reply": "2020-08-31T07:32:07.682088Z",
     "shell.execute_reply.started": "2020-08-31T07:32:07.679223Z"
    }
   },
   "outputs": [
    {
     "name": "stdout",
     "output_type": "stream",
     "text": [
      "Number of edges: 9.6e+05\n"
     ]
    }
   ],
   "source": [
    "print(f'Number of edges: {len(edges):.1e}')"
   ]
  },
  {
   "cell_type": "markdown",
   "metadata": {},
   "source": [
    "## Set-up"
   ]
  },
  {
   "cell_type": "markdown",
   "metadata": {},
   "source": [
    "### Random Split"
   ]
  },
  {
   "cell_type": "code",
   "execution_count": 22,
   "metadata": {
    "execution": {
     "iopub.execute_input": "2020-08-31T07:43:01.946977Z",
     "iopub.status.busy": "2020-08-31T07:43:01.946802Z",
     "iopub.status.idle": "2020-08-31T07:43:01.949650Z",
     "shell.execute_reply": "2020-08-31T07:43:01.949032Z",
     "shell.execute_reply.started": "2020-08-31T07:43:01.946961Z"
    }
   },
   "outputs": [],
   "source": [
    "starts = [70000*i for i in range(1, 11)]"
   ]
  },
  {
   "cell_type": "code",
   "execution_count": 27,
   "metadata": {
    "collapsed": true,
    "execution": {
     "iopub.execute_input": "2020-08-31T07:50:03.724361Z",
     "iopub.status.busy": "2020-08-31T07:50:03.724108Z",
     "iopub.status.idle": "2020-08-31T07:50:04.660283Z",
     "shell.execute_reply": "2020-08-31T07:50:04.659503Z",
     "shell.execute_reply.started": "2020-08-31T07:50:03.724345Z"
    },
    "jupyter": {
     "outputs_hidden": true
    }
   },
   "outputs": [
    {
     "name": "stdout",
     "output_type": "stream",
     "text": [
      "2011-07-19 07:09:41\n",
      "2012-01-12 00:34:17\n",
      "no_selected_edges=50000 (5.2e-02)\n",
      "2012-03-07 23:47:19\n",
      "2012-06-16 17:13:01\n",
      "no_selected_edges=50000 (5.2e-02)\n",
      "2012-07-24 01:51:04\n",
      "2012-11-04 08:00:59\n",
      "no_selected_edges=50000 (5.2e-02)\n",
      "2012-12-16 21:33:22\n",
      "2013-03-29 21:14:12\n",
      "no_selected_edges=50000 (5.2e-02)\n",
      "2013-05-10 18:27:25\n",
      "2013-08-22 05:54:36\n",
      "no_selected_edges=50000 (5.2e-02)\n",
      "2013-10-02 19:06:12\n",
      "2014-01-07 06:10:58\n",
      "no_selected_edges=50000 (5.2e-02)\n",
      "2014-02-11 00:37:16\n",
      "2014-04-30 22:33:53\n",
      "no_selected_edges=50000 (5.2e-02)\n",
      "2014-05-30 02:35:12\n",
      "2014-08-22 08:52:37\n",
      "no_selected_edges=50000 (5.2e-02)\n",
      "2014-09-27 21:40:40\n",
      "2015-01-05 20:50:02\n",
      "no_selected_edges=50000 (5.2e-02)\n",
      "2015-02-13 03:45:27\n",
      "2015-04-28 19:47:16\n",
      "no_selected_edges=50000 (5.2e-02)\n"
     ]
    }
   ],
   "source": [
    "edges_matures = [filter_edgelist(edges, start=start, stop=start+50000) for start in starts]"
   ]
  },
  {
   "cell_type": "code",
   "execution_count": 28,
   "metadata": {
    "collapsed": true,
    "execution": {
     "iopub.execute_input": "2020-08-31T07:50:04.661078Z",
     "iopub.status.busy": "2020-08-31T07:50:04.660967Z",
     "iopub.status.idle": "2020-08-31T07:50:05.600752Z",
     "shell.execute_reply": "2020-08-31T07:50:05.599976Z",
     "shell.execute_reply.started": "2020-08-31T07:50:04.661064Z"
    },
    "jupyter": {
     "outputs_hidden": true
    }
   },
   "outputs": [
    {
     "name": "stdout",
     "output_type": "stream",
     "text": [
      "2012-01-12 00:34:18\n",
      "2012-03-07 23:47:18\n",
      "no_selected_edges=20000 (2.1e-02)\n",
      "2012-06-16 17:13:02\n",
      "2012-07-24 01:51:03\n",
      "no_selected_edges=20000 (2.1e-02)\n",
      "2012-11-04 08:01:00\n",
      "2012-12-16 21:33:21\n",
      "no_selected_edges=20000 (2.1e-02)\n",
      "2013-03-29 21:14:13\n",
      "2013-05-10 18:27:24\n",
      "no_selected_edges=20000 (2.1e-02)\n",
      "2013-08-22 05:54:37\n",
      "2013-10-02 19:06:11\n",
      "no_selected_edges=20000 (2.1e-02)\n",
      "2014-01-07 06:10:59\n",
      "2014-02-11 00:37:15\n",
      "no_selected_edges=20000 (2.1e-02)\n",
      "2014-04-30 22:33:54\n",
      "2014-05-30 02:35:11\n",
      "no_selected_edges=20000 (2.1e-02)\n",
      "2014-08-22 08:52:38\n",
      "2014-09-27 21:40:39\n",
      "no_selected_edges=20000 (2.1e-02)\n",
      "2015-01-05 20:50:03\n",
      "2015-02-13 03:45:26\n",
      "no_selected_edges=20000 (2.1e-02)\n",
      "2015-04-28 19:47:17\n",
      "2015-05-24 10:08:05\n",
      "no_selected_edges=20000 (2.1e-02)\n"
     ]
    }
   ],
   "source": [
    "edges_probes = [filter_edgelist(edges, start=start+50000, stop=start+70000) for start in starts]"
   ]
  },
  {
   "cell_type": "code",
   "execution_count": 34,
   "metadata": {
    "execution": {
     "iopub.execute_input": "2020-08-31T07:53:13.617042Z",
     "iopub.status.busy": "2020-08-31T07:53:13.616733Z",
     "iopub.status.idle": "2020-08-31T07:53:13.752152Z",
     "shell.execute_reply": "2020-08-31T07:53:13.751032Z",
     "shell.execute_reply.started": "2020-08-31T07:53:13.617008Z"
    }
   },
   "outputs": [],
   "source": [
    "!mkdir random{0..9}"
   ]
  },
  {
   "cell_type": "code",
   "execution_count": 35,
   "metadata": {
    "execution": {
     "iopub.execute_input": "2020-08-31T07:53:31.262127Z",
     "iopub.status.busy": "2020-08-31T07:53:31.261835Z",
     "iopub.status.idle": "2020-08-31T07:53:36.651368Z",
     "shell.execute_reply": "2020-08-31T07:53:36.650713Z",
     "shell.execute_reply.started": "2020-08-31T07:53:31.262093Z"
    }
   },
   "outputs": [
    {
     "name": "stderr",
     "output_type": "stream",
     "text": [
      "100%|██████████| 10/10 [00:05<00:00,  1.95it/s]\n",
      "100%|██████████| 10/10 [00:00<00:00, 38.16it/s]\n"
     ]
    }
   ],
   "source": [
    "g_learns = [giant_component(get_graph(edges_mature)) for edges_mature in tqdm(edges_matures)]\n",
    "uv_assessings = [convert_to_set(edges_probe) for edges_probe in tqdm(edges_probes)]"
   ]
  },
  {
   "cell_type": "code",
   "execution_count": 37,
   "metadata": {
    "execution": {
     "iopub.execute_input": "2020-08-31T07:55:22.529087Z",
     "iopub.status.busy": "2020-08-31T07:55:22.528773Z",
     "iopub.status.idle": "2020-08-31T07:55:28.311155Z",
     "shell.execute_reply": "2020-08-31T07:55:28.310494Z",
     "shell.execute_reply.started": "2020-08-31T07:55:22.529053Z"
    }
   },
   "outputs": [
    {
     "name": "stderr",
     "output_type": "stream",
     "text": [
      "10it [00:04,  2.02it/s]\n",
      "10it [00:00, 12.35it/s]\n"
     ]
    }
   ],
   "source": [
    "for index, g_learn in tqdm(enumerate(g_learns)): joblib.dump(g_learn, f'random{index}/graph.pkl', protocol=5) \n",
    "for index, uv_assessing in tqdm(enumerate(uv_assessings)): joblib.dump(uv_assessing, f'random{index}/probes.pkl', protocol=5)"
   ]
  },
  {
   "cell_type": "code",
   "execution_count": 38,
   "metadata": {
    "collapsed": true,
    "execution": {
     "iopub.execute_input": "2020-08-31T07:55:54.269724Z",
     "iopub.status.busy": "2020-08-31T07:55:54.269467Z",
     "iopub.status.idle": "2020-08-31T08:02:17.441088Z",
     "shell.execute_reply": "2020-08-31T08:02:17.439909Z",
     "shell.execute_reply.started": "2020-08-31T07:55:54.269695Z"
    },
    "jupyter": {
     "outputs_hidden": true
    }
   },
   "outputs": [
    {
     "name": "stdout",
     "output_type": "stream",
     "text": [
      "Number of probes: 14628\n",
      "- already edge: 1097 (7%)\n",
      "- both nodes in graph: 2306 (16%)\n",
      "- not in graph: 9383 (64%)\n",
      "Number of probes: 14042\n",
      "- already edge: 893 (6%)\n",
      "- both nodes in graph: 1755 (12%)\n",
      "- not in graph: 9636 (69%)\n",
      "Number of probes: 14647\n",
      "- already edge: 729 (5%)\n",
      "- both nodes in graph: 1646 (11%)\n",
      "- not in graph: 10464 (71%)\n",
      "Number of probes: 14205\n",
      "- already edge: 752 (5%)\n",
      "- both nodes in graph: 1434 (10%)\n",
      "- not in graph: 10372 (73%)\n",
      "Number of probes: 13977\n",
      "- already edge: 717 (5%)\n",
      "- both nodes in graph: 1310 (9%)\n",
      "- not in graph: 10582 (76%)\n",
      "Number of probes: 13472\n",
      "- already edge: 746 (6%)\n",
      "- both nodes in graph: 1083 (8%)\n",
      "- not in graph: 10153 (75%)\n",
      "Number of probes: 13452\n",
      "- already edge: 880 (7%)\n",
      "- both nodes in graph: 1203 (9%)\n",
      "- not in graph: 9827 (73%)\n",
      "Number of probes: 13169\n",
      "- already edge: 742 (6%)\n",
      "- both nodes in graph: 1248 (9%)\n",
      "- not in graph: 9908 (75%)\n",
      "Number of probes: 13134\n",
      "- already edge: 733 (6%)\n",
      "- both nodes in graph: 1088 (8%)\n",
      "- not in graph: 9981 (76%)\n",
      "Number of probes: 12191\n",
      "- already edge: 830 (7%)\n",
      "- both nodes in graph: 1188 (10%)\n",
      "- not in graph: 8817 (72%)\n"
     ]
    }
   ],
   "source": [
    "for g_learn, uv_assessing in zip(g_learns, uv_assessings): report(graph=g_learn, probes=uv_assessing)"
   ]
  },
  {
   "cell_type": "code",
   "execution_count": null,
   "metadata": {},
   "outputs": [],
   "source": [
    "for index, (g_learn, uv_assessing) in enumerate(zip(g_learns, uv_assessings)):\n",
    "  nodepairs, _ = get_distances(g_learn, cutoff=2)\n",
    "  targets = [nodepair in uv_assessing for nodepair in nodepairs]\n",
    "  joblib.dump(nodepairs, f'random{index}/nodepairs.pkl', protocol=5) \n",
    "  joblib.dump(targets, f'random{index}/targets.pkl', protocol=5)\n",
    "  print(f'{sum(targets) / len(nodepairs):e}')"
   ]
  },
  {
   "cell_type": "markdown",
   "metadata": {},
   "source": [
    "### Temporal split"
   ]
  },
  {
   "cell_type": "code",
   "execution_count": null,
   "metadata": {},
   "outputs": [],
   "source": [
    "edges_train_matures = [filter_edgelist(edges, start=start, stop=start+50000) for start in starts]\n",
    "edges_train_probes = [filter_edgelist(edges, start=start+50000, stop=start+60000) for start in starts]\n",
    "edges_test_matures = [filter_edgelist(edges, start=start, stop=start+60000) for start in starts]\n",
    "edges_test_probes = [filter_edgelist(edges, start=start+60000, stop=start+70000) for start in starts]\n",
    "!mkdir -p temporal{0..9}/{train,test}"
   ]
  },
  {
   "cell_type": "code",
   "execution_count": null,
   "metadata": {},
   "outputs": [],
   "source": [
    "for index, (edges_mature, edges_probe) in enumerate(zip(edges_train_matures, edges_train_probes)):\n",
    "  graph = giant_component(get_graph(edges_mature))\n",
    "  probes = convert_to_set(edges_probe)\n",
    "  nodepairs, _ = get_distances(graph, cutoff=2)\n",
    "  targets = [nodepair in probes for nodepair in nodepairs]\n",
    "  joblib.dump(graph,     f'temporal{index}/train/graph.pkl',     protocol=5) \n",
    "  joblib.dump(nodepairs, f'temporal{index}/train/nodepairs.pkl', protocol=5) \n",
    "  joblib.dump(targets,   f'temporal{index}/train/targets.pkl',   protocol=5)\n",
    "  print(f'{sum(targets) / len(nodepairs):e}')"
   ]
  },
  {
   "cell_type": "code",
   "execution_count": null,
   "metadata": {},
   "outputs": [],
   "source": [
    "for index, (edges_mature, edges_probe) in enumerate(zip(edges_test_matures, edges_test_probes)):\n",
    "  graph = giant_component(get_graph(edges_mature))\n",
    "  probes = convert_to_set(edges_probe)\n",
    "  nodepairs, _ = get_distances(graph, cutoff=2)\n",
    "  targets = [nodepair in probes for nodepair in nodepairs]\n",
    "  joblib.dump(graph,     f'temporal{index}/test/graph.pkl',     protocol=5) \n",
    "  joblib.dump(nodepairs, f'temporal{index}/test/nodepairs.pkl', protocol=5) \n",
    "  joblib.dump(targets,   f'temporal{index}/test/targets.pkl',   protocol=5)\n",
    "  print(f'{sum(targets) / len(nodepairs):e}')"
   ]
  },
  {
   "cell_type": "markdown",
   "metadata": {},
   "source": [
    "## Hyperparameter selection"
   ]
  },
  {
   "cell_type": "code",
   "execution_count": 13,
   "metadata": {},
   "outputs": [],
   "source": [
    "def get_x_y(df: pd.DataFrame): return df.drop(columns='target').values, df['target'].values\n",
    "def report_performance(df_train: pd.DataFrame, df_test=None, random_state=1, max_depth=1, tree_method='hist', balanced=True, n_jobs=256):\n",
    "    X, y = get_x_y(df_train)\n",
    "    clf = XGBClassifier(max_depth=max_depth, n_jobs=n_jobs, tree_method=tree_method, scale_pos_weight=sum(~y)/sum(y) if balanced else 1 , random_state=random_state)\n",
    "    if df_test is None: X, X_test, y, y_test = train_test_split(X, y, test_size=1/3, random_state=random_state)\n",
    "    else: X_test, y_test = get_x_y(df_test)\n",
    "    clf.fit(X, y)\n",
    "    y_pred = clf.predict_proba(X_test)[:,1]\n",
    "    return dict(ap_auc=average_precision_score(y_test, y_pred), ap=precision_recall_curve(y_test, y_pred))\n",
    "def report(ls: list): return f\"{np.mean(ls):.4f} +- {np.std(ls):.4f}\""
   ]
  },
  {
   "cell_type": "code",
   "execution_count": 5,
   "metadata": {},
   "outputs": [
    {
     "name": "stderr",
     "output_type": "stream",
     "text": [
      "\n",
      "  0%|          | 0/10 [00:00<?, ?it/s]\u001b[A\n",
      " 10%|█         | 1/10 [00:28<04:12, 28.01s/it]\u001b[A\n",
      " 20%|██        | 2/10 [00:49<03:28, 26.06s/it]\u001b[A\n",
      " 30%|███       | 3/10 [01:12<02:56, 25.27s/it]\u001b[A\n",
      " 40%|████      | 4/10 [01:39<02:33, 25.55s/it]\u001b[A\n",
      " 50%|█████     | 5/10 [02:02<02:04, 24.81s/it]\u001b[A\n",
      " 60%|██████    | 6/10 [02:30<01:43, 25.86s/it]\u001b[A\n",
      " 70%|███████   | 7/10 [02:50<01:12, 24.06s/it]\u001b[A\n",
      " 80%|████████  | 8/10 [03:10<00:45, 22.78s/it]\u001b[A\n",
      " 90%|█████████ | 9/10 [03:30<00:22, 22.16s/it]\u001b[A\n",
      "100%|██████████| 10/10 [03:59<00:00, 23.97s/it]\u001b[A\n"
     ]
    }
   ],
   "source": [
    "random_split = [report_performance(pd.read_pickle(f'exp2/random-{i}.pkl'), max_depth=2, balanced=True) for i in tqdm(range(10))]"
   ]
  },
  {
   "cell_type": "code",
   "execution_count": 8,
   "metadata": {},
   "outputs": [
    {
     "name": "stderr",
     "output_type": "stream",
     "text": [
      "\n",
      "\n",
      "  0%|          | 0/10 [00:00<?, ?it/s]\u001b[A\u001b[A\n",
      "\n",
      " 10%|█         | 1/10 [01:25<12:51, 85.75s/it]\u001b[A\u001b[A\n",
      "\n",
      " 20%|██        | 2/10 [01:53<09:06, 68.30s/it]\u001b[A\u001b[A\n",
      "\n",
      " 30%|███       | 3/10 [02:23<06:37, 56.76s/it]\u001b[A\u001b[A\n",
      "\n",
      " 40%|████      | 4/10 [03:44<06:24, 64.08s/it]\u001b[A\u001b[A\n",
      "\n",
      " 50%|█████     | 5/10 [04:59<05:37, 67.44s/it]\u001b[A\u001b[A\n",
      "\n",
      " 60%|██████    | 6/10 [06:25<04:52, 73.10s/it]\u001b[A\u001b[A\n",
      "\n",
      " 70%|███████   | 7/10 [06:51<02:56, 58.78s/it]\u001b[A\u001b[A\n",
      "\n",
      " 80%|████████  | 8/10 [07:16<01:37, 48.76s/it]\u001b[A\u001b[A\n",
      "\n",
      " 90%|█████████ | 9/10 [07:42<00:42, 42.03s/it]\u001b[A\u001b[A\n",
      "\n",
      "100%|██████████| 10/10 [09:06<00:00, 54.65s/it]\u001b[A\u001b[A\n"
     ]
    }
   ],
   "source": [
    "temporal_split = [\n",
    "    report_performance(\n",
    "        df_train=pd.read_pickle(f'exp2/temporal-train-{i}.pkl'), \n",
    "        df_test=pd.read_pickle(f'exp2/temporal-test-{i}.pkl'),\n",
    "        max_depth=1, \n",
    "        balanced=True\n",
    "    ) for i in tqdm(range(10))\n",
    "]"
   ]
  },
  {
   "cell_type": "code",
   "execution_count": 6,
   "metadata": {},
   "outputs": [
    {
     "name": "stdout",
     "output_type": "stream",
     "text": [
      "AP AUC: 0.025 +- 0.009\n",
      "ROC AUC: 0.953 +- 0.010\n"
     ]
    }
   ],
   "source": [
    "print(f\"Random split: {report([result['ap_auc'] for result in random_split])}\")\n",
    "print(f\"Temporal split: {report([result['ap_auc'] for result in temporal_split])}\")"
   ]
  },
  {
   "cell_type": "code",
   "execution_count": 278,
   "metadata": {},
   "outputs": [
    {
     "data": {
      "image/png": "[encoded data removed]",
      "text/plain": [
       "<Figure size 720x252 with 2 Axes>"
      ]
     },
     "metadata": {
      "needs_background": "light"
     },
     "output_type": "display_data"
    }
   ],
   "source": [
    "plt.figure(figsize=(10,3.5))\n",
    "ax = plt.axes(xlim=(0,1), ylim=(0,1))\n",
    "ax.set_xlabel('Recall')\n",
    "ax.set_ylabel('Precision')\n",
    "ax.tick_params(right=True, top=True)\n",
    "# axins = inset_axes(\n",
    "#     ax, width='100%', height='100%', bbox_to_anchor=(.31, .31, .67, .67), bbox_transform=ax.transAxes, axes_kwargs=\n",
    "#     dict(xlabel='Recall', ylabel='Precision', xlim=(0, .2), ylim=(0, .2), xticks=np.arange(0, .21, .05), yticks=np.arange(0, .21, .05))\n",
    "# )\n",
    "# axins.tick_params(right=True, top=True)\n",
    "axins = zoomed_inset_axes(ax, 3.5, bbox_to_anchor=(.3, .3, .67, .67), bbox_transform=ax.transAxes) \n",
    "\n",
    "for index, result in enumerate(random_split):\n",
    "    precision, recall, thresholds = result['ap']\n",
    "    mask = np.r_[True, np.diff(precision, 1) != 0] # Similar to drop_intermediate\n",
    "    \n",
    "    kwargs = dict(label='random split') if index == 0 else dict()\n",
    "    ax.plot(   recall[mask], precision[mask], marker='', color=f'C0', ls='-', ms=2, **kwargs)\n",
    "    axins.plot(recall[mask], precision[mask], marker='', color=f'C0', ls='-', ms=2, **kwargs)\n",
    "\n",
    "for index, result in enumerate(temporal_split):\n",
    "    precision, recall, thresholds = result['ap']\n",
    "    mask = np.r_[True, np.diff(precision, 1) != 0] # Similar to drop_intermediate\n",
    "    \n",
    "    kwargs = dict(label='temporal split') if index == 0 else dict()\n",
    "    ax.plot(   recall[mask], precision[mask], marker='', color=f'C1', ls='-', ms=2, **kwargs)\n",
    "    axins.plot(recall[mask], precision[mask], marker='', color=f'C1', ls='-', ms=2, **kwargs)\n",
    "\n",
    "axins.set_xlim((0, .2))\n",
    "axins.set_ylim((0, .2))\n",
    "axins.set_xticks(np.arange(0, .21, .1))\n",
    "axins.set_yticks(np.arange(0, .21, .1))\n",
    "mark_inset(ax, axins, loc1=2, loc2=4, alpha=.5, lw=1)\n",
    "\n",
    "ax.legend(loc='upper left')\n",
    "plt.savefig('fig/exp2.jpg')   \n",
    "plt.savefig('fig/exp2.pdf', bbox_inches='tight', dpi='figure')"
   ]
  },
  {
   "cell_type": "code",
   "execution_count": null,
   "metadata": {},
   "outputs": [],
   "source": []
  }
 ],
 "metadata": {
  "kernelspec": {
   "display_name": "Python 3",
   "language": "python",
   "name": "python3"
  },
  "language_info": {
   "codemirror_mode": {
    "name": "ipython",
    "version": 3
   },
   "file_extension": ".py",
   "mimetype": "text/x-python",
   "name": "python",
   "nbconvert_exporter": "python",
   "pygments_lexer": "ipython3",
   "version": "3.8.5"
  },
  "widgets": {
   "application/vnd.jupyter.widget-state+json": {
    "state": {},
    "version_major": 2,
    "version_minor": 0
   }
  }
 },
 "nbformat": 4,
 "nbformat_minor": 4
}
