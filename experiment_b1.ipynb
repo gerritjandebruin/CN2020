{
 "cells": [
  {
   "cell_type": "markdown",
   "metadata": {},
   "source": [
    "# Link Prediction in Condmat"
   ]
  },
  {
   "cell_type": "code",
   "execution_count": 42,
   "metadata": {
    "execution": {
     "iopub.execute_input": "2020-08-07T07:53:01.790103Z",
     "iopub.status.busy": "2020-08-07T07:53:01.789829Z",
     "iopub.status.idle": "2020-08-07T07:53:01.797673Z",
     "shell.execute_reply": "2020-08-07T07:53:01.797055Z",
     "shell.execute_reply.started": "2020-08-07T07:53:01.790078Z"
    }
   },
   "outputs": [],
   "source": [
    "import datetime\n",
    "import itertools\n",
    "import math\n",
    "from typing import List, Any, Dict, Tuple\n",
    "\n",
    "import joblib\n",
    "import matplotlib.pyplot as plt\n",
    "import networkx as nx\n",
    "import numpy as np\n",
    "import pandas as pd\n",
    "import plotly.express as px\n",
    "import plotly.figure_factory as ff\n",
    "import plotly.graph_objects as go\n",
    "from sklearn.preprocessing import minmax_scale\n",
    "from sklearn.metrics import precision_recall_curve, average_precision_score\n",
    "from sklearn.metrics import roc_curve, auc\n",
    "from sklearn.model_selection import StratifiedKFold, cross_validate\n",
    "import seaborn as sns\n",
    "from tqdm import tqdm\n",
    "\n",
    "# Typing\n",
    "Author = int\n",
    "Papers = List[Tuple[List[Author], datetime.datetime]]\n",
    "NodePair = Tuple[Author, Author]\n",
    "Edge = List[Tuple[Author, Author, Dict[str, datetime.datetime]]]\n",
    "\n",
    "folder = '/local/bruingjde/complexnetworks2020-experiment/temp/b1/'"
   ]
  },
  {
   "cell_type": "code",
   "execution_count": 47,
   "metadata": {
    "execution": {
     "iopub.execute_input": "2020-08-07T07:54:06.951611Z",
     "iopub.status.busy": "2020-08-07T07:54:06.951219Z",
     "iopub.status.idle": "2020-08-07T07:54:06.991922Z",
     "shell.execute_reply": "2020-08-07T07:54:06.991065Z",
     "shell.execute_reply.started": "2020-08-07T07:54:06.951570Z"
    }
   },
   "outputs": [],
   "source": [
    "def _get_papers(filepath: str = \"src/cond-mat.hg2\") -> Papers:\n",
    "  \"\"\"Read collaboration data in filepath and return all papers.\"\"\"\n",
    "  \n",
    "  papers = list()\n",
    "  # Get number of rows to read for the vertices.\n",
    "  with open(filepath) as file:\n",
    "    no_rows = int(file.readline().split(' ')[1])\n",
    " \n",
    "  with open(filepath) as file:\n",
    "    for paper in file.readlines()[no_rows+2:]:\n",
    "      # Each line has the following format: epoch no_authors [ u v (w ...) ]\n",
    "      epoch = datetime.fromtimestamp(int(paper.split(' ')[0]))\n",
    "          \n",
    "      no_authors = int(paper.split(' ')[1])\n",
    "      index1 = paper.find('[')+2\n",
    "      index2 = paper.find(']')-1\n",
    "\n",
    "      authors = [int(auth) for auth in paper[index1:index2].split(' ')]\n",
    "      assert no_authors == len(authors)\n",
    "      \n",
    "      papers.append((authors, epoch))\n",
    "  return papers\n",
    "def _filter_edgelist(edges: List[Edge], start, stop) -> List[Edge]: \n",
    "  \"\"\"Filter edgelist.  If start/ stop is float, start/stop from the fraction of total edges. If datetime, this is used.\"\"\" \n",
    "  no_edges = len(edges)\n",
    "  if start is None: start=0\n",
    "  if stop is None: stop=1\n",
    "  if type(start) is float or start == 0:\n",
    "    start_index = int(start*no_edges)\n",
    "    start = edges[start_index][2]['date']\n",
    "  if type(stop) is float or stop == 1:\n",
    "    stop_index = math.floor(stop*no_edges)-1\n",
    "    stop = edges[stop_index][2]['date']\n",
    "  return [edge for edge in edges if edge[2]['date'] >= start and edge[2]['date'] <= stop]\n",
    "def get_edgelist(*, start=None, stop=None) -> List[Edge]:\n",
    "  \"\"\"Return E_[t_1, t_2].\"\"\"\n",
    "  papers = _get_papers()\n",
    "  edges = [\n",
    "    (u, v, dict(date=date)) if u<v else (v, u, dict(date=date))\n",
    "    for authors, date in papers\n",
    "    for u, v in itertools.combinations(authors, 2)\n",
    "  ]\n",
    "  return _filter_edgelist(edges, start, stop)\n",
    "def giant_component(graph: nx.Graph) -> nx.Graph: return graph.subgraph(max(nx.connected_components(graph), key=len)).copy()\n",
    "def get_graph(edgelist: List[Edge]) -> nx.Graph:\n",
    "  \"\"\"Add edge to graph. Contains edge attribute weight.\"\"\"\n",
    "  g = nx.Graph()\n",
    "  \n",
    "  for u, v, _ in edgelist:\n",
    "    weight = g[u][v][\"weight\"]+1 if g.has_edge(u,v) else 1\n",
    "    g.add_edge(u, v, weight=weight)\n",
    "  \n",
    "  return g\n",
    "def report(graph:nx.Graph, probes: Tuple[Author, Author]):\n",
    "  n = len(probes)\n",
    "  print(f\"Number of probes: {n}\")\n",
    "  a = sum([graph.has_edge(u, v) for u, v in probes])\n",
    "  print(f\"- already edge: {a} ({a/n:.0%})\")\n",
    "  non_edges = set(nx.non_edges(graph))\n",
    "  ne = sum([np in non_edges for np in probes])\n",
    "  print(f\"- both nodes in graph: {ne} ({ne/n:.0%})\")\n",
    "  ng = sum([not (graph.has_node(u) and graph.has_node(v)) for u, v in probes])\n",
    "  print(f\"- not in graph: {ng} ({ng/n:.0%})\")\n",
    "def get_distances(graph: nx.Graph, cutoff: int = None) -> (List[NodePair], List[int]):\n",
    "  \"\"\"\n",
    "  Get all non-edges using BFS. When cutoff provided, consider only node pairs with at most this distance.\n",
    "  Returns:\n",
    "  - nodepairs: tuple containing all nodepairs\n",
    "  - distances: tuple containing all distances\n",
    "  \"\"\"\n",
    "  nodepairs, distances = zip(\n",
    "    *[\n",
    "      [(u, v), distance]\n",
    "      for u, (nbs_u, _) in tqdm(nx.all_pairs_dijkstra(graph, cutoff, weight=None), total=len(graph), desc=\"get_distances\")\n",
    "      for v, distance in nbs_u.items() if distance > 1 and (cutoff is None or distance <= cutoff) \n",
    "    ]\n",
    "  )\n",
    "  return nodepairs, np.array(distances)\n",
    "def print_status(desc: str): print(f'{datetime.datetime.strftime(\"%H:%M:%S\", datetime.datetime.localtime())}: {desc}')"
   ]
  },
  {
   "cell_type": "markdown",
   "metadata": {},
   "source": [
    "## Set-up\n",
    "Choose here the parameters on how you want to define the learn and assessing phase."
   ]
  },
  {
   "cell_type": "code",
   "execution_count": 12,
   "metadata": {
    "execution": {
     "iopub.execute_input": "2020-08-06T16:07:16.108895Z",
     "iopub.status.busy": "2020-08-06T16:07:16.108539Z",
     "iopub.status.idle": "2020-08-06T16:07:17.371276Z",
     "shell.execute_reply": "2020-08-06T16:07:17.370376Z",
     "shell.execute_reply.started": "2020-08-06T16:07:16.108860Z"
    }
   },
   "outputs": [],
   "source": [
    "g_train_matured = giant_component(get_graph(get_edgelist(stop=datetime(1999, 12, 31))))\n",
    "uv_train_probe = {(u, v) for u, v, _ in get_edgelist(start=datetime(2000, 1, 1), stop=datetime(2000, 6, 30))}"
   ]
  },
  {
   "cell_type": "code",
   "execution_count": 13,
   "metadata": {
    "execution": {
     "iopub.execute_input": "2020-08-06T16:07:18.007934Z",
     "iopub.status.busy": "2020-08-06T16:07:18.007778Z",
     "iopub.status.idle": "2020-08-06T16:07:52.666214Z",
     "shell.execute_reply": "2020-08-06T16:07:52.665082Z",
     "shell.execute_reply.started": "2020-08-06T16:07:18.007916Z"
    }
   },
   "outputs": [
    {
     "name": "stdout",
     "output_type": "stream",
     "text": [
      "Number of probes: 10255\n",
      "- already edge: 3173 (31%)\n",
      "- both nodes in graph: 1900 (19%)\n",
      "- not in graph: 5182 (51%)\n"
     ]
    }
   ],
   "source": [
    "report(graph=g_train_matured, probes=uv_train_probe)"
   ]
  },
  {
   "cell_type": "code",
   "execution_count": 14,
   "metadata": {
    "execution": {
     "iopub.execute_input": "2020-08-06T16:07:52.667790Z",
     "iopub.status.busy": "2020-08-06T16:07:52.667611Z",
     "iopub.status.idle": "2020-08-06T16:07:54.274234Z",
     "shell.execute_reply": "2020-08-06T16:07:54.273247Z",
     "shell.execute_reply.started": "2020-08-06T16:07:52.667768Z"
    }
   },
   "outputs": [],
   "source": [
    "g_test_matured = giant_component(get_graph(get_edgelist(stop=datetime(2000, 6, 30))))\n",
    "uv_test_probe = {(u, v) for u, v, _ in get_edgelist(start=datetime(2000, 7, 1))}"
   ]
  },
  {
   "cell_type": "code",
   "execution_count": 6,
   "metadata": {
    "execution": {
     "iopub.execute_input": "2020-08-06T15:08:57.730362Z",
     "iopub.status.busy": "2020-08-06T15:08:57.730190Z",
     "iopub.status.idle": "2020-08-06T15:09:49.864619Z",
     "shell.execute_reply": "2020-08-06T15:09:49.863556Z",
     "shell.execute_reply.started": "2020-08-06T15:08:57.730338Z"
    }
   },
   "outputs": [
    {
     "name": "stdout",
     "output_type": "stream",
     "text": [
      "Number of probes: 11823\n",
      "- already edge: 3589 (30%)\n",
      "- both nodes in graph: 2518 (21%)\n",
      "- not in graph: 5715 (48%)\n"
     ]
    }
   ],
   "source": [
    "report(graph=g_test_matured, probes=uv_test_probe)"
   ]
  },
  {
   "cell_type": "markdown",
   "metadata": {},
   "source": [
    "## Export"
   ]
  },
  {
   "cell_type": "markdown",
   "metadata": {},
   "source": [
    "### Train"
   ]
  },
  {
   "cell_type": "code",
   "execution_count": 15,
   "metadata": {
    "execution": {
     "iopub.execute_input": "2020-08-06T16:07:54.275542Z",
     "iopub.status.busy": "2020-08-06T16:07:54.275391Z",
     "iopub.status.idle": "2020-08-06T16:28:17.523737Z",
     "shell.execute_reply": "2020-08-06T16:28:17.523128Z",
     "shell.execute_reply.started": "2020-08-06T16:07:54.275523Z"
    }
   },
   "outputs": [
    {
     "name": "stderr",
     "output_type": "stream",
     "text": [
      "get_distances: 100%|██████████| 11723/11723 [17:00<00:00, 11.49it/s]  \n",
      "100%|██████████| 137341838/137341838 [00:41<00:00, 3339143.24it/s]\n"
     ]
    }
   ],
   "source": [
    "nodepairs_train, distances_train = get_distances(g_train_matured)\n",
    "targets_train = [nodepair in uv_train_probe for nodepair in tqdm(nodepairs_train)]"
   ]
  },
  {
   "cell_type": "code",
   "execution_count": 68,
   "metadata": {
    "execution": {
     "iopub.execute_input": "2020-08-07T08:13:11.869418Z",
     "iopub.status.busy": "2020-08-07T08:13:11.868940Z",
     "iopub.status.idle": "2020-08-07T08:13:11.881561Z",
     "shell.execute_reply": "2020-08-07T08:13:11.880408Z",
     "shell.execute_reply.started": "2020-08-07T08:13:11.869369Z"
    }
   },
   "outputs": [],
   "source": [
    "def export(nodepairs, distances, targets, graph, path):\n",
    "  for select_distance in [2, 3, 4]:\n",
    "    print(select_distance)\n",
    "    filter_indices = (distances == select_distance)\n",
    "    for obj, filename in [(nodepairs, 'nodepairs'), (distances, 'distances'), (targets, 'targets')]:\n",
    "      obj[filter_indices].dump(f'{path}{select_distance}/{filename}.pkl')\n",
    "    joblib.dump(graph, f'{path}{select_distance}/graph.pkl')                         \n",
    "  print('all')\n",
    "  for obj, filename in [(nodepairs, 'nodepairs'), (distances, 'distances'), (targets, 'targets')]:\n",
    "    obj.dump(f'{path}all/{filename}.pkl')\n",
    "  joblib.dump(graph, f'{path}all/graph.pkl')"
   ]
  },
  {
   "cell_type": "code",
   "execution_count": 69,
   "metadata": {
    "execution": {
     "iopub.execute_input": "2020-08-07T08:13:13.382624Z",
     "iopub.status.busy": "2020-08-07T08:13:13.382236Z",
     "iopub.status.idle": "2020-08-07T08:13:27.503724Z",
     "shell.execute_reply": "2020-08-07T08:13:27.503061Z",
     "shell.execute_reply.started": "2020-08-07T08:13:13.382579Z"
    }
   },
   "outputs": [
    {
     "name": "stdout",
     "output_type": "stream",
     "text": [
      "2\n",
      "3\n",
      "4\n",
      "all\n"
     ]
    }
   ],
   "source": [
    "export(nodepairs_train, distances_train, targets_train, g_train_matured, folder+'train/')"
   ]
  },
  {
   "cell_type": "markdown",
   "metadata": {},
   "source": [
    "### Test"
   ]
  },
  {
   "cell_type": "code",
   "execution_count": 16,
   "metadata": {
    "execution": {
     "iopub.execute_input": "2020-08-06T16:28:17.525077Z",
     "iopub.status.busy": "2020-08-06T16:28:17.524882Z",
     "iopub.status.idle": "2020-08-06T17:01:20.622189Z",
     "shell.execute_reply": "2020-08-06T17:01:20.620926Z",
     "shell.execute_reply.started": "2020-08-06T16:28:17.525054Z"
    }
   },
   "outputs": [
    {
     "name": "stderr",
     "output_type": "stream",
     "text": [
      "get_distances: 100%|██████████| 13375/13375 [28:01<00:00,  7.96it/s]   \n",
      "100%|██████████| 178788264/178788264 [00:55<00:00, 3237878.40it/s]\n"
     ]
    }
   ],
   "source": [
    "nodepairs_test, distances_test = get_distances(g_test_matured)\n",
    "targets_test = [nodepair in uv_test_probe for nodepair in tqdm(nodepairs_test)]"
   ]
  },
  {
   "cell_type": "code",
   "execution_count": 59,
   "metadata": {
    "execution": {
     "iopub.execute_input": "2020-08-07T08:01:10.493813Z",
     "iopub.status.busy": "2020-08-07T08:01:10.493352Z",
     "iopub.status.idle": "2020-08-07T08:04:57.631598Z",
     "shell.execute_reply": "2020-08-07T08:04:57.630780Z",
     "shell.execute_reply.started": "2020-08-07T08:01:10.493769Z"
    }
   },
   "outputs": [
    {
     "name": "stdout",
     "output_type": "stream",
     "text": [
      "CPU times: user 3min 47s, sys: 1.72 s, total: 3min 49s\n",
      "Wall time: 3min 47s\n"
     ]
    }
   ],
   "source": [
    "%%time\n",
    "nodepairs_test = np.array(nodepairs_test)\n",
    "targets_test = np.array(targets_test)"
   ]
  },
  {
   "cell_type": "code",
   "execution_count": 70,
   "metadata": {
    "execution": {
     "iopub.execute_input": "2020-08-07T08:13:27.504839Z",
     "iopub.status.busy": "2020-08-07T08:13:27.504670Z",
     "iopub.status.idle": "2020-08-07T08:13:45.794536Z",
     "shell.execute_reply": "2020-08-07T08:13:45.793559Z",
     "shell.execute_reply.started": "2020-08-07T08:13:27.504817Z"
    }
   },
   "outputs": [
    {
     "name": "stdout",
     "output_type": "stream",
     "text": [
      "2\n",
      "3\n",
      "4\n",
      "all\n"
     ]
    }
   ],
   "source": [
    "export(nodepairs_test, distances_test, targets_test, g_test_matured, folder+'test/')"
   ]
  },
  {
   "cell_type": "code",
   "execution_count": 12,
   "metadata": {
    "execution": {
     "iopub.execute_input": "2020-08-06T15:11:49.165511Z",
     "iopub.status.busy": "2020-08-06T15:11:49.165293Z",
     "iopub.status.idle": "2020-08-06T15:11:49.181591Z",
     "shell.execute_reply": "2020-08-06T15:11:49.180262Z",
     "shell.execute_reply.started": "2020-08-06T15:11:49.165489Z"
    }
   },
   "outputs": [
    {
     "name": "stdout",
     "output_type": "stream",
     "text": [
      "1.418230e-03\n"
     ]
    }
   ],
   "source": [
    "print(f'{sum(targets_test) / len(nodepairs_test):e}')"
   ]
  },
  {
   "cell_type": "markdown",
   "metadata": {},
   "source": [
    "## Hyperparameter selection"
   ]
  },
  {
   "cell_type": "markdown",
   "metadata": {},
   "source": [
    "### XGBoost"
   ]
  },
  {
   "cell_type": "markdown",
   "metadata": {},
   "source": [
    "$n=2$"
   ]
  },
  {
   "cell_type": "code",
   "execution_count": 15,
   "metadata": {
    "execution": {
     "iopub.execute_input": "2020-08-06T15:14:46.899064Z",
     "iopub.status.busy": "2020-08-06T15:14:46.898833Z",
     "iopub.status.idle": "2020-08-06T15:14:46.913465Z",
     "shell.execute_reply": "2020-08-06T15:14:46.912438Z",
     "shell.execute_reply.started": "2020-08-06T15:14:46.899043Z"
    }
   },
   "outputs": [],
   "source": [
    "def gridsearch(df: pd.DataFrame, random_state=1) -> pd.DataFrame:\n",
    "  X = df.drop(columns='target').values\n",
    "  y = df['target'].values\n",
    "  \n",
    "  param_grid=dict(max_depth=[1, 2], scale_pos_weight=[sum(~y)/sum(y), 1])\n",
    "  \n",
    "  X_trainval, X_test, y_trainval, y_test = train_test_split(X, y, test_size=1/3, random_state=random_state)\n",
    "  clf = XGBClassifier(random_state=random_state, tree_method='hist', n_jobs=6)\n",
    "  gridsearch = GridSearchCV(\n",
    "    clf, \n",
    "    param_grid=param_grid, \n",
    "    scoring='average_precision', \n",
    "    n_jobs=30,\n",
    "    cv=StratifiedKFold(shuffle=True, random_state=random_state),\n",
    "    return_train_score=True\n",
    "  )\n",
    "  gridsearch.fit(X_trainval, y_trainval)\n",
    "  df = pd.DataFrame(\n",
    "    dict(train=gridsearch.cv_results_['mean_train_score'], test=gridsearch.cv_results_['mean_test_score']), \n",
    "    index=pd.Index([(d['max_depth'], d['scale_pos_weight'] > 1) for d in gridsearch.cv_results_['params']], name=('max_depth', 'balanced'))\n",
    "  )\n",
    "  df['diff'] = (df['test'] - df['train']).abs()\n",
    "  return df.sort_values('test', ascending=False)\n",
    "def report_performance(df: pd.DataFrame, random_state=1, max_depth=1, tree_method='hist', balanced=True, n_jobs=128):\n",
    "  X = df.drop(columns='target').values\n",
    "  y = df['target'].values\n",
    "  X_trainval, X_test, y_trainval, y_test = train_test_split(X, y, test_size=1/3, random_state=random_state)\n",
    "  clf = XGBClassifier(max_depth=max_depth, n_jobs=128, tree_method=tree_method, scale_pos_weight=sum(~y)/sum(y) if balanced else 1 , random_state=random_state)\n",
    "  clf.fit(X_trainval, y_trainval)\n",
    "  y_pred = clf.predict_proba(X_test)[:,1]\n",
    "  return average_precision_score(y_test, y_pred), roc_auc_score(y_test, y_pred)"
   ]
  },
  {
   "cell_type": "code",
   "execution_count": 61,
   "metadata": {
    "execution": {
     "iopub.execute_input": "2020-08-06T10:39:53.997815Z",
     "iopub.status.busy": "2020-08-06T10:39:53.997411Z",
     "iopub.status.idle": "2020-08-06T10:40:01.327128Z",
     "shell.execute_reply": "2020-08-06T10:40:01.326500Z",
     "shell.execute_reply.started": "2020-08-06T10:39:53.997775Z"
    }
   },
   "outputs": [
    {
     "data": {
      "text/html": [
       "<div>\n",
       "<style scoped>\n",
       "    .dataframe tbody tr th:only-of-type {\n",
       "        vertical-align: middle;\n",
       "    }\n",
       "\n",
       "    .dataframe tbody tr th {\n",
       "        vertical-align: top;\n",
       "    }\n",
       "\n",
       "    .dataframe thead th {\n",
       "        text-align: right;\n",
       "    }\n",
       "</style>\n",
       "<table border=\"1\" class=\"dataframe\">\n",
       "  <thead>\n",
       "    <tr style=\"text-align: right;\">\n",
       "      <th></th>\n",
       "      <th></th>\n",
       "      <th>train</th>\n",
       "      <th>test</th>\n",
       "      <th>diff</th>\n",
       "    </tr>\n",
       "    <tr>\n",
       "      <th>max_depth</th>\n",
       "      <th>balanced</th>\n",
       "      <th></th>\n",
       "      <th></th>\n",
       "      <th></th>\n",
       "    </tr>\n",
       "  </thead>\n",
       "  <tbody>\n",
       "    <tr>\n",
       "      <th>2</th>\n",
       "      <th>False</th>\n",
       "      <td>0.028567</td>\n",
       "      <td>0.011711</td>\n",
       "      <td>0.016857</td>\n",
       "    </tr>\n",
       "    <tr>\n",
       "      <th>1</th>\n",
       "      <th>False</th>\n",
       "      <td>0.012720</td>\n",
       "      <td>0.011336</td>\n",
       "      <td>0.001385</td>\n",
       "    </tr>\n",
       "    <tr>\n",
       "      <th>2</th>\n",
       "      <th>True</th>\n",
       "      <td>0.020108</td>\n",
       "      <td>0.010128</td>\n",
       "      <td>0.009979</td>\n",
       "    </tr>\n",
       "    <tr>\n",
       "      <th>1</th>\n",
       "      <th>True</th>\n",
       "      <td>0.010845</td>\n",
       "      <td>0.009457</td>\n",
       "      <td>0.001388</td>\n",
       "    </tr>\n",
       "  </tbody>\n",
       "</table>\n",
       "</div>"
      ],
      "text/plain": [
       "                       train      test      diff\n",
       "max_depth balanced                              \n",
       "2         False     0.028567  0.011711  0.016857\n",
       "1         False     0.012720  0.011336  0.001385\n",
       "2         True      0.020108  0.010128  0.009979\n",
       "1         True      0.010845  0.009457  0.001388"
      ]
     },
     "execution_count": 61,
     "metadata": {},
     "output_type": "execute_result"
    }
   ],
   "source": [
    "gridsearch(pd.read_pickle(f'temp/b1/2/train/features.pkl'))"
   ]
  },
  {
   "cell_type": "code",
   "execution_count": 63,
   "metadata": {
    "execution": {
     "iopub.execute_input": "2020-08-06T10:40:02.149051Z",
     "iopub.status.busy": "2020-08-06T10:40:02.148781Z",
     "iopub.status.idle": "2020-08-06T10:40:32.162327Z",
     "shell.execute_reply": "2020-08-06T10:40:32.161774Z",
     "shell.execute_reply.started": "2020-08-06T10:40:02.149023Z"
    }
   },
   "outputs": [
    {
     "data": {
      "text/html": [
       "<div>\n",
       "<style scoped>\n",
       "    .dataframe tbody tr th:only-of-type {\n",
       "        vertical-align: middle;\n",
       "    }\n",
       "\n",
       "    .dataframe tbody tr th {\n",
       "        vertical-align: top;\n",
       "    }\n",
       "\n",
       "    .dataframe thead th {\n",
       "        text-align: right;\n",
       "    }\n",
       "</style>\n",
       "<table border=\"1\" class=\"dataframe\">\n",
       "  <thead>\n",
       "    <tr style=\"text-align: right;\">\n",
       "      <th></th>\n",
       "      <th></th>\n",
       "      <th>train</th>\n",
       "      <th>test</th>\n",
       "      <th>diff</th>\n",
       "    </tr>\n",
       "    <tr>\n",
       "      <th>max_depth</th>\n",
       "      <th>balanced</th>\n",
       "      <th></th>\n",
       "      <th></th>\n",
       "      <th></th>\n",
       "    </tr>\n",
       "  </thead>\n",
       "  <tbody>\n",
       "    <tr>\n",
       "      <th>2</th>\n",
       "      <th>False</th>\n",
       "      <td>0.012686</td>\n",
       "      <td>0.002443</td>\n",
       "      <td>0.010243</td>\n",
       "    </tr>\n",
       "    <tr>\n",
       "      <th>1</th>\n",
       "      <th>True</th>\n",
       "      <td>0.002354</td>\n",
       "      <td>0.002340</td>\n",
       "      <td>0.000014</td>\n",
       "    </tr>\n",
       "    <tr>\n",
       "      <th>2</th>\n",
       "      <th>True</th>\n",
       "      <td>0.004258</td>\n",
       "      <td>0.002081</td>\n",
       "      <td>0.002177</td>\n",
       "    </tr>\n",
       "    <tr>\n",
       "      <th>1</th>\n",
       "      <th>False</th>\n",
       "      <td>0.002263</td>\n",
       "      <td>0.001982</td>\n",
       "      <td>0.000281</td>\n",
       "    </tr>\n",
       "  </tbody>\n",
       "</table>\n",
       "</div>"
      ],
      "text/plain": [
       "                       train      test      diff\n",
       "max_depth balanced                              \n",
       "2         False     0.012686  0.002443  0.010243\n",
       "1         True      0.002354  0.002340  0.000014\n",
       "2         True      0.004258  0.002081  0.002177\n",
       "1         False     0.002263  0.001982  0.000281"
      ]
     },
     "execution_count": 63,
     "metadata": {},
     "output_type": "execute_result"
    }
   ],
   "source": [
    "gridsearch(pd.read_pickle(f'temp/a1/3/features.pkl'))"
   ]
  },
  {
   "cell_type": "code",
   "execution_count": 69,
   "metadata": {
    "execution": {
     "iopub.execute_input": "2020-08-06T13:14:34.945000Z",
     "iopub.status.busy": "2020-08-06T13:14:34.944499Z",
     "iopub.status.idle": "2020-08-06T13:16:22.977642Z",
     "shell.execute_reply": "2020-08-06T13:16:22.976937Z",
     "shell.execute_reply.started": "2020-08-06T13:14:34.944936Z"
    }
   },
   "outputs": [
    {
     "data": {
      "text/html": [
       "<div>\n",
       "<style scoped>\n",
       "    .dataframe tbody tr th:only-of-type {\n",
       "        vertical-align: middle;\n",
       "    }\n",
       "\n",
       "    .dataframe tbody tr th {\n",
       "        vertical-align: top;\n",
       "    }\n",
       "\n",
       "    .dataframe thead th {\n",
       "        text-align: right;\n",
       "    }\n",
       "</style>\n",
       "<table border=\"1\" class=\"dataframe\">\n",
       "  <thead>\n",
       "    <tr style=\"text-align: right;\">\n",
       "      <th></th>\n",
       "      <th></th>\n",
       "      <th>train</th>\n",
       "      <th>test</th>\n",
       "      <th>diff</th>\n",
       "    </tr>\n",
       "    <tr>\n",
       "      <th>max_depth</th>\n",
       "      <th>balanced</th>\n",
       "      <th></th>\n",
       "      <th></th>\n",
       "      <th></th>\n",
       "    </tr>\n",
       "  </thead>\n",
       "  <tbody>\n",
       "    <tr>\n",
       "      <th>2</th>\n",
       "      <th>False</th>\n",
       "      <td>0.003662</td>\n",
       "      <td>0.001274</td>\n",
       "      <td>0.002388</td>\n",
       "    </tr>\n",
       "    <tr>\n",
       "      <th rowspan=\"2\" valign=\"top\">1</th>\n",
       "      <th>False</th>\n",
       "      <td>0.001254</td>\n",
       "      <td>0.000816</td>\n",
       "      <td>0.000437</td>\n",
       "    </tr>\n",
       "    <tr>\n",
       "      <th>True</th>\n",
       "      <td>0.000515</td>\n",
       "      <td>0.000628</td>\n",
       "      <td>0.000113</td>\n",
       "    </tr>\n",
       "    <tr>\n",
       "      <th>2</th>\n",
       "      <th>True</th>\n",
       "      <td>0.000819</td>\n",
       "      <td>0.000402</td>\n",
       "      <td>0.000417</td>\n",
       "    </tr>\n",
       "  </tbody>\n",
       "</table>\n",
       "</div>"
      ],
      "text/plain": [
       "                       train      test      diff\n",
       "max_depth balanced                              \n",
       "2         False     0.003662  0.001274  0.002388\n",
       "1         False     0.001254  0.000816  0.000437\n",
       "          True      0.000515  0.000628  0.000113\n",
       "2         True      0.000819  0.000402  0.000417"
      ]
     },
     "execution_count": 69,
     "metadata": {},
     "output_type": "execute_result"
    }
   ],
   "source": [
    "gridsearch(pd.read_pickle(f'temp/a1/4/features.pkl'))"
   ]
  },
  {
   "cell_type": "code",
   "execution_count": 67,
   "metadata": {
    "execution": {
     "iopub.execute_input": "2020-08-06T10:49:45.355632Z",
     "iopub.status.busy": "2020-08-06T10:49:45.355457Z",
     "iopub.status.idle": "2020-08-06T10:49:51.404401Z",
     "shell.execute_reply": "2020-08-06T10:49:51.403466Z",
     "shell.execute_reply.started": "2020-08-06T10:49:45.355612Z"
    }
   },
   "outputs": [
    {
     "data": {
      "text/plain": [
       "(0.01161405871585572, 0.7167960845889996)"
      ]
     },
     "execution_count": 67,
     "metadata": {},
     "output_type": "execute_result"
    }
   ],
   "source": [
    "report_performance(pd.read_pickle(f'temp/a1/2/features.pkl'), balanced=False)"
   ]
  },
  {
   "cell_type": "code",
   "execution_count": 68,
   "metadata": {
    "execution": {
     "iopub.execute_input": "2020-08-06T10:50:05.085217Z",
     "iopub.status.busy": "2020-08-06T10:50:05.084749Z",
     "iopub.status.idle": "2020-08-06T10:50:28.840430Z",
     "shell.execute_reply": "2020-08-06T10:50:28.839029Z",
     "shell.execute_reply.started": "2020-08-06T10:50:05.085170Z"
    }
   },
   "outputs": [
    {
     "data": {
      "text/plain": [
       "(0.0011615687309137015, 0.7464862309289879)"
      ]
     },
     "execution_count": 68,
     "metadata": {},
     "output_type": "execute_result"
    }
   ],
   "source": [
    "report_performance(pd.read_pickle(f'temp/a1/3/features.pkl'), balanced=True)"
   ]
  },
  {
   "cell_type": "code",
   "execution_count": 70,
   "metadata": {
    "execution": {
     "iopub.execute_input": "2020-08-06T13:17:30.168538Z",
     "iopub.status.busy": "2020-08-06T13:17:30.168331Z",
     "iopub.status.idle": "2020-08-06T13:18:44.069500Z",
     "shell.execute_reply": "2020-08-06T13:18:44.068796Z",
     "shell.execute_reply.started": "2020-08-06T13:17:30.168509Z"
    }
   },
   "outputs": [
    {
     "data": {
      "text/plain": [
       "(0.00032047810413316836, 0.709864007885863)"
      ]
     },
     "execution_count": 70,
     "metadata": {},
     "output_type": "execute_result"
    }
   ],
   "source": [
    "report_performance(pd.read_pickle(f'temp/a1/4/features.pkl'), balanced=True)"
   ]
  },
  {
   "cell_type": "code",
   "execution_count": null,
   "metadata": {},
   "outputs": [],
   "source": []
  }
 ],
 "metadata": {
  "kernelspec": {
   "display_name": "Python 3",
   "language": "python",
   "name": "python3"
  },
  "language_info": {
   "codemirror_mode": {
    "name": "ipython",
    "version": 3
   },
   "file_extension": ".py",
   "mimetype": "text/x-python",
   "name": "python",
   "nbconvert_exporter": "python",
   "pygments_lexer": "ipython3",
   "version": "3.8.5"
  },
  "widgets": {
   "application/vnd.jupyter.widget-state+json": {
    "state": {},
    "version_major": 2,
    "version_minor": 0
   }
  }
 },
 "nbformat": 4,
 "nbformat_minor": 4
}
