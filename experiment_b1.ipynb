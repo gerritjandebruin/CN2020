{
 "cells": [
  {
   "cell_type": "markdown",
   "metadata": {},
   "source": [
    "# Link Prediction in Condmat"
   ]
  },
  {
   "cell_type": "code",
   "execution_count": 12,
   "metadata": {
    "execution": {
     "iopub.execute_input": "2020-08-09T14:40:45.334567Z",
     "iopub.status.busy": "2020-08-09T14:40:45.334336Z",
     "iopub.status.idle": "2020-08-09T14:40:45.341823Z",
     "shell.execute_reply": "2020-08-09T14:40:45.341151Z",
     "shell.execute_reply.started": "2020-08-09T14:40:45.334546Z"
    }
   },
   "outputs": [],
   "source": [
    "import copy\n",
    "from datetime import datetime\n",
    "import itertools\n",
    "import math\n",
    "from typing import List, Any, Dict, Tuple\n",
    "\n",
    "import joblib\n",
    "import matplotlib.pyplot as plt\n",
    "import networkx as nx\n",
    "import numpy as np\n",
    "import pandas as pd\n",
    "import plotly.express as px\n",
    "import plotly.figure_factory as ff\n",
    "import plotly.graph_objects as go\n",
    "from sklearn.preprocessing import minmax_scale\n",
    "from sklearn.metrics import precision_recall_curve, average_precision_score, roc_auc_score\n",
    "from sklearn.metrics import roc_curve, auc\n",
    "from sklearn.model_selection import StratifiedKFold, cross_validate, GridSearchCV, train_test_split\n",
    "import seaborn as sns\n",
    "from tqdm import tqdm\n",
    "from xgboost import XGBClassifier\n",
    "\n",
    "# Typing\n",
    "Author = int\n",
    "Papers = List[Tuple[List[Author], datetime]]\n",
    "NodePair = Tuple[Author, Author]\n",
    "Edge = List[Tuple[Author, Author, Dict[str, datetime]]]\n",
    "\n",
    "folder = '/local/bruingjde/complexnetworks2020-experiment/temp/a4n/'"
   ]
  },
  {
   "cell_type": "code",
   "execution_count": 2,
   "metadata": {
    "execution": {
     "iopub.execute_input": "2020-08-09T13:01:22.481507Z",
     "iopub.status.busy": "2020-08-09T13:01:22.481329Z",
     "iopub.status.idle": "2020-08-09T13:01:22.501788Z",
     "shell.execute_reply": "2020-08-09T13:01:22.501053Z",
     "shell.execute_reply.started": "2020-08-09T13:01:22.481484Z"
    }
   },
   "outputs": [],
   "source": [
    "def _get_papers(filepath: str = \"src/cond-mat.hg2\") -> Papers:\n",
    "  \"\"\"Read collaboration data in filepath and return all papers.\"\"\"\n",
    "  \n",
    "  papers = list()\n",
    "  # Get number of rows to read for the vertices.\n",
    "  with open(filepath) as file:\n",
    "    no_rows = int(file.readline().split(' ')[1])\n",
    " \n",
    "  with open(filepath) as file:\n",
    "    for paper in file.readlines()[no_rows+2:]:\n",
    "      # Each line has the following format: epoch no_authors [ u v (w ...) ]\n",
    "      epoch = datetime.fromtimestamp(int(paper.split(' ')[0]))\n",
    "          \n",
    "      no_authors = int(paper.split(' ')[1])\n",
    "      index1 = paper.find('[')+2\n",
    "      index2 = paper.find(']')-1\n",
    "\n",
    "      authors = [int(auth) for auth in paper[index1:index2].split(' ')]\n",
    "      assert no_authors == len(authors)\n",
    "      \n",
    "      papers.append((authors, epoch))\n",
    "  return papers\n",
    "def _filter_edgelist(edges: List[Edge], start, stop) -> List[Edge]: \n",
    "  \"\"\"Filter edgelist.  If start/ stop is float, start/stop from the fraction of total edges. If datetime, this is used.\"\"\" \n",
    "  no_edges = len(edges)\n",
    "  if start is None: start=0\n",
    "  if stop is None: stop=1\n",
    "  if type(start) is float or start == 0:\n",
    "    start_index = int(start*no_edges)\n",
    "    start = edges[start_index][2]['date']\n",
    "  if type(stop) is float or stop == 1:\n",
    "    stop_index = math.floor(stop*no_edges)-1\n",
    "    stop = edges[stop_index][2]['date']\n",
    "  return [edge for edge in edges if edge[2]['date'] >= start and edge[2]['date'] <= stop]\n",
    "def get_edgelist(*, start=None, stop=None) -> List[Edge]:\n",
    "  \"\"\"Return E_[t_1, t_2].\"\"\"\n",
    "  papers = _get_papers()\n",
    "  edges = [\n",
    "    (u, v, dict(date=date)) if u<v else (v, u, dict(date=date))\n",
    "    for authors, date in papers\n",
    "    for u, v in itertools.combinations(authors, 2)\n",
    "  ]\n",
    "  return _filter_edgelist(edges, start, stop)\n",
    "def giant_component(graph: nx.Graph) -> nx.Graph: return graph.subgraph(max(nx.connected_components(graph), key=len)).copy()\n",
    "def get_graph(edgelist: List[Edge]) -> nx.Graph:\n",
    "  \"\"\"Add edge to graph. Contains edge attribute weight.\"\"\"\n",
    "  g = nx.Graph()\n",
    "  \n",
    "  for u, v, _ in edgelist:\n",
    "    weight = g[u][v][\"weight\"]+1 if g.has_edge(u,v) else 1\n",
    "    g.add_edge(u, v, weight=weight)\n",
    "  \n",
    "  return g\n",
    "def report(graph:nx.Graph, probes: Tuple[Author, Author]):\n",
    "  n = len(probes)\n",
    "  print(f\"Number of probes: {n}\")\n",
    "  a = sum([graph.has_edge(u, v) for u, v in probes])\n",
    "  print(f\"- already edge: {a} ({a/n:.0%})\")\n",
    "  non_edges = set(nx.non_edges(graph))\n",
    "  ne = sum([np in non_edges for np in probes])\n",
    "  print(f\"- both nodes in graph: {ne} ({ne/n:.0%})\")\n",
    "  ng = sum([not (graph.has_node(u) and graph.has_node(v)) for u, v in probes])\n",
    "  print(f\"- not in graph: {ng} ({ng/n:.0%})\")\n",
    "def get_distances(graph: nx.Graph, cutoff: int = None) -> (List[NodePair], List[int]):\n",
    "  \"\"\"\n",
    "  Get all non-edges using BFS. When cutoff provided, consider only node pairs with at most this distance.\n",
    "  Returns:\n",
    "  - nodepairs: tuple containing all nodepairs\n",
    "  - distances: tuple containing all distances\n",
    "  \"\"\"\n",
    "  nodepairs, distances = zip(\n",
    "    *[\n",
    "      [(u, v), distance]\n",
    "      for u, (nbs_u, _) in tqdm(nx.all_pairs_dijkstra(graph, cutoff, weight=None), total=len(graph), desc=\"get_distances\")\n",
    "      for v, distance in nbs_u.items() if distance > 1 and (cutoff is None or distance <= cutoff) \n",
    "    ]\n",
    "  )\n",
    "  return nodepairs, np.array(distances)\n",
    "def print_status(desc: str): print(f'{datetime.datetime.strftime(\"%H:%M:%S\", datetime.datetime.localtime())}: {desc}')"
   ]
  },
  {
   "cell_type": "markdown",
   "metadata": {},
   "source": [
    "## Set-up\n",
    "Choose here the parameters on how you want to define the learn and assessing phase."
   ]
  },
  {
   "cell_type": "code",
   "execution_count": 12,
   "metadata": {
    "execution": {
     "iopub.execute_input": "2020-08-06T16:07:16.108895Z",
     "iopub.status.busy": "2020-08-06T16:07:16.108539Z",
     "iopub.status.idle": "2020-08-06T16:07:17.371276Z",
     "shell.execute_reply": "2020-08-06T16:07:17.370376Z",
     "shell.execute_reply.started": "2020-08-06T16:07:16.108860Z"
    }
   },
   "outputs": [],
   "source": [
    "g_train_matured = giant_component(get_graph(get_edgelist(stop=datetime(1999, 12, 31))))\n",
    "uv_train_probe = {(u, v) for u, v, _ in get_edgelist(start=datetime(2000, 1, 1), stop=datetime(2000, 6, 30))}"
   ]
  },
  {
   "cell_type": "code",
   "execution_count": 13,
   "metadata": {
    "execution": {
     "iopub.execute_input": "2020-08-06T16:07:18.007934Z",
     "iopub.status.busy": "2020-08-06T16:07:18.007778Z",
     "iopub.status.idle": "2020-08-06T16:07:52.666214Z",
     "shell.execute_reply": "2020-08-06T16:07:52.665082Z",
     "shell.execute_reply.started": "2020-08-06T16:07:18.007916Z"
    }
   },
   "outputs": [
    {
     "name": "stdout",
     "output_type": "stream",
     "text": [
      "Number of probes: 10255\n",
      "- already edge: 3173 (31%)\n",
      "- both nodes in graph: 1900 (19%)\n",
      "- not in graph: 5182 (51%)\n"
     ]
    }
   ],
   "source": [
    "report(graph=g_train_matured, probes=uv_train_probe)"
   ]
  },
  {
   "cell_type": "code",
   "execution_count": 14,
   "metadata": {
    "execution": {
     "iopub.execute_input": "2020-08-06T16:07:52.667790Z",
     "iopub.status.busy": "2020-08-06T16:07:52.667611Z",
     "iopub.status.idle": "2020-08-06T16:07:54.274234Z",
     "shell.execute_reply": "2020-08-06T16:07:54.273247Z",
     "shell.execute_reply.started": "2020-08-06T16:07:52.667768Z"
    }
   },
   "outputs": [],
   "source": [
    "g_test_matured = giant_component(get_graph(get_edgelist(stop=datetime(2000, 6, 30))))\n",
    "uv_test_probe = {(u, v) for u, v, _ in get_edgelist(start=datetime(2000, 7, 1))}"
   ]
  },
  {
   "cell_type": "code",
   "execution_count": 6,
   "metadata": {
    "execution": {
     "iopub.execute_input": "2020-08-06T15:08:57.730362Z",
     "iopub.status.busy": "2020-08-06T15:08:57.730190Z",
     "iopub.status.idle": "2020-08-06T15:09:49.864619Z",
     "shell.execute_reply": "2020-08-06T15:09:49.863556Z",
     "shell.execute_reply.started": "2020-08-06T15:08:57.730338Z"
    }
   },
   "outputs": [
    {
     "name": "stdout",
     "output_type": "stream",
     "text": [
      "Number of probes: 11823\n",
      "- already edge: 3589 (30%)\n",
      "- both nodes in graph: 2518 (21%)\n",
      "- not in graph: 5715 (48%)\n"
     ]
    }
   ],
   "source": [
    "report(graph=g_test_matured, probes=uv_test_probe)"
   ]
  },
  {
   "cell_type": "markdown",
   "metadata": {},
   "source": [
    "## Export"
   ]
  },
  {
   "cell_type": "markdown",
   "metadata": {},
   "source": [
    "### Train"
   ]
  },
  {
   "cell_type": "code",
   "execution_count": 15,
   "metadata": {
    "execution": {
     "iopub.execute_input": "2020-08-06T16:07:54.275542Z",
     "iopub.status.busy": "2020-08-06T16:07:54.275391Z",
     "iopub.status.idle": "2020-08-06T16:28:17.523737Z",
     "shell.execute_reply": "2020-08-06T16:28:17.523128Z",
     "shell.execute_reply.started": "2020-08-06T16:07:54.275523Z"
    }
   },
   "outputs": [
    {
     "name": "stderr",
     "output_type": "stream",
     "text": [
      "get_distances: 100%|██████████| 11723/11723 [17:00<00:00, 11.49it/s]  \n",
      "100%|██████████| 137341838/137341838 [00:41<00:00, 3339143.24it/s]\n"
     ]
    }
   ],
   "source": [
    "nodepairs_train, distances_train = get_distances(g_train_matured)\n",
    "targets_train = [nodepair in uv_train_probe for nodepair in tqdm(nodepairs_train)]"
   ]
  },
  {
   "cell_type": "code",
   "execution_count": 68,
   "metadata": {
    "execution": {
     "iopub.execute_input": "2020-08-07T08:13:11.869418Z",
     "iopub.status.busy": "2020-08-07T08:13:11.868940Z",
     "iopub.status.idle": "2020-08-07T08:13:11.881561Z",
     "shell.execute_reply": "2020-08-07T08:13:11.880408Z",
     "shell.execute_reply.started": "2020-08-07T08:13:11.869369Z"
    }
   },
   "outputs": [],
   "source": [
    "def export(nodepairs, distances, targets, graph, path):\n",
    "  for select_distance in [2, 3, 4]:\n",
    "    print(select_distance)\n",
    "    filter_indices = (distances == select_distance)\n",
    "    for obj, filename in [(nodepairs, 'nodepairs'), (distances, 'distances'), (targets, 'targets')]:\n",
    "      obj[filter_indices].dump(f'{path}{select_distance}/{filename}.pkl')\n",
    "    joblib.dump(graph, f'{path}{select_distance}/graph.pkl')                         \n",
    "  print('all')\n",
    "  for obj, filename in [(nodepairs, 'nodepairs'), (distances, 'distances'), (targets, 'targets')]:\n",
    "    obj.dump(f'{path}all/{filename}.pkl')\n",
    "  joblib.dump(graph, f'{path}all/graph.pkl')"
   ]
  },
  {
   "cell_type": "markdown",
   "metadata": {},
   "source": [
    "### Test"
   ]
  },
  {
   "cell_type": "code",
   "execution_count": 16,
   "metadata": {
    "execution": {
     "iopub.execute_input": "2020-08-06T16:28:17.525077Z",
     "iopub.status.busy": "2020-08-06T16:28:17.524882Z",
     "iopub.status.idle": "2020-08-06T17:01:20.622189Z",
     "shell.execute_reply": "2020-08-06T17:01:20.620926Z",
     "shell.execute_reply.started": "2020-08-06T16:28:17.525054Z"
    }
   },
   "outputs": [
    {
     "name": "stderr",
     "output_type": "stream",
     "text": [
      "get_distances: 100%|██████████| 13375/13375 [28:01<00:00,  7.96it/s]   \n",
      "100%|██████████| 178788264/178788264 [00:55<00:00, 3237878.40it/s]\n"
     ]
    }
   ],
   "source": [
    "nodepairs_test, distances_test = get_distances(g_test_matured)\n",
    "targets_test = [nodepair in uv_test_probe for nodepair in tqdm(nodepairs_test)]"
   ]
  },
  {
   "cell_type": "code",
   "execution_count": 59,
   "metadata": {
    "execution": {
     "iopub.execute_input": "2020-08-07T08:01:10.493813Z",
     "iopub.status.busy": "2020-08-07T08:01:10.493352Z",
     "iopub.status.idle": "2020-08-07T08:04:57.631598Z",
     "shell.execute_reply": "2020-08-07T08:04:57.630780Z",
     "shell.execute_reply.started": "2020-08-07T08:01:10.493769Z"
    }
   },
   "outputs": [
    {
     "name": "stdout",
     "output_type": "stream",
     "text": [
      "CPU times: user 3min 47s, sys: 1.72 s, total: 3min 49s\n",
      "Wall time: 3min 47s\n"
     ]
    }
   ],
   "source": [
    "%%time\n",
    "nodepairs_test = np.array(nodepairs_test)\n",
    "targets_test = np.array(targets_test)"
   ]
  },
  {
   "cell_type": "code",
   "execution_count": 12,
   "metadata": {
    "execution": {
     "iopub.execute_input": "2020-08-06T15:11:49.165511Z",
     "iopub.status.busy": "2020-08-06T15:11:49.165293Z",
     "iopub.status.idle": "2020-08-06T15:11:49.181591Z",
     "shell.execute_reply": "2020-08-06T15:11:49.180262Z",
     "shell.execute_reply.started": "2020-08-06T15:11:49.165489Z"
    }
   },
   "outputs": [
    {
     "name": "stdout",
     "output_type": "stream",
     "text": [
      "1.418230e-03\n"
     ]
    }
   ],
   "source": [
    "print(f'{sum(targets_test) / len(nodepairs_test):e}')"
   ]
  },
  {
   "cell_type": "markdown",
   "metadata": {},
   "source": [
    "## Hyperparameter selection"
   ]
  },
  {
   "cell_type": "markdown",
   "metadata": {},
   "source": [
    "### XGBoost"
   ]
  },
  {
   "cell_type": "markdown",
   "metadata": {},
   "source": [
    "$n=2$"
   ]
  },
  {
   "cell_type": "code",
   "execution_count": 35,
   "metadata": {
    "execution": {
     "iopub.execute_input": "2020-08-09T17:40:12.746348Z",
     "iopub.status.busy": "2020-08-09T17:40:12.746091Z",
     "iopub.status.idle": "2020-08-09T17:40:12.760768Z",
     "shell.execute_reply": "2020-08-09T17:40:12.760275Z",
     "shell.execute_reply.started": "2020-08-09T17:40:12.746325Z"
    }
   },
   "outputs": [],
   "source": [
    "def get_x_y(df: pd.DataFrame): return df.drop(columns='target').values, df['target'].values\n",
    "def gridsearch(df: pd.DataFrame, random_state=1, also_random=True, max_depth=[1, 2]) -> pd.DataFrame:\n",
    "  X, y = get_x_y(df)\n",
    "  \n",
    "  \n",
    "  X_train, X_val, y_train, y_val = train_test_split(X, y, test_size=1/3, random_state=random_state)\n",
    "  clf = XGBClassifier(random_state=random_state, tree_method='hist', n_jobs=6)\n",
    "  gridsearch = GridSearchCV(\n",
    "    clf, \n",
    "    param_grid=dict(max_depth=max_depth, scale_pos_weight=[sum(~y_train)/sum(y_train), 1]), \n",
    "    scoring='average_precision', \n",
    "    n_jobs=30,\n",
    "    cv=StratifiedKFold(shuffle=True, random_state=random_state),\n",
    "    return_train_score=True\n",
    "  )\n",
    "  \n",
    "  if also_random: \n",
    "    gridsearch_random = copy.deepcopy(gridsearch)\n",
    "    np.random.seed(random_state)\n",
    "    y_random = copy.deepcopy(y_train)\n",
    "    np.random.shuffle(y_random)\n",
    "  \n",
    "  gridsearch.fit(X_train, y_train)\n",
    "  df_dict = dict(\n",
    "      mean_train=gridsearch.cv_results_['mean_train_score'],\n",
    "      std_train=gridsearch.cv_results_['std_train_score'],\n",
    "      mean_val=gridsearch.cv_results_['mean_test_score'],\n",
    "      std_val=gridsearch.cv_results_['std_test_score'],\n",
    "      val_fold0=gridsearch.cv_results_[f'split0_test_score'],\n",
    "      val_fold1=gridsearch.cv_results_[f'split1_test_score'],\n",
    "      val_fold2=gridsearch.cv_results_[f'split2_test_score'],\n",
    "      val_fold3=gridsearch.cv_results_[f'split3_test_score'],\n",
    "      val_fold4=gridsearch.cv_results_[f'split4_test_score']\n",
    "  )\n",
    "  \n",
    "  if also_random: \n",
    "    gridsearch_random.fit(X_trainval, y_random)\n",
    "    df_dict['mean_train_random']=gridsearch_random.cv_results_['mean_train_score']\n",
    "    df_dict['std_train_random']=gridsearch_random.cv_results_['std_train_score']\n",
    "    df_dict['mean_val_random']=gridsearch_random.cv_results_['mean_test_score']\n",
    "    df_dict['std_val_random']=gridsearch_random.cv_results_['std_test_score']\n",
    "  df = pd.DataFrame(df_dict, index=pd.Index([(d['max_depth'], d['scale_pos_weight'] > 1) for d in gridsearch.cv_results_['params']], name=('max_depth', 'balanced')))\n",
    "  df['diff_train_val'] = df['mean_val'] - df['mean_train']\n",
    "  df['rstd_test'] = df['std_val'] / df['mean_val']\n",
    "  if also_random: df['val_over_random'] = df['mean_val'] - df['mean_val_random']\n",
    "  return df.sort_values('mean_val', ascending=False)\n",
    "    \n",
    "def report_performance(df_train: pd.DataFrame, df_test: pd.DataFrame, random_state=1, max_depth=1, tree_method='hist', balanced=True, n_jobs=128):\n",
    "  X, y = get_x_y(df_train)\n",
    "  clf = XGBClassifier(max_depth=max_depth, n_jobs=128, tree_method=tree_method, scale_pos_weight=sum(~y)/sum(y) if balanced else 1 , random_state=random_state)\n",
    "  clf.fit(X, y)\n",
    "  X_test, y_test = get_x_y(df_test)\n",
    "  y_pred = clf.predict_proba(X_test)[:,1]\n",
    "  return average_precision_score(y_test, y_pred), roc_auc_score(y_test, y_pred)"
   ]
  },
  {
   "cell_type": "code",
   "execution_count": 23,
   "metadata": {
    "execution": {
     "iopub.execute_input": "2020-08-09T16:32:28.378049Z",
     "iopub.status.busy": "2020-08-09T16:32:28.377767Z",
     "iopub.status.idle": "2020-08-09T16:32:37.514467Z",
     "shell.execute_reply": "2020-08-09T16:32:37.513567Z",
     "shell.execute_reply.started": "2020-08-09T16:32:28.378025Z"
    }
   },
   "outputs": [],
   "source": [
    "hps2 = gridsearch(pd.read_pickle(f'temp/b1/train/2/features.pkl'))"
   ]
  },
  {
   "cell_type": "code",
   "execution_count": 27,
   "metadata": {
    "execution": {
     "iopub.execute_input": "2020-08-09T16:33:14.683884Z",
     "iopub.status.busy": "2020-08-09T16:33:14.683724Z",
     "iopub.status.idle": "2020-08-09T16:33:14.992075Z",
     "shell.execute_reply": "2020-08-09T16:33:14.991553Z",
     "shell.execute_reply.started": "2020-08-09T16:33:14.683864Z"
    }
   },
   "outputs": [
    {
     "data": {
      "text/html": [
       "<div>\n",
       "<style scoped>\n",
       "    .dataframe tbody tr th:only-of-type {\n",
       "        vertical-align: middle;\n",
       "    }\n",
       "\n",
       "    .dataframe tbody tr th {\n",
       "        vertical-align: top;\n",
       "    }\n",
       "\n",
       "    .dataframe thead th {\n",
       "        text-align: right;\n",
       "    }\n",
       "</style>\n",
       "<table border=\"1\" class=\"dataframe\">\n",
       "  <thead>\n",
       "    <tr style=\"text-align: right;\">\n",
       "      <th></th>\n",
       "      <th></th>\n",
       "      <th>mean_test</th>\n",
       "      <th>diff_train_test</th>\n",
       "      <th>rstd_test</th>\n",
       "      <th>test_over_random</th>\n",
       "      <th>test_fold0</th>\n",
       "      <th>test_fold1</th>\n",
       "      <th>test_fold2</th>\n",
       "      <th>test_fold3</th>\n",
       "      <th>test_fold4</th>\n",
       "    </tr>\n",
       "    <tr>\n",
       "      <th>max_depth</th>\n",
       "      <th>balanced</th>\n",
       "      <th></th>\n",
       "      <th></th>\n",
       "      <th></th>\n",
       "      <th></th>\n",
       "      <th></th>\n",
       "      <th></th>\n",
       "      <th></th>\n",
       "      <th></th>\n",
       "      <th></th>\n",
       "    </tr>\n",
       "  </thead>\n",
       "  <tbody>\n",
       "    <tr>\n",
       "      <th>1</th>\n",
       "      <th>False</th>\n",
       "      <td>0.005152</td>\n",
       "      <td>0.001062</td>\n",
       "      <td>0.622107</td>\n",
       "      <td>0.003848</td>\n",
       "      <td>0.006089</td>\n",
       "      <td>0.002433</td>\n",
       "      <td>0.002779</td>\n",
       "      <td>0.003432</td>\n",
       "      <td>0.011026</td>\n",
       "    </tr>\n",
       "    <tr>\n",
       "      <th rowspan=\"2\" valign=\"top\">2</th>\n",
       "      <th>False</th>\n",
       "      <td>0.004359</td>\n",
       "      <td>0.017399</td>\n",
       "      <td>0.299936</td>\n",
       "      <td>0.003044</td>\n",
       "      <td>0.006444</td>\n",
       "      <td>0.003775</td>\n",
       "      <td>0.002997</td>\n",
       "      <td>0.003291</td>\n",
       "      <td>0.005288</td>\n",
       "    </tr>\n",
       "    <tr>\n",
       "      <th>True</th>\n",
       "      <td>0.003938</td>\n",
       "      <td>0.011761</td>\n",
       "      <td>0.283034</td>\n",
       "      <td>0.002622</td>\n",
       "      <td>0.003795</td>\n",
       "      <td>0.004030</td>\n",
       "      <td>0.002880</td>\n",
       "      <td>0.003000</td>\n",
       "      <td>0.005983</td>\n",
       "    </tr>\n",
       "    <tr>\n",
       "      <th>1</th>\n",
       "      <th>True</th>\n",
       "      <td>0.003246</td>\n",
       "      <td>0.001600</td>\n",
       "      <td>0.194280</td>\n",
       "      <td>0.001938</td>\n",
       "      <td>0.003892</td>\n",
       "      <td>0.002504</td>\n",
       "      <td>0.002665</td>\n",
       "      <td>0.003107</td>\n",
       "      <td>0.004061</td>\n",
       "    </tr>\n",
       "  </tbody>\n",
       "</table>\n",
       "</div>"
      ],
      "text/plain": [
       "                    mean_test  diff_train_test  rstd_test  test_over_random  \\\n",
       "max_depth balanced                                                            \n",
       "1         False      0.005152         0.001062   0.622107          0.003848   \n",
       "2         False      0.004359         0.017399   0.299936          0.003044   \n",
       "          True       0.003938         0.011761   0.283034          0.002622   \n",
       "1         True       0.003246         0.001600   0.194280          0.001938   \n",
       "\n",
       "                    test_fold0  test_fold1  test_fold2  test_fold3  test_fold4  \n",
       "max_depth balanced                                                              \n",
       "1         False       0.006089    0.002433    0.002779    0.003432    0.011026  \n",
       "2         False       0.006444    0.003775    0.002997    0.003291    0.005288  \n",
       "          True        0.003795    0.004030    0.002880    0.003000    0.005983  \n",
       "1         True        0.003892    0.002504    0.002665    0.003107    0.004061  "
      ]
     },
     "execution_count": 27,
     "metadata": {},
     "output_type": "execute_result"
    }
   ],
   "source": [
    "hps2[['mean_test', 'diff_train_test', 'rstd_test', 'test_over_random', 'test_fold0', 'test_fold1', 'test_fold2', 'test_fold3', 'test_fold4']]"
   ]
  },
  {
   "cell_type": "code",
   "execution_count": 25,
   "metadata": {
    "execution": {
     "iopub.execute_input": "2020-08-09T16:32:37.529356Z",
     "iopub.status.busy": "2020-08-09T16:32:37.529165Z",
     "iopub.status.idle": "2020-08-09T16:33:14.669549Z",
     "shell.execute_reply": "2020-08-09T16:33:14.668473Z",
     "shell.execute_reply.started": "2020-08-09T16:32:37.529332Z"
    }
   },
   "outputs": [],
   "source": [
    "hps3 = gridsearch(pd.read_pickle(f'temp/b1/train/3/features.pkl'))"
   ]
  },
  {
   "cell_type": "code",
   "execution_count": 28,
   "metadata": {
    "execution": {
     "iopub.execute_input": "2020-08-09T16:33:14.992934Z",
     "iopub.status.busy": "2020-08-09T16:33:14.992788Z",
     "iopub.status.idle": "2020-08-09T16:33:15.308339Z",
     "shell.execute_reply": "2020-08-09T16:33:15.307771Z",
     "shell.execute_reply.started": "2020-08-09T16:33:14.992914Z"
    }
   },
   "outputs": [
    {
     "data": {
      "text/html": [
       "<div>\n",
       "<style scoped>\n",
       "    .dataframe tbody tr th:only-of-type {\n",
       "        vertical-align: middle;\n",
       "    }\n",
       "\n",
       "    .dataframe tbody tr th {\n",
       "        vertical-align: top;\n",
       "    }\n",
       "\n",
       "    .dataframe thead th {\n",
       "        text-align: right;\n",
       "    }\n",
       "</style>\n",
       "<table border=\"1\" class=\"dataframe\">\n",
       "  <thead>\n",
       "    <tr style=\"text-align: right;\">\n",
       "      <th></th>\n",
       "      <th></th>\n",
       "      <th>mean_test</th>\n",
       "      <th>diff_train_test</th>\n",
       "      <th>rstd_test</th>\n",
       "      <th>test_over_random</th>\n",
       "      <th>test_fold0</th>\n",
       "      <th>test_fold1</th>\n",
       "      <th>test_fold2</th>\n",
       "      <th>test_fold3</th>\n",
       "      <th>test_fold4</th>\n",
       "    </tr>\n",
       "    <tr>\n",
       "      <th>max_depth</th>\n",
       "      <th>balanced</th>\n",
       "      <th></th>\n",
       "      <th></th>\n",
       "      <th></th>\n",
       "      <th></th>\n",
       "      <th></th>\n",
       "      <th></th>\n",
       "      <th></th>\n",
       "      <th></th>\n",
       "      <th></th>\n",
       "    </tr>\n",
       "  </thead>\n",
       "  <tbody>\n",
       "    <tr>\n",
       "      <th>2</th>\n",
       "      <th>False</th>\n",
       "      <td>0.004468</td>\n",
       "      <td>0.022433</td>\n",
       "      <td>1.614013</td>\n",
       "      <td>0.004276</td>\n",
       "      <td>0.000731</td>\n",
       "      <td>0.000547</td>\n",
       "      <td>0.000921</td>\n",
       "      <td>0.018883</td>\n",
       "      <td>0.001258</td>\n",
       "    </tr>\n",
       "    <tr>\n",
       "      <th>1</th>\n",
       "      <th>False</th>\n",
       "      <td>0.001733</td>\n",
       "      <td>0.006660</td>\n",
       "      <td>1.070482</td>\n",
       "      <td>0.001604</td>\n",
       "      <td>0.000574</td>\n",
       "      <td>0.000562</td>\n",
       "      <td>0.000948</td>\n",
       "      <td>0.005414</td>\n",
       "      <td>0.001165</td>\n",
       "    </tr>\n",
       "    <tr>\n",
       "      <th>2</th>\n",
       "      <th>True</th>\n",
       "      <td>0.001295</td>\n",
       "      <td>0.003029</td>\n",
       "      <td>0.688489</td>\n",
       "      <td>0.001118</td>\n",
       "      <td>0.000679</td>\n",
       "      <td>0.000480</td>\n",
       "      <td>0.001036</td>\n",
       "      <td>0.002988</td>\n",
       "      <td>0.001293</td>\n",
       "    </tr>\n",
       "    <tr>\n",
       "      <th>1</th>\n",
       "      <th>True</th>\n",
       "      <td>0.001099</td>\n",
       "      <td>0.000086</td>\n",
       "      <td>0.756664</td>\n",
       "      <td>0.000968</td>\n",
       "      <td>0.000474</td>\n",
       "      <td>0.000499</td>\n",
       "      <td>0.000549</td>\n",
       "      <td>0.002631</td>\n",
       "      <td>0.001343</td>\n",
       "    </tr>\n",
       "  </tbody>\n",
       "</table>\n",
       "</div>"
      ],
      "text/plain": [
       "                    mean_test  diff_train_test  rstd_test  test_over_random  \\\n",
       "max_depth balanced                                                            \n",
       "2         False      0.004468         0.022433   1.614013          0.004276   \n",
       "1         False      0.001733         0.006660   1.070482          0.001604   \n",
       "2         True       0.001295         0.003029   0.688489          0.001118   \n",
       "1         True       0.001099         0.000086   0.756664          0.000968   \n",
       "\n",
       "                    test_fold0  test_fold1  test_fold2  test_fold3  test_fold4  \n",
       "max_depth balanced                                                              \n",
       "2         False       0.000731    0.000547    0.000921    0.018883    0.001258  \n",
       "1         False       0.000574    0.000562    0.000948    0.005414    0.001165  \n",
       "2         True        0.000679    0.000480    0.001036    0.002988    0.001293  \n",
       "1         True        0.000474    0.000499    0.000549    0.002631    0.001343  "
      ]
     },
     "execution_count": 28,
     "metadata": {},
     "output_type": "execute_result"
    }
   ],
   "source": [
    "hps3[['mean_test', 'diff_train_test', 'rstd_test', 'test_over_random', 'test_fold0', 'test_fold1', 'test_fold2', 'test_fold3', 'test_fold4']]"
   ]
  },
  {
   "cell_type": "code",
   "execution_count": 32,
   "metadata": {
    "execution": {
     "iopub.execute_input": "2020-08-09T16:36:45.402641Z",
     "iopub.status.busy": "2020-08-09T16:36:45.402370Z",
     "iopub.status.idle": "2020-08-09T16:39:24.560290Z",
     "shell.execute_reply": "2020-08-09T16:39:24.559403Z",
     "shell.execute_reply.started": "2020-08-09T16:36:45.402616Z"
    }
   },
   "outputs": [],
   "source": [
    "hps4 = gridsearch(pd.read_pickle(f'temp/b1/train/4/features.pkl'), max_depth=[1, 2, 3])"
   ]
  },
  {
   "cell_type": "code",
   "execution_count": 33,
   "metadata": {
    "execution": {
     "iopub.execute_input": "2020-08-09T16:39:24.561798Z",
     "iopub.status.busy": "2020-08-09T16:39:24.561634Z",
     "iopub.status.idle": "2020-08-09T16:39:24.575842Z",
     "shell.execute_reply": "2020-08-09T16:39:24.575317Z",
     "shell.execute_reply.started": "2020-08-09T16:39:24.561777Z"
    }
   },
   "outputs": [
    {
     "data": {
      "text/html": [
       "<div>\n",
       "<style scoped>\n",
       "    .dataframe tbody tr th:only-of-type {\n",
       "        vertical-align: middle;\n",
       "    }\n",
       "\n",
       "    .dataframe tbody tr th {\n",
       "        vertical-align: top;\n",
       "    }\n",
       "\n",
       "    .dataframe thead th {\n",
       "        text-align: right;\n",
       "    }\n",
       "</style>\n",
       "<table border=\"1\" class=\"dataframe\">\n",
       "  <thead>\n",
       "    <tr style=\"text-align: right;\">\n",
       "      <th></th>\n",
       "      <th></th>\n",
       "      <th>mean_test</th>\n",
       "      <th>diff_train_test</th>\n",
       "      <th>rstd_test</th>\n",
       "      <th>test_over_random</th>\n",
       "      <th>test_fold0</th>\n",
       "      <th>test_fold1</th>\n",
       "      <th>test_fold2</th>\n",
       "      <th>test_fold3</th>\n",
       "      <th>test_fold4</th>\n",
       "    </tr>\n",
       "    <tr>\n",
       "      <th>max_depth</th>\n",
       "      <th>balanced</th>\n",
       "      <th></th>\n",
       "      <th></th>\n",
       "      <th></th>\n",
       "      <th></th>\n",
       "      <th></th>\n",
       "      <th></th>\n",
       "      <th></th>\n",
       "      <th></th>\n",
       "      <th></th>\n",
       "    </tr>\n",
       "  </thead>\n",
       "  <tbody>\n",
       "    <tr>\n",
       "      <th rowspan=\"2\" valign=\"top\">2</th>\n",
       "      <th>False</th>\n",
       "      <td>0.002610</td>\n",
       "      <td>0.003831</td>\n",
       "      <td>1.867772</td>\n",
       "      <td>0.002558</td>\n",
       "      <td>0.000139</td>\n",
       "      <td>0.000290</td>\n",
       "      <td>0.000109</td>\n",
       "      <td>0.000152</td>\n",
       "      <td>0.012360</td>\n",
       "    </tr>\n",
       "    <tr>\n",
       "      <th>True</th>\n",
       "      <td>0.001336</td>\n",
       "      <td>0.000046</td>\n",
       "      <td>1.748799</td>\n",
       "      <td>0.001288</td>\n",
       "      <td>0.000148</td>\n",
       "      <td>0.000307</td>\n",
       "      <td>0.000119</td>\n",
       "      <td>0.000100</td>\n",
       "      <td>0.006006</td>\n",
       "    </tr>\n",
       "    <tr>\n",
       "      <th rowspan=\"2\" valign=\"top\">3</th>\n",
       "      <th>True</th>\n",
       "      <td>0.000701</td>\n",
       "      <td>0.004129</td>\n",
       "      <td>1.545884</td>\n",
       "      <td>0.000642</td>\n",
       "      <td>0.000153</td>\n",
       "      <td>0.000234</td>\n",
       "      <td>0.000118</td>\n",
       "      <td>0.000134</td>\n",
       "      <td>0.002869</td>\n",
       "    </tr>\n",
       "    <tr>\n",
       "      <th>False</th>\n",
       "      <td>0.000494</td>\n",
       "      <td>0.029945</td>\n",
       "      <td>1.194948</td>\n",
       "      <td>0.000442</td>\n",
       "      <td>0.000192</td>\n",
       "      <td>0.000223</td>\n",
       "      <td>0.000159</td>\n",
       "      <td>0.000221</td>\n",
       "      <td>0.001673</td>\n",
       "    </tr>\n",
       "    <tr>\n",
       "      <th rowspan=\"2\" valign=\"top\">1</th>\n",
       "      <th>False</th>\n",
       "      <td>0.000289</td>\n",
       "      <td>0.000281</td>\n",
       "      <td>0.743702</td>\n",
       "      <td>0.000213</td>\n",
       "      <td>0.000143</td>\n",
       "      <td>0.000254</td>\n",
       "      <td>0.000211</td>\n",
       "      <td>0.000127</td>\n",
       "      <td>0.000708</td>\n",
       "    </tr>\n",
       "    <tr>\n",
       "      <th>True</th>\n",
       "      <td>0.000260</td>\n",
       "      <td>0.000002</td>\n",
       "      <td>0.576801</td>\n",
       "      <td>0.000085</td>\n",
       "      <td>0.000110</td>\n",
       "      <td>0.000241</td>\n",
       "      <td>0.000507</td>\n",
       "      <td>0.000109</td>\n",
       "      <td>0.000333</td>\n",
       "    </tr>\n",
       "  </tbody>\n",
       "</table>\n",
       "</div>"
      ],
      "text/plain": [
       "                    mean_test  diff_train_test  rstd_test  test_over_random  \\\n",
       "max_depth balanced                                                            \n",
       "2         False      0.002610         0.003831   1.867772          0.002558   \n",
       "          True       0.001336         0.000046   1.748799          0.001288   \n",
       "3         True       0.000701         0.004129   1.545884          0.000642   \n",
       "          False      0.000494         0.029945   1.194948          0.000442   \n",
       "1         False      0.000289         0.000281   0.743702          0.000213   \n",
       "          True       0.000260         0.000002   0.576801          0.000085   \n",
       "\n",
       "                    test_fold0  test_fold1  test_fold2  test_fold3  test_fold4  \n",
       "max_depth balanced                                                              \n",
       "2         False       0.000139    0.000290    0.000109    0.000152    0.012360  \n",
       "          True        0.000148    0.000307    0.000119    0.000100    0.006006  \n",
       "3         True        0.000153    0.000234    0.000118    0.000134    0.002869  \n",
       "          False       0.000192    0.000223    0.000159    0.000221    0.001673  \n",
       "1         False       0.000143    0.000254    0.000211    0.000127    0.000708  \n",
       "          True        0.000110    0.000241    0.000507    0.000109    0.000333  "
      ]
     },
     "execution_count": 33,
     "metadata": {},
     "output_type": "execute_result"
    }
   ],
   "source": [
    "hps4[['mean_test', 'diff_train_test', 'rstd_test', 'test_over_random', 'test_fold0', 'test_fold1', 'test_fold2', 'test_fold3', 'test_fold4']]"
   ]
  },
  {
   "cell_type": "code",
   "execution_count": 38,
   "metadata": {
    "execution": {
     "iopub.execute_input": "2020-08-09T17:40:54.571385Z",
     "iopub.status.busy": "2020-08-09T17:40:54.571022Z",
     "iopub.status.idle": "2020-08-09T17:40:59.546769Z",
     "shell.execute_reply": "2020-08-09T17:40:59.546175Z",
     "shell.execute_reply.started": "2020-08-09T17:40:54.571346Z"
    }
   },
   "outputs": [
    {
     "data": {
      "text/plain": [
       "(0.004799299901218471, 0.7319341272805222)"
      ]
     },
     "execution_count": 38,
     "metadata": {},
     "output_type": "execute_result"
    }
   ],
   "source": [
    "report_performance(df_train=pd.read_pickle(f'temp/b1/train/2/features.pkl'), df_test=pd.read_pickle(f'temp/b1/test/2/features.pkl'), balanced=False)"
   ]
  },
  {
   "cell_type": "code",
   "execution_count": 41,
   "metadata": {
    "execution": {
     "iopub.execute_input": "2020-08-09T17:55:07.012599Z",
     "iopub.status.busy": "2020-08-09T17:55:07.012226Z",
     "iopub.status.idle": "2020-08-09T17:55:07.143702Z",
     "shell.execute_reply": "2020-08-09T17:55:07.142888Z",
     "shell.execute_reply.started": "2020-08-09T17:55:07.012561Z"
    }
   },
   "outputs": [
    {
     "data": {
      "text/html": [
       "<div>\n",
       "<style scoped>\n",
       "    .dataframe tbody tr th:only-of-type {\n",
       "        vertical-align: middle;\n",
       "    }\n",
       "\n",
       "    .dataframe tbody tr th {\n",
       "        vertical-align: top;\n",
       "    }\n",
       "\n",
       "    .dataframe thead th {\n",
       "        text-align: right;\n",
       "    }\n",
       "</style>\n",
       "<table border=\"1\" class=\"dataframe\">\n",
       "  <thead>\n",
       "    <tr style=\"text-align: right;\">\n",
       "      <th></th>\n",
       "      <th>d_min</th>\n",
       "      <th>d_max</th>\n",
       "      <th>v_min</th>\n",
       "      <th>v_max</th>\n",
       "      <th>cn</th>\n",
       "      <th>pf</th>\n",
       "      <th>aa</th>\n",
       "      <th>jc</th>\n",
       "      <th>pa</th>\n",
       "      <th>target</th>\n",
       "      <th>mf</th>\n",
       "      <th>sp</th>\n",
       "    </tr>\n",
       "  </thead>\n",
       "  <tbody>\n",
       "    <tr>\n",
       "      <th>0</th>\n",
       "      <td>3</td>\n",
       "      <td>12</td>\n",
       "      <td>3</td>\n",
       "      <td>21</td>\n",
       "      <td>0</td>\n",
       "      <td>0.004380</td>\n",
       "      <td>0.0</td>\n",
       "      <td>0.0</td>\n",
       "      <td>36</td>\n",
       "      <td>False</td>\n",
       "      <td>3</td>\n",
       "      <td>2</td>\n",
       "    </tr>\n",
       "    <tr>\n",
       "      <th>1</th>\n",
       "      <td>3</td>\n",
       "      <td>12</td>\n",
       "      <td>3</td>\n",
       "      <td>21</td>\n",
       "      <td>0</td>\n",
       "      <td>0.004490</td>\n",
       "      <td>0.0</td>\n",
       "      <td>0.0</td>\n",
       "      <td>36</td>\n",
       "      <td>False</td>\n",
       "      <td>3</td>\n",
       "      <td>2</td>\n",
       "    </tr>\n",
       "    <tr>\n",
       "      <th>2</th>\n",
       "      <td>11</td>\n",
       "      <td>12</td>\n",
       "      <td>21</td>\n",
       "      <td>23</td>\n",
       "      <td>0</td>\n",
       "      <td>0.001144</td>\n",
       "      <td>0.0</td>\n",
       "      <td>0.0</td>\n",
       "      <td>132</td>\n",
       "      <td>False</td>\n",
       "      <td>3</td>\n",
       "      <td>2</td>\n",
       "    </tr>\n",
       "    <tr>\n",
       "      <th>3</th>\n",
       "      <td>8</td>\n",
       "      <td>12</td>\n",
       "      <td>15</td>\n",
       "      <td>21</td>\n",
       "      <td>0</td>\n",
       "      <td>0.001019</td>\n",
       "      <td>0.0</td>\n",
       "      <td>0.0</td>\n",
       "      <td>96</td>\n",
       "      <td>False</td>\n",
       "      <td>3</td>\n",
       "      <td>2</td>\n",
       "    </tr>\n",
       "    <tr>\n",
       "      <th>4</th>\n",
       "      <td>7</td>\n",
       "      <td>12</td>\n",
       "      <td>15</td>\n",
       "      <td>21</td>\n",
       "      <td>0</td>\n",
       "      <td>0.001335</td>\n",
       "      <td>0.0</td>\n",
       "      <td>0.0</td>\n",
       "      <td>84</td>\n",
       "      <td>False</td>\n",
       "      <td>3</td>\n",
       "      <td>2</td>\n",
       "    </tr>\n",
       "    <tr>\n",
       "      <th>...</th>\n",
       "      <td>...</td>\n",
       "      <td>...</td>\n",
       "      <td>...</td>\n",
       "      <td>...</td>\n",
       "      <td>...</td>\n",
       "      <td>...</td>\n",
       "      <td>...</td>\n",
       "      <td>...</td>\n",
       "      <td>...</td>\n",
       "      <td>...</td>\n",
       "      <td>...</td>\n",
       "      <td>...</td>\n",
       "    </tr>\n",
       "    <tr>\n",
       "      <th>2087141</th>\n",
       "      <td>4</td>\n",
       "      <td>26</td>\n",
       "      <td>4</td>\n",
       "      <td>50</td>\n",
       "      <td>0</td>\n",
       "      <td>0.003183</td>\n",
       "      <td>0.0</td>\n",
       "      <td>0.0</td>\n",
       "      <td>104</td>\n",
       "      <td>False</td>\n",
       "      <td>4</td>\n",
       "      <td>1</td>\n",
       "    </tr>\n",
       "    <tr>\n",
       "      <th>2087142</th>\n",
       "      <td>4</td>\n",
       "      <td>7</td>\n",
       "      <td>4</td>\n",
       "      <td>10</td>\n",
       "      <td>0</td>\n",
       "      <td>0.001574</td>\n",
       "      <td>0.0</td>\n",
       "      <td>0.0</td>\n",
       "      <td>28</td>\n",
       "      <td>False</td>\n",
       "      <td>4</td>\n",
       "      <td>1</td>\n",
       "    </tr>\n",
       "    <tr>\n",
       "      <th>2087143</th>\n",
       "      <td>4</td>\n",
       "      <td>4</td>\n",
       "      <td>4</td>\n",
       "      <td>4</td>\n",
       "      <td>0</td>\n",
       "      <td>0.001157</td>\n",
       "      <td>0.0</td>\n",
       "      <td>0.0</td>\n",
       "      <td>16</td>\n",
       "      <td>False</td>\n",
       "      <td>4</td>\n",
       "      <td>1</td>\n",
       "    </tr>\n",
       "    <tr>\n",
       "      <th>2087144</th>\n",
       "      <td>4</td>\n",
       "      <td>5</td>\n",
       "      <td>4</td>\n",
       "      <td>5</td>\n",
       "      <td>0</td>\n",
       "      <td>0.001071</td>\n",
       "      <td>0.0</td>\n",
       "      <td>0.0</td>\n",
       "      <td>20</td>\n",
       "      <td>False</td>\n",
       "      <td>4</td>\n",
       "      <td>1</td>\n",
       "    </tr>\n",
       "    <tr>\n",
       "      <th>2087145</th>\n",
       "      <td>4</td>\n",
       "      <td>5</td>\n",
       "      <td>4</td>\n",
       "      <td>5</td>\n",
       "      <td>0</td>\n",
       "      <td>0.001090</td>\n",
       "      <td>0.0</td>\n",
       "      <td>0.0</td>\n",
       "      <td>20</td>\n",
       "      <td>False</td>\n",
       "      <td>4</td>\n",
       "      <td>1</td>\n",
       "    </tr>\n",
       "  </tbody>\n",
       "</table>\n",
       "<p>2087146 rows × 12 columns</p>\n",
       "</div>"
      ],
      "text/plain": [
       "         d_min  d_max  v_min  v_max  cn        pf   aa   jc   pa  target  mf  \\\n",
       "0            3     12      3     21   0  0.004380  0.0  0.0   36   False   3   \n",
       "1            3     12      3     21   0  0.004490  0.0  0.0   36   False   3   \n",
       "2           11     12     21     23   0  0.001144  0.0  0.0  132   False   3   \n",
       "3            8     12     15     21   0  0.001019  0.0  0.0   96   False   3   \n",
       "4            7     12     15     21   0  0.001335  0.0  0.0   84   False   3   \n",
       "...        ...    ...    ...    ...  ..       ...  ...  ...  ...     ...  ..   \n",
       "2087141      4     26      4     50   0  0.003183  0.0  0.0  104   False   4   \n",
       "2087142      4      7      4     10   0  0.001574  0.0  0.0   28   False   4   \n",
       "2087143      4      4      4      4   0  0.001157  0.0  0.0   16   False   4   \n",
       "2087144      4      5      4      5   0  0.001071  0.0  0.0   20   False   4   \n",
       "2087145      4      5      4      5   0  0.001090  0.0  0.0   20   False   4   \n",
       "\n",
       "         sp  \n",
       "0         2  \n",
       "1         2  \n",
       "2         2  \n",
       "3         2  \n",
       "4         2  \n",
       "...      ..  \n",
       "2087141   1  \n",
       "2087142   1  \n",
       "2087143   1  \n",
       "2087144   1  \n",
       "2087145   1  \n",
       "\n",
       "[2087146 rows x 12 columns]"
      ]
     },
     "execution_count": 41,
     "metadata": {},
     "output_type": "execute_result"
    }
   ],
   "source": [
    "pd.read_pickle(f'temp/b1/train/3/features.pkl')"
   ]
  },
  {
   "cell_type": "code",
   "execution_count": 45,
   "metadata": {
    "execution": {
     "iopub.execute_input": "2020-08-09T17:56:07.200704Z",
     "iopub.status.busy": "2020-08-09T17:56:07.200469Z",
     "iopub.status.idle": "2020-08-09T17:56:30.607002Z",
     "shell.execute_reply": "2020-08-09T17:56:30.606272Z",
     "shell.execute_reply.started": "2020-08-09T17:56:07.200682Z"
    }
   },
   "outputs": [
    {
     "data": {
      "text/plain": [
       "(0.00042199913168793345, 0.6997098375605814)"
      ]
     },
     "execution_count": 45,
     "metadata": {},
     "output_type": "execute_result"
    }
   ],
   "source": [
    "report_performance(\n",
    "  df_train=pd.read_pickle(f'temp/b1/train/3/features.pkl')[pd.read_pickle(f'temp/b1/test/3/features.pkl').columns], \n",
    "  df_test=pd.read_pickle(f'temp/b1/test/3/features.pkl'), \n",
    "  balanced=True\n",
    ")"
   ]
  },
  {
   "cell_type": "code",
   "execution_count": 46,
   "metadata": {
    "execution": {
     "iopub.execute_input": "2020-08-09T17:56:30.608484Z",
     "iopub.status.busy": "2020-08-09T17:56:30.608313Z",
     "iopub.status.idle": "2020-08-09T17:56:30.777291Z",
     "shell.execute_reply": "2020-08-09T17:56:30.776444Z",
     "shell.execute_reply.started": "2020-08-09T17:56:30.608460Z"
    }
   },
   "outputs": [
    {
     "ename": "FileNotFoundError",
     "evalue": "[Errno 2] No such file or directory: 'temp/b1/test/4/features.pkl'",
     "output_type": "error",
     "traceback": [
      "\u001b[0;31m---------------------------------------------------------------------------\u001b[0m",
      "\u001b[0;31mFileNotFoundError\u001b[0m                         Traceback (most recent call last)",
      "\u001b[0;32m<ipython-input-46-9e6217db3c60>\u001b[0m in \u001b[0;36m<module>\u001b[0;34m\u001b[0m\n\u001b[0;32m----> 1\u001b[0;31m \u001b[0mreport_performance\u001b[0m\u001b[0;34m(\u001b[0m\u001b[0mdf_train\u001b[0m\u001b[0;34m=\u001b[0m\u001b[0mpd\u001b[0m\u001b[0;34m.\u001b[0m\u001b[0mread_pickle\u001b[0m\u001b[0;34m(\u001b[0m\u001b[0;34mf'temp/b1/train/4/features.pkl'\u001b[0m\u001b[0;34m)\u001b[0m\u001b[0;34m,\u001b[0m \u001b[0mdf_test\u001b[0m\u001b[0;34m=\u001b[0m\u001b[0mpd\u001b[0m\u001b[0;34m.\u001b[0m\u001b[0mread_pickle\u001b[0m\u001b[0;34m(\u001b[0m\u001b[0;34mf'temp/b1/test/4/features.pkl'\u001b[0m\u001b[0;34m)\u001b[0m\u001b[0;34m,\u001b[0m \u001b[0mmax_depth\u001b[0m\u001b[0;34m=\u001b[0m\u001b[0;36m2\u001b[0m\u001b[0;34m,\u001b[0m \u001b[0mbalanced\u001b[0m\u001b[0;34m=\u001b[0m\u001b[0;32mTrue\u001b[0m\u001b[0;34m)\u001b[0m\u001b[0;34m\u001b[0m\u001b[0;34m\u001b[0m\u001b[0m\n\u001b[0m",
      "\u001b[0;32m/local/bruingjde/.conda/envs/networkdatascience/lib/python3.8/site-packages/pandas/io/pickle.py\u001b[0m in \u001b[0;36mread_pickle\u001b[0;34m(filepath_or_buffer, compression)\u001b[0m\n\u001b[1;32m    167\u001b[0m     \u001b[0;32mif\u001b[0m \u001b[0;32mnot\u001b[0m \u001b[0misinstance\u001b[0m\u001b[0;34m(\u001b[0m\u001b[0mfp_or_buf\u001b[0m\u001b[0;34m,\u001b[0m \u001b[0mstr\u001b[0m\u001b[0;34m)\u001b[0m \u001b[0;32mand\u001b[0m \u001b[0mcompression\u001b[0m \u001b[0;34m==\u001b[0m \u001b[0;34m\"infer\"\u001b[0m\u001b[0;34m:\u001b[0m\u001b[0;34m\u001b[0m\u001b[0;34m\u001b[0m\u001b[0m\n\u001b[1;32m    168\u001b[0m         \u001b[0mcompression\u001b[0m \u001b[0;34m=\u001b[0m \u001b[0;32mNone\u001b[0m\u001b[0;34m\u001b[0m\u001b[0;34m\u001b[0m\u001b[0m\n\u001b[0;32m--> 169\u001b[0;31m     \u001b[0mf\u001b[0m\u001b[0;34m,\u001b[0m \u001b[0mfh\u001b[0m \u001b[0;34m=\u001b[0m \u001b[0mget_handle\u001b[0m\u001b[0;34m(\u001b[0m\u001b[0mfp_or_buf\u001b[0m\u001b[0;34m,\u001b[0m \u001b[0;34m\"rb\"\u001b[0m\u001b[0;34m,\u001b[0m \u001b[0mcompression\u001b[0m\u001b[0;34m=\u001b[0m\u001b[0mcompression\u001b[0m\u001b[0;34m,\u001b[0m \u001b[0mis_text\u001b[0m\u001b[0;34m=\u001b[0m\u001b[0;32mFalse\u001b[0m\u001b[0;34m)\u001b[0m\u001b[0;34m\u001b[0m\u001b[0;34m\u001b[0m\u001b[0m\n\u001b[0m\u001b[1;32m    170\u001b[0m \u001b[0;34m\u001b[0m\u001b[0m\n\u001b[1;32m    171\u001b[0m     \u001b[0;31m# 1) try standard library Pickle\u001b[0m\u001b[0;34m\u001b[0m\u001b[0;34m\u001b[0m\u001b[0;34m\u001b[0m\u001b[0m\n",
      "\u001b[0;32m/local/bruingjde/.conda/envs/networkdatascience/lib/python3.8/site-packages/pandas/io/common.py\u001b[0m in \u001b[0;36mget_handle\u001b[0;34m(path_or_buf, mode, encoding, compression, memory_map, is_text, errors)\u001b[0m\n\u001b[1;32m    497\u001b[0m         \u001b[0;32melse\u001b[0m\u001b[0;34m:\u001b[0m\u001b[0;34m\u001b[0m\u001b[0;34m\u001b[0m\u001b[0m\n\u001b[1;32m    498\u001b[0m             \u001b[0;31m# Binary mode\u001b[0m\u001b[0;34m\u001b[0m\u001b[0;34m\u001b[0m\u001b[0;34m\u001b[0m\u001b[0m\n\u001b[0;32m--> 499\u001b[0;31m             \u001b[0mf\u001b[0m \u001b[0;34m=\u001b[0m \u001b[0mopen\u001b[0m\u001b[0;34m(\u001b[0m\u001b[0mpath_or_buf\u001b[0m\u001b[0;34m,\u001b[0m \u001b[0mmode\u001b[0m\u001b[0;34m)\u001b[0m\u001b[0;34m\u001b[0m\u001b[0;34m\u001b[0m\u001b[0m\n\u001b[0m\u001b[1;32m    500\u001b[0m         \u001b[0mhandles\u001b[0m\u001b[0;34m.\u001b[0m\u001b[0mappend\u001b[0m\u001b[0;34m(\u001b[0m\u001b[0mf\u001b[0m\u001b[0;34m)\u001b[0m\u001b[0;34m\u001b[0m\u001b[0;34m\u001b[0m\u001b[0m\n\u001b[1;32m    501\u001b[0m \u001b[0;34m\u001b[0m\u001b[0m\n",
      "\u001b[0;31mFileNotFoundError\u001b[0m: [Errno 2] No such file or directory: 'temp/b1/test/4/features.pkl'"
     ]
    }
   ],
   "source": [
    "report_performance(df_train=pd.read_pickle(f'temp/b1/train/4/features.pkl'), df_test=pd.read_pickle(f'temp/b1/test/4/features.pkl'), max_depth=2, balanced=True)"
   ]
  },
  {
   "cell_type": "code",
   "execution_count": null,
   "metadata": {},
   "outputs": [],
   "source": []
  }
 ],
 "metadata": {
  "kernelspec": {
   "display_name": "Python 3",
   "language": "python",
   "name": "python3"
  },
  "language_info": {
   "codemirror_mode": {
    "name": "ipython",
    "version": 3
   },
   "file_extension": ".py",
   "mimetype": "text/x-python",
   "name": "python",
   "nbconvert_exporter": "python",
   "pygments_lexer": "ipython3",
   "version": "3.8.5"
  },
  "widgets": {
   "application/vnd.jupyter.widget-state+json": {
    "state": {},
    "version_major": 2,
    "version_minor": 0
   }
  }
 },
 "nbformat": 4,
 "nbformat_minor": 4
}
